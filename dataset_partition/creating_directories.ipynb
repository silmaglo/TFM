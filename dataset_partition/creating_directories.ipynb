{
 "cells": [
  {
   "cell_type": "markdown",
   "metadata": {},
   "source": [
    "### Creating directories: train, validation and test\n",
    "\n",
    "To train our model we will use the `train` directory. The model will be evaluated with the data inside de `validation` directory and finally, it will be tested thanks to the testing data inside the `test` directory. These three directories will be created along this notebook. Inside each directory, folders for each particle will be included together with another directory with the noise data."
   ]
  },
  {
   "cell_type": "code",
   "execution_count": 16,
   "metadata": {},
   "outputs": [],
   "source": [
    "import os, shutil\n",
    "import glob\n",
    "import numpy as np\n",
    "import matplotlib.pyplot as plt"
   ]
  },
  {
   "cell_type": "code",
   "execution_count": 2,
   "metadata": {},
   "outputs": [],
   "source": [
    "# path to the directory where the cropped images are located\n",
    "original_dataset_dir = '/gpfs/projects/damic/cropped_images/'"
   ]
  },
  {
   "cell_type": "code",
   "execution_count": 3,
   "metadata": {},
   "outputs": [],
   "source": [
    "# path to the directory where the training, validation and test directories will be stored\n",
    "base_dir = '/gpfs/projects/damic/'\n",
    "\n",
    "# Directories for our training, validation and test splits\n",
    "train_dir = os.path.join(base_dir, 'train')\n",
    "os.mkdir(train_dir)\n",
    "\n",
    "validation_dir = os.path.join(base_dir, 'validation')\n",
    "os.mkdir(validation_dir)\n",
    "\n",
    "test_dir = os.path.join(base_dir, 'test')\n",
    "os.mkdir(test_dir)"
   ]
  },
  {
   "cell_type": "code",
   "execution_count": 4,
   "metadata": {},
   "outputs": [],
   "source": [
    "# Directory with our training electron energy images\n",
    "train_e_dir = os.path.join(train_dir, 'electrons')\n",
    "os.mkdir(train_e_dir)\n",
    "\n",
    "# Directory with our training noise images\n",
    "train_noise_dir = os.path.join(train_dir, 'noise')\n",
    "os.mkdir(train_noise_dir)"
   ]
  },
  {
   "cell_type": "code",
   "execution_count": 5,
   "metadata": {},
   "outputs": [],
   "source": [
    "# Directory with our validation electron energy images\n",
    "validation_e_dir = os.path.join(validation_dir, 'electrons')\n",
    "os.mkdir(validation_e_dir)\n",
    "\n",
    "# Directory with our validation noise images\n",
    "validation_noise_dir = os.path.join(validation_dir, 'noise')\n",
    "os.mkdir(validation_noise_dir)"
   ]
  },
  {
   "cell_type": "code",
   "execution_count": 6,
   "metadata": {},
   "outputs": [],
   "source": [
    "# Directory with our test electron energy images\n",
    "test_e_dir = os.path.join(test_dir, 'electrons')\n",
    "os.mkdir(test_e_dir)\n",
    "\n",
    "# Directory with our test noise images\n",
    "test_noise_dir = os.path.join(test_dir, 'noise')\n",
    "os.mkdir(test_noise_dir)"
   ]
  },
  {
   "cell_type": "markdown",
   "metadata": {},
   "source": [
    "Now we copy the electron images to the differente directories: in total we have 2628\n",
    "* The first 1300 will go to train\n",
    "* The next 700 to validation\n",
    "* And the last 628 to test"
   ]
  },
  {
   "cell_type": "code",
   "execution_count": 7,
   "metadata": {},
   "outputs": [
    {
     "name": "stdout",
     "output_type": "stream",
     "text": [
      "training directory complete\n",
      "validation directory complete\n",
      "test directory complete\n"
     ]
    }
   ],
   "source": [
    "electrons_noise = glob.glob1(original_dataset_dir,\"*11.npz\")\n",
    "\n",
    "for index, file in enumerate(electrons_noise):  \n",
    "    if index <= 1299:\n",
    "        \n",
    "        energy = np.load(os.path.join(original_dataset_dir, electrons_noise[index]))['energy']\n",
    "        noise = np.load(os.path.join(original_dataset_dir, electrons_noise[index]))['noise']\n",
    "        \n",
    "        np.savez(os.path.join(train_e_dir, file), energy=energy)\n",
    "        np.savez(os.path.join(train_noise_dir, file), noise=noise)\n",
    "        \n",
    "        if index == 1299:\n",
    "            print(\"training directory complete\")\n",
    "    \n",
    "    elif index <= 1999:\n",
    "        \n",
    "        energy = np.load(os.path.join(original_dataset_dir, electrons_noise[index]))['energy']\n",
    "        noise = np.load(os.path.join(original_dataset_dir, electrons_noise[index]))['noise']\n",
    "        \n",
    "        np.savez(os.path.join(validation_e_dir, file), energy=energy)\n",
    "        np.savez(os.path.join(validation_noise_dir, file), noise=noise)\n",
    "        \n",
    "        if index == 1999:\n",
    "            print(\"validation directory complete\")\n",
    "        \n",
    "    else:\n",
    "        \n",
    "        energy = np.load(os.path.join(original_dataset_dir, electrons_noise[index]))['energy']\n",
    "        noise = np.load(os.path.join(original_dataset_dir, electrons_noise[index]))['noise']\n",
    "        \n",
    "        np.savez(os.path.join(test_e_dir, file), energy=energy)\n",
    "        np.savez(os.path.join(test_noise_dir, file), noise=noise)\n",
    "        \n",
    "        if index == (len(electrons_noise)-1):\n",
    "            print(\"test directory complete\")"
   ]
  },
  {
   "cell_type": "markdown",
   "metadata": {},
   "source": [
    "Now, we shall check the number of files inside each directory:"
   ]
  },
  {
   "cell_type": "code",
   "execution_count": 11,
   "metadata": {},
   "outputs": [
    {
     "name": "stdout",
     "output_type": "stream",
     "text": [
      "1300 number of files in train_e_dir and 1300 number of files in train_noise_dir\n",
      "700 number of files in validation_e_dir and 700 number of files in validation_noise_dir\n",
      "628 number of files in test_e_dir and 628 number of files in test_noise_dir\n"
     ]
    }
   ],
   "source": [
    "electrons_train = len(os.listdir(train_e_dir))\n",
    "noise_train = len(os.listdir(train_noise_dir))\n",
    "print(electrons_train, \"number of files in train_e_dir and\", noise_train, \"number of files in train_noise_dir\")\n",
    "\n",
    "electrons_v = len(os.listdir(validation_e_dir))\n",
    "noise_v = len(os.listdir(validation_noise_dir))\n",
    "print(electrons_v, \"number of files in validation_e_dir and\", noise_v, \"number of files in validation_noise_dir\")\n",
    "\n",
    "electrons_test = len(os.listdir(test_e_dir))\n",
    "noise_test = len(os.listdir(test_noise_dir))\n",
    "print(electrons_test, \"number of files in test_e_dir and\", noise_test, \"number of files in test_noise_dir\")"
   ]
  },
  {
   "cell_type": "markdown",
   "metadata": {},
   "source": [
    "Finally, we check if we have the energy and the noise correctly:"
   ]
  },
  {
   "cell_type": "code",
   "execution_count": 26,
   "metadata": {},
   "outputs": [
    {
     "data": {
      "text/plain": [
       "Text(0.5, 1.0, 'Electron energy from the training directory')"
      ]
     },
     "execution_count": 26,
     "metadata": {},
     "output_type": "execute_result"
    },
    {
     "data": {
      "image/png": "[encoded data removed]",
      "text/plain": [
       "<Figure size 720x720 with 2 Axes>"
      ]
     },
     "metadata": {
      "needs_background": "light"
     },
     "output_type": "display_data"
    }
   ],
   "source": [
    "e_train = os.listdir(train_e_dir)\n",
    "\n",
    "e = np.load(os.path.join(train_e_dir, e_train[0]))['energy']\n",
    "\n",
    "plt.figure(figsize=(10,10))\n",
    "plt.imshow(e, cmap='Reds')\n",
    "plt.colorbar()\n",
    "plt.title(\"Electron energy from the training directory\")"
   ]
  },
  {
   "cell_type": "code",
   "execution_count": 27,
   "metadata": {},
   "outputs": [
    {
     "data": {
      "text/plain": [
       "Text(0.5, 1.0, 'Noise from trainig directory')"
      ]
     },
     "execution_count": 27,
     "metadata": {},
     "output_type": "execute_result"
    },
    {
     "data": {
      "image/png": "[encoded data removed]",
      "text/plain": [
       "<Figure size 720x720 with 2 Axes>"
      ]
     },
     "metadata": {
      "needs_background": "light"
     },
     "output_type": "display_data"
    }
   ],
   "source": [
    "n_train = os.listdir(train_noise_dir)\n",
    "\n",
    "n = np.load(os.path.join(train_noise_dir, n_train[0]))['noise']\n",
    "\n",
    "plt.figure(figsize=(10,10))\n",
    "plt.imshow(n, cmap='Reds')\n",
    "plt.colorbar()\n",
    "plt.title(\"Noise from trainig directory\")"
   ]
  },
  {
   "cell_type": "code",
   "execution_count": null,
   "metadata": {},
   "outputs": [],
   "source": []
  }
 ],
 "metadata": {
  "kernelspec": {
   "display_name": "Python 3",
   "language": "python",
   "name": "python3"
  },
  "language_info": {
   "codemirror_mode": {
    "name": "ipython",
    "version": 3
   },
   "file_extension": ".py",
   "mimetype": "text/x-python",
   "name": "python",
   "nbconvert_exporter": "python",
   "pygments_lexer": "ipython3",
   "version": "3.7.1"
  }
 },
 "nbformat": 4,
 "nbformat_minor": 2
}

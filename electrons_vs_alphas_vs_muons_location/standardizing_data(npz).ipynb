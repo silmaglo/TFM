{
 "cells": [
  {
   "cell_type": "markdown",
   "metadata": {},
   "source": [
    "### Standardize data for training/validation/testing"
   ]
  },
  {
   "cell_type": "code",
   "execution_count": 1,
   "metadata": {},
   "outputs": [],
   "source": [
    "import glob\n",
    "import os, shutil\n",
    "import matplotlib.pyplot as plt\n",
    "import numpy as np"
   ]
  },
  {
   "cell_type": "markdown",
   "metadata": {},
   "source": [
    "* Standarizing **training** data:"
   ]
  },
  {
   "cell_type": "code",
   "execution_count": 2,
   "metadata": {},
   "outputs": [],
   "source": [
    "path_tr = 'eVSmuVSa_LocTrain/'\n",
    "\n",
    "files_tr = os.listdir(path_tr)"
   ]
  },
  {
   "cell_type": "code",
   "execution_count": 3,
   "metadata": {},
   "outputs": [
    {
     "data": {
      "text/plain": [
       "171"
      ]
     },
     "execution_count": 3,
     "metadata": {},
     "output_type": "execute_result"
    }
   ],
   "source": [
    "len(files_tr) #total number of batches"
   ]
  },
  {
   "cell_type": "code",
   "execution_count": 4,
   "metadata": {},
   "outputs": [],
   "source": [
    "m_data = []\n",
    "m_loc = []\n",
    "std_data = []\n",
    "std_loc = []\n",
    "\n",
    "for index, file in enumerate(files_tr):  \n",
    "    \n",
    "    data = np.load(os.path.join(path_tr, files_tr[index]))['X']\n",
    "    label = np.load(os.path.join(path_tr, files_tr[index]))['y']\n",
    "    loc_a = np.load(os.path.join(path_tr, files_tr[index]))['loc']\n",
    "    \n",
    "    m_data.append(data.mean())\n",
    "    m_loc.append(loc_a.mean())\n",
    "    \n",
    "    std_data.append(data.std())\n",
    "    std_loc.append(loc_a.std())"
   ]
  },
  {
   "cell_type": "code",
   "execution_count": 5,
   "metadata": {},
   "outputs": [],
   "source": [
    "#total mean and standard deviation of the train\n",
    "m_train = np.mean(m_data)\n",
    "m_loc = np.mean(m_loc)\n",
    "\n",
    "std_train = np.mean(std_data)\n",
    "std_loc = np.mean(std_loc)"
   ]
  },
  {
   "cell_type": "code",
   "execution_count": 6,
   "metadata": {},
   "outputs": [
    {
     "name": "stdout",
     "output_type": "stream",
     "text": [
      "Mean and std for the data: 7.500775046341478 512.9664806227514\n"
     ]
    }
   ],
   "source": [
    "print(\"Mean and std for the data:\", m_train, std_train)"
   ]
  },
  {
   "cell_type": "code",
   "execution_count": 7,
   "metadata": {},
   "outputs": [
    {
     "name": "stdout",
     "output_type": "stream",
     "text": [
      "Mean and std for the location: 57.007903874269005 64.09855334908328\n"
     ]
    }
   ],
   "source": [
    "print(\"Mean and std for the location:\", m_loc, std_loc)"
   ]
  },
  {
   "cell_type": "code",
   "execution_count": 8,
   "metadata": {},
   "outputs": [],
   "source": [
    "#'index' is the number of the file, and 'file' is the name of the file\n",
    "for index, file in enumerate(files_tr):  \n",
    "    \n",
    "    #loading each image as a numpy array\n",
    "    data = np.load(os.path.join(path_tr, files_tr[index]))['X']\n",
    "    label = np.load(os.path.join(path_tr, files_tr[index]))['y']\n",
    "    loc_a = np.load(os.path.join(path_tr, files_tr[index]))['loc']\n",
    "    \n",
    "    data = (data - m_train) / std_train\n",
    "    data = data.reshape((data.shape[0], data.shape[1], data.shape[2], 1))\n",
    "    \n",
    "    loc_a = (loc_a - m_loc) / std_loc\n",
    "    \n",
    "    label = np.concatenate((label, loc_a), axis=1)\n",
    "\n",
    "    np.savez(os.path.join(path_tr, file), X=data, y=label)"
   ]
  },
  {
   "cell_type": "code",
   "execution_count": 9,
   "metadata": {},
   "outputs": [
    {
     "name": "stdout",
     "output_type": "stream",
     "text": [
      "batch6.npz\n"
     ]
    },
    {
     "data": {
      "text/plain": [
       "Text(0.5, 1.0, 'Energy')"
      ]
     },
     "execution_count": 9,
     "metadata": {},
     "output_type": "execute_result"
    },
    {
     "data": {
      "image/png": "[encoded data removed]",
      "text/plain": [
       "<Figure size 720x720 with 2 Axes>"
      ]
     },
     "metadata": {
      "needs_background": "light"
     },
     "output_type": "display_data"
    }
   ],
   "source": [
    "original_dataset_dir = path_tr\n",
    "\n",
    "files = files_tr\n",
    "f=34\n",
    "e = np.load(os.path.join(original_dataset_dir, files[f]))['X']\n",
    "print(files[f])\n",
    "e = e.reshape((e.shape[0], e.shape[1], e.shape[2]))[60]\n",
    "\n",
    "fig_e = plt.figure(figsize=(10,10))\n",
    "plt.imshow(e, cmap='Reds')\n",
    "plt.xticks(fontsize=20, rotation=0)\n",
    "plt.yticks(fontsize=20)\n",
    "cb = plt.colorbar(format='%.0e')\n",
    "cb.ax.set_title('Ev')\n",
    "cb.ax.tick_params(labelsize=20)\n",
    "plt.title(\"Energy\", fontsize = 25)"
   ]
  },
  {
   "cell_type": "code",
   "execution_count": 10,
   "metadata": {},
   "outputs": [
    {
     "data": {
      "text/plain": [
       "0.23433388416444284"
      ]
     },
     "execution_count": 10,
     "metadata": {},
     "output_type": "execute_result"
    }
   ],
   "source": [
    "e.std()"
   ]
  },
  {
   "cell_type": "code",
   "execution_count": 11,
   "metadata": {},
   "outputs": [
    {
     "data": {
      "text/plain": [
       "-0.012636701109237057"
      ]
     },
     "execution_count": 11,
     "metadata": {},
     "output_type": "execute_result"
    }
   ],
   "source": [
    "e.mean()"
   ]
  },
  {
   "cell_type": "code",
   "execution_count": 12,
   "metadata": {},
   "outputs": [
    {
     "data": {
      "text/plain": [
       "array([ 0.        ,  1.        ,  0.        ,  1.8251909 , -0.68656626,\n",
       "       -0.85817699, -0.85817699])"
      ]
     },
     "execution_count": 12,
     "metadata": {},
     "output_type": "execute_result"
    }
   ],
   "source": [
    "np.load(os.path.join(original_dataset_dir, files[f]))['y'][60]"
   ]
  },
  {
   "cell_type": "markdown",
   "metadata": {},
   "source": [
    "* Standarizing **test** data:"
   ]
  },
  {
   "cell_type": "code",
   "execution_count": 13,
   "metadata": {},
   "outputs": [],
   "source": [
    "path_te = 'eVSmuVSa_LocTest/'\n",
    "\n",
    "files_te = os.listdir(path_te)"
   ]
  },
  {
   "cell_type": "code",
   "execution_count": 14,
   "metadata": {},
   "outputs": [
    {
     "data": {
      "text/plain": [
       "58"
      ]
     },
     "execution_count": 14,
     "metadata": {},
     "output_type": "execute_result"
    }
   ],
   "source": [
    "len(files_te)"
   ]
  },
  {
   "cell_type": "code",
   "execution_count": null,
   "metadata": {},
   "outputs": [],
   "source": [
    "#'index' is the number of the file, and 'file' is the name of the file\n",
    "for index, file in enumerate(files_te):  \n",
    "    \n",
    "    #loading each image as a numpy array\n",
    "    data = np.load(os.path.join(path_te, files_te[index]))['X']\n",
    "    label = np.load(os.path.join(path_te, files_te[index]))['y']\n",
    "    loc_a = np.load(os.path.join(path_te, files_te[index]))['loc']\n",
    "    \n",
    "    data = (data - m_train) / std_train\n",
    "    data = data.reshape((data.shape[0], data.shape[1], data.shape[2], 1))\n",
    "    \n",
    "    loc_a = (loc_a - m_loc) / std_loc\n",
    "    \n",
    "    label = np.concatenate((label, loc_a), axis=1)\n",
    "\n",
    "    np.savez(os.path.join(path_te, file), X=data, y=label)"
   ]
  },
  {
   "cell_type": "markdown",
   "metadata": {},
   "source": [
    "* Standarizing **validation** data:"
   ]
  },
  {
   "cell_type": "code",
   "execution_count": 32,
   "metadata": {},
   "outputs": [],
   "source": [
    "path_v = 'eVSmuVSa_LocVal/'\n",
    "\n",
    "files_v = os.listdir(path_v)"
   ]
  },
  {
   "cell_type": "code",
   "execution_count": 33,
   "metadata": {},
   "outputs": [
    {
     "data": {
      "text/plain": [
       "56"
      ]
     },
     "execution_count": 33,
     "metadata": {},
     "output_type": "execute_result"
    }
   ],
   "source": [
    "len(files_v)"
   ]
  },
  {
   "cell_type": "code",
   "execution_count": 34,
   "metadata": {},
   "outputs": [],
   "source": [
    "for index, file in enumerate(files_v):  \n",
    "    \n",
    "    #loading each image as a numpy array\n",
    "    data = np.load(os.path.join(path_v, files_v[index]))['X']\n",
    "    label = np.load(os.path.join(path_v, files_v[index]))['y']\n",
    "    loc_a = np.load(os.path.join(path_v, files_v[index]))['loc']\n",
    "    \n",
    "    data = (data - m_train) / std_train\n",
    "    data = data.reshape((data.shape[0], data.shape[1], data.shape[2], 1))\n",
    "    \n",
    "    loc_a = (loc_a - m_loc) / std_loc\n",
    "    \n",
    "    label = np.concatenate((label, loc_a), axis=1)\n",
    "\n",
    "    np.savez(os.path.join(path_v, file), X=data, y=label)"
   ]
  },
  {
   "cell_type": "code",
   "execution_count": null,
   "metadata": {},
   "outputs": [],
   "source": []
  }
 ],
 "metadata": {
  "kernelspec": {
   "display_name": "Python 3",
   "language": "python",
   "name": "python3"
  },
  "language_info": {
   "codemirror_mode": {
    "name": "ipython",
    "version": 3
   },
   "file_extension": ".py",
   "mimetype": "text/x-python",
   "name": "python",
   "nbconvert_exporter": "python",
   "pygments_lexer": "ipython3",
   "version": "3.7.4"
  }
 },
 "nbformat": 4,
 "nbformat_minor": 4
}

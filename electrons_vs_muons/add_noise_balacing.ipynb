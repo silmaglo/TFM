{
 "cells": [
  {
   "cell_type": "markdown",
   "metadata": {},
   "source": [
    "### Adding noise to electron and muon energy signal\n",
    "\n",
    "The aim of this notebook is to add noise to the energy images of electrons/muons by the addition of both energy and noise numpy arrays"
   ]
  },
  {
   "cell_type": "code",
   "execution_count": 1,
   "metadata": {},
   "outputs": [],
   "source": [
    "import os, shutil\n",
    "import matplotlib.pyplot as plt\n",
    "import numpy as np\n",
    "import glob"
   ]
  },
  {
   "cell_type": "code",
   "execution_count": 2,
   "metadata": {},
   "outputs": [],
   "source": [
    "path = '/gpfs/projects/damic/cropped_muons'"
   ]
  },
  {
   "cell_type": "markdown",
   "metadata": {},
   "source": [
    "Selecting the energy and noise of muons:"
   ]
  },
  {
   "cell_type": "code",
   "execution_count": 3,
   "metadata": {},
   "outputs": [],
   "source": [
    "muons = glob.glob1(path,\"*13.npz\") #all the muons\n",
    "\n",
    "len_mu = len(muons)\n",
    "\n",
    "all_muon_energy = [np.load(os.path.join(path, muons[_]))['energy'] for _ in range(len_mu)]\n",
    "all_muon_noise = [np.load(os.path.join(path, muons[_]))['noise'] for _ in range(len_mu)]"
   ]
  },
  {
   "cell_type": "code",
   "execution_count": 4,
   "metadata": {},
   "outputs": [
    {
     "name": "stdout",
     "output_type": "stream",
     "text": [
      "(801, 296, 286)\n",
      "(801, 296, 286)\n"
     ]
    }
   ],
   "source": [
    "all_muon_energy_ = np.dstack(all_muon_energy)\n",
    "all_muon_energy_ = np.rollaxis(all_muon_energy_,-1)\n",
    "print(all_muon_energy_.shape)\n",
    "\n",
    "all_muon_noise_ = np.dstack(all_muon_noise)\n",
    "all_muon_noise_ = np.rollaxis(all_muon_noise_, -1)\n",
    "print(all_muon_noise_.shape)"
   ]
  },
  {
   "cell_type": "code",
   "execution_count": 5,
   "metadata": {},
   "outputs": [
    {
     "data": {
      "text/plain": [
       "(801, 296, 286)"
      ]
     },
     "execution_count": 5,
     "metadata": {},
     "output_type": "execute_result"
    }
   ],
   "source": [
    "#now we add noise to energy images:\n",
    "\n",
    "muon_noisy_energy = all_muon_energy_+ all_muon_noise_\n",
    "muon_noisy_energy.shape"
   ]
  },
  {
   "cell_type": "markdown",
   "metadata": {},
   "source": [
    "Similary for the electrons:"
   ]
  },
  {
   "cell_type": "code",
   "execution_count": 6,
   "metadata": {},
   "outputs": [],
   "source": [
    "base_dir = '/gpfs/projects/damic/electrons_padded'"
   ]
  },
  {
   "cell_type": "code",
   "execution_count": 7,
   "metadata": {},
   "outputs": [],
   "source": [
    "electrons = glob.glob1(base_dir,\"*11.npz\") #all the muons\n",
    "\n",
    "elements = len(electrons)\n",
    "\n",
    "all_electron_energy = [np.load(os.path.join(base_dir, electrons[_]))['energy'] for _ in range(elements)]\n",
    "all_electron_noise = [np.load(os.path.join(base_dir, electrons[_]))['noise'] for _ in range(elements)]"
   ]
  },
  {
   "cell_type": "code",
   "execution_count": 8,
   "metadata": {},
   "outputs": [
    {
     "name": "stdout",
     "output_type": "stream",
     "text": [
      "(2628, 296, 286)\n",
      "(2628, 296, 286)\n"
     ]
    }
   ],
   "source": [
    "all_electron_energy_ = np.dstack(all_electron_energy)\n",
    "all_electron_energy_ = np.rollaxis(all_electron_energy_,-1)\n",
    "print(all_electron_energy_.shape)\n",
    "\n",
    "all_electron_noise_ = np.dstack(all_electron_noise)\n",
    "all_electron_noise_ = np.rollaxis(all_electron_noise_, -1)\n",
    "print(all_electron_noise_.shape)"
   ]
  },
  {
   "cell_type": "code",
   "execution_count": 9,
   "metadata": {},
   "outputs": [
    {
     "data": {
      "text/plain": [
       "(2628, 296, 286)"
      ]
     },
     "execution_count": 9,
     "metadata": {},
     "output_type": "execute_result"
    }
   ],
   "source": [
    "#now we add noise to energy images:\n",
    "\n",
    "electron_noisy_energy = all_electron_energy_+ all_electron_noise_\n",
    "electron_noisy_energy.shape"
   ]
  },
  {
   "cell_type": "markdown",
   "metadata": {},
   "source": [
    "We put together the noise:"
   ]
  },
  {
   "cell_type": "code",
   "execution_count": 10,
   "metadata": {},
   "outputs": [],
   "source": [
    "#putting together all the noise\n",
    "all_noise = np.concatenate((all_electron_noise_, all_muon_noise_), axis=0) "
   ]
  },
  {
   "cell_type": "markdown",
   "metadata": {},
   "source": [
    "Finally, we create the labels:"
   ]
  },
  {
   "cell_type": "code",
   "execution_count": 11,
   "metadata": {},
   "outputs": [],
   "source": [
    "labels_electron = np.repeat(1, muon_noisy_energy.shape[0])\n",
    "labels_muon = np.repeat(2, electron_noisy_energy.shape[0])\n",
    "labels_noise = np.repeat(0, all_noise.shape[0])"
   ]
  },
  {
   "cell_type": "markdown",
   "metadata": {},
   "source": [
    "We insert everything into `X` and `y`:"
   ]
  },
  {
   "cell_type": "code",
   "execution_count": 12,
   "metadata": {},
   "outputs": [],
   "source": [
    "X = np.concatenate((electron_noisy_energy, muon_noisy_energy, all_noise), axis=0) #energy followed by noise\n",
    "y = np.concatenate((labels_electron, labels_muon, labels_noise), axis=0) #energy labels followed by noise labels"
   ]
  },
  {
   "cell_type": "code",
   "execution_count": 13,
   "metadata": {},
   "outputs": [
    {
     "name": "stdout",
     "output_type": "stream",
     "text": [
      "4.644622 gb of data+labels\n"
     ]
    }
   ],
   "source": [
    "print(\"%f gb of data+labels\" % ((X.size * X.itemsize + y.size * y.itemsize) *10**(-9)))"
   ]
  },
  {
   "cell_type": "code",
   "execution_count": 14,
   "metadata": {},
   "outputs": [],
   "source": [
    "np.savez_compressed('/gpfs/projects/damic/eVSmuVSn_noisy1', data=X, labels=y)"
   ]
  },
  {
   "cell_type": "markdown",
   "metadata": {},
   "source": [
    "Now we proceed to **balance** the data:"
   ]
  },
  {
   "cell_type": "code",
   "execution_count": 1,
   "metadata": {},
   "outputs": [
    {
     "name": "stderr",
     "output_type": "stream",
     "text": [
      "Using TensorFlow backend.\n"
     ]
    }
   ],
   "source": [
    "import imblearn\n",
    "from collections import Counter\n",
    "from imblearn.over_sampling import RandomOverSampler\n",
    "from imblearn.under_sampling import RandomUnderSampler"
   ]
  },
  {
   "cell_type": "code",
   "execution_count": 3,
   "metadata": {},
   "outputs": [],
   "source": [
    "import numpy as np"
   ]
  },
  {
   "cell_type": "code",
   "execution_count": 4,
   "metadata": {},
   "outputs": [],
   "source": [
    "loaded = np.load('/gpfs/projects/damic/eVSmuVSn_noisy1.npz')\n",
    "X = loaded['data']\n",
    "y = loaded['labels']"
   ]
  },
  {
   "cell_type": "code",
   "execution_count": 5,
   "metadata": {},
   "outputs": [],
   "source": [
    "from sklearn.model_selection import train_test_split"
   ]
  },
  {
   "cell_type": "code",
   "execution_count": 6,
   "metadata": {},
   "outputs": [],
   "source": [
    "X_train, X_test, y_train, y_test = train_test_split(X, y, random_state=0)"
   ]
  },
  {
   "cell_type": "markdown",
   "metadata": {},
   "source": [
    "Let's see how many samples are available in the train datset"
   ]
  },
  {
   "cell_type": "code",
   "execution_count": 7,
   "metadata": {},
   "outputs": [
    {
     "name": "stdout",
     "output_type": "stream",
     "text": [
      "Counter({0: 2560, 2: 1977, 1: 606})\n"
     ]
    }
   ],
   "source": [
    "print(Counter(y_train))"
   ]
  },
  {
   "cell_type": "code",
   "execution_count": 8,
   "metadata": {},
   "outputs": [],
   "source": [
    "aux_X = X_train.reshape((X_train.shape[0], X_train.shape[1]* X_train.shape[2]))"
   ]
  },
  {
   "cell_type": "code",
   "execution_count": 9,
   "metadata": {},
   "outputs": [
    {
     "name": "stdout",
     "output_type": "stream",
     "text": [
      "Counter({0: 1977, 2: 1977, 1: 606})\n"
     ]
    }
   ],
   "source": [
    "#undersample the noise to aprox the sample of electrons\n",
    "\n",
    "under = RandomUnderSampler(sampling_strategy={0: 1977} )\n",
    "\n",
    "X_under, y_under = under.fit_resample(aux_X, y_train)\n",
    "\n",
    "print(Counter(y_under))"
   ]
  },
  {
   "cell_type": "code",
   "execution_count": 10,
   "metadata": {},
   "outputs": [
    {
     "name": "stdout",
     "output_type": "stream",
     "text": [
      "Counter({0: 1977, 1: 1977, 2: 1977})\n"
     ]
    }
   ],
   "source": [
    "oversample = RandomOverSampler(sampling_strategy='minority')\n",
    "\n",
    "X_over, y_over = oversample.fit_resample(X_under, y_under)\n",
    "\n",
    "print(Counter(y_over))"
   ]
  },
  {
   "cell_type": "markdown",
   "metadata": {},
   "source": [
    "We can observe how the number of samples have been increased"
   ]
  },
  {
   "cell_type": "code",
   "execution_count": 11,
   "metadata": {},
   "outputs": [
    {
     "data": {
      "text/plain": [
       "((5931, 84656), (5931,))"
      ]
     },
     "execution_count": 11,
     "metadata": {},
     "output_type": "execute_result"
    }
   ],
   "source": [
    "X_over.shape, y_over.shape"
   ]
  },
  {
   "cell_type": "code",
   "execution_count": 12,
   "metadata": {},
   "outputs": [
    {
     "data": {
      "text/plain": [
       "((5143, 296, 286), (5143,))"
      ]
     },
     "execution_count": 12,
     "metadata": {},
     "output_type": "execute_result"
    }
   ],
   "source": [
    "X_train.shape, y_train.shape"
   ]
  },
  {
   "cell_type": "markdown",
   "metadata": {},
   "source": [
    "Finally we reshape the X_train"
   ]
  },
  {
   "cell_type": "code",
   "execution_count": 13,
   "metadata": {},
   "outputs": [],
   "source": [
    "X_train = X_over.reshape((X_over.shape[0], X_train.shape[1], X_train.shape[2]))"
   ]
  },
  {
   "cell_type": "code",
   "execution_count": 14,
   "metadata": {},
   "outputs": [
    {
     "data": {
      "text/plain": [
       "(5931, 296, 286)"
      ]
     },
     "execution_count": 14,
     "metadata": {},
     "output_type": "execute_result"
    }
   ],
   "source": [
    "X_train.shape"
   ]
  },
  {
   "cell_type": "code",
   "execution_count": 15,
   "metadata": {},
   "outputs": [],
   "source": [
    "y_train = y_over"
   ]
  },
  {
   "cell_type": "markdown",
   "metadata": {},
   "source": [
    "We have the same amount of sample of each class! Now we save these arrays (for training and test)"
   ]
  },
  {
   "cell_type": "code",
   "execution_count": 16,
   "metadata": {},
   "outputs": [],
   "source": [
    "np.savez_compressed('/gpfs/projects/damic/eVSmuVSn_noisytr1', data=X_train, labels=y_train)"
   ]
  },
  {
   "cell_type": "code",
   "execution_count": 17,
   "metadata": {},
   "outputs": [],
   "source": [
    "np.savez_compressed('/gpfs/projects/damic/eVSmuVSn_noisyte1', data_test=X_test, labels_test=y_test)"
   ]
  }
 ],
 "metadata": {
  "kernelspec": {
   "display_name": "Python 3",
   "language": "python",
   "name": "python3"
  },
  "language_info": {
   "codemirror_mode": {
    "name": "ipython",
    "version": 3
   },
   "file_extension": ".py",
   "mimetype": "text/x-python",
   "name": "python",
   "nbconvert_exporter": "python",
   "pygments_lexer": "ipython3",
   "version": "3.7.4"
  }
 },
 "nbformat": 4,
 "nbformat_minor": 4
}

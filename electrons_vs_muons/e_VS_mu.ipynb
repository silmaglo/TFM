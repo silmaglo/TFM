{
 "cells": [
  {
   "cell_type": "markdown",
   "metadata": {},
   "source": [
    "### Building a model to differentiate between muons and electrons from scratch\n",
    "\n",
    "In this notebook, we will build a convolutional neural network to classify a signal as electron or muon. Therefore, we are facing a binary classification problem: electron or muon. This is the reason why we will have just one neuron in the output layer with sigmoidal activation.\n",
    "\n",
    "First we import the training data stored in a file called `eVSmu_tr1.npz` and the testing data in `eVSmu_te1.npz`, both composed of two variables: 'data' for the numpy arrays with energy or noise, and 'labels' where 1 stands for electron signal and 0 for noise.\n",
    "\n",
    "* [First model: 20 epochs](#First-model:-20-epochs)\n",
    "* [Second model: one more layer](#Second-model:-one-more-layer)\n",
    "* [Fourth model: dropout](#Fourth-model:-dropout)\n",
    "* [Fifth model: one layer less, dropout](#Fifth-model:-one-layer-less,-dropout)\n",
    "* [Sixth model: no layer, no dropout, more validation data](#Sixth-model:-no-layer,-no-dropout,-more-validation-data)\n",
    "* [Ninth model: more drop out layers](#Ninth-model:-more-drop-out-layers)"
   ]
  },
  {
   "cell_type": "code",
   "execution_count": 1,
   "metadata": {},
   "outputs": [],
   "source": [
    "import numpy as np\n",
    "import matplotlib.pyplot as plt"
   ]
  },
  {
   "cell_type": "code",
   "execution_count": 2,
   "metadata": {},
   "outputs": [],
   "source": [
    "\n",
    "from sklearn.metrics import confusion_matrix\n",
    "def plot_confusion_matrix(cm,\n",
    "                          target_names,\n",
    "                          title='Confusion matrix',\n",
    "                          cmap=None,\n",
    "                          normalize=True):\n",
    "    \"\"\"\n",
    "    given a sklearn confusion matrix (cm), make a nice plot\n",
    "\n",
    "    Arguments\n",
    "    ---------\n",
    "    cm:           confusion matrix from sklearn.metrics.confusion_matrix\n",
    "\n",
    "    target_names: given classification classes such as [0, 1, 2]\n",
    "                  the class names, for example: ['high', 'medium', 'low']\n",
    "\n",
    "    title:        the text to display at the top of the matrix\n",
    "\n",
    "    cmap:         the gradient of the values displayed from matplotlib.pyplot.cm\n",
    "                  see http://matplotlib.org/examples/color/colormaps_reference.html\n",
    "                  plt.get_cmap('jet') or plt.cm.Blues\n",
    "\n",
    "    normalize:    If False, plot the raw numbers\n",
    "                  If True, plot the proportions\n",
    "\n",
    "    Usage\n",
    "    -----\n",
    "    plot_confusion_matrix(cm           = cm,                  # confusion matrix created by\n",
    "                                                              # sklearn.metrics.confusion_matrix\n",
    "                          normalize    = True,                # show proportions\n",
    "                          target_names = y_labels_vals,       # list of names of the classes\n",
    "                          title        = best_estimator_name) # title of graph\n",
    "\n",
    "    Citiation\n",
    "    ---------\n",
    "    http://scikit-learn.org/stable/auto_examples/model_selection/plot_confusion_matrix.html\n",
    "\n",
    "    \"\"\"\n",
    "    import matplotlib.pyplot as plt\n",
    "    import numpy as np\n",
    "    import itertools\n",
    "\n",
    "    accuracy = np.trace(cm) / float(np.sum(cm))\n",
    "    misclass = 1 - accuracy\n",
    "\n",
    "    if cmap is None:\n",
    "        cmap = plt.get_cmap('Blues')\n",
    "\n",
    "    plt.figure(figsize=(8, 6))\n",
    "    plt.imshow(cm, interpolation='nearest', cmap=cmap)\n",
    "    plt.title(title)\n",
    "    plt.colorbar()\n",
    "\n",
    "    if target_names is not None:\n",
    "        tick_marks = np.arange(len(target_names))\n",
    "        plt.xticks(tick_marks, target_names, rotation=45)\n",
    "        plt.yticks(tick_marks, target_names)\n",
    "\n",
    "    if normalize:\n",
    "        cm = cm.astype('float') / cm.sum(axis=1)[:, np.newaxis]\n",
    "\n",
    "\n",
    "    thresh = cm.max() / 1.5 if normalize else cm.max() / 2\n",
    "    for i, j in itertools.product(range(cm.shape[0]), range(cm.shape[1])):\n",
    "        if normalize:\n",
    "            plt.text(j, i, \"{:0.4f}\".format(cm[i, j]),\n",
    "                     horizontalalignment=\"center\",\n",
    "                     color=\"white\" if cm[i, j] > thresh else \"black\")\n",
    "        else:\n",
    "            plt.text(j, i, \"{:,}\".format(cm[i, j]),\n",
    "                     horizontalalignment=\"center\",\n",
    "                     color=\"white\" if cm[i, j] > thresh else \"black\")\n",
    "    plt.grid(b=False)\n",
    "    plt.xlim(-0.5, 1.5)\n",
    "    plt.ylim(1.5, -0.5)\n",
    "    plt.tight_layout()\n",
    "    plt.ylabel('True label')\n",
    "    plt.xlabel('Predicted label\\naccuracy={:0.4f}; misclass={:0.4f}'.format(accuracy, misclass))\n",
    "    plt.show()\n"
   ]
  },
  {
   "cell_type": "code",
   "execution_count": 3,
   "metadata": {},
   "outputs": [
    {
     "name": "stdout",
     "output_type": "stream",
     "text": [
      "(1600, 296, 286) (1600,)\n"
     ]
    }
   ],
   "source": [
    "loaded = np.load('/Users/Silvia/Desktop/TFM/e_VS_mu/eVSmu_tr1.npz')\n",
    "X_train = loaded['data']\n",
    "y_train = loaded['labels']\n",
    "\n",
    "print(X_train.shape, y_train.shape)"
   ]
  },
  {
   "cell_type": "code",
   "execution_count": 4,
   "metadata": {},
   "outputs": [
    {
     "name": "stdout",
     "output_type": "stream",
     "text": [
      "(858, 296, 286) (858,)\n"
     ]
    }
   ],
   "source": [
    "loaded = np.load('/Users/Silvia/Desktop/TFM/e_VS_mu/eVSmu_te1.npz')\n",
    "X_test = loaded['data_test']\n",
    "y_test = loaded['labels_test']\n",
    "\n",
    "print(X_test.shape, y_test.shape)"
   ]
  },
  {
   "cell_type": "code",
   "execution_count": 5,
   "metadata": {},
   "outputs": [
    {
     "data": {
      "text/plain": [
       "<matplotlib.colorbar.Colorbar at 0x1640a29d0>"
      ]
     },
     "execution_count": 5,
     "metadata": {},
     "output_type": "execute_result"
    },
    {
     "data": {
      "image/png": "[encoded data removed]",
      "text/plain": [
       "<Figure size 720x720 with 2 Axes>"
      ]
     },
     "metadata": {
      "needs_background": "light"
     },
     "output_type": "display_data"
    }
   ],
   "source": [
    "part = X_train[4]\n",
    "plt.figure(figsize=(10,10))\n",
    "plt.imshow(part, cmap='Reds')\n",
    "plt.colorbar()"
   ]
  },
  {
   "cell_type": "code",
   "execution_count": 6,
   "metadata": {},
   "outputs": [
    {
     "name": "stdout",
     "output_type": "stream",
     "text": [
      "(1600, 84656) (858, 84656)\n"
     ]
    }
   ],
   "source": [
    "from sklearn import preprocessing\n",
    "\n",
    "aux_train = X_train.reshape((X_train.shape[0], X_train.shape[1]* X_train.shape[2]))\n",
    "aux_test = X_test.reshape((X_test.shape[0], X_test.shape[1]* X_test.shape[2]))\n",
    "\n",
    "scaler = preprocessing.StandardScaler().fit(aux_train)\n",
    "\n",
    "X_trainr = scaler.transform(aux_train)\n",
    "\n",
    "X_testr = scaler.transform(aux_test)\n",
    "\n",
    "print(X_trainr.shape, X_testr.shape)"
   ]
  },
  {
   "cell_type": "code",
   "execution_count": 7,
   "metadata": {},
   "outputs": [
    {
     "name": "stdout",
     "output_type": "stream",
     "text": [
      "(1600, 296, 286, 1)\n"
     ]
    }
   ],
   "source": [
    "X_train = X_trainr.reshape((X_train.shape[0], X_train.shape[1], X_train.shape[2], 1))\n",
    "\n",
    "print(X_train.shape)"
   ]
  },
  {
   "cell_type": "code",
   "execution_count": 8,
   "metadata": {},
   "outputs": [
    {
     "name": "stdout",
     "output_type": "stream",
     "text": [
      "(858, 296, 286, 1)\n"
     ]
    }
   ],
   "source": [
    "X_test = X_testr.reshape((X_test.shape[0], X_test.shape[1], X_test.shape[2], 1))\n",
    "\n",
    "print(X_test.shape)"
   ]
  },
  {
   "cell_type": "code",
   "execution_count": 9,
   "metadata": {},
   "outputs": [],
   "source": [
    "window_y, window_x = 296,286"
   ]
  },
  {
   "cell_type": "code",
   "execution_count": 10,
   "metadata": {},
   "outputs": [
    {
     "name": "stderr",
     "output_type": "stream",
     "text": [
      "Using TensorFlow backend.\n"
     ]
    }
   ],
   "source": [
    "import keras\n",
    "from keras import layers, models, optimizers"
   ]
  },
  {
   "cell_type": "markdown",
   "metadata": {},
   "source": [
    "### First model: 20 epochs"
   ]
  },
  {
   "cell_type": "code",
   "execution_count": 17,
   "metadata": {
    "scrolled": true
   },
   "outputs": [
    {
     "name": "stdout",
     "output_type": "stream",
     "text": [
      "Model: \"sequential_1\"\n",
      "_________________________________________________________________\n",
      "Layer (type)                 Output Shape              Param #   \n",
      "=================================================================\n",
      "conv2d_1 (Conv2D)            (None, 294, 284, 32)      320       \n",
      "_________________________________________________________________\n",
      "max_pooling2d_1 (MaxPooling2 (None, 147, 142, 32)      0         \n",
      "_________________________________________________________________\n",
      "conv2d_2 (Conv2D)            (None, 145, 140, 64)      18496     \n",
      "_________________________________________________________________\n",
      "max_pooling2d_2 (MaxPooling2 (None, 72, 70, 64)        0         \n",
      "_________________________________________________________________\n",
      "conv2d_3 (Conv2D)            (None, 70, 68, 128)       73856     \n",
      "_________________________________________________________________\n",
      "max_pooling2d_3 (MaxPooling2 (None, 35, 34, 128)       0         \n",
      "_________________________________________________________________\n",
      "conv2d_4 (Conv2D)            (None, 33, 32, 128)       147584    \n",
      "_________________________________________________________________\n",
      "max_pooling2d_4 (MaxPooling2 (None, 16, 16, 128)       0         \n",
      "_________________________________________________________________\n",
      "flatten_1 (Flatten)          (None, 32768)             0         \n",
      "_________________________________________________________________\n",
      "dense_1 (Dense)              (None, 512)               16777728  \n",
      "_________________________________________________________________\n",
      "dense_2 (Dense)              (None, 1)                 513       \n",
      "=================================================================\n",
      "Total params: 17,018,497\n",
      "Trainable params: 17,018,497\n",
      "Non-trainable params: 0\n",
      "_________________________________________________________________\n"
     ]
    }
   ],
   "source": [
    "model_v1 = models.Sequential()\n",
    "model_v1.add(layers.Conv2D(32,(3,3), activation='relu', input_shape=(window_y, window_x, 1)))\n",
    "model_v1.add(layers.MaxPooling2D((2,2)))\n",
    "model_v1.add(layers.Conv2D(64,(3,3), activation='relu'))\n",
    "model_v1.add(layers.MaxPooling2D((2,2)))\n",
    "model_v1.add(layers.Conv2D(128,(3,3), activation='relu'))\n",
    "model_v1.add(layers.MaxPooling2D((2,2)))\n",
    "model_v1.add(layers.Conv2D(128,(3,3), activation='relu'))\n",
    "model_v1.add(layers.MaxPooling2D((2,2)))\n",
    "\n",
    "model_v1.add(layers.Flatten())\n",
    "#model_v1.add(layers.Dense(units= 2050, activation='relu'))\n",
    "model_v1.add(layers.Dense(units= 512, activation='relu'))\n",
    "model_v1.add(layers.Dense(units= 1, activation='sigmoid'))\n",
    "model_v1.summary()"
   ]
  },
  {
   "cell_type": "code",
   "execution_count": 18,
   "metadata": {},
   "outputs": [],
   "source": [
    "model_v1.compile(optimizer=optimizers.RMSprop(lr= 1e-4),loss='binary_crossentropy', metrics=['acc'])"
   ]
  },
  {
   "cell_type": "code",
   "execution_count": 19,
   "metadata": {
    "scrolled": true
   },
   "outputs": [
    {
     "name": "stdout",
     "output_type": "stream",
     "text": [
      "Train on 1280 samples, validate on 320 samples\n",
      "Epoch 1/20\n",
      "1280/1280 [==============================] - 81s 63ms/step - loss: 0.7137 - acc: 0.5961 - val_loss: 0.9035 - val_acc: 0.2313\n",
      "Epoch 2/20\n",
      "1280/1280 [==============================] - 80s 63ms/step - loss: 0.5407 - acc: 0.7367 - val_loss: 1.1675 - val_acc: 0.2313\n",
      "Epoch 3/20\n",
      "1280/1280 [==============================] - 83s 65ms/step - loss: 0.4342 - acc: 0.8000 - val_loss: 0.7296 - val_acc: 0.5938\n",
      "Epoch 4/20\n",
      "1280/1280 [==============================] - 82s 64ms/step - loss: 0.3294 - acc: 0.8609 - val_loss: 0.9509 - val_acc: 0.5781\n",
      "Epoch 5/20\n",
      "1280/1280 [==============================] - 82s 64ms/step - loss: 0.2382 - acc: 0.9094 - val_loss: 0.7546 - val_acc: 0.6687\n",
      "Epoch 6/20\n",
      "1280/1280 [==============================] - 83s 65ms/step - loss: 0.1695 - acc: 0.9344 - val_loss: 1.3474 - val_acc: 0.5875\n",
      "Epoch 7/20\n",
      "1280/1280 [==============================] - 81s 64ms/step - loss: 0.1168 - acc: 0.9641 - val_loss: 1.5637 - val_acc: 0.6000\n",
      "Epoch 8/20\n",
      "1280/1280 [==============================] - 82s 64ms/step - loss: 0.0840 - acc: 0.9711 - val_loss: 1.3794 - val_acc: 0.7031\n",
      "Epoch 9/20\n",
      "1280/1280 [==============================] - 81s 63ms/step - loss: 0.0624 - acc: 0.9820 - val_loss: 1.2908 - val_acc: 0.7312\n",
      "Epoch 10/20\n",
      "1280/1280 [==============================] - 82s 64ms/step - loss: 0.0465 - acc: 0.9836 - val_loss: 1.3478 - val_acc: 0.7281\n",
      "Epoch 11/20\n",
      "1280/1280 [==============================] - 81s 64ms/step - loss: 0.0355 - acc: 0.9883 - val_loss: 1.6537 - val_acc: 0.7219\n",
      "Epoch 12/20\n",
      "1280/1280 [==============================] - 81s 64ms/step - loss: 0.0343 - acc: 0.9875 - val_loss: 1.6043 - val_acc: 0.7469\n",
      "Epoch 13/20\n",
      "1280/1280 [==============================] - 82s 64ms/step - loss: 0.0327 - acc: 0.9859 - val_loss: 2.0100 - val_acc: 0.7281\n",
      "Epoch 14/20\n",
      "1280/1280 [==============================] - 81s 63ms/step - loss: 0.0301 - acc: 0.9898 - val_loss: 2.2908 - val_acc: 0.7063\n",
      "Epoch 15/20\n",
      "1280/1280 [==============================] - 82s 64ms/step - loss: 0.0232 - acc: 0.9898 - val_loss: 2.0963 - val_acc: 0.7531\n",
      "Epoch 16/20\n",
      "1280/1280 [==============================] - 81s 64ms/step - loss: 0.0298 - acc: 0.9922 - val_loss: 2.5132 - val_acc: 0.7188\n",
      "Epoch 17/20\n",
      "1280/1280 [==============================] - 82s 64ms/step - loss: 0.0163 - acc: 0.9953 - val_loss: 2.7201 - val_acc: 0.7188\n",
      "Epoch 18/20\n",
      "1280/1280 [==============================] - 81s 63ms/step - loss: 0.0175 - acc: 0.9914 - val_loss: 2.0647 - val_acc: 0.7531\n",
      "Epoch 19/20\n",
      "1280/1280 [==============================] - 81s 63ms/step - loss: 0.0242 - acc: 0.9914 - val_loss: 2.7099 - val_acc: 0.7312\n",
      "Epoch 20/20\n",
      "1280/1280 [==============================] - 83s 65ms/step - loss: 0.0109 - acc: 0.9969 - val_loss: 3.1204 - val_acc: 0.7219\n"
     ]
    }
   ],
   "source": [
    "historyv1 =model_v1.fit(X_train, y_train, epochs= 20, validation_split = 0.2)"
   ]
  },
  {
   "cell_type": "code",
   "execution_count": 20,
   "metadata": {},
   "outputs": [],
   "source": [
    "model_v1.save('model_electron_or_muon_v1.h5')"
   ]
  },
  {
   "cell_type": "code",
   "execution_count": 21,
   "metadata": {},
   "outputs": [
    {
     "name": "stdout",
     "output_type": "stream",
     "text": [
      "858/858 [==============================] - 14s 17ms/step\n",
      "Accuracy with the model: 69.35%\n"
     ]
    }
   ],
   "source": [
    "loss, acc = model_v1.evaluate(X_test, y_test)\n",
    "print('Accuracy with the model: {:5.2f}%'.format(100*acc))"
   ]
  },
  {
   "cell_type": "code",
   "execution_count": 22,
   "metadata": {},
   "outputs": [],
   "source": [
    "y_predicted1 = model_v1.predict(X_test)"
   ]
  },
  {
   "cell_type": "code",
   "execution_count": 24,
   "metadata": {},
   "outputs": [],
   "source": [
    "y_predicted1[np.where(y_predicted1>=0.5)] = 1\n",
    "y_predicted1[np.where(y_predicted1<0.5)] = 0"
   ]
  },
  {
   "cell_type": "code",
   "execution_count": 26,
   "metadata": {},
   "outputs": [
    {
     "data": {
      "image/png": "[encoded data removed]",
      "text/plain": [
       "<Figure size 576x432 with 2 Axes>"
      ]
     },
     "metadata": {
      "needs_background": "light"
     },
     "output_type": "display_data"
    }
   ],
   "source": [
    "conf1 = confusion_matrix(y_test, y_predicted1, labels = list([0,1]))\n",
    "plot_confusion_matrix(cm           = conf1, \n",
    "                      normalize    = False,\n",
    "                      target_names = ['electron', 'muon'],\n",
    "                      title        = \"Confusion Matrix\")"
   ]
  },
  {
   "cell_type": "code",
   "execution_count": 27,
   "metadata": {},
   "outputs": [
    {
     "data": {
      "image/png": "[encoded data removed]",
      "text/plain": [
       "<Figure size 432x288 with 1 Axes>"
      ]
     },
     "metadata": {
      "needs_background": "light"
     },
     "output_type": "display_data"
    }
   ],
   "source": [
    "history_n1 = historyv1.history\n",
    "loss_values_n1 = history_n1['loss']\n",
    "val_loss_values_n1 = history_n1['val_loss']\n",
    "epochs_n1 = range(1, len(loss_values_n1) + 1)\n",
    "plt.plot(epochs_n1, loss_values_n1, 'bo', label='Training loss')\n",
    "plt.plot(epochs_n1, val_loss_values_n1, 'b', label='Validation loss')\n",
    "plt.title('Training and validation loss')\n",
    "plt.xlabel('Epochs')\n",
    "plt.ylabel('Loss')\n",
    "plt.legend()\n",
    "plt.show()"
   ]
  },
  {
   "cell_type": "markdown",
   "metadata": {},
   "source": [
    "### Second model: one more layer"
   ]
  },
  {
   "cell_type": "code",
   "execution_count": 28,
   "metadata": {
    "scrolled": true
   },
   "outputs": [
    {
     "name": "stdout",
     "output_type": "stream",
     "text": [
      "Model: \"sequential_2\"\n",
      "_________________________________________________________________\n",
      "Layer (type)                 Output Shape              Param #   \n",
      "=================================================================\n",
      "conv2d_5 (Conv2D)            (None, 294, 284, 32)      320       \n",
      "_________________________________________________________________\n",
      "max_pooling2d_5 (MaxPooling2 (None, 147, 142, 32)      0         \n",
      "_________________________________________________________________\n",
      "conv2d_6 (Conv2D)            (None, 145, 140, 64)      18496     \n",
      "_________________________________________________________________\n",
      "max_pooling2d_6 (MaxPooling2 (None, 72, 70, 64)        0         \n",
      "_________________________________________________________________\n",
      "conv2d_7 (Conv2D)            (None, 70, 68, 128)       73856     \n",
      "_________________________________________________________________\n",
      "max_pooling2d_7 (MaxPooling2 (None, 35, 34, 128)       0         \n",
      "_________________________________________________________________\n",
      "conv2d_8 (Conv2D)            (None, 33, 32, 128)       147584    \n",
      "_________________________________________________________________\n",
      "max_pooling2d_8 (MaxPooling2 (None, 16, 16, 128)       0         \n",
      "_________________________________________________________________\n",
      "flatten_2 (Flatten)          (None, 32768)             0         \n",
      "_________________________________________________________________\n",
      "dense_3 (Dense)              (None, 2050)              67176450  \n",
      "_________________________________________________________________\n",
      "dense_4 (Dense)              (None, 512)               1050112   \n",
      "_________________________________________________________________\n",
      "dense_5 (Dense)              (None, 1)                 513       \n",
      "=================================================================\n",
      "Total params: 68,467,331\n",
      "Trainable params: 68,467,331\n",
      "Non-trainable params: 0\n",
      "_________________________________________________________________\n"
     ]
    }
   ],
   "source": [
    "model_v2 = models.Sequential()\n",
    "model_v2.add(layers.Conv2D(32,(3,3), activation='relu', input_shape=(window_y, window_x, 1)))\n",
    "model_v2.add(layers.MaxPooling2D((2,2)))\n",
    "model_v2.add(layers.Conv2D(64,(3,3), activation='relu'))\n",
    "model_v2.add(layers.MaxPooling2D((2,2)))\n",
    "model_v2.add(layers.Conv2D(128,(3,3), activation='relu'))\n",
    "model_v2.add(layers.MaxPooling2D((2,2)))\n",
    "model_v2.add(layers.Conv2D(128,(3,3), activation='relu'))\n",
    "model_v2.add(layers.MaxPooling2D((2,2)))\n",
    "\n",
    "model_v2.add(layers.Flatten())\n",
    "model_v2.add(layers.Dense(units= 2050, activation='relu'))\n",
    "model_v2.add(layers.Dense(units= 512, activation='relu'))\n",
    "model_v2.add(layers.Dense(units= 1, activation='sigmoid'))\n",
    "model_v2.summary()"
   ]
  },
  {
   "cell_type": "code",
   "execution_count": 29,
   "metadata": {},
   "outputs": [],
   "source": [
    "model_v2.compile(optimizer=optimizers.RMSprop(lr= 1e-4),loss='binary_crossentropy', metrics=['acc'])"
   ]
  },
  {
   "cell_type": "code",
   "execution_count": 30,
   "metadata": {
    "scrolled": true
   },
   "outputs": [
    {
     "name": "stdout",
     "output_type": "stream",
     "text": [
      "Train on 1280 samples, validate on 320 samples\n",
      "Epoch 1/20\n",
      "1280/1280 [==============================] - 101s 79ms/step - loss: 0.7210 - acc: 0.6070 - val_loss: 0.6540 - val_acc: 0.5531\n",
      "Epoch 2/20\n",
      "1280/1280 [==============================] - 98s 77ms/step - loss: 0.5292 - acc: 0.7477 - val_loss: 0.9299 - val_acc: 0.4594\n",
      "Epoch 3/20\n",
      "1280/1280 [==============================] - 100s 78ms/step - loss: 0.3689 - acc: 0.8406 - val_loss: 0.6246 - val_acc: 0.6625\n",
      "Epoch 4/20\n",
      "1280/1280 [==============================] - 99s 77ms/step - loss: 0.2459 - acc: 0.9078 - val_loss: 0.7090 - val_acc: 0.7000\n",
      "Epoch 5/20\n",
      "1280/1280 [==============================] - 98s 77ms/step - loss: 0.1430 - acc: 0.9430 - val_loss: 0.9821 - val_acc: 0.6938\n",
      "Epoch 6/20\n",
      "1280/1280 [==============================] - 98s 77ms/step - loss: 0.0838 - acc: 0.9695 - val_loss: 1.1458 - val_acc: 0.7094\n",
      "Epoch 7/20\n",
      "1280/1280 [==============================] - 99s 77ms/step - loss: 0.0622 - acc: 0.9828 - val_loss: 2.0158 - val_acc: 0.6687\n",
      "Epoch 8/20\n",
      "1280/1280 [==============================] - 101s 79ms/step - loss: 0.0496 - acc: 0.9844 - val_loss: 1.7581 - val_acc: 0.7375\n",
      "Epoch 9/20\n",
      "1280/1280 [==============================] - 98s 77ms/step - loss: 0.0376 - acc: 0.9875 - val_loss: 1.9334 - val_acc: 0.6844\n",
      "Epoch 10/20\n",
      "1280/1280 [==============================] - 98s 77ms/step - loss: 0.0336 - acc: 0.9883 - val_loss: 2.8821 - val_acc: 0.6562\n",
      "Epoch 11/20\n",
      "1280/1280 [==============================] - 97s 75ms/step - loss: 0.0188 - acc: 0.9953 - val_loss: 2.6178 - val_acc: 0.7125\n",
      "Epoch 12/20\n",
      "1280/1280 [==============================] - 98s 77ms/step - loss: 0.0254 - acc: 0.9930 - val_loss: 2.8092 - val_acc: 0.7094\n",
      "Epoch 13/20\n",
      "1280/1280 [==============================] - 99s 77ms/step - loss: 0.0255 - acc: 0.9930 - val_loss: 3.2266 - val_acc: 0.7156\n",
      "Epoch 14/20\n",
      "1280/1280 [==============================] - 98s 77ms/step - loss: 0.0257 - acc: 0.9914 - val_loss: 3.2132 - val_acc: 0.7031\n",
      "Epoch 15/20\n",
      "1280/1280 [==============================] - 98s 77ms/step - loss: 0.0106 - acc: 0.9969 - val_loss: 3.6377 - val_acc: 0.6938\n",
      "Epoch 16/20\n",
      "1280/1280 [==============================] - 97s 76ms/step - loss: 0.0237 - acc: 0.9937 - val_loss: 2.0102 - val_acc: 0.7750\n",
      "Epoch 17/20\n",
      "1280/1280 [==============================] - 98s 77ms/step - loss: 0.0317 - acc: 0.9922 - val_loss: 3.2463 - val_acc: 0.7188\n",
      "Epoch 18/20\n",
      "1280/1280 [==============================] - 98s 76ms/step - loss: 0.0091 - acc: 0.9977 - val_loss: 3.4823 - val_acc: 0.7188\n",
      "Epoch 19/20\n",
      "1280/1280 [==============================] - 98s 76ms/step - loss: 0.0270 - acc: 0.9945 - val_loss: 4.1506 - val_acc: 0.7094\n",
      "Epoch 20/20\n",
      "1280/1280 [==============================] - 98s 76ms/step - loss: 0.0088 - acc: 0.9969 - val_loss: 3.8683 - val_acc: 0.7188\n"
     ]
    }
   ],
   "source": [
    "historyv2 =model_v2.fit(X_train, y_train, epochs= 20, validation_split = 0.2)"
   ]
  },
  {
   "cell_type": "code",
   "execution_count": 31,
   "metadata": {},
   "outputs": [],
   "source": [
    "model_v2.save('model_electron_or_muon_v2.h5')"
   ]
  },
  {
   "cell_type": "code",
   "execution_count": 32,
   "metadata": {},
   "outputs": [],
   "source": [
    "y_predicted2 = model_v2.predict(X_test)\n",
    "y_predicted2[np.where(y_predicted2>=0.5)] = 1\n",
    "y_predicted2[np.where(y_predicted2<0.5)] = 0"
   ]
  },
  {
   "cell_type": "code",
   "execution_count": 33,
   "metadata": {},
   "outputs": [
    {
     "data": {
      "image/png": "[encoded data removed]",
      "text/plain": [
       "<Figure size 576x432 with 2 Axes>"
      ]
     },
     "metadata": {
      "needs_background": "light"
     },
     "output_type": "display_data"
    }
   ],
   "source": [
    "conf2 = confusion_matrix(y_test, y_predicted2, labels = list([0,1]))\n",
    "plot_confusion_matrix(cm           = conf2, \n",
    "                      normalize    = False,\n",
    "                      target_names = ['electron', 'muon'],\n",
    "                      title        = \"Confusion Matrix\")"
   ]
  },
  {
   "cell_type": "code",
   "execution_count": 34,
   "metadata": {},
   "outputs": [
    {
     "data": {
      "image/png": "[encoded data removed]",
      "text/plain": [
       "<Figure size 432x288 with 1 Axes>"
      ]
     },
     "metadata": {
      "needs_background": "light"
     },
     "output_type": "display_data"
    }
   ],
   "source": [
    "history_n1 = historyv2.history\n",
    "loss_values_n1 = history_n1['loss']\n",
    "val_loss_values_n1 = history_n1['val_loss']\n",
    "epochs_n1 = range(1, len(loss_values_n1) + 1)\n",
    "plt.plot(epochs_n1, loss_values_n1, 'bo', label='Training loss')\n",
    "plt.plot(epochs_n1, val_loss_values_n1, 'b', label='Validation loss')\n",
    "plt.title('Training and validation loss')\n",
    "plt.xlabel('Epochs')\n",
    "plt.ylabel('Loss')\n",
    "plt.legend()\n",
    "plt.show()"
   ]
  },
  {
   "cell_type": "markdown",
   "metadata": {},
   "source": [
    "### Third model: one more layer, dropout"
   ]
  },
  {
   "cell_type": "code",
   "execution_count": 35,
   "metadata": {
    "scrolled": true
   },
   "outputs": [
    {
     "name": "stdout",
     "output_type": "stream",
     "text": [
      "Model: \"sequential_3\"\n",
      "_________________________________________________________________\n",
      "Layer (type)                 Output Shape              Param #   \n",
      "=================================================================\n",
      "conv2d_9 (Conv2D)            (None, 294, 284, 32)      320       \n",
      "_________________________________________________________________\n",
      "max_pooling2d_9 (MaxPooling2 (None, 147, 142, 32)      0         \n",
      "_________________________________________________________________\n",
      "conv2d_10 (Conv2D)           (None, 145, 140, 64)      18496     \n",
      "_________________________________________________________________\n",
      "max_pooling2d_10 (MaxPooling (None, 72, 70, 64)        0         \n",
      "_________________________________________________________________\n",
      "conv2d_11 (Conv2D)           (None, 70, 68, 128)       73856     \n",
      "_________________________________________________________________\n",
      "max_pooling2d_11 (MaxPooling (None, 35, 34, 128)       0         \n",
      "_________________________________________________________________\n",
      "conv2d_12 (Conv2D)           (None, 33, 32, 128)       147584    \n",
      "_________________________________________________________________\n",
      "max_pooling2d_12 (MaxPooling (None, 16, 16, 128)       0         \n",
      "_________________________________________________________________\n",
      "flatten_3 (Flatten)          (None, 32768)             0         \n",
      "_________________________________________________________________\n",
      "dropout_1 (Dropout)          (None, 32768)             0         \n",
      "_________________________________________________________________\n",
      "dense_6 (Dense)              (None, 2050)              67176450  \n",
      "_________________________________________________________________\n",
      "dense_7 (Dense)              (None, 512)               1050112   \n",
      "_________________________________________________________________\n",
      "dense_8 (Dense)              (None, 1)                 513       \n",
      "=================================================================\n",
      "Total params: 68,467,331\n",
      "Trainable params: 68,467,331\n",
      "Non-trainable params: 0\n",
      "_________________________________________________________________\n"
     ]
    }
   ],
   "source": [
    "model_v3 = models.Sequential()\n",
    "model_v3.add(layers.Conv2D(32,(3,3), activation='relu', input_shape=(window_y, window_x, 1)))\n",
    "model_v3.add(layers.MaxPooling2D((2,2)))\n",
    "model_v3.add(layers.Conv2D(64,(3,3), activation='relu'))\n",
    "model_v3.add(layers.MaxPooling2D((2,2)))\n",
    "model_v3.add(layers.Conv2D(128,(3,3), activation='relu'))\n",
    "model_v3.add(layers.MaxPooling2D((2,2)))\n",
    "model_v3.add(layers.Conv2D(128,(3,3), activation='relu'))\n",
    "model_v3.add(layers.MaxPooling2D((2,2)))\n",
    "\n",
    "model_v3.add(layers.Flatten())\n",
    "model_v3.add(layers.Dropout(0.5))\n",
    "model_v3.add(layers.Dense(units= 2050, activation='relu'))\n",
    "model_v3.add(layers.Dense(units= 512, activation='relu'))\n",
    "model_v3.add(layers.Dense(units= 1, activation='sigmoid'))\n",
    "model_v3.summary()"
   ]
  },
  {
   "cell_type": "code",
   "execution_count": 36,
   "metadata": {},
   "outputs": [],
   "source": [
    "model_v3.compile(optimizer=optimizers.RMSprop(lr= 1e-4),loss='binary_crossentropy', metrics=['acc'])"
   ]
  },
  {
   "cell_type": "code",
   "execution_count": 37,
   "metadata": {
    "scrolled": true
   },
   "outputs": [
    {
     "name": "stdout",
     "output_type": "stream",
     "text": [
      "Train on 1280 samples, validate on 320 samples\n",
      "Epoch 1/20\n",
      "1280/1280 [==============================] - 99s 77ms/step - loss: 0.7142 - acc: 0.5797 - val_loss: 1.0863 - val_acc: 0.1781\n",
      "Epoch 2/20\n",
      "1280/1280 [==============================] - 98s 77ms/step - loss: 0.5640 - acc: 0.7102 - val_loss: 0.7402 - val_acc: 0.5219\n",
      "Epoch 3/20\n",
      "1280/1280 [==============================] - 98s 77ms/step - loss: 0.4946 - acc: 0.7625 - val_loss: 1.0771 - val_acc: 0.4156\n",
      "Epoch 4/20\n",
      "1280/1280 [==============================] - 97s 76ms/step - loss: 0.4284 - acc: 0.8141 - val_loss: 1.0808 - val_acc: 0.4688\n",
      "Epoch 5/20\n",
      "1280/1280 [==============================] - 98s 77ms/step - loss: 0.3704 - acc: 0.8383 - val_loss: 0.8364 - val_acc: 0.5813\n",
      "Epoch 6/20\n",
      "1280/1280 [==============================] - 98s 77ms/step - loss: 0.3022 - acc: 0.8781 - val_loss: 0.8502 - val_acc: 0.6187\n",
      "Epoch 7/20\n",
      "1280/1280 [==============================] - 97s 76ms/step - loss: 0.2593 - acc: 0.8875 - val_loss: 1.0218 - val_acc: 0.6438\n",
      "Epoch 8/20\n",
      "1280/1280 [==============================] - 98s 76ms/step - loss: 0.2031 - acc: 0.9234 - val_loss: 1.2061 - val_acc: 0.6062\n",
      "Epoch 9/20\n",
      "1280/1280 [==============================] - 97s 76ms/step - loss: 0.1706 - acc: 0.9344 - val_loss: 1.5722 - val_acc: 0.6187\n",
      "Epoch 10/20\n",
      "1280/1280 [==============================] - 98s 76ms/step - loss: 0.1445 - acc: 0.9430 - val_loss: 0.9340 - val_acc: 0.7188\n",
      "Epoch 11/20\n",
      "1280/1280 [==============================] - 98s 76ms/step - loss: 0.1179 - acc: 0.9609 - val_loss: 2.2164 - val_acc: 0.5750\n",
      "Epoch 12/20\n",
      "1280/1280 [==============================] - 98s 76ms/step - loss: 0.1074 - acc: 0.9609 - val_loss: 1.6809 - val_acc: 0.6938\n",
      "Epoch 13/20\n",
      "1280/1280 [==============================] - 97s 76ms/step - loss: 0.0871 - acc: 0.9664 - val_loss: 1.6887 - val_acc: 0.7000\n",
      "Epoch 14/20\n",
      "1280/1280 [==============================] - 98s 76ms/step - loss: 0.1009 - acc: 0.9656 - val_loss: 1.6299 - val_acc: 0.7031\n",
      "Epoch 15/20\n",
      "1280/1280 [==============================] - 98s 76ms/step - loss: 0.0654 - acc: 0.9758 - val_loss: 1.9047 - val_acc: 0.6812\n",
      "Epoch 16/20\n",
      "1280/1280 [==============================] - 98s 76ms/step - loss: 0.0608 - acc: 0.9750 - val_loss: 2.5365 - val_acc: 0.6750\n",
      "Epoch 17/20\n",
      "1280/1280 [==============================] - 97s 76ms/step - loss: 0.0775 - acc: 0.9812 - val_loss: 2.1532 - val_acc: 0.7031\n",
      "Epoch 18/20\n",
      "1280/1280 [==============================] - 98s 76ms/step - loss: 0.0473 - acc: 0.9836 - val_loss: 2.1906 - val_acc: 0.7156\n",
      "Epoch 19/20\n",
      "1280/1280 [==============================] - 98s 76ms/step - loss: 0.0462 - acc: 0.9828 - val_loss: 3.9808 - val_acc: 0.5594\n",
      "Epoch 20/20\n",
      "1280/1280 [==============================] - 108s 84ms/step - loss: 0.0561 - acc: 0.9820 - val_loss: 2.0280 - val_acc: 0.7281\n"
     ]
    }
   ],
   "source": [
    "historyv3 =model_v3.fit(X_train, y_train, epochs= 20, validation_split = 0.2)"
   ]
  },
  {
   "cell_type": "code",
   "execution_count": 38,
   "metadata": {},
   "outputs": [],
   "source": [
    "model_v3.save('model_electron_or_muon_v3.h5')"
   ]
  },
  {
   "cell_type": "code",
   "execution_count": 39,
   "metadata": {},
   "outputs": [],
   "source": [
    "y_predicted3 = model_v3.predict(X_test)\n",
    "y_predicted3[np.where(y_predicted3>=0.5)] = 1\n",
    "y_predicted3[np.where(y_predicted3<0.5)] = 0"
   ]
  },
  {
   "cell_type": "code",
   "execution_count": 40,
   "metadata": {},
   "outputs": [
    {
     "data": {
      "image/png": "[encoded data removed]",
      "text/plain": [
       "<Figure size 576x432 with 2 Axes>"
      ]
     },
     "metadata": {
      "needs_background": "light"
     },
     "output_type": "display_data"
    }
   ],
   "source": [
    "conf3 = confusion_matrix(y_test, y_predicted3, labels = list([0,1]))\n",
    "plot_confusion_matrix(cm           = conf3, \n",
    "                      normalize    = False,\n",
    "                      target_names = ['electron', 'muon'],\n",
    "                      title        = \"Confusion Matrix\")"
   ]
  },
  {
   "cell_type": "code",
   "execution_count": 41,
   "metadata": {},
   "outputs": [
    {
     "data": {
      "image/png": "[encoded data removed]",
      "text/plain": [
       "<Figure size 432x288 with 1 Axes>"
      ]
     },
     "metadata": {
      "needs_background": "light"
     },
     "output_type": "display_data"
    }
   ],
   "source": [
    "history_n1 = historyv3.history\n",
    "loss_values_n1 = history_n1['loss']\n",
    "val_loss_values_n1 = history_n1['val_loss']\n",
    "epochs_n1 = range(1, len(loss_values_n1) + 1)\n",
    "plt.plot(epochs_n1, loss_values_n1, 'bo', label='Training loss')\n",
    "plt.plot(epochs_n1, val_loss_values_n1, 'b', label='Validation loss')\n",
    "plt.title('Training and validation loss')\n",
    "plt.xlabel('Epochs')\n",
    "plt.ylabel('Loss')\n",
    "plt.legend()\n",
    "plt.show()"
   ]
  },
  {
   "cell_type": "markdown",
   "metadata": {},
   "source": [
    "### Forth model: less epochs, drop out"
   ]
  },
  {
   "cell_type": "code",
   "execution_count": 42,
   "metadata": {
    "scrolled": true
   },
   "outputs": [
    {
     "name": "stdout",
     "output_type": "stream",
     "text": [
      "Model: \"sequential_4\"\n",
      "_________________________________________________________________\n",
      "Layer (type)                 Output Shape              Param #   \n",
      "=================================================================\n",
      "conv2d_13 (Conv2D)           (None, 294, 284, 32)      320       \n",
      "_________________________________________________________________\n",
      "max_pooling2d_13 (MaxPooling (None, 147, 142, 32)      0         \n",
      "_________________________________________________________________\n",
      "conv2d_14 (Conv2D)           (None, 145, 140, 64)      18496     \n",
      "_________________________________________________________________\n",
      "max_pooling2d_14 (MaxPooling (None, 72, 70, 64)        0         \n",
      "_________________________________________________________________\n",
      "conv2d_15 (Conv2D)           (None, 70, 68, 128)       73856     \n",
      "_________________________________________________________________\n",
      "max_pooling2d_15 (MaxPooling (None, 35, 34, 128)       0         \n",
      "_________________________________________________________________\n",
      "conv2d_16 (Conv2D)           (None, 33, 32, 128)       147584    \n",
      "_________________________________________________________________\n",
      "max_pooling2d_16 (MaxPooling (None, 16, 16, 128)       0         \n",
      "_________________________________________________________________\n",
      "flatten_4 (Flatten)          (None, 32768)             0         \n",
      "_________________________________________________________________\n",
      "dropout_2 (Dropout)          (None, 32768)             0         \n",
      "_________________________________________________________________\n",
      "dense_9 (Dense)              (None, 512)               16777728  \n",
      "_________________________________________________________________\n",
      "dense_10 (Dense)             (None, 1)                 513       \n",
      "=================================================================\n",
      "Total params: 17,018,497\n",
      "Trainable params: 17,018,497\n",
      "Non-trainable params: 0\n",
      "_________________________________________________________________\n"
     ]
    }
   ],
   "source": [
    "model_v4 = models.Sequential()\n",
    "model_v4.add(layers.Conv2D(32,(3,3), activation='relu', input_shape=(window_y, window_x, 1)))\n",
    "model_v4.add(layers.MaxPooling2D((2,2)))\n",
    "model_v4.add(layers.Conv2D(64,(3,3), activation='relu'))\n",
    "model_v4.add(layers.MaxPooling2D((2,2)))\n",
    "model_v4.add(layers.Conv2D(128,(3,3), activation='relu'))\n",
    "model_v4.add(layers.MaxPooling2D((2,2)))\n",
    "model_v4.add(layers.Conv2D(128,(3,3), activation='relu'))\n",
    "model_v4.add(layers.MaxPooling2D((2,2)))\n",
    "\n",
    "model_v4.add(layers.Flatten())\n",
    "model_v4.add(layers.Dropout(0.5))\n",
    "model_v4.add(layers.Dense(units= 512, activation='relu'))\n",
    "model_v4.add(layers.Dense(units= 1, activation='sigmoid'))\n",
    "model_v4.summary()"
   ]
  },
  {
   "cell_type": "code",
   "execution_count": 43,
   "metadata": {},
   "outputs": [],
   "source": [
    "model_v4.compile(optimizer=optimizers.RMSprop(lr= 1e-4),loss='binary_crossentropy', metrics=['acc'])"
   ]
  },
  {
   "cell_type": "code",
   "execution_count": 44,
   "metadata": {
    "scrolled": true
   },
   "outputs": [
    {
     "name": "stdout",
     "output_type": "stream",
     "text": [
      "Train on 1280 samples, validate on 320 samples\n",
      "Epoch 1/10\n",
      "1280/1280 [==============================] - 84s 66ms/step - loss: 0.7323 - acc: 0.5867 - val_loss: 0.7270 - val_acc: 0.4812\n",
      "Epoch 2/10\n",
      "1280/1280 [==============================] - 88s 69ms/step - loss: 0.5723 - acc: 0.7258 - val_loss: 1.4065 - val_acc: 0.1500\n",
      "Epoch 3/10\n",
      "1280/1280 [==============================] - 81s 63ms/step - loss: 0.5044 - acc: 0.7453 - val_loss: 0.9574 - val_acc: 0.4500\n",
      "Epoch 4/10\n",
      "1280/1280 [==============================] - 81s 63ms/step - loss: 0.4428 - acc: 0.7867 - val_loss: 0.9683 - val_acc: 0.4969\n",
      "Epoch 5/10\n",
      "1280/1280 [==============================] - 81s 63ms/step - loss: 0.3927 - acc: 0.8219 - val_loss: 1.0518 - val_acc: 0.4938\n",
      "Epoch 6/10\n",
      "1280/1280 [==============================] - 81s 64ms/step - loss: 0.3400 - acc: 0.8508 - val_loss: 1.0475 - val_acc: 0.5500\n",
      "Epoch 7/10\n",
      "1280/1280 [==============================] - 81s 63ms/step - loss: 0.2963 - acc: 0.8828 - val_loss: 0.7272 - val_acc: 0.6781\n",
      "Epoch 8/10\n",
      "1280/1280 [==============================] - 81s 63ms/step - loss: 0.2505 - acc: 0.8898 - val_loss: 0.9723 - val_acc: 0.6344\n",
      "Epoch 9/10\n",
      "1280/1280 [==============================] - 81s 63ms/step - loss: 0.2158 - acc: 0.9164 - val_loss: 1.3130 - val_acc: 0.5344\n",
      "Epoch 10/10\n",
      "1280/1280 [==============================] - 81s 64ms/step - loss: 0.1927 - acc: 0.9242 - val_loss: 1.0215 - val_acc: 0.6781\n"
     ]
    }
   ],
   "source": [
    "historyv4 =model_v4.fit(X_train, y_train, epochs= 10, validation_split = 0.2)"
   ]
  },
  {
   "cell_type": "code",
   "execution_count": 45,
   "metadata": {},
   "outputs": [],
   "source": [
    "y_predicted4 = model_v4.predict(X_test)\n",
    "y_predicted4[np.where(y_predicted4>=0.5)] = 1\n",
    "y_predicted4[np.where(y_predicted4<0.5)] = 0"
   ]
  },
  {
   "cell_type": "code",
   "execution_count": 73,
   "metadata": {},
   "outputs": [],
   "source": [
    "model_v4.save('model_electron_or_muon_v4.h5')"
   ]
  },
  {
   "cell_type": "code",
   "execution_count": 46,
   "metadata": {},
   "outputs": [
    {
     "data": {
      "image/png": "[encoded data removed]",
      "text/plain": [
       "<Figure size 576x432 with 2 Axes>"
      ]
     },
     "metadata": {
      "needs_background": "light"
     },
     "output_type": "display_data"
    }
   ],
   "source": [
    "conf4 = confusion_matrix(y_test, y_predicted4, labels = list([0,1]))\n",
    "plot_confusion_matrix(cm           = conf4, \n",
    "                      normalize    = False,\n",
    "                      target_names = ['electron', 'muon'],\n",
    "                      title        = \"Confusion Matrix\")"
   ]
  },
  {
   "cell_type": "code",
   "execution_count": 47,
   "metadata": {},
   "outputs": [
    {
     "data": {
      "image/png": "[encoded data removed]",
      "text/plain": [
       "<Figure size 432x288 with 1 Axes>"
      ]
     },
     "metadata": {
      "needs_background": "light"
     },
     "output_type": "display_data"
    }
   ],
   "source": [
    "history_n1 = historyv4.history\n",
    "loss_values_n1 = history_n1['loss']\n",
    "val_loss_values_n1 = history_n1['val_loss']\n",
    "epochs_n1 = range(1, len(loss_values_n1) + 1)\n",
    "plt.plot(epochs_n1, loss_values_n1, 'bo', label='Training loss')\n",
    "plt.plot(epochs_n1, val_loss_values_n1, 'b', label='Validation loss')\n",
    "plt.title('Training and validation loss')\n",
    "plt.xlabel('Epochs')\n",
    "plt.ylabel('Loss')\n",
    "plt.legend()\n",
    "plt.show()"
   ]
  },
  {
   "cell_type": "markdown",
   "metadata": {},
   "source": []
  },
  {
   "cell_type": "code",
   "execution_count": 48,
   "metadata": {
    "scrolled": true
   },
   "outputs": [
    {
     "name": "stdout",
     "output_type": "stream",
     "text": [
      "Model: \"sequential_5\"\n",
      "_________________________________________________________________\n",
      "Layer (type)                 Output Shape              Param #   \n",
      "=================================================================\n",
      "conv2d_17 (Conv2D)           (None, 295, 285, 32)      160       \n",
      "_________________________________________________________________\n",
      "max_pooling2d_17 (MaxPooling (None, 147, 142, 32)      0         \n",
      "_________________________________________________________________\n",
      "conv2d_18 (Conv2D)           (None, 145, 140, 64)      18496     \n",
      "_________________________________________________________________\n",
      "max_pooling2d_18 (MaxPooling (None, 72, 70, 64)        0         \n",
      "_________________________________________________________________\n",
      "conv2d_19 (Conv2D)           (None, 70, 68, 128)       73856     \n",
      "_________________________________________________________________\n",
      "max_pooling2d_19 (MaxPooling (None, 35, 34, 128)       0         \n",
      "_________________________________________________________________\n",
      "conv2d_20 (Conv2D)           (None, 33, 32, 128)       147584    \n",
      "_________________________________________________________________\n",
      "max_pooling2d_20 (MaxPooling (None, 16, 16, 128)       0         \n",
      "_________________________________________________________________\n",
      "flatten_5 (Flatten)          (None, 32768)             0         \n",
      "_________________________________________________________________\n",
      "dropout_3 (Dropout)          (None, 32768)             0         \n",
      "_________________________________________________________________\n",
      "dense_11 (Dense)             (None, 512)               16777728  \n",
      "_________________________________________________________________\n",
      "dense_12 (Dense)             (None, 1)                 513       \n",
      "=================================================================\n",
      "Total params: 17,018,337\n",
      "Trainable params: 17,018,337\n",
      "Non-trainable params: 0\n",
      "_________________________________________________________________\n"
     ]
    }
   ],
   "source": [
    "model_v5 = models.Sequential()\n",
    "model_v5.add(layers.Conv2D(32,(2,2), activation='relu', input_shape=(window_y, window_x, 1)))\n",
    "model_v5.add(layers.MaxPooling2D((2,2)))\n",
    "model_v5.add(layers.Conv2D(64,(3,3), activation='relu'))\n",
    "model_v5.add(layers.MaxPooling2D((2,2)))\n",
    "model_v5.add(layers.Conv2D(128,(3,3), activation='relu'))\n",
    "model_v5.add(layers.MaxPooling2D((2,2)))\n",
    "model_v5.add(layers.Conv2D(128,(3,3), activation='relu'))\n",
    "model_v5.add(layers.MaxPooling2D((2,2)))\n",
    "\n",
    "model_v5.add(layers.Flatten())\n",
    "model_v5.add(layers.Dropout(0.5))\n",
    "model_v5.add(layers.Dense(units= 512, activation='relu'))\n",
    "model_v5.add(layers.Dense(units= 1, activation='sigmoid'))\n",
    "model_v5.summary()"
   ]
  },
  {
   "cell_type": "code",
   "execution_count": 49,
   "metadata": {},
   "outputs": [],
   "source": [
    "model_v5.compile(optimizer=optimizers.RMSprop(lr= 1e-4),loss='binary_crossentropy', metrics=['acc'])"
   ]
  },
  {
   "cell_type": "code",
   "execution_count": 50,
   "metadata": {
    "scrolled": true
   },
   "outputs": [
    {
     "name": "stdout",
     "output_type": "stream",
     "text": [
      "Train on 1280 samples, validate on 320 samples\n",
      "Epoch 1/10\n",
      "1280/1280 [==============================] - 79s 62ms/step - loss: 0.7253 - acc: 0.6055 - val_loss: 0.7883 - val_acc: 0.3500\n",
      "Epoch 2/10\n",
      "1280/1280 [==============================] - 79s 62ms/step - loss: 0.5827 - acc: 0.7133 - val_loss: 0.7947 - val_acc: 0.4563\n",
      "Epoch 3/10\n",
      "1280/1280 [==============================] - 79s 62ms/step - loss: 0.5077 - acc: 0.7555 - val_loss: 0.9933 - val_acc: 0.3750\n",
      "Epoch 4/10\n",
      "1280/1280 [==============================] - 79s 62ms/step - loss: 0.4472 - acc: 0.7930 - val_loss: 0.9910 - val_acc: 0.4875\n",
      "Epoch 5/10\n",
      "1280/1280 [==============================] - 79s 62ms/step - loss: 0.3876 - acc: 0.8305 - val_loss: 0.6197 - val_acc: 0.6719\n",
      "Epoch 6/10\n",
      "1280/1280 [==============================] - 79s 62ms/step - loss: 0.3333 - acc: 0.8586 - val_loss: 0.8958 - val_acc: 0.5875\n",
      "Epoch 7/10\n",
      "1280/1280 [==============================] - 79s 62ms/step - loss: 0.2912 - acc: 0.8719 - val_loss: 0.6855 - val_acc: 0.6750\n",
      "Epoch 8/10\n",
      "1280/1280 [==============================] - 79s 62ms/step - loss: 0.2499 - acc: 0.8930 - val_loss: 0.8194 - val_acc: 0.6750\n",
      "Epoch 9/10\n",
      "1280/1280 [==============================] - 79s 62ms/step - loss: 0.2053 - acc: 0.9187 - val_loss: 0.9537 - val_acc: 0.6469\n",
      "Epoch 10/10\n",
      "1280/1280 [==============================] - 79s 62ms/step - loss: 0.1802 - acc: 0.9250 - val_loss: 1.0569 - val_acc: 0.6594\n"
     ]
    }
   ],
   "source": [
    "historyv5 =model_v5.fit(X_train, y_train, epochs= 10, validation_split = 0.2)"
   ]
  },
  {
   "cell_type": "code",
   "execution_count": 55,
   "metadata": {},
   "outputs": [],
   "source": [
    "y_predicted5 = model_v5.predict(X_test)\n",
    "y_predicted5[np.where(y_predicted5>=0.5)] = 1\n",
    "y_predicted5[np.where(y_predicted5<0.5)] = 0"
   ]
  },
  {
   "cell_type": "code",
   "execution_count": 74,
   "metadata": {},
   "outputs": [],
   "source": [
    "model_v5.save('model_electron_or_muon_v5.h5')"
   ]
  },
  {
   "cell_type": "code",
   "execution_count": 56,
   "metadata": {},
   "outputs": [
    {
     "data": {
      "image/png": "[encoded data removed]",
      "text/plain": [
       "<Figure size 576x432 with 2 Axes>"
      ]
     },
     "metadata": {
      "needs_background": "light"
     },
     "output_type": "display_data"
    }
   ],
   "source": [
    "conf5 = confusion_matrix(y_test, y_predicted5, labels = list([0,1]))\n",
    "plot_confusion_matrix(cm           = conf5, \n",
    "                      normalize    = False,\n",
    "                      target_names = ['electron', 'muon'],\n",
    "                      title        = \"Confusion Matrix\")"
   ]
  },
  {
   "cell_type": "code",
   "execution_count": 57,
   "metadata": {},
   "outputs": [
    {
     "data": {
      "image/png": "[encoded data removed]",
      "text/plain": [
       "<Figure size 432x288 with 1 Axes>"
      ]
     },
     "metadata": {
      "needs_background": "light"
     },
     "output_type": "display_data"
    }
   ],
   "source": [
    "history_n1 = historyv5.history\n",
    "loss_values_n1 = history_n1['loss']\n",
    "val_loss_values_n1 = history_n1['val_loss']\n",
    "epochs_n1 = range(1, len(loss_values_n1) + 1)\n",
    "plt.plot(epochs_n1, loss_values_n1, 'bo', label='Training loss')\n",
    "plt.plot(epochs_n1, val_loss_values_n1, 'b', label='Validation loss')\n",
    "plt.title('Training and validation loss')\n",
    "plt.xlabel('Epochs')\n",
    "plt.ylabel('Loss')\n",
    "plt.legend()\n",
    "plt.show()"
   ]
  },
  {
   "cell_type": "code",
   "execution_count": null,
   "metadata": {},
   "outputs": [],
   "source": []
  },
  {
   "cell_type": "code",
   "execution_count": 58,
   "metadata": {
    "scrolled": true
   },
   "outputs": [
    {
     "name": "stdout",
     "output_type": "stream",
     "text": [
      "Model: \"sequential_6\"\n",
      "_________________________________________________________________\n",
      "Layer (type)                 Output Shape              Param #   \n",
      "=================================================================\n",
      "conv2d_21 (Conv2D)           (None, 295, 285, 32)      160       \n",
      "_________________________________________________________________\n",
      "max_pooling2d_21 (MaxPooling (None, 147, 142, 32)      0         \n",
      "_________________________________________________________________\n",
      "conv2d_22 (Conv2D)           (None, 145, 140, 64)      18496     \n",
      "_________________________________________________________________\n",
      "max_pooling2d_22 (MaxPooling (None, 72, 70, 64)        0         \n",
      "_________________________________________________________________\n",
      "conv2d_23 (Conv2D)           (None, 70, 68, 128)       73856     \n",
      "_________________________________________________________________\n",
      "max_pooling2d_23 (MaxPooling (None, 35, 34, 128)       0         \n",
      "_________________________________________________________________\n",
      "conv2d_24 (Conv2D)           (None, 33, 32, 128)       147584    \n",
      "_________________________________________________________________\n",
      "max_pooling2d_24 (MaxPooling (None, 16, 16, 128)       0         \n",
      "_________________________________________________________________\n",
      "flatten_6 (Flatten)          (None, 32768)             0         \n",
      "_________________________________________________________________\n",
      "dense_13 (Dense)             (None, 512)               16777728  \n",
      "_________________________________________________________________\n",
      "dense_14 (Dense)             (None, 1)                 513       \n",
      "=================================================================\n",
      "Total params: 17,018,337\n",
      "Trainable params: 17,018,337\n",
      "Non-trainable params: 0\n",
      "_________________________________________________________________\n"
     ]
    }
   ],
   "source": [
    "model_v6 = models.Sequential()\n",
    "model_v6.add(layers.Conv2D(32,(2,2), activation='relu', input_shape=(window_y, window_x, 1)))\n",
    "model_v6.add(layers.MaxPooling2D((2,2)))\n",
    "model_v6.add(layers.Conv2D(64,(3,3), activation='relu'))\n",
    "model_v6.add(layers.MaxPooling2D((2,2)))\n",
    "model_v6.add(layers.Conv2D(128,(3,3), activation='relu'))\n",
    "model_v6.add(layers.MaxPooling2D((2,2)))\n",
    "model_v6.add(layers.Conv2D(128,(3,3), activation='relu'))\n",
    "model_v6.add(layers.MaxPooling2D((2,2)))\n",
    "\n",
    "model_v6.add(layers.Flatten())\n",
    "model_v6.add(layers.Dense(units= 512, activation='relu'))\n",
    "model_v6.add(layers.Dense(units= 1, activation='sigmoid'))\n",
    "model_v6.summary()"
   ]
  },
  {
   "cell_type": "code",
   "execution_count": 59,
   "metadata": {},
   "outputs": [],
   "source": [
    "model_v6.compile(optimizer=optimizers.RMSprop(lr= 1e-4),loss='binary_crossentropy', metrics=['acc'])"
   ]
  },
  {
   "cell_type": "code",
   "execution_count": 60,
   "metadata": {
    "scrolled": true
   },
   "outputs": [
    {
     "name": "stdout",
     "output_type": "stream",
     "text": [
      "Train on 1280 samples, validate on 320 samples\n",
      "Epoch 1/25\n",
      "1280/1280 [==============================] - 87s 68ms/step - loss: 0.7479 - acc: 0.6180 - val_loss: 0.7919 - val_acc: 0.3375\n",
      "Epoch 2/25\n",
      "1280/1280 [==============================] - 84s 66ms/step - loss: 0.5496 - acc: 0.7328 - val_loss: 0.8098 - val_acc: 0.4750\n",
      "Epoch 3/25\n",
      "1280/1280 [==============================] - 83s 65ms/step - loss: 0.4360 - acc: 0.8023 - val_loss: 0.7107 - val_acc: 0.5813\n",
      "Epoch 4/25\n",
      "1280/1280 [==============================] - 86s 67ms/step - loss: 0.3289 - acc: 0.8656 - val_loss: 0.9469 - val_acc: 0.5562\n",
      "Epoch 5/25\n",
      "1280/1280 [==============================] - 80s 63ms/step - loss: 0.2399 - acc: 0.9109 - val_loss: 0.6164 - val_acc: 0.7250\n",
      "Epoch 6/25\n",
      "1280/1280 [==============================] - 79s 61ms/step - loss: 0.1653 - acc: 0.9445 - val_loss: 0.7889 - val_acc: 0.7125\n",
      "Epoch 7/25\n",
      "1280/1280 [==============================] - 79s 61ms/step - loss: 0.1136 - acc: 0.9648 - val_loss: 1.0176 - val_acc: 0.7219\n",
      "Epoch 8/25\n",
      "1280/1280 [==============================] - 79s 61ms/step - loss: 0.0828 - acc: 0.9719 - val_loss: 1.2068 - val_acc: 0.6844\n",
      "Epoch 9/25\n",
      "1280/1280 [==============================] - 79s 61ms/step - loss: 0.0576 - acc: 0.9820 - val_loss: 1.6265 - val_acc: 0.7031\n",
      "Epoch 10/25\n",
      "1280/1280 [==============================] - 79s 62ms/step - loss: 0.0451 - acc: 0.9844 - val_loss: 1.8492 - val_acc: 0.6687\n",
      "Epoch 11/25\n",
      "1280/1280 [==============================] - 79s 62ms/step - loss: 0.0369 - acc: 0.9875 - val_loss: 2.4173 - val_acc: 0.6656\n",
      "Epoch 12/25\n",
      "1280/1280 [==============================] - 79s 62ms/step - loss: 0.0312 - acc: 0.9898 - val_loss: 1.7179 - val_acc: 0.7437\n",
      "Epoch 13/25\n",
      "1280/1280 [==============================] - 79s 61ms/step - loss: 0.0253 - acc: 0.9930 - val_loss: 2.2101 - val_acc: 0.6969\n",
      "Epoch 14/25\n",
      "1280/1280 [==============================] - 79s 62ms/step - loss: 0.0287 - acc: 0.9906 - val_loss: 1.8582 - val_acc: 0.7219\n",
      "Epoch 15/25\n",
      "1280/1280 [==============================] - 79s 62ms/step - loss: 0.0212 - acc: 0.9930 - val_loss: 2.2540 - val_acc: 0.7312\n",
      "Epoch 16/25\n",
      "1280/1280 [==============================] - 79s 62ms/step - loss: 0.0455 - acc: 0.9891 - val_loss: 2.7123 - val_acc: 0.7156\n",
      "Epoch 17/25\n",
      "1280/1280 [==============================] - 83s 65ms/step - loss: 0.0175 - acc: 0.9945 - val_loss: 3.2202 - val_acc: 0.7031\n",
      "Epoch 18/25\n",
      "1280/1280 [==============================] - 79s 62ms/step - loss: 0.0231 - acc: 0.9922 - val_loss: 3.2322 - val_acc: 0.7312\n",
      "Epoch 19/25\n",
      "1280/1280 [==============================] - 86s 67ms/step - loss: 0.0195 - acc: 0.9930 - val_loss: 3.2085 - val_acc: 0.6844\n",
      "Epoch 20/25\n",
      "1280/1280 [==============================] - 80s 62ms/step - loss: 0.0139 - acc: 0.9945 - val_loss: 2.7716 - val_acc: 0.7406\n",
      "Epoch 21/25\n",
      "1280/1280 [==============================] - 80s 62ms/step - loss: 0.0371 - acc: 0.9906 - val_loss: 3.5313 - val_acc: 0.7188\n",
      "Epoch 22/25\n",
      "1280/1280 [==============================] - 80s 62ms/step - loss: 0.0131 - acc: 0.9953 - val_loss: 3.4012 - val_acc: 0.7156\n",
      "Epoch 23/25\n",
      "1280/1280 [==============================] - 80s 62ms/step - loss: 0.0124 - acc: 0.9953 - val_loss: 3.3856 - val_acc: 0.7031\n",
      "Epoch 24/25\n",
      "1280/1280 [==============================] - 80s 63ms/step - loss: 0.0128 - acc: 0.9945 - val_loss: 3.5295 - val_acc: 0.7500\n",
      "Epoch 25/25\n",
      "1280/1280 [==============================] - 80s 63ms/step - loss: 0.0194 - acc: 0.9930 - val_loss: 2.5090 - val_acc: 0.7875\n"
     ]
    }
   ],
   "source": [
    "historyv6 =model_v6.fit(X_train, y_train, epochs= 25, validation_split = 0.2)"
   ]
  },
  {
   "cell_type": "code",
   "execution_count": 75,
   "metadata": {},
   "outputs": [],
   "source": [
    "model_v6.save('model_electron_or_muon_v6.h5')"
   ]
  },
  {
   "cell_type": "code",
   "execution_count": 61,
   "metadata": {},
   "outputs": [],
   "source": [
    "y_predicted6 = model_v6.predict(X_test)\n",
    "y_predicted6[np.where(y_predicted6>=0.5)] = 1\n",
    "y_predicted6[np.where(y_predicted6<0.5)] = 0"
   ]
  },
  {
   "cell_type": "code",
   "execution_count": 62,
   "metadata": {
    "scrolled": true
   },
   "outputs": [
    {
     "data": {
      "image/png": "[encoded data removed]",
      "text/plain": [
       "<Figure size 576x432 with 2 Axes>"
      ]
     },
     "metadata": {
      "needs_background": "light"
     },
     "output_type": "display_data"
    }
   ],
   "source": [
    "conf6 = confusion_matrix(y_test, y_predicted6, labels = list([0,1]))\n",
    "plot_confusion_matrix(cm           = conf6, \n",
    "                      normalize    = False,\n",
    "                      target_names = ['electron', 'muon'],\n",
    "                      title        = \"Confusion Matrix\")"
   ]
  },
  {
   "cell_type": "code",
   "execution_count": 63,
   "metadata": {},
   "outputs": [
    {
     "data": {
      "image/png": "[encoded data removed]",
      "text/plain": [
       "<Figure size 432x288 with 1 Axes>"
      ]
     },
     "metadata": {
      "needs_background": "light"
     },
     "output_type": "display_data"
    }
   ],
   "source": [
    "history_n1 = historyv6.history\n",
    "loss_values_n1 = history_n1['loss']\n",
    "val_loss_values_n1 = history_n1['val_loss']\n",
    "epochs_n1 = range(1, len(loss_values_n1) + 1)\n",
    "plt.plot(epochs_n1, loss_values_n1, 'bo', label='Training loss')\n",
    "plt.plot(epochs_n1, val_loss_values_n1, 'b', label='Validation loss')\n",
    "plt.title('Training and validation loss')\n",
    "plt.xlabel('Epochs')\n",
    "plt.ylabel('Loss')\n",
    "plt.legend()\n",
    "plt.show()"
   ]
  },
  {
   "cell_type": "code",
   "execution_count": null,
   "metadata": {},
   "outputs": [],
   "source": []
  },
  {
   "cell_type": "code",
   "execution_count": 64,
   "metadata": {
    "scrolled": true
   },
   "outputs": [
    {
     "name": "stdout",
     "output_type": "stream",
     "text": [
      "Model: \"sequential_7\"\n",
      "_________________________________________________________________\n",
      "Layer (type)                 Output Shape              Param #   \n",
      "=================================================================\n",
      "conv2d_25 (Conv2D)           (None, 295, 285, 32)      160       \n",
      "_________________________________________________________________\n",
      "max_pooling2d_25 (MaxPooling (None, 147, 142, 32)      0         \n",
      "_________________________________________________________________\n",
      "conv2d_26 (Conv2D)           (None, 145, 140, 64)      18496     \n",
      "_________________________________________________________________\n",
      "max_pooling2d_26 (MaxPooling (None, 72, 70, 64)        0         \n",
      "_________________________________________________________________\n",
      "conv2d_27 (Conv2D)           (None, 70, 68, 128)       73856     \n",
      "_________________________________________________________________\n",
      "max_pooling2d_27 (MaxPooling (None, 35, 34, 128)       0         \n",
      "_________________________________________________________________\n",
      "conv2d_28 (Conv2D)           (None, 33, 32, 128)       147584    \n",
      "_________________________________________________________________\n",
      "max_pooling2d_28 (MaxPooling (None, 16, 16, 128)       0         \n",
      "_________________________________________________________________\n",
      "flatten_7 (Flatten)          (None, 32768)             0         \n",
      "_________________________________________________________________\n",
      "dense_15 (Dense)             (None, 2000)              65538000  \n",
      "_________________________________________________________________\n",
      "dense_16 (Dense)             (None, 512)               1024512   \n",
      "_________________________________________________________________\n",
      "dense_17 (Dense)             (None, 1)                 513       \n",
      "=================================================================\n",
      "Total params: 66,803,121\n",
      "Trainable params: 66,803,121\n",
      "Non-trainable params: 0\n",
      "_________________________________________________________________\n"
     ]
    }
   ],
   "source": [
    "model_v7 = models.Sequential()\n",
    "model_v7.add(layers.Conv2D(32,(2,2), activation='relu', input_shape=(window_y, window_x, 1)))\n",
    "model_v7.add(layers.MaxPooling2D((2,2)))\n",
    "model_v7.add(layers.Conv2D(64,(3,3), activation='relu'))\n",
    "model_v7.add(layers.MaxPooling2D((2,2)))\n",
    "model_v7.add(layers.Conv2D(128,(3,3), activation='relu'))\n",
    "model_v7.add(layers.MaxPooling2D((2,2)))\n",
    "model_v7.add(layers.Conv2D(128,(3,3), activation='relu'))\n",
    "model_v7.add(layers.MaxPooling2D((2,2)))\n",
    "\n",
    "model_v7.add(layers.Flatten())\n",
    "model_v7.add(layers.Dense(units= 2000, activation='relu'))\n",
    "model_v7.add(layers.Dense(units= 512, activation='relu'))\n",
    "model_v7.add(layers.Dense(units= 1, activation='sigmoid'))\n",
    "model_v7.summary()"
   ]
  },
  {
   "cell_type": "code",
   "execution_count": 65,
   "metadata": {},
   "outputs": [],
   "source": [
    "model_v7.compile(optimizer=optimizers.RMSprop(lr= 1e-4),loss='binary_crossentropy', metrics=['acc'])"
   ]
  },
  {
   "cell_type": "code",
   "execution_count": 66,
   "metadata": {
    "scrolled": true
   },
   "outputs": [
    {
     "name": "stdout",
     "output_type": "stream",
     "text": [
      "Train on 1280 samples, validate on 320 samples\n",
      "Epoch 1/25\n",
      "1280/1280 [==============================] - 100s 78ms/step - loss: 0.7408 - acc: 0.5875 - val_loss: 0.7444 - val_acc: 0.4406\n",
      "Epoch 2/25\n",
      "1280/1280 [==============================] - 100s 78ms/step - loss: 0.5316 - acc: 0.7617 - val_loss: 0.9256 - val_acc: 0.4344\n",
      "Epoch 3/25\n",
      "1280/1280 [==============================] - 101s 79ms/step - loss: 0.3704 - acc: 0.8383 - val_loss: 0.7344 - val_acc: 0.6531\n",
      "Epoch 4/25\n",
      "1280/1280 [==============================] - 100s 78ms/step - loss: 0.2468 - acc: 0.9039 - val_loss: 0.8337 - val_acc: 0.6750\n",
      "Epoch 5/25\n",
      "1280/1280 [==============================] - 108s 84ms/step - loss: 0.1394 - acc: 0.9492 - val_loss: 1.0595 - val_acc: 0.6812\n",
      "Epoch 6/25\n",
      "1280/1280 [==============================] - 102s 80ms/step - loss: 0.0849 - acc: 0.9695 - val_loss: 0.9516 - val_acc: 0.7844\n",
      "Epoch 7/25\n",
      "1280/1280 [==============================] - 106s 83ms/step - loss: 0.0604 - acc: 0.9789 - val_loss: 1.4894 - val_acc: 0.7281\n",
      "Epoch 8/25\n",
      "1280/1280 [==============================] - 104s 81ms/step - loss: 0.0419 - acc: 0.9844 - val_loss: 1.7384 - val_acc: 0.7156\n",
      "Epoch 9/25\n",
      "1280/1280 [==============================] - 100s 78ms/step - loss: 0.0337 - acc: 0.9875 - val_loss: 1.8742 - val_acc: 0.7281\n",
      "Epoch 10/25\n",
      "1280/1280 [==============================] - 115s 90ms/step - loss: 0.0228 - acc: 0.9914 - val_loss: 2.2473 - val_acc: 0.7437\n",
      "Epoch 11/25\n",
      "1280/1280 [==============================] - 122s 95ms/step - loss: 0.0294 - acc: 0.9891 - val_loss: 3.1448 - val_acc: 0.6906\n",
      "Epoch 12/25\n",
      "1280/1280 [==============================] - 109s 85ms/step - loss: 0.0181 - acc: 0.9930 - val_loss: 2.4057 - val_acc: 0.7406\n",
      "Epoch 13/25\n",
      "1280/1280 [==============================] - 95s 74ms/step - loss: 0.0160 - acc: 0.9937 - val_loss: 3.3051 - val_acc: 0.7344\n",
      "Epoch 14/25\n",
      "1280/1280 [==============================] - 95s 74ms/step - loss: 0.0201 - acc: 0.9945 - val_loss: 3.1562 - val_acc: 0.7250\n",
      "Epoch 15/25\n",
      "1280/1280 [==============================] - 95s 74ms/step - loss: 0.0426 - acc: 0.9922 - val_loss: 5.6706 - val_acc: 0.6344\n",
      "Epoch 16/25\n",
      "1280/1280 [==============================] - 95s 74ms/step - loss: 0.0195 - acc: 0.9945 - val_loss: 3.1303 - val_acc: 0.7312\n",
      "Epoch 17/25\n",
      "1280/1280 [==============================] - 95s 74ms/step - loss: 0.0147 - acc: 0.9945 - val_loss: 3.4902 - val_acc: 0.7281\n",
      "Epoch 18/25\n",
      "1280/1280 [==============================] - 97s 76ms/step - loss: 0.0171 - acc: 0.9945 - val_loss: 4.0077 - val_acc: 0.7000\n",
      "Epoch 19/25\n",
      "1280/1280 [==============================] - 95s 74ms/step - loss: 0.0107 - acc: 0.9961 - val_loss: 5.2251 - val_acc: 0.7031\n",
      "Epoch 20/25\n",
      "1280/1280 [==============================] - 94s 74ms/step - loss: 0.0624 - acc: 0.9898 - val_loss: 4.3021 - val_acc: 0.6938\n",
      "Epoch 21/25\n",
      "1280/1280 [==============================] - 94s 74ms/step - loss: 0.0108 - acc: 0.9953 - val_loss: 4.2745 - val_acc: 0.7031\n",
      "Epoch 22/25\n",
      "1280/1280 [==============================] - 94s 74ms/step - loss: 0.0142 - acc: 0.9945 - val_loss: 7.8201 - val_acc: 0.5844\n",
      "Epoch 23/25\n",
      "1280/1280 [==============================] - 94s 74ms/step - loss: 0.0213 - acc: 0.9930 - val_loss: 6.3083 - val_acc: 0.6094\n",
      "Epoch 24/25\n",
      "1280/1280 [==============================] - 95s 74ms/step - loss: 0.0095 - acc: 0.9961 - val_loss: 3.4728 - val_acc: 0.7250\n",
      "Epoch 25/25\n",
      "1280/1280 [==============================] - 94s 74ms/step - loss: 0.0102 - acc: 0.9961 - val_loss: 5.0106 - val_acc: 0.6844\n"
     ]
    }
   ],
   "source": [
    "historyv7 =model_v7.fit(X_train, y_train, epochs= 25, validation_split = 0.2)"
   ]
  },
  {
   "cell_type": "code",
   "execution_count": 67,
   "metadata": {},
   "outputs": [],
   "source": [
    "y_predicted7 = model_v7.predict(X_test)\n",
    "y_predicted7[np.where(y_predicted7>=0.5)] = 1\n",
    "y_predicted7[np.where(y_predicted7<0.5)] = 0"
   ]
  },
  {
   "cell_type": "code",
   "execution_count": 76,
   "metadata": {},
   "outputs": [],
   "source": [
    "model_v7.save('model_electron_or_muon_v7.h5')"
   ]
  },
  {
   "cell_type": "code",
   "execution_count": 68,
   "metadata": {},
   "outputs": [
    {
     "data": {
      "image/png": "[encoded data removed]",
      "text/plain": [
       "<Figure size 576x432 with 2 Axes>"
      ]
     },
     "metadata": {
      "needs_background": "light"
     },
     "output_type": "display_data"
    }
   ],
   "source": [
    "conf7 = confusion_matrix(y_test, y_predicted7, labels = list([0,1]))\n",
    "plot_confusion_matrix(cm           = conf7, \n",
    "                      normalize    = False,\n",
    "                      target_names = ['electron', 'muon'],\n",
    "                      title        = \"Confusion Matrix\")"
   ]
  },
  {
   "cell_type": "code",
   "execution_count": 69,
   "metadata": {},
   "outputs": [
    {
     "data": {
      "image/png": "[encoded data removed]",
      "text/plain": [
       "<Figure size 432x288 with 1 Axes>"
      ]
     },
     "metadata": {
      "needs_background": "light"
     },
     "output_type": "display_data"
    }
   ],
   "source": [
    "history_n1 = historyv7.history\n",
    "loss_values_n1 = history_n1['loss']\n",
    "val_loss_values_n1 = history_n1['val_loss']\n",
    "epochs_n1 = range(1, len(loss_values_n1) + 1)\n",
    "plt.plot(epochs_n1, loss_values_n1, 'bo', label='Training loss')\n",
    "plt.plot(epochs_n1, val_loss_values_n1, 'b', label='Validation loss')\n",
    "plt.title('Training and validation loss')\n",
    "plt.xlabel('Epochs')\n",
    "plt.ylabel('Loss')\n",
    "plt.legend()\n",
    "plt.show()"
   ]
  },
  {
   "cell_type": "code",
   "execution_count": null,
   "metadata": {},
   "outputs": [],
   "source": []
  },
  {
   "cell_type": "code",
   "execution_count": null,
   "metadata": {},
   "outputs": [],
   "source": []
  },
  {
   "cell_type": "code",
   "execution_count": 70,
   "metadata": {
    "scrolled": true
   },
   "outputs": [
    {
     "name": "stdout",
     "output_type": "stream",
     "text": [
      "Model: \"sequential_8\"\n",
      "_________________________________________________________________\n",
      "Layer (type)                 Output Shape              Param #   \n",
      "=================================================================\n",
      "conv2d_29 (Conv2D)           (None, 295, 285, 32)      160       \n",
      "_________________________________________________________________\n",
      "max_pooling2d_29 (MaxPooling (None, 147, 142, 32)      0         \n",
      "_________________________________________________________________\n",
      "conv2d_30 (Conv2D)           (None, 145, 140, 64)      18496     \n",
      "_________________________________________________________________\n",
      "max_pooling2d_30 (MaxPooling (None, 72, 70, 64)        0         \n",
      "_________________________________________________________________\n",
      "conv2d_31 (Conv2D)           (None, 70, 68, 128)       73856     \n",
      "_________________________________________________________________\n",
      "max_pooling2d_31 (MaxPooling (None, 35, 34, 128)       0         \n",
      "_________________________________________________________________\n",
      "conv2d_32 (Conv2D)           (None, 33, 32, 128)       147584    \n",
      "_________________________________________________________________\n",
      "max_pooling2d_32 (MaxPooling (None, 16, 16, 128)       0         \n",
      "_________________________________________________________________\n",
      "flatten_8 (Flatten)          (None, 32768)             0         \n",
      "_________________________________________________________________\n",
      "dense_18 (Dense)             (None, 2000)              65538000  \n",
      "_________________________________________________________________\n",
      "dense_19 (Dense)             (None, 1000)              2001000   \n",
      "_________________________________________________________________\n",
      "dense_20 (Dense)             (None, 512)               512512    \n",
      "_________________________________________________________________\n",
      "dense_21 (Dense)             (None, 1)                 513       \n",
      "=================================================================\n",
      "Total params: 68,292,121\n",
      "Trainable params: 68,292,121\n",
      "Non-trainable params: 0\n",
      "_________________________________________________________________\n"
     ]
    }
   ],
   "source": [
    "model_v8 = models.Sequential()\n",
    "model_v8.add(layers.Conv2D(32,(2,2), activation='relu', input_shape=(window_y, window_x, 1)))\n",
    "model_v8.add(layers.MaxPooling2D((2,2)))\n",
    "model_v8.add(layers.Conv2D(64,(3,3), activation='relu'))\n",
    "model_v8.add(layers.MaxPooling2D((2,2)))\n",
    "model_v8.add(layers.Conv2D(128,(3,3), activation='relu'))\n",
    "model_v8.add(layers.MaxPooling2D((2,2)))\n",
    "model_v8.add(layers.Conv2D(128,(3,3), activation='relu'))\n",
    "model_v8.add(layers.MaxPooling2D((2,2)))\n",
    "\n",
    "model_v8.add(layers.Flatten())\n",
    "model_v8.add(layers.Dense(units= 2000, activation='relu'))\n",
    "model_v8.add(layers.Dense(units= 1000, activation='relu'))\n",
    "model_v8.add(layers.Dense(units= 512, activation='relu'))\n",
    "model_v8.add(layers.Dense(units= 1, activation='sigmoid'))\n",
    "model_v8.summary()"
   ]
  },
  {
   "cell_type": "code",
   "execution_count": 71,
   "metadata": {},
   "outputs": [],
   "source": [
    "model_v8.compile(optimizer=optimizers.RMSprop(lr= 1e-4),loss='binary_crossentropy', metrics=['acc'])"
   ]
  },
  {
   "cell_type": "code",
   "execution_count": 72,
   "metadata": {
    "scrolled": true
   },
   "outputs": [
    {
     "name": "stdout",
     "output_type": "stream",
     "text": [
      "Train on 1280 samples, validate on 320 samples\n",
      "Epoch 1/25\n",
      "1280/1280 [==============================] - 96s 75ms/step - loss: 0.7029 - acc: 0.5992 - val_loss: 0.7879 - val_acc: 0.2969\n",
      "Epoch 2/25\n",
      "1280/1280 [==============================] - 96s 75ms/step - loss: 0.5420 - acc: 0.7320 - val_loss: 0.6939 - val_acc: 0.6094\n",
      "Epoch 3/25\n",
      "1280/1280 [==============================] - 96s 75ms/step - loss: 0.3845 - acc: 0.8336 - val_loss: 0.6424 - val_acc: 0.6594\n",
      "Epoch 4/25\n",
      "1280/1280 [==============================] - 96s 75ms/step - loss: 0.2609 - acc: 0.8922 - val_loss: 0.9842 - val_acc: 0.6250\n",
      "Epoch 5/25\n",
      "1280/1280 [==============================] - 96s 75ms/step - loss: 0.1537 - acc: 0.9367 - val_loss: 0.8554 - val_acc: 0.7188\n",
      "Epoch 6/25\n",
      "1280/1280 [==============================] - 96s 75ms/step - loss: 0.0889 - acc: 0.9695 - val_loss: 1.0649 - val_acc: 0.7563\n",
      "Epoch 7/25\n",
      "1280/1280 [==============================] - 96s 75ms/step - loss: 0.0535 - acc: 0.9820 - val_loss: 1.1742 - val_acc: 0.7781\n",
      "Epoch 8/25\n",
      "1280/1280 [==============================] - 96s 75ms/step - loss: 0.0526 - acc: 0.9812 - val_loss: 1.8859 - val_acc: 0.7281\n",
      "Epoch 9/25\n",
      "1280/1280 [==============================] - 95s 75ms/step - loss: 0.0301 - acc: 0.9906 - val_loss: 2.6679 - val_acc: 0.7125\n",
      "Epoch 10/25\n",
      "1280/1280 [==============================] - 96s 75ms/step - loss: 0.0394 - acc: 0.9898 - val_loss: 3.3006 - val_acc: 0.7188\n",
      "Epoch 11/25\n",
      "1280/1280 [==============================] - 96s 75ms/step - loss: 0.0204 - acc: 0.9930 - val_loss: 2.5433 - val_acc: 0.7437\n",
      "Epoch 12/25\n",
      "1280/1280 [==============================] - 96s 75ms/step - loss: 0.0207 - acc: 0.9906 - val_loss: 2.5385 - val_acc: 0.7531\n",
      "Epoch 13/25\n",
      "1280/1280 [==============================] - 96s 75ms/step - loss: 0.0494 - acc: 0.9906 - val_loss: 2.8363 - val_acc: 0.7344\n",
      "Epoch 14/25\n",
      "1280/1280 [==============================] - 95s 75ms/step - loss: 0.0293 - acc: 0.9898 - val_loss: 3.2327 - val_acc: 0.7188\n",
      "Epoch 15/25\n",
      "1280/1280 [==============================] - 96s 75ms/step - loss: 0.0120 - acc: 0.9961 - val_loss: 2.6367 - val_acc: 0.7812\n",
      "Epoch 16/25\n",
      "1280/1280 [==============================] - 96s 75ms/step - loss: 0.0266 - acc: 0.9930 - val_loss: 2.3196 - val_acc: 0.7750\n",
      "Epoch 17/25\n",
      "1280/1280 [==============================] - 96s 75ms/step - loss: 0.0453 - acc: 0.9898 - val_loss: 2.9772 - val_acc: 0.7344\n",
      "Epoch 18/25\n",
      "1280/1280 [==============================] - 96s 75ms/step - loss: 0.0109 - acc: 0.9961 - val_loss: 3.4979 - val_acc: 0.7281\n",
      "Epoch 19/25\n",
      "1280/1280 [==============================] - 95s 75ms/step - loss: 0.0218 - acc: 0.9930 - val_loss: 2.3381 - val_acc: 0.8094\n",
      "Epoch 20/25\n",
      "1280/1280 [==============================] - 96s 75ms/step - loss: 0.0328 - acc: 0.9930 - val_loss: 4.1550 - val_acc: 0.7000\n",
      "Epoch 21/25\n",
      "1280/1280 [==============================] - 95s 75ms/step - loss: 0.0104 - acc: 0.9961 - val_loss: 3.3121 - val_acc: 0.7719\n",
      "Epoch 22/25\n",
      "1280/1280 [==============================] - 96s 75ms/step - loss: 0.0129 - acc: 0.9953 - val_loss: 5.3927 - val_acc: 0.6906\n",
      "Epoch 23/25\n",
      "1280/1280 [==============================] - 96s 75ms/step - loss: 0.0243 - acc: 0.9922 - val_loss: 4.5999 - val_acc: 0.7344\n",
      "Epoch 24/25\n",
      "1280/1280 [==============================] - 95s 74ms/step - loss: 0.0102 - acc: 0.9961 - val_loss: 4.3467 - val_acc: 0.7406\n",
      "Epoch 25/25\n",
      "1280/1280 [==============================] - 96s 75ms/step - loss: 0.0122 - acc: 0.9953 - val_loss: 3.6432 - val_acc: 0.7531\n"
     ]
    }
   ],
   "source": [
    "historyv8 =model_v8.fit(X_train, y_train, epochs= 25, validation_split = 0.2)"
   ]
  },
  {
   "cell_type": "code",
   "execution_count": 77,
   "metadata": {},
   "outputs": [],
   "source": [
    "model_v8.save('model_electron_or_muon_v8.h5')"
   ]
  },
  {
   "cell_type": "code",
   "execution_count": 78,
   "metadata": {},
   "outputs": [],
   "source": [
    "y_predicted8 = model_v8.predict(X_test)\n",
    "y_predicted8[np.where(y_predicted8>=0.5)] = 1\n",
    "y_predicted8[np.where(y_predicted8<0.5)] = 0"
   ]
  },
  {
   "cell_type": "code",
   "execution_count": 79,
   "metadata": {},
   "outputs": [
    {
     "data": {
      "image/png": "[encoded data removed]",
      "text/plain": [
       "<Figure size 576x432 with 2 Axes>"
      ]
     },
     "metadata": {
      "needs_background": "light"
     },
     "output_type": "display_data"
    }
   ],
   "source": [
    "conf8 = confusion_matrix(y_test, y_predicted8, labels = list([0,1]))\n",
    "plot_confusion_matrix(cm           = conf8, \n",
    "                      normalize    = False,\n",
    "                      target_names = ['electron', 'muon'],\n",
    "                      title        = \"Confusion Matrix\")"
   ]
  },
  {
   "cell_type": "code",
   "execution_count": 80,
   "metadata": {
    "scrolled": true
   },
   "outputs": [
    {
     "data": {
      "image/png": "[encoded data removed]",
      "text/plain": [
       "<Figure size 432x288 with 1 Axes>"
      ]
     },
     "metadata": {
      "needs_background": "light"
     },
     "output_type": "display_data"
    }
   ],
   "source": [
    "history_n1 = historyv8.history\n",
    "loss_values_n1 = history_n1['loss']\n",
    "val_loss_values_n1 = history_n1['val_loss']\n",
    "epochs_n1 = range(1, len(loss_values_n1) + 1)\n",
    "plt.plot(epochs_n1, loss_values_n1, 'bo', label='Training loss')\n",
    "plt.plot(epochs_n1, val_loss_values_n1, 'b', label='Validation loss')\n",
    "plt.title('Training and validation loss')\n",
    "plt.xlabel('Epochs')\n",
    "plt.ylabel('Loss')\n",
    "plt.legend()\n",
    "plt.show()"
   ]
  },
  {
   "cell_type": "markdown",
   "metadata": {},
   "source": [
    "### Ninth model: more drop out layers"
   ]
  },
  {
   "cell_type": "code",
   "execution_count": 11,
   "metadata": {
    "scrolled": true
   },
   "outputs": [
    {
     "name": "stdout",
     "output_type": "stream",
     "text": [
      "Model: \"sequential_1\"\n",
      "_________________________________________________________________\n",
      "Layer (type)                 Output Shape              Param #   \n",
      "=================================================================\n",
      "conv2d_1 (Conv2D)            (None, 294, 284, 32)      320       \n",
      "_________________________________________________________________\n",
      "max_pooling2d_1 (MaxPooling2 (None, 147, 142, 32)      0         \n",
      "_________________________________________________________________\n",
      "dropout_1 (Dropout)          (None, 147, 142, 32)      0         \n",
      "_________________________________________________________________\n",
      "conv2d_2 (Conv2D)            (None, 145, 140, 64)      18496     \n",
      "_________________________________________________________________\n",
      "max_pooling2d_2 (MaxPooling2 (None, 72, 70, 64)        0         \n",
      "_________________________________________________________________\n",
      "dropout_2 (Dropout)          (None, 72, 70, 64)        0         \n",
      "_________________________________________________________________\n",
      "conv2d_3 (Conv2D)            (None, 70, 68, 128)       73856     \n",
      "_________________________________________________________________\n",
      "max_pooling2d_3 (MaxPooling2 (None, 35, 34, 128)       0         \n",
      "_________________________________________________________________\n",
      "dropout_3 (Dropout)          (None, 35, 34, 128)       0         \n",
      "_________________________________________________________________\n",
      "conv2d_4 (Conv2D)            (None, 33, 32, 128)       147584    \n",
      "_________________________________________________________________\n",
      "max_pooling2d_4 (MaxPooling2 (None, 16, 16, 128)       0         \n",
      "_________________________________________________________________\n",
      "dropout_4 (Dropout)          (None, 16, 16, 128)       0         \n",
      "_________________________________________________________________\n",
      "flatten_1 (Flatten)          (None, 32768)             0         \n",
      "_________________________________________________________________\n",
      "dense_1 (Dense)              (None, 512)               16777728  \n",
      "_________________________________________________________________\n",
      "dense_2 (Dense)              (None, 1)                 513       \n",
      "=================================================================\n",
      "Total params: 17,018,497\n",
      "Trainable params: 17,018,497\n",
      "Non-trainable params: 0\n",
      "_________________________________________________________________\n"
     ]
    }
   ],
   "source": [
    "model_v9 = models.Sequential()\n",
    "model_v9.add(layers.Conv2D(32,(3,3), activation='relu', input_shape=(window_y, window_x, 1)))\n",
    "model_v9.add(layers.MaxPooling2D((2,2)))\n",
    "model_v9.add(layers.Dropout((0.25)))\n",
    "\n",
    "model_v9.add(layers.Conv2D(64,(3,3), activation='relu'))\n",
    "model_v9.add(layers.MaxPooling2D((2,2)))\n",
    "model_v9.add(layers.Dropout((0.25)))\n",
    "\n",
    "model_v9.add(layers.Conv2D(128,(3,3), activation='relu'))\n",
    "model_v9.add(layers.MaxPooling2D((2,2)))\n",
    "model_v9.add(layers.Dropout((0.25)))\n",
    "\n",
    "model_v9.add(layers.Conv2D(128,(3,3), activation='relu'))\n",
    "model_v9.add(layers.MaxPooling2D((2,2)))\n",
    "model_v9.add(layers.Dropout((0.25)))\n",
    "\n",
    "model_v9.add(layers.Flatten())\n",
    "model_v9.add(layers.Dense(units= 512, activation='relu'))\n",
    "model_v9.add(layers.Dense(units= 1, activation='sigmoid'))\n",
    "model_v9.summary()"
   ]
  },
  {
   "cell_type": "code",
   "execution_count": 12,
   "metadata": {},
   "outputs": [],
   "source": [
    "model_v9.compile(optimizer=optimizers.RMSprop(lr= 1e-4),loss='binary_crossentropy', metrics=['acc'])"
   ]
  },
  {
   "cell_type": "code",
   "execution_count": 13,
   "metadata": {
    "scrolled": true
   },
   "outputs": [
    {
     "name": "stdout",
     "output_type": "stream",
     "text": [
      "Train on 1280 samples, validate on 320 samples\n",
      "Epoch 1/35\n",
      "1280/1280 [==============================] - 89s 70ms/step - loss: 0.7366 - acc: 0.6031 - val_loss: 0.8289 - val_acc: 0.1281\n",
      "Epoch 2/35\n",
      "1280/1280 [==============================] - 87s 68ms/step - loss: 0.5956 - acc: 0.7008 - val_loss: 0.9071 - val_acc: 0.2188\n",
      "Epoch 3/35\n",
      "1280/1280 [==============================] - 88s 69ms/step - loss: 0.5369 - acc: 0.7430 - val_loss: 0.7155 - val_acc: 0.4875\n",
      "Epoch 4/35\n",
      "1280/1280 [==============================] - 86s 67ms/step - loss: 0.5065 - acc: 0.7648 - val_loss: 0.8088 - val_acc: 0.3781\n",
      "Epoch 5/35\n",
      "1280/1280 [==============================] - 84s 65ms/step - loss: 0.4757 - acc: 0.7625 - val_loss: 0.6806 - val_acc: 0.5625\n",
      "Epoch 6/35\n",
      "1280/1280 [==============================] - 88s 69ms/step - loss: 0.4503 - acc: 0.7906 - val_loss: 0.8114 - val_acc: 0.4719\n",
      "Epoch 7/35\n",
      "1280/1280 [==============================] - 86s 67ms/step - loss: 0.4114 - acc: 0.8102 - val_loss: 0.6633 - val_acc: 0.5719\n",
      "Epoch 8/35\n",
      "1280/1280 [==============================] - 84s 66ms/step - loss: 0.3836 - acc: 0.8359 - val_loss: 0.6531 - val_acc: 0.6250\n",
      "Epoch 9/35\n",
      "1280/1280 [==============================] - 84s 66ms/step - loss: 0.3514 - acc: 0.8438 - val_loss: 0.7113 - val_acc: 0.6094\n",
      "Epoch 10/35\n",
      "1280/1280 [==============================] - 92s 72ms/step - loss: 0.3223 - acc: 0.8555 - val_loss: 0.6754 - val_acc: 0.6250\n",
      "Epoch 11/35\n",
      "1280/1280 [==============================] - 85s 67ms/step - loss: 0.2937 - acc: 0.8695 - val_loss: 0.7271 - val_acc: 0.6500\n",
      "Epoch 12/35\n",
      "1280/1280 [==============================] - 85s 66ms/step - loss: 0.2618 - acc: 0.8875 - val_loss: 0.7315 - val_acc: 0.6625\n",
      "Epoch 13/35\n",
      "1280/1280 [==============================] - 85s 67ms/step - loss: 0.2443 - acc: 0.8961 - val_loss: 0.7697 - val_acc: 0.6562\n",
      "Epoch 14/35\n",
      "1280/1280 [==============================] - 88s 69ms/step - loss: 0.2127 - acc: 0.9117 - val_loss: 0.6639 - val_acc: 0.7125\n",
      "Epoch 15/35\n",
      "1280/1280 [==============================] - 86s 67ms/step - loss: 0.1935 - acc: 0.9266 - val_loss: 0.8443 - val_acc: 0.6625\n",
      "Epoch 16/35\n",
      "1280/1280 [==============================] - 87s 68ms/step - loss: 0.1837 - acc: 0.9180 - val_loss: 0.7393 - val_acc: 0.7250\n",
      "Epoch 17/35\n",
      "1280/1280 [==============================] - 85s 66ms/step - loss: 0.1568 - acc: 0.9344 - val_loss: 0.8040 - val_acc: 0.7250\n",
      "Epoch 18/35\n",
      "1280/1280 [==============================] - 86s 67ms/step - loss: 0.1486 - acc: 0.9422 - val_loss: 0.9646 - val_acc: 0.7063\n",
      "Epoch 19/35\n",
      "1280/1280 [==============================] - 89s 69ms/step - loss: 0.1289 - acc: 0.9453 - val_loss: 0.9132 - val_acc: 0.7344\n",
      "Epoch 20/35\n",
      "1280/1280 [==============================] - 88s 69ms/step - loss: 0.1216 - acc: 0.9523 - val_loss: 0.9903 - val_acc: 0.7500\n",
      "Epoch 21/35\n",
      "1280/1280 [==============================] - 86s 67ms/step - loss: 0.1037 - acc: 0.9586 - val_loss: 1.0068 - val_acc: 0.7437\n",
      "Epoch 22/35\n",
      "1280/1280 [==============================] - 87s 68ms/step - loss: 0.0990 - acc: 0.9625 - val_loss: 1.0917 - val_acc: 0.7625\n",
      "Epoch 23/35\n",
      "1280/1280 [==============================] - 85s 67ms/step - loss: 0.0900 - acc: 0.9648 - val_loss: 1.0949 - val_acc: 0.7625\n",
      "Epoch 24/35\n",
      "1280/1280 [==============================] - 85s 67ms/step - loss: 0.0941 - acc: 0.9570 - val_loss: 1.2887 - val_acc: 0.7281\n",
      "Epoch 25/35\n",
      "1280/1280 [==============================] - 100s 78ms/step - loss: 0.0966 - acc: 0.9609 - val_loss: 1.5544 - val_acc: 0.6969\n",
      "Epoch 26/35\n",
      "1280/1280 [==============================] - 87s 68ms/step - loss: 0.0825 - acc: 0.9641 - val_loss: 1.1283 - val_acc: 0.7719\n",
      "Epoch 27/35\n",
      "1280/1280 [==============================] - 86s 67ms/step - loss: 0.0876 - acc: 0.9648 - val_loss: 1.0863 - val_acc: 0.7844\n",
      "Epoch 28/35\n",
      "1280/1280 [==============================] - 93s 73ms/step - loss: 0.0673 - acc: 0.9742 - val_loss: 1.2683 - val_acc: 0.7750\n",
      "Epoch 29/35\n",
      "1280/1280 [==============================] - 89s 70ms/step - loss: 0.0705 - acc: 0.9711 - val_loss: 1.5966 - val_acc: 0.7406\n",
      "Epoch 30/35\n",
      "1280/1280 [==============================] - 88s 69ms/step - loss: 0.0620 - acc: 0.9758 - val_loss: 1.7314 - val_acc: 0.7437\n",
      "Epoch 31/35\n",
      "1280/1280 [==============================] - 88s 69ms/step - loss: 0.0542 - acc: 0.9789 - val_loss: 1.6473 - val_acc: 0.7563\n",
      "Epoch 32/35\n",
      "1280/1280 [==============================] - 94s 74ms/step - loss: 0.0584 - acc: 0.9758 - val_loss: 1.9672 - val_acc: 0.7281\n",
      "Epoch 33/35\n",
      "1280/1280 [==============================] - 92s 72ms/step - loss: 0.0598 - acc: 0.9742 - val_loss: 1.5836 - val_acc: 0.7688\n",
      "Epoch 34/35\n",
      "1280/1280 [==============================] - 86s 68ms/step - loss: 0.0604 - acc: 0.9797 - val_loss: 1.9210 - val_acc: 0.7375\n",
      "Epoch 35/35\n",
      "1280/1280 [==============================] - 93s 73ms/step - loss: 0.0559 - acc: 0.9758 - val_loss: 2.5159 - val_acc: 0.7000\n"
     ]
    }
   ],
   "source": [
    "historyv9 =model_v9.fit(X_train, y_train, epochs= 35, validation_split = 0.2)"
   ]
  },
  {
   "cell_type": "code",
   "execution_count": 14,
   "metadata": {},
   "outputs": [],
   "source": [
    "model_v9.save('model_electron_or_muon_v9.h5')"
   ]
  },
  {
   "cell_type": "code",
   "execution_count": 15,
   "metadata": {},
   "outputs": [
    {
     "name": "stdout",
     "output_type": "stream",
     "text": [
      "858/858 [==============================] - 14s 17ms/step\n",
      "Accuracy with the model: 67.02%\n"
     ]
    }
   ],
   "source": [
    "loss, acc = model_v9.evaluate(X_test, y_test)\n",
    "print('Accuracy with the model: {:5.2f}%'.format(100*acc))"
   ]
  },
  {
   "cell_type": "code",
   "execution_count": 18,
   "metadata": {},
   "outputs": [],
   "source": [
    "y_predicted9 = model_v9.predict(X_test)\n",
    "y_predicted9[np.where(y_predicted9>=0.5)] = 1\n",
    "y_predicted9[np.where(y_predicted9<0.5)] = 0"
   ]
  },
  {
   "cell_type": "code",
   "execution_count": 19,
   "metadata": {},
   "outputs": [
    {
     "data": {
      "image/png": "[encoded data removed]",
      "text/plain": [
       "<Figure size 576x432 with 2 Axes>"
      ]
     },
     "metadata": {
      "needs_background": "light"
     },
     "output_type": "display_data"
    }
   ],
   "source": [
    "conf9 = confusion_matrix(y_test, y_predicted9, labels = list([0,1]))\n",
    "plot_confusion_matrix(cm           = conf9, \n",
    "                      normalize    = False,\n",
    "                      target_names = ['electron', 'muon'],\n",
    "                      title        = \"Confusion Matrix\")"
   ]
  },
  {
   "cell_type": "code",
   "execution_count": 20,
   "metadata": {},
   "outputs": [
    {
     "data": {
      "image/png": "[encoded data removed]",
      "text/plain": [
       "<Figure size 432x288 with 1 Axes>"
      ]
     },
     "metadata": {
      "needs_background": "light"
     },
     "output_type": "display_data"
    }
   ],
   "source": [
    "history_n1 = historyv9.history\n",
    "loss_values_n1 = history_n1['loss']\n",
    "val_loss_values_n1 = history_n1['val_loss']\n",
    "epochs_n1 = range(1, len(loss_values_n1) + 1)\n",
    "plt.plot(epochs_n1, loss_values_n1, 'bo', label='Training loss')\n",
    "plt.plot(epochs_n1, val_loss_values_n1, 'b', label='Validation loss')\n",
    "plt.title('Training and validation loss')\n",
    "plt.xlabel('Epochs')\n",
    "plt.ylabel('Loss')\n",
    "plt.legend()\n",
    "plt.show()"
   ]
  },
  {
   "cell_type": "markdown",
   "metadata": {},
   "source": []
  },
  {
   "cell_type": "code",
   "execution_count": 17,
   "metadata": {
    "scrolled": true
   },
   "outputs": [
    {
     "name": "stdout",
     "output_type": "stream",
     "text": [
      "Model: \"sequential_5\"\n",
      "_________________________________________________________________\n",
      "Layer (type)                 Output Shape              Param #   \n",
      "=================================================================\n",
      "conv2d_16 (Conv2D)           (None, 294, 284, 32)      320       \n",
      "_________________________________________________________________\n",
      "max_pooling2d_16 (MaxPooling (None, 147, 142, 32)      0         \n",
      "_________________________________________________________________\n",
      "dropout_20 (Dropout)         (None, 147, 142, 32)      0         \n",
      "_________________________________________________________________\n",
      "conv2d_17 (Conv2D)           (None, 145, 140, 32)      9248      \n",
      "_________________________________________________________________\n",
      "max_pooling2d_17 (MaxPooling (None, 72, 70, 32)        0         \n",
      "_________________________________________________________________\n",
      "dropout_21 (Dropout)         (None, 72, 70, 32)        0         \n",
      "_________________________________________________________________\n",
      "conv2d_18 (Conv2D)           (None, 70, 68, 64)        18496     \n",
      "_________________________________________________________________\n",
      "max_pooling2d_18 (MaxPooling (None, 35, 34, 64)        0         \n",
      "_________________________________________________________________\n",
      "dropout_22 (Dropout)         (None, 35, 34, 64)        0         \n",
      "_________________________________________________________________\n",
      "conv2d_19 (Conv2D)           (None, 33, 32, 128)       73856     \n",
      "_________________________________________________________________\n",
      "max_pooling2d_19 (MaxPooling (None, 16, 16, 128)       0         \n",
      "_________________________________________________________________\n",
      "dropout_23 (Dropout)         (None, 16, 16, 128)       0         \n",
      "_________________________________________________________________\n",
      "conv2d_20 (Conv2D)           (None, 14, 14, 128)       147584    \n",
      "_________________________________________________________________\n",
      "max_pooling2d_20 (MaxPooling (None, 7, 7, 128)         0         \n",
      "_________________________________________________________________\n",
      "dropout_24 (Dropout)         (None, 7, 7, 128)         0         \n",
      "_________________________________________________________________\n",
      "flatten_5 (Flatten)          (None, 6272)              0         \n",
      "_________________________________________________________________\n",
      "dense_9 (Dense)              (None, 512)               3211776   \n",
      "_________________________________________________________________\n",
      "dropout_25 (Dropout)         (None, 512)               0         \n",
      "_________________________________________________________________\n",
      "dense_10 (Dense)             (None, 1)                 513       \n",
      "=================================================================\n",
      "Total params: 3,461,793\n",
      "Trainable params: 3,461,793\n",
      "Non-trainable params: 0\n",
      "_________________________________________________________________\n"
     ]
    }
   ],
   "source": [
    "model_v10 = models.Sequential()\n",
    "model_v10.add(layers.Conv2D(32,(3,3), activation='relu', input_shape=(window_y, window_x, 1)))\n",
    "model_v10.add(layers.MaxPooling2D((2,2)))\n",
    "model_v10.add(layers.Dropout((0.25)))\n",
    "\n",
    "model_v10.add(layers.Conv2D(32,(3,3), activation='relu'))\n",
    "model_v10.add(layers.MaxPooling2D((2,2)))\n",
    "model_v10.add(layers.Dropout((0.25)))\n",
    "\n",
    "model_v10.add(layers.Conv2D(64,(3,3), activation='relu'))\n",
    "model_v10.add(layers.MaxPooling2D((2,2)))\n",
    "model_v10.add(layers.Dropout((0.25)))\n",
    "\n",
    "model_v10.add(layers.Conv2D(128,(3,3), activation='relu'))\n",
    "model_v10.add(layers.MaxPooling2D((2,2)))\n",
    "model_v10.add(layers.Dropout((0.25)))\n",
    "\n",
    "model_v10.add(layers.Conv2D(128,(3,3), activation='relu'))\n",
    "model_v10.add(layers.MaxPooling2D((2,2)))\n",
    "model_v10.add(layers.Dropout((0.25)))\n",
    "\n",
    "model_v10.add(layers.Flatten())\n",
    "model_v10.add(layers.Dense(units= 512, activation='relu'))\n",
    "model_v10.add(layers.Dropout((0.5)))\n",
    "model_v10.add(layers.Dense(units= 1, activation='sigmoid'))\n",
    "model_v10.summary()"
   ]
  },
  {
   "cell_type": "code",
   "execution_count": 18,
   "metadata": {},
   "outputs": [],
   "source": [
    "model_v10.compile(optimizer=optimizers.RMSprop(lr= 1e-3),loss='binary_crossentropy', metrics=['acc'])"
   ]
  },
  {
   "cell_type": "code",
   "execution_count": 19,
   "metadata": {
    "scrolled": true
   },
   "outputs": [
    {
     "name": "stdout",
     "output_type": "stream",
     "text": [
      "Train on 1280 samples, validate on 320 samples\n",
      "Epoch 1/35\n",
      "1280/1280 [==============================] - 57s 45ms/step - loss: 0.7635 - acc: 0.6375 - val_loss: 0.9169 - val_acc: 0.2000\n",
      "Epoch 2/35\n",
      "1280/1280 [==============================] - 58s 45ms/step - loss: 0.6145 - acc: 0.6875 - val_loss: 1.1398 - val_acc: 0.0938\n",
      "Epoch 3/35\n",
      "1280/1280 [==============================] - 58s 45ms/step - loss: 0.5989 - acc: 0.6828 - val_loss: 1.0856 - val_acc: 0.0969\n",
      "Epoch 4/35\n",
      "1280/1280 [==============================] - 57s 45ms/step - loss: 0.5804 - acc: 0.7094 - val_loss: 1.1479 - val_acc: 0.0875\n",
      "Epoch 5/35\n",
      "1280/1280 [==============================] - 57s 45ms/step - loss: 0.5656 - acc: 0.7156 - val_loss: 0.9647 - val_acc: 0.2031\n",
      "Epoch 6/35\n",
      "1280/1280 [==============================] - 57s 45ms/step - loss: 0.5298 - acc: 0.7500 - val_loss: 1.1476 - val_acc: 0.1875\n",
      "Epoch 7/35\n",
      "1280/1280 [==============================] - 58s 45ms/step - loss: 0.5267 - acc: 0.7586 - val_loss: 1.1294 - val_acc: 0.1781\n",
      "Epoch 8/35\n",
      "1280/1280 [==============================] - 57s 45ms/step - loss: 0.5046 - acc: 0.7633 - val_loss: 0.9545 - val_acc: 0.3250\n",
      "Epoch 9/35\n",
      "1280/1280 [==============================] - 57s 44ms/step - loss: 0.4809 - acc: 0.7625 - val_loss: 0.8890 - val_acc: 0.4156\n",
      "Epoch 10/35\n",
      "1280/1280 [==============================] - 57s 45ms/step - loss: 0.4696 - acc: 0.7820 - val_loss: 0.8227 - val_acc: 0.4656\n",
      "Epoch 11/35\n",
      "1280/1280 [==============================] - 57s 44ms/step - loss: 0.4220 - acc: 0.8094 - val_loss: 0.5653 - val_acc: 0.6500\n",
      "Epoch 12/35\n",
      "1280/1280 [==============================] - 57s 44ms/step - loss: 0.3946 - acc: 0.8172 - val_loss: 0.8842 - val_acc: 0.4938\n",
      "Epoch 13/35\n",
      "1280/1280 [==============================] - 57s 45ms/step - loss: 0.3840 - acc: 0.8305 - val_loss: 0.9442 - val_acc: 0.5031\n",
      "Epoch 14/35\n",
      "1280/1280 [==============================] - 57s 45ms/step - loss: 0.3571 - acc: 0.8445 - val_loss: 0.5995 - val_acc: 0.6938\n",
      "Epoch 15/35\n",
      "1280/1280 [==============================] - 57s 45ms/step - loss: 0.3356 - acc: 0.8539 - val_loss: 0.6079 - val_acc: 0.7031\n",
      "Epoch 16/35\n",
      "1280/1280 [==============================] - 57s 45ms/step - loss: 0.3242 - acc: 0.8625 - val_loss: 0.6691 - val_acc: 0.7000\n",
      "Epoch 17/35\n",
      "1280/1280 [==============================] - 57s 44ms/step - loss: 0.2867 - acc: 0.8750 - val_loss: 0.5123 - val_acc: 0.7750\n",
      "Epoch 18/35\n",
      "1280/1280 [==============================] - 57s 45ms/step - loss: 0.2825 - acc: 0.8797 - val_loss: 0.5735 - val_acc: 0.7375\n",
      "Epoch 19/35\n",
      "1280/1280 [==============================] - 57s 44ms/step - loss: 0.2667 - acc: 0.8969 - val_loss: 0.5830 - val_acc: 0.7437\n",
      "Epoch 20/35\n",
      "1280/1280 [==============================] - 57s 44ms/step - loss: 0.2573 - acc: 0.9000 - val_loss: 0.8692 - val_acc: 0.6531\n",
      "Epoch 21/35\n",
      "1280/1280 [==============================] - 57s 44ms/step - loss: 0.2178 - acc: 0.9070 - val_loss: 0.6803 - val_acc: 0.7344\n",
      "Epoch 22/35\n",
      "1280/1280 [==============================] - 57s 44ms/step - loss: 0.2169 - acc: 0.9086 - val_loss: 0.8089 - val_acc: 0.6969\n",
      "Epoch 23/35\n",
      "1280/1280 [==============================] - 57s 44ms/step - loss: 0.2058 - acc: 0.9211 - val_loss: 0.7722 - val_acc: 0.7563\n",
      "Epoch 24/35\n",
      "1280/1280 [==============================] - 57s 44ms/step - loss: 0.2152 - acc: 0.9148 - val_loss: 0.6010 - val_acc: 0.7781\n",
      "Epoch 25/35\n",
      "1280/1280 [==============================] - 57s 44ms/step - loss: 0.1751 - acc: 0.9406 - val_loss: 0.9605 - val_acc: 0.7375\n",
      "Epoch 26/35\n",
      "1280/1280 [==============================] - 57s 44ms/step - loss: 0.1710 - acc: 0.9312 - val_loss: 0.6261 - val_acc: 0.7781\n",
      "Epoch 27/35\n",
      "1280/1280 [==============================] - 57s 44ms/step - loss: 0.1465 - acc: 0.9430 - val_loss: 1.1326 - val_acc: 0.7219\n",
      "Epoch 28/35\n",
      "1280/1280 [==============================] - 57s 44ms/step - loss: 0.1635 - acc: 0.9375 - val_loss: 0.9371 - val_acc: 0.7312\n",
      "Epoch 29/35\n",
      "1280/1280 [==============================] - 57s 44ms/step - loss: 0.1478 - acc: 0.9469 - val_loss: 0.8818 - val_acc: 0.7812\n",
      "Epoch 30/35\n",
      "1280/1280 [==============================] - 57s 44ms/step - loss: 0.1352 - acc: 0.9445 - val_loss: 0.9276 - val_acc: 0.7688\n",
      "Epoch 31/35\n",
      "1280/1280 [==============================] - 57s 44ms/step - loss: 0.1577 - acc: 0.9492 - val_loss: 0.8962 - val_acc: 0.7781\n",
      "Epoch 32/35\n",
      "1280/1280 [==============================] - 57s 44ms/step - loss: 0.1288 - acc: 0.9500 - val_loss: 0.7329 - val_acc: 0.8156\n",
      "Epoch 33/35\n",
      "1280/1280 [==============================] - 57s 44ms/step - loss: 0.1630 - acc: 0.9445 - val_loss: 1.0666 - val_acc: 0.7563\n",
      "Epoch 34/35\n",
      "1280/1280 [==============================] - 57s 44ms/step - loss: 0.1760 - acc: 0.9430 - val_loss: 0.6506 - val_acc: 0.8000\n",
      "Epoch 35/35\n",
      "1280/1280 [==============================] - 57s 44ms/step - loss: 0.1415 - acc: 0.9484 - val_loss: 1.4620 - val_acc: 0.7500\n"
     ]
    }
   ],
   "source": [
    "historyv10 =model_v10.fit(X_train, y_train, epochs= 35, validation_split = 0.2)"
   ]
  },
  {
   "cell_type": "code",
   "execution_count": 20,
   "metadata": {},
   "outputs": [],
   "source": [
    "model_v10.save('model_electron_or_muon_v10.h5')"
   ]
  },
  {
   "cell_type": "code",
   "execution_count": 21,
   "metadata": {},
   "outputs": [
    {
     "name": "stdout",
     "output_type": "stream",
     "text": [
      "858/858 [==============================] - 10s 11ms/step\n",
      "Accuracy with the model: 74.24%\n"
     ]
    }
   ],
   "source": [
    "loss, acc = model_v10.evaluate(X_test, y_test)\n",
    "print('Accuracy with the model: {:5.2f}%'.format(100*acc))"
   ]
  },
  {
   "cell_type": "code",
   "execution_count": 22,
   "metadata": {},
   "outputs": [],
   "source": [
    "y_predicted10 = model_v10.predict(X_test)\n",
    "y_predicted10[np.where(y_predicted10>=0.5)] = 1\n",
    "y_predicted10[np.where(y_predicted10<0.5)] = 0"
   ]
  },
  {
   "cell_type": "code",
   "execution_count": 23,
   "metadata": {},
   "outputs": [
    {
     "data": {
      "image/png": "[encoded data removed]",
      "text/plain": [
       "<Figure size 576x432 with 2 Axes>"
      ]
     },
     "metadata": {
      "needs_background": "light"
     },
     "output_type": "display_data"
    }
   ],
   "source": [
    "conf10 = confusion_matrix(y_test, y_predicted10, labels = list([0,1]))\n",
    "plot_confusion_matrix(cm           = conf10, \n",
    "                      normalize    = False,\n",
    "                      target_names = ['electron', 'muon'],\n",
    "                      title        = \"Confusion Matrix\")"
   ]
  },
  {
   "cell_type": "code",
   "execution_count": 24,
   "metadata": {},
   "outputs": [
    {
     "data": {
      "image/png": "[encoded data removed]",
      "text/plain": [
       "<Figure size 432x288 with 1 Axes>"
      ]
     },
     "metadata": {
      "needs_background": "light"
     },
     "output_type": "display_data"
    }
   ],
   "source": [
    "history_n1 = historyv10.history\n",
    "loss_values_n1 = history_n1['loss']\n",
    "val_loss_values_n1 = history_n1['val_loss']\n",
    "epochs_n1 = range(1, len(loss_values_n1) + 1)\n",
    "plt.plot(epochs_n1, loss_values_n1, 'bo', label='Training loss')\n",
    "plt.plot(epochs_n1, val_loss_values_n1, 'b', label='Validation loss')\n",
    "plt.title('Training and validation loss')\n",
    "plt.xlabel('Epochs')\n",
    "plt.ylabel('Loss')\n",
    "plt.legend()\n",
    "plt.show()"
   ]
  },
  {
   "cell_type": "code",
   "execution_count": null,
   "metadata": {},
   "outputs": [],
   "source": []
  },
  {
   "cell_type": "code",
   "execution_count": 43,
   "metadata": {
    "scrolled": true
   },
   "outputs": [
    {
     "name": "stdout",
     "output_type": "stream",
     "text": [
      "Model: \"sequential_10\"\n",
      "_________________________________________________________________\n",
      "Layer (type)                 Output Shape              Param #   \n",
      "=================================================================\n",
      "conv2d_38 (Conv2D)           (None, 294, 284, 32)      320       \n",
      "_________________________________________________________________\n",
      "max_pooling2d_37 (MaxPooling (None, 147, 142, 32)      0         \n",
      "_________________________________________________________________\n",
      "dropout_45 (Dropout)         (None, 147, 142, 32)      0         \n",
      "_________________________________________________________________\n",
      "conv2d_39 (Conv2D)           (None, 145, 140, 32)      9248      \n",
      "_________________________________________________________________\n",
      "max_pooling2d_38 (MaxPooling (None, 72, 70, 32)        0         \n",
      "_________________________________________________________________\n",
      "dropout_46 (Dropout)         (None, 72, 70, 32)        0         \n",
      "_________________________________________________________________\n",
      "conv2d_40 (Conv2D)           (None, 70, 68, 64)        18496     \n",
      "_________________________________________________________________\n",
      "max_pooling2d_39 (MaxPooling (None, 35, 34, 64)        0         \n",
      "_________________________________________________________________\n",
      "dropout_47 (Dropout)         (None, 35, 34, 64)        0         \n",
      "_________________________________________________________________\n",
      "conv2d_41 (Conv2D)           (None, 33, 32, 128)       73856     \n",
      "_________________________________________________________________\n",
      "max_pooling2d_40 (MaxPooling (None, 16, 16, 128)       0         \n",
      "_________________________________________________________________\n",
      "dropout_48 (Dropout)         (None, 16, 16, 128)       0         \n",
      "_________________________________________________________________\n",
      "conv2d_42 (Conv2D)           (None, 14, 14, 128)       147584    \n",
      "_________________________________________________________________\n",
      "max_pooling2d_41 (MaxPooling (None, 7, 7, 128)         0         \n",
      "_________________________________________________________________\n",
      "dropout_49 (Dropout)         (None, 7, 7, 128)         0         \n",
      "_________________________________________________________________\n",
      "flatten_9 (Flatten)          (None, 6272)              0         \n",
      "_________________________________________________________________\n",
      "dense_18 (Dense)             (None, 712)               4466376   \n",
      "_________________________________________________________________\n",
      "dropout_50 (Dropout)         (None, 712)               0         \n",
      "_________________________________________________________________\n",
      "dense_19 (Dense)             (None, 1)                 713       \n",
      "=================================================================\n",
      "Total params: 4,716,593\n",
      "Trainable params: 4,716,593\n",
      "Non-trainable params: 0\n",
      "_________________________________________________________________\n"
     ]
    }
   ],
   "source": [
    "model_v11 = models.Sequential()\n",
    "model_v11.add(layers.Conv2D(32,(3,3), activation='relu', input_shape=(window_y, window_x, 1)))\n",
    "model_v11.add(layers.MaxPooling2D((2,2)))\n",
    "model_v11.add(layers.Dropout((0.25)))\n",
    "\n",
    "model_v11.add(layers.Conv2D(32,(3,3), activation='relu'))\n",
    "model_v11.add(layers.MaxPooling2D((2,2)))\n",
    "model_v11.add(layers.Dropout((0.25)))\n",
    "\n",
    "model_v11.add(layers.Conv2D(64,(3,3), activation='relu'))\n",
    "model_v11.add(layers.MaxPooling2D((2,2)))\n",
    "model_v11.add(layers.Dropout((0.25)))\n",
    "\n",
    "model_v11.add(layers.Conv2D(128,(3,3), activation='relu'))\n",
    "model_v11.add(layers.MaxPooling2D((2,2)))\n",
    "model_v11.add(layers.Dropout((0.25)))\n",
    "\n",
    "model_v11.add(layers.Conv2D(128,(3,3), activation='relu'))\n",
    "model_v11.add(layers.MaxPooling2D((2,2)))\n",
    "model_v11.add(layers.Dropout((0.25)))\n",
    "\n",
    "model_v11.add(layers.Flatten())\n",
    "model_v11.add(layers.Dense(units= 712, activation='relu'))\n",
    "model_v11.add(layers.Dropout((0.5)))\n",
    "model_v11.add(layers.Dense(units= 1, activation='sigmoid'))\n",
    "model_v11.summary()"
   ]
  },
  {
   "cell_type": "code",
   "execution_count": 44,
   "metadata": {},
   "outputs": [],
   "source": [
    "model_v11.compile(optimizer=optimizers.RMSprop(lr= 1e-2),loss='binary_crossentropy', metrics=['acc'])"
   ]
  },
  {
   "cell_type": "code",
   "execution_count": 45,
   "metadata": {
    "scrolled": true
   },
   "outputs": [
    {
     "name": "stdout",
     "output_type": "stream",
     "text": [
      "Train on 1280 samples, validate on 320 samples\n",
      "Epoch 1/35\n",
      "1280/1280 [==============================] - 61s 47ms/step - loss: 0.8192 - acc: 0.5586 - val_loss: 0.6653 - val_acc: 0.5250\n",
      "Epoch 2/35\n",
      "1280/1280 [==============================] - 59s 46ms/step - loss: 0.6863 - acc: 0.6328 - val_loss: 0.7129 - val_acc: 0.3938\n",
      "Epoch 3/35\n",
      "1280/1280 [==============================] - 56s 44ms/step - loss: 0.6490 - acc: 0.6734 - val_loss: 0.7412 - val_acc: 0.3125\n",
      "Epoch 4/35\n",
      "1280/1280 [==============================] - 60s 47ms/step - loss: 0.6182 - acc: 0.6883 - val_loss: 0.7697 - val_acc: 0.2719\n",
      "Epoch 5/35\n",
      "1280/1280 [==============================] - 62s 48ms/step - loss: 0.5898 - acc: 0.7078 - val_loss: 0.8086 - val_acc: 0.3000\n",
      "Epoch 6/35\n",
      "1280/1280 [==============================] - 60s 47ms/step - loss: 0.5740 - acc: 0.7203 - val_loss: 0.8084 - val_acc: 0.3000\n",
      "Epoch 7/35\n",
      "1280/1280 [==============================] - 63s 50ms/step - loss: 0.5757 - acc: 0.7219 - val_loss: 0.8908 - val_acc: 0.2125\n",
      "Epoch 8/35\n",
      "1280/1280 [==============================] - 62s 48ms/step - loss: 0.5649 - acc: 0.7086 - val_loss: 0.9127 - val_acc: 0.1937\n",
      "Epoch 9/35\n",
      "1280/1280 [==============================] - 58s 45ms/step - loss: 0.5509 - acc: 0.7320 - val_loss: 0.8266 - val_acc: 0.2562\n",
      "Epoch 10/35\n",
      "1280/1280 [==============================] - 58s 45ms/step - loss: 0.5489 - acc: 0.7273 - val_loss: 0.8126 - val_acc: 0.3187\n",
      "Epoch 11/35\n",
      "1280/1280 [==============================] - 58s 45ms/step - loss: 0.5466 - acc: 0.7188 - val_loss: 0.8817 - val_acc: 0.2656\n",
      "Epoch 12/35\n",
      "1280/1280 [==============================] - 58s 45ms/step - loss: 0.5349 - acc: 0.7414 - val_loss: 0.8760 - val_acc: 0.2656\n",
      "Epoch 13/35\n",
      "1280/1280 [==============================] - 58s 45ms/step - loss: 0.5267 - acc: 0.7422 - val_loss: 0.9025 - val_acc: 0.2344\n",
      "Epoch 14/35\n",
      "1280/1280 [==============================] - 64s 50ms/step - loss: 0.5192 - acc: 0.7500 - val_loss: 0.9465 - val_acc: 0.2344\n",
      "Epoch 15/35\n",
      "1280/1280 [==============================] - 63s 49ms/step - loss: 0.5287 - acc: 0.7484 - val_loss: 0.9421 - val_acc: 0.2313\n",
      "Epoch 16/35\n",
      "1280/1280 [==============================] - 61s 48ms/step - loss: 0.5159 - acc: 0.7539 - val_loss: 0.9511 - val_acc: 0.2156\n",
      "Epoch 17/35\n",
      "1280/1280 [==============================] - 61s 48ms/step - loss: 0.5204 - acc: 0.7414 - val_loss: 0.9203 - val_acc: 0.2562\n",
      "Epoch 18/35\n",
      "1280/1280 [==============================] - 60s 47ms/step - loss: 0.5042 - acc: 0.7563 - val_loss: 1.0077 - val_acc: 0.1906\n",
      "Epoch 19/35\n",
      "1280/1280 [==============================] - 62s 48ms/step - loss: 0.4959 - acc: 0.7633 - val_loss: 0.9050 - val_acc: 0.2750\n",
      "Epoch 20/35\n",
      "1280/1280 [==============================] - 59s 46ms/step - loss: 0.5045 - acc: 0.7539 - val_loss: 0.8292 - val_acc: 0.3594\n",
      "Epoch 21/35\n",
      "1280/1280 [==============================] - 60s 47ms/step - loss: 0.4874 - acc: 0.7586 - val_loss: 0.8618 - val_acc: 0.3438\n",
      "Epoch 22/35\n",
      "1280/1280 [==============================] - 60s 47ms/step - loss: 0.4822 - acc: 0.7719 - val_loss: 0.9430 - val_acc: 0.2969\n",
      "Epoch 23/35\n",
      "1280/1280 [==============================] - 63s 49ms/step - loss: 0.4784 - acc: 0.7711 - val_loss: 0.9048 - val_acc: 0.2844\n",
      "Epoch 24/35\n",
      "1280/1280 [==============================] - 62s 49ms/step - loss: 0.4773 - acc: 0.7672 - val_loss: 0.8849 - val_acc: 0.3219\n",
      "Epoch 25/35\n",
      "1280/1280 [==============================] - 62s 49ms/step - loss: 0.4722 - acc: 0.7844 - val_loss: 0.8425 - val_acc: 0.4000\n",
      "Epoch 26/35\n",
      "1280/1280 [==============================] - 62s 48ms/step - loss: 0.4531 - acc: 0.7844 - val_loss: 0.7864 - val_acc: 0.4531\n",
      "Epoch 27/35\n",
      "1280/1280 [==============================] - 64s 50ms/step - loss: 0.4446 - acc: 0.7883 - val_loss: 0.8847 - val_acc: 0.3875\n",
      "Epoch 28/35\n",
      "1280/1280 [==============================] - 65s 51ms/step - loss: 0.4379 - acc: 0.7945 - val_loss: 0.7917 - val_acc: 0.4437\n",
      "Epoch 29/35\n",
      "1280/1280 [==============================] - 67s 52ms/step - loss: 0.4434 - acc: 0.7945 - val_loss: 0.7411 - val_acc: 0.5219\n",
      "Epoch 30/35\n",
      "1280/1280 [==============================] - 66s 51ms/step - loss: 0.4512 - acc: 0.7914 - val_loss: 1.0255 - val_acc: 0.2469\n",
      "Epoch 31/35\n",
      "1280/1280 [==============================] - 64s 50ms/step - loss: 0.4388 - acc: 0.7969 - val_loss: 0.8201 - val_acc: 0.4406\n",
      "Epoch 32/35\n",
      "1280/1280 [==============================] - 64s 50ms/step - loss: 0.4215 - acc: 0.8102 - val_loss: 0.7252 - val_acc: 0.5219\n",
      "Epoch 33/35\n",
      "1280/1280 [==============================] - 61s 47ms/step - loss: 0.4379 - acc: 0.7937 - val_loss: 0.8042 - val_acc: 0.4469\n",
      "Epoch 34/35\n",
      "1280/1280 [==============================] - 61s 48ms/step - loss: 0.4129 - acc: 0.8094 - val_loss: 0.8214 - val_acc: 0.4469\n",
      "Epoch 35/35\n",
      "1280/1280 [==============================] - 65s 51ms/step - loss: 0.4154 - acc: 0.8156 - val_loss: 0.7304 - val_acc: 0.5063\n"
     ]
    }
   ],
   "source": [
    "historyv11 =model_v11.fit(X_train, y_train, epochs= 35, validation_split = 0.2)"
   ]
  },
  {
   "cell_type": "code",
   "execution_count": 46,
   "metadata": {},
   "outputs": [],
   "source": [
    "model_v11.save('model_electron_or_muon_v11.h5')"
   ]
  },
  {
   "cell_type": "code",
   "execution_count": 47,
   "metadata": {},
   "outputs": [
    {
     "name": "stdout",
     "output_type": "stream",
     "text": [
      "858/858 [==============================] - 9s 10ms/step\n",
      "Accuracy with the model: 60.96%\n"
     ]
    }
   ],
   "source": [
    "loss, acc = model_v11.evaluate(X_test, y_test)\n",
    "print('Accuracy with the model: {:5.2f}%'.format(100*acc))"
   ]
  },
  {
   "cell_type": "code",
   "execution_count": 48,
   "metadata": {},
   "outputs": [],
   "source": [
    "y_predicted11 = model_v11.predict(X_test)\n",
    "y_predicted11[np.where(y_predicted11>=0.5)] = 1\n",
    "y_predicted11[np.where(y_predicted11<0.5)] = 0"
   ]
  },
  {
   "cell_type": "code",
   "execution_count": 49,
   "metadata": {},
   "outputs": [
    {
     "data": {
      "image/png": "[encoded data removed]",
      "text/plain": [
       "<Figure size 576x432 with 2 Axes>"
      ]
     },
     "metadata": {
      "needs_background": "light"
     },
     "output_type": "display_data"
    }
   ],
   "source": [
    "conf11 = confusion_matrix(y_test, y_predicted11, labels = list([0,1]))\n",
    "plot_confusion_matrix(cm           = conf11, \n",
    "                      normalize    = False,\n",
    "                      target_names = ['electron', 'muon'],\n",
    "                      title        = \"Confusion Matrix\")"
   ]
  },
  {
   "cell_type": "code",
   "execution_count": 50,
   "metadata": {},
   "outputs": [
    {
     "data": {
      "image/png": "[encoded data removed]",
      "text/plain": [
       "<Figure size 432x288 with 1 Axes>"
      ]
     },
     "metadata": {
      "needs_background": "light"
     },
     "output_type": "display_data"
    }
   ],
   "source": [
    "history_n1 = historyv11.history\n",
    "loss_values_n1 = history_n1['loss']\n",
    "val_loss_values_n1 = history_n1['val_loss']\n",
    "epochs_n1 = range(1, len(loss_values_n1) + 1)\n",
    "plt.plot(epochs_n1, loss_values_n1, 'bo', label='Training loss')\n",
    "plt.plot(epochs_n1, val_loss_values_n1, 'b', label='Validation loss')\n",
    "plt.title('Training and validation loss')\n",
    "plt.xlabel('Epochs')\n",
    "plt.ylabel('Loss')\n",
    "plt.legend()\n",
    "plt.show()"
   ]
  },
  {
   "cell_type": "code",
   "execution_count": null,
   "metadata": {},
   "outputs": [],
   "source": []
  }
 ],
 "metadata": {
  "kernelspec": {
   "display_name": "Python 3",
   "language": "python",
   "name": "python3"
  },
  "language_info": {
   "codemirror_mode": {
    "name": "ipython",
    "version": 3
   },
   "file_extension": ".py",
   "mimetype": "text/x-python",
   "name": "python",
   "nbconvert_exporter": "python",
   "pygments_lexer": "ipython3",
   "version": "3.7.4"
  }
 },
 "nbformat": 4,
 "nbformat_minor": 2
}

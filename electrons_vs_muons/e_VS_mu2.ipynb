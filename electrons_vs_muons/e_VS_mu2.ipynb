{
 "cells": [
  {
   "cell_type": "markdown",
   "metadata": {},
   "source": [
    "### Model to differenciate between muons, electrons and noise\n",
    "\n",
    "Labels: 0 noise, 1 electron, 2 muon\n",
    "* [Creating training and validation generators](#Creating-training-and-validation-generators)\n",
    "* [First model: 2 dense layers, dropouts, callbacks](#First-model:-2-dense-layers,-dropouts,-callbacks)\n",
    "* [Second model: 92 neurons, bigger lr](#Second-model:-92-neurons,-bigger-lr)\n",
    "* [Model 6: 102 neurons, bigger lr](#Model-6:-102-neurons,-bigger-lr)\n",
    "* [Model 7: 202 neurons, small lr](#Model-7:-202-neurons,-small-lr)\n",
    "* [Model 8: 302 neurons, bigger lr](#Model-8:-302-neurons,-bigger-lr)\n",
    "* [Ninth model: learning rate modified, 82 neurons](#Ninth-model:-learning-rate-modified,-82-neurons)"
   ]
  },
  {
   "cell_type": "code",
   "execution_count": 2,
   "metadata": {},
   "outputs": [],
   "source": [
    "import numpy as np\n",
    "import matplotlib.pyplot as plt\n",
    "from sklearn.metrics import confusion_matrix\n",
    "def plot_confusion_matrix(cm,\n",
    "                          target_names,\n",
    "                          title='Confusion matrix',\n",
    "                          cmap=None,\n",
    "                          normalize=True):\n",
    "    \"\"\"\n",
    "    cm:           confusion matrix from sklearn.metrics.confusion_matrix\n",
    "\n",
    "    target_names: given classification classes such as [0, 1, 2]\n",
    "                  the class names, for example: ['high', 'medium', 'low']\n",
    "\n",
    "    title:        the text to display at the top of the matrix\n",
    "\n",
    "    cmap:         the gradient of the values displayed from matplotlib.pyplot.cm\n",
    "                  see http://matplotlib.org/examples/color/colormaps_reference.html\n",
    "                  plt.get_cmap('jet') or plt.cm.Blues\n",
    "\n",
    "    normalize:    If False, plot the raw numbers\n",
    "                  If True, plot the proportions\n",
    "\n",
    "    Citiation\n",
    "    ---------\n",
    "    http://scikit-learn.org/stable/auto_examples/model_selection/plot_confusion_matrix.html\n",
    "\n",
    "    \"\"\"\n",
    "    import itertools\n",
    "\n",
    "    accuracy = np.trace(cm) / float(np.sum(cm))\n",
    "    misclass = 1 - accuracy\n",
    "\n",
    "    if cmap is None:\n",
    "        cmap = plt.get_cmap('Blues')\n",
    "\n",
    "    plt.figure(figsize=(8, 6))\n",
    "    plt.imshow(cm, interpolation='nearest', cmap=cmap)\n",
    "    plt.title(title)\n",
    "    plt.colorbar()\n",
    "\n",
    "    if target_names is not None:\n",
    "        tick_marks = np.arange(len(target_names))\n",
    "        plt.xticks(tick_marks, target_names, rotation=45)\n",
    "        plt.yticks(tick_marks, target_names)\n",
    "\n",
    "    if normalize:\n",
    "        cm = cm.astype('float') / cm.sum(axis=1)[:, np.newaxis]\n",
    "\n",
    "\n",
    "    thresh = cm.max() / 1.5 if normalize else cm.max() / 2\n",
    "    for i, j in itertools.product(range(cm.shape[0]), range(cm.shape[1])):\n",
    "        if normalize:\n",
    "            plt.text(j, i, \"{:0.4f}\".format(cm[i, j]),\n",
    "                     horizontalalignment=\"center\",\n",
    "                     color=\"white\" if cm[i, j] > thresh else \"black\")\n",
    "        else:\n",
    "            plt.text(j, i, \"{:,}\".format(cm[i, j]),\n",
    "                     horizontalalignment=\"center\",\n",
    "                     color=\"white\" if cm[i, j] > thresh else \"black\")\n",
    "    plt.grid(b=False)\n",
    "    plt.xlim(-0.5, 1.5)\n",
    "    plt.ylim(1.5, -0.5)\n",
    "    plt.tight_layout()\n",
    "    plt.ylabel('True label')\n",
    "    plt.xlabel('Predicted label\\naccuracy={:0.4f}; misclass={:0.4f}'.format(accuracy, misclass))\n",
    "    plt.show()"
   ]
  },
  {
   "cell_type": "code",
   "execution_count": 3,
   "metadata": {},
   "outputs": [
    {
     "name": "stderr",
     "output_type": "stream",
     "text": [
      "Using TensorFlow backend.\n"
     ]
    }
   ],
   "source": [
    "import keras\n",
    "from keras import layers, models, optimizers\n",
    "from keras import callbacks"
   ]
  },
  {
   "cell_type": "code",
   "execution_count": 4,
   "metadata": {},
   "outputs": [],
   "source": [
    "window_y, window_x = 242,192 #shape of each image"
   ]
  },
  {
   "cell_type": "code",
   "execution_count": 5,
   "metadata": {},
   "outputs": [],
   "source": [
    "import glob\n",
    "import os, shutil"
   ]
  },
  {
   "cell_type": "markdown",
   "metadata": {},
   "source": [
    "### Creating training and validation generators\n",
    "We need to create a numpy array (X) with the path to each npz file. Each npz contains 64 npy (batch_size), so basically, one npz is one batch. \n",
    "* For the training batchs:"
   ]
  },
  {
   "cell_type": "code",
   "execution_count": 6,
   "metadata": {},
   "outputs": [],
   "source": [
    "path_tr = 'eVSmu_2tr/'\n",
    "files_tr = os.listdir(path_tr)\n",
    "\n",
    "X = np.empty(shape=(len(files_tr),), dtype=object)\n",
    "\n",
    "for index, file in enumerate(files_tr):     \n",
    "    X[index] = os.path.join(path_tr, files_tr[index]) "
   ]
  },
  {
   "cell_type": "code",
   "execution_count": 7,
   "metadata": {},
   "outputs": [
    {
     "data": {
      "text/plain": [
       "(103,)"
      ]
     },
     "execution_count": 7,
     "metadata": {},
     "output_type": "execute_result"
    }
   ],
   "source": [
    "X.shape #we have 103 batchs (npz files) for the training"
   ]
  },
  {
   "cell_type": "code",
   "execution_count": 8,
   "metadata": {},
   "outputs": [],
   "source": [
    "def data_generator2(inputs, shuffle=True):\n",
    "     while True:\n",
    "    # Create list of indices\n",
    "        idxs = np.arange(len(inputs))\n",
    "        if shuffle:\n",
    "            np.random.shuffle(idxs)\n",
    "\n",
    "        for i in idxs:\n",
    "            batch_X = []\n",
    "\n",
    "            data = np.load(inputs[i])['X']\n",
    "            label = np.load(inputs[i])['y']\n",
    " \n",
    "            batch_X.append(data)\n",
    "\n",
    "\n",
    "            batch_X = np.array(batch_X)\n",
    "            batch_X = batch_X.reshape((batch_X.shape[1],batch_X.shape[2], batch_X.shape[3], batch_X.shape[4]))\n",
    "            batch_y = label\n",
    "\n",
    "            yield batch_X, batch_y"
   ]
  },
  {
   "cell_type": "code",
   "execution_count": 9,
   "metadata": {},
   "outputs": [],
   "source": [
    "train_gen =  data_generator2(inputs=X) #training data generator"
   ]
  },
  {
   "cell_type": "code",
   "execution_count": 10,
   "metadata": {},
   "outputs": [
    {
     "data": {
      "text/plain": [
       "generator"
      ]
     },
     "execution_count": 10,
     "metadata": {},
     "output_type": "execute_result"
    }
   ],
   "source": [
    "type(train_gen)"
   ]
  },
  {
   "cell_type": "markdown",
   "metadata": {},
   "source": [
    "* Similary for the validation data:"
   ]
  },
  {
   "cell_type": "code",
   "execution_count": 11,
   "metadata": {},
   "outputs": [],
   "source": [
    "path_v = 'eVSmu_2val/'\n",
    "files_v = os.listdir(path_v)\n",
    "\n",
    "#X is a numpy array of the baths to the npz files, where each one contains a batch of npy\n",
    "X = np.empty(shape=(len(files_v),), dtype=object)\n",
    "\n",
    "for index, file in enumerate(files_v):     \n",
    "    X[index] = os.path.join(path_v, files_v[index]) "
   ]
  },
  {
   "cell_type": "code",
   "execution_count": 12,
   "metadata": {},
   "outputs": [
    {
     "data": {
      "text/plain": [
       "(34,)"
      ]
     },
     "execution_count": 12,
     "metadata": {},
     "output_type": "execute_result"
    }
   ],
   "source": [
    "X.shape #this is how many batches we have of validation data"
   ]
  },
  {
   "cell_type": "code",
   "execution_count": 13,
   "metadata": {},
   "outputs": [],
   "source": [
    "val_gen = data_generator2(inputs=X)"
   ]
  },
  {
   "cell_type": "markdown",
   "metadata": {},
   "source": [
    "### First model: 2 dense layers, dropouts, callbacks"
   ]
  },
  {
   "cell_type": "code",
   "execution_count": 27,
   "metadata": {
    "scrolled": true
   },
   "outputs": [
    {
     "name": "stdout",
     "output_type": "stream",
     "text": [
      "Model: \"sequential_2\"\n",
      "_________________________________________________________________\n",
      "Layer (type)                 Output Shape              Param #   \n",
      "=================================================================\n",
      "conv2d_6 (Conv2D)            (None, 240, 190, 32)      320       \n",
      "_________________________________________________________________\n",
      "max_pooling2d_6 (MaxPooling2 (None, 120, 95, 32)       0         \n",
      "_________________________________________________________________\n",
      "conv2d_7 (Conv2D)            (None, 118, 93, 32)       9248      \n",
      "_________________________________________________________________\n",
      "max_pooling2d_7 (MaxPooling2 (None, 59, 46, 32)        0         \n",
      "_________________________________________________________________\n",
      "conv2d_8 (Conv2D)            (None, 57, 44, 32)        9248      \n",
      "_________________________________________________________________\n",
      "max_pooling2d_8 (MaxPooling2 (None, 28, 22, 32)        0         \n",
      "_________________________________________________________________\n",
      "conv2d_9 (Conv2D)            (None, 26, 20, 64)        18496     \n",
      "_________________________________________________________________\n",
      "max_pooling2d_9 (MaxPooling2 (None, 13, 10, 64)        0         \n",
      "_________________________________________________________________\n",
      "conv2d_10 (Conv2D)           (None, 11, 8, 128)        73856     \n",
      "_________________________________________________________________\n",
      "max_pooling2d_10 (MaxPooling (None, 5, 4, 128)         0         \n",
      "_________________________________________________________________\n",
      "flatten_2 (Flatten)          (None, 2560)              0         \n",
      "_________________________________________________________________\n",
      "dropout_3 (Dropout)          (None, 2560)              0         \n",
      "_________________________________________________________________\n",
      "dense_3 (Dense)              (None, 90)                230490    \n",
      "_________________________________________________________________\n",
      "dense_4 (Dense)              (None, 1)                 91        \n",
      "=================================================================\n",
      "Total params: 341,749\n",
      "Trainable params: 341,749\n",
      "Non-trainable params: 0\n",
      "_________________________________________________________________\n"
     ]
    }
   ],
   "source": [
    "model_v1 = models.Sequential()\n",
    "model_v1.add(layers.Conv2D(32,(3,3), activation='relu', input_shape=(window_y, window_x, 1)))\n",
    "model_v1.add(layers.MaxPooling2D((2,2)))\n",
    "model_v1.add(layers.Conv2D(32,(3,3), activation='relu'))\n",
    "model_v1.add(layers.MaxPooling2D((2,2)))\n",
    "model_v1.add(layers.Conv2D(32,(3,3), activation='relu'))\n",
    "model_v1.add(layers.MaxPooling2D((2,2)))\n",
    "model_v1.add(layers.Conv2D(64,(3,3), activation='relu'))\n",
    "model_v1.add(layers.MaxPooling2D((2,2)))\n",
    "model_v1.add(layers.Conv2D(128,(3,3), activation='relu'))\n",
    "model_v1.add(layers.MaxPooling2D((2,2)))\n",
    "\n",
    "model_v1.add(layers.Flatten())\n",
    "model_v1.add(layers.Dropout((0.5)))\n",
    "model_v1.add(layers.Dense(units= 90, activation='relu'))\n",
    "#model_v1.add(layers.Dropout((0.5)))\n",
    "model_v1.add(layers.Dense(units= 1, activation='sigmoid'))\n",
    "model_v1.summary()"
   ]
  },
  {
   "cell_type": "code",
   "execution_count": 28,
   "metadata": {},
   "outputs": [],
   "source": [
    "model_v1.compile(optimizer=optimizers.RMSprop(lr= 1e-3),loss='binary_crossentropy', metrics=['acc'])"
   ]
  },
  {
   "cell_type": "code",
   "execution_count": 29,
   "metadata": {},
   "outputs": [],
   "source": [
    "my_callbacks = [\n",
    "    callbacks.EarlyStopping(patience=7)\n",
    "]"
   ]
  },
  {
   "cell_type": "code",
   "execution_count": 30,
   "metadata": {
    "scrolled": true
   },
   "outputs": [
    {
     "name": "stdout",
     "output_type": "stream",
     "text": [
      "Epoch 1/40\n",
      "103/103 [==============================] - 139s 1s/step - loss: 0.6678 - acc: 0.5933 - val_loss: 0.6530 - val_acc: 0.6291\n",
      "Epoch 2/40\n",
      "103/103 [==============================] - 140s 1s/step - loss: 0.5950 - acc: 0.6921 - val_loss: 0.5490 - val_acc: 0.6916\n",
      "Epoch 3/40\n",
      "103/103 [==============================] - 138s 1s/step - loss: 0.5723 - acc: 0.7078 - val_loss: 0.5939 - val_acc: 0.6949\n",
      "Epoch 4/40\n",
      "103/103 [==============================] - 134s 1s/step - loss: 0.5455 - acc: 0.7224 - val_loss: 0.4785 - val_acc: 0.7238\n",
      "Epoch 5/40\n",
      "103/103 [==============================] - 131s 1s/step - loss: 0.5084 - acc: 0.7471 - val_loss: 0.5309 - val_acc: 0.7188\n",
      "Epoch 6/40\n",
      "103/103 [==============================] - 133s 1s/step - loss: 0.4946 - acc: 0.7599 - val_loss: 0.7054 - val_acc: 0.6930\n",
      "Epoch 7/40\n",
      "103/103 [==============================] - 133s 1s/step - loss: 0.4448 - acc: 0.7890 - val_loss: 0.4575 - val_acc: 0.7675\n",
      "Epoch 8/40\n",
      "103/103 [==============================] - 135s 1s/step - loss: 0.4439 - acc: 0.7988 - val_loss: 0.9787 - val_acc: 0.5740\n",
      "Epoch 9/40\n",
      "103/103 [==============================] - 131s 1s/step - loss: 0.4261 - acc: 0.8107 - val_loss: 0.4680 - val_acc: 0.7863\n",
      "Epoch 10/40\n",
      "103/103 [==============================] - 131s 1s/step - loss: 0.3863 - acc: 0.8322 - val_loss: 0.3955 - val_acc: 0.7914\n",
      "Epoch 11/40\n",
      "103/103 [==============================] - 131s 1s/step - loss: 0.3702 - acc: 0.8390 - val_loss: 0.5609 - val_acc: 0.8006\n",
      "Epoch 12/40\n",
      "103/103 [==============================] - 133s 1s/step - loss: 0.3517 - acc: 0.8497 - val_loss: 0.7632 - val_acc: 0.7408\n",
      "Epoch 13/40\n",
      "103/103 [==============================] - 129s 1s/step - loss: 0.3326 - acc: 0.8535 - val_loss: 1.3360 - val_acc: 0.6645\n",
      "Epoch 14/40\n",
      "103/103 [==============================] - 133s 1s/step - loss: 0.3396 - acc: 0.8632 - val_loss: 0.5084 - val_acc: 0.7808\n",
      "Epoch 15/40\n",
      "103/103 [==============================] - 129s 1s/step - loss: 0.3033 - acc: 0.8721 - val_loss: 0.5330 - val_acc: 0.8116\n",
      "Epoch 16/40\n",
      "103/103 [==============================] - 144s 1s/step - loss: 0.3099 - acc: 0.8732 - val_loss: 0.8985 - val_acc: 0.7831\n",
      "Epoch 17/40\n",
      "103/103 [==============================] - 151s 1s/step - loss: 0.2981 - acc: 0.8796 - val_loss: 0.3201 - val_acc: 0.7895\n",
      "Epoch 18/40\n",
      "103/103 [==============================] - 133s 1s/step - loss: 0.2476 - acc: 0.9005 - val_loss: 0.3261 - val_acc: 0.7661\n",
      "Epoch 19/40\n",
      "103/103 [==============================] - 129s 1s/step - loss: 0.2684 - acc: 0.8912 - val_loss: 0.3724 - val_acc: 0.8033\n",
      "Epoch 20/40\n",
      "103/103 [==============================] - 128s 1s/step - loss: 0.2652 - acc: 0.8993 - val_loss: 0.3494 - val_acc: 0.8130\n",
      "Epoch 21/40\n",
      "103/103 [==============================] - 131s 1s/step - loss: 0.2220 - acc: 0.9123 - val_loss: 0.4132 - val_acc: 0.8042\n",
      "Epoch 22/40\n",
      "103/103 [==============================] - 131s 1s/step - loss: 0.2233 - acc: 0.9090 - val_loss: 0.5722 - val_acc: 0.8143\n",
      "Epoch 23/40\n",
      "103/103 [==============================] - 131s 1s/step - loss: 0.2405 - acc: 0.9125 - val_loss: 0.4664 - val_acc: 0.7914\n",
      "Epoch 24/40\n",
      "103/103 [==============================] - 129s 1s/step - loss: 0.2246 - acc: 0.9154 - val_loss: 0.3630 - val_acc: 0.8130\n"
     ]
    }
   ],
   "source": [
    "historyv1 = model_v1.fit_generator(train_gen, epochs=40, validation_data=val_gen, \n",
    "                                   steps_per_epoch= 103, validation_steps= 34, callbacks = my_callbacks)"
   ]
  },
  {
   "cell_type": "code",
   "execution_count": 31,
   "metadata": {},
   "outputs": [],
   "source": [
    "model_v1.save('models/e_mu_v1.h5')"
   ]
  },
  {
   "cell_type": "markdown",
   "metadata": {},
   "source": [
    "* Creating the testing data from the data generator:"
   ]
  },
  {
   "cell_type": "code",
   "execution_count": 14,
   "metadata": {},
   "outputs": [],
   "source": [
    "path_t = 'eVSmu_2test/'\n",
    "files_t = os.listdir(path_t)\n",
    "\n",
    "X = np.empty(shape=(len(files_t),), dtype=object)\n",
    "\n",
    "for index, file in enumerate(files_t):     \n",
    "    X[index] = os.path.join(path_t, files_t[index]) "
   ]
  },
  {
   "cell_type": "code",
   "execution_count": 15,
   "metadata": {},
   "outputs": [
    {
     "data": {
      "text/plain": [
       "(35,)"
      ]
     },
     "execution_count": 15,
     "metadata": {},
     "output_type": "execute_result"
    }
   ],
   "source": [
    "X.shape"
   ]
  },
  {
   "cell_type": "code",
   "execution_count": 16,
   "metadata": {},
   "outputs": [],
   "source": [
    "test_gen = data_generator2(inputs=X)"
   ]
  },
  {
   "cell_type": "markdown",
   "metadata": {},
   "source": [
    "Now we can evaluate model to get the accuracy in the test date:"
   ]
  },
  {
   "cell_type": "code",
   "execution_count": 35,
   "metadata": {},
   "outputs": [
    {
     "name": "stdout",
     "output_type": "stream",
     "text": [
      "Accuracy with the model: 82.72%\n"
     ]
    }
   ],
   "source": [
    "loss, acc = model_v1.evaluate_generator(test_gen, steps=35)\n",
    "print('Accuracy with the model: {:5.2f}%'.format(100*acc))"
   ]
  },
  {
   "cell_type": "markdown",
   "metadata": {},
   "source": [
    "Finally we predict, to draw the confusion matrix:"
   ]
  },
  {
   "cell_type": "code",
   "execution_count": 17,
   "metadata": {},
   "outputs": [],
   "source": [
    "def test_generator(inputs, shuffle=True):\n",
    "    while True:\n",
    "    # Create list of indices\n",
    "        idxs = np.arange(len(inputs))\n",
    "        if shuffle:\n",
    "            np.random.shuffle(idxs)\n",
    "        \n",
    "        list_labels = []\n",
    "        \n",
    "        for i in idxs:\n",
    "            batch_X = []\n",
    "\n",
    "            data = np.load(inputs[i])['X']\n",
    "            label = np.load(inputs[i])['y']\n",
    "            batch_X.append(data)\n",
    "\n",
    "\n",
    "            batch_X = np.array(batch_X)\n",
    "            batch_X = batch_X.reshape((batch_X.shape[1],batch_X.shape[2], batch_X.shape[3], batch_X.shape[4]))\n",
    "            batch_y = label\n",
    "            list_labels.append(batch_y)\n",
    "            \n",
    "            yield batch_X, batch_y\n",
    "            \n",
    "        list_labels = np.array(list_labels)\n",
    "        list_labels.flatten()\n",
    "        np.save('y_labels' , list_labels)"
   ]
  },
  {
   "cell_type": "code",
   "execution_count": 18,
   "metadata": {},
   "outputs": [],
   "source": [
    "def gen_true_y():\n",
    "    true_labels = np.load('y_labels.npy')\n",
    "    true_labels = true_labels.reshape(true_labels.shape[0]*true_labels.shape[1],1)\n",
    "    \n",
    "    return true_labels"
   ]
  },
  {
   "cell_type": "code",
   "execution_count": 38,
   "metadata": {},
   "outputs": [],
   "source": [
    "y_predicted1 = model_v1.predict_generator(test_generator(X), steps=35)\n",
    "\n",
    "y_predicted1[np.where(y_predicted1>=0.5)] = 1\n",
    "y_predicted1[np.where(y_predicted1<0.5)] = 0\n",
    "\n",
    "true_labels = gen_true_y()"
   ]
  },
  {
   "cell_type": "code",
   "execution_count": 39,
   "metadata": {},
   "outputs": [
    {
     "data": {
      "image/png": "[encoded data removed]",
      "text/plain": [
       "<Figure size 576x432 with 2 Axes>"
      ]
     },
     "metadata": {
      "needs_background": "light"
     },
     "output_type": "display_data"
    }
   ],
   "source": [
    "conf1 = confusion_matrix(true_labels, y_predicted1, labels = list([0,1]))\n",
    "plot_confusion_matrix(cm           = conf1, \n",
    "                      normalize    = False,\n",
    "                      target_names = ['muon','electron'],\n",
    "                      title        = \"Confusion Matrix\")"
   ]
  },
  {
   "cell_type": "code",
   "execution_count": 40,
   "metadata": {},
   "outputs": [
    {
     "data": {
      "image/png": "[encoded data removed]",
      "text/plain": [
       "<Figure size 432x288 with 1 Axes>"
      ]
     },
     "metadata": {
      "needs_background": "light"
     },
     "output_type": "display_data"
    }
   ],
   "source": [
    "history_n1 = historyv1.history\n",
    "loss_values_n1 = history_n1['loss']\n",
    "val_loss_values_n1 = history_n1['val_loss']\n",
    "epochs_n1 = range(1, len(loss_values_n1) + 1)\n",
    "plt.plot(epochs_n1, loss_values_n1, 'bo', label='Training loss')\n",
    "plt.plot(epochs_n1, val_loss_values_n1, 'b', label='Validation loss')\n",
    "plt.title('Training and validation loss')\n",
    "plt.xlabel('Epochs')\n",
    "plt.ylabel('Loss')\n",
    "plt.legend()\n",
    "plt.show()"
   ]
  },
  {
   "cell_type": "markdown",
   "metadata": {},
   "source": [
    "### Second model: 92 neurons, bigger lr"
   ]
  },
  {
   "cell_type": "code",
   "execution_count": 73,
   "metadata": {
    "scrolled": true
   },
   "outputs": [
    {
     "name": "stdout",
     "output_type": "stream",
     "text": [
      "Model: \"sequential_7\"\n",
      "_________________________________________________________________\n",
      "Layer (type)                 Output Shape              Param #   \n",
      "=================================================================\n",
      "conv2d_31 (Conv2D)           (None, 240, 190, 32)      320       \n",
      "_________________________________________________________________\n",
      "max_pooling2d_31 (MaxPooling (None, 120, 95, 32)       0         \n",
      "_________________________________________________________________\n",
      "conv2d_32 (Conv2D)           (None, 118, 93, 32)       9248      \n",
      "_________________________________________________________________\n",
      "max_pooling2d_32 (MaxPooling (None, 59, 46, 32)        0         \n",
      "_________________________________________________________________\n",
      "conv2d_33 (Conv2D)           (None, 57, 44, 64)        18496     \n",
      "_________________________________________________________________\n",
      "max_pooling2d_33 (MaxPooling (None, 28, 22, 64)        0         \n",
      "_________________________________________________________________\n",
      "conv2d_34 (Conv2D)           (None, 26, 20, 64)        36928     \n",
      "_________________________________________________________________\n",
      "max_pooling2d_34 (MaxPooling (None, 13, 10, 64)        0         \n",
      "_________________________________________________________________\n",
      "conv2d_35 (Conv2D)           (None, 12, 9, 128)        32896     \n",
      "_________________________________________________________________\n",
      "max_pooling2d_35 (MaxPooling (None, 6, 4, 128)         0         \n",
      "_________________________________________________________________\n",
      "flatten_7 (Flatten)          (None, 3072)              0         \n",
      "_________________________________________________________________\n",
      "dropout_13 (Dropout)         (None, 3072)              0         \n",
      "_________________________________________________________________\n",
      "dense_13 (Dense)             (None, 92)                282716    \n",
      "_________________________________________________________________\n",
      "dropout_14 (Dropout)         (None, 92)                0         \n",
      "_________________________________________________________________\n",
      "dense_14 (Dense)             (None, 1)                 93        \n",
      "=================================================================\n",
      "Total params: 380,697\n",
      "Trainable params: 380,697\n",
      "Non-trainable params: 0\n",
      "_________________________________________________________________\n"
     ]
    }
   ],
   "source": [
    "model_v2 = models.Sequential()\n",
    "model_v2.add(layers.Conv2D(32,(3,3), activation='relu', input_shape=(window_y, window_x, 1)))\n",
    "model_v2.add(layers.MaxPooling2D((2,2)))\n",
    "model_v2.add(layers.Conv2D(32,(3,3), activation='relu'))\n",
    "model_v2.add(layers.MaxPooling2D((2,2)))\n",
    "model_v2.add(layers.Conv2D(64,(3,3), activation='relu'))\n",
    "model_v2.add(layers.MaxPooling2D((2,2)))\n",
    "model_v2.add(layers.Conv2D(64,(3,3), activation='relu'))\n",
    "model_v2.add(layers.MaxPooling2D((2,2)))\n",
    "model_v2.add(layers.Conv2D(128,(2,2), activation='relu'))\n",
    "model_v2.add(layers.MaxPooling2D((2,2)))\n",
    "\n",
    "model_v2.add(layers.Flatten())\n",
    "model_v2.add(layers.Dropout((0.5)))\n",
    "model_v2.add(layers.Dense(units= 92, activation='relu'))\n",
    "model_v2.add(layers.Dropout((0.5)))\n",
    "model_v2.add(layers.Dense(units= 1, activation='sigmoid'))\n",
    "model_v2.summary()"
   ]
  },
  {
   "cell_type": "code",
   "execution_count": 74,
   "metadata": {},
   "outputs": [],
   "source": [
    "model_v2.compile(optimizer=optimizers.RMSprop(lr= 1e-3),loss='binary_crossentropy', metrics=['acc'])"
   ]
  },
  {
   "cell_type": "code",
   "execution_count": 75,
   "metadata": {
    "scrolled": true
   },
   "outputs": [
    {
     "name": "stdout",
     "output_type": "stream",
     "text": [
      "Epoch 1/40\n",
      "103/103 [==============================] - 144s 1s/step - loss: 0.6763 - acc: 0.5981 - val_loss: 0.6027 - val_acc: 0.6337\n",
      "Epoch 2/40\n",
      "103/103 [==============================] - 152s 1s/step - loss: 0.6145 - acc: 0.6722 - val_loss: 0.5686 - val_acc: 0.6682\n",
      "Epoch 3/40\n",
      "103/103 [==============================] - 160s 2s/step - loss: 0.5823 - acc: 0.6968 - val_loss: 0.5788 - val_acc: 0.7008\n",
      "Epoch 4/40\n",
      "103/103 [==============================] - 141s 1s/step - loss: 0.5447 - acc: 0.7248 - val_loss: 0.5095 - val_acc: 0.7013\n",
      "Epoch 5/40\n",
      "103/103 [==============================] - 154s 1s/step - loss: 0.5283 - acc: 0.7385 - val_loss: 0.5245 - val_acc: 0.7358\n",
      "Epoch 6/40\n",
      "103/103 [==============================] - 151s 1s/step - loss: 0.5068 - acc: 0.7585 - val_loss: 0.4329 - val_acc: 0.7679\n",
      "Epoch 7/40\n",
      "103/103 [==============================] - 151s 1s/step - loss: 0.4602 - acc: 0.7834 - val_loss: 0.4754 - val_acc: 0.7339\n",
      "Epoch 8/40\n",
      "103/103 [==============================] - 153s 1s/step - loss: 0.4165 - acc: 0.8046 - val_loss: 0.4455 - val_acc: 0.7739\n",
      "Epoch 9/40\n",
      "103/103 [==============================] - 154s 1s/step - loss: 0.3981 - acc: 0.8201 - val_loss: 0.7787 - val_acc: 0.6650\n",
      "Epoch 10/40\n",
      "103/103 [==============================] - 143s 1s/step - loss: 0.3788 - acc: 0.8304 - val_loss: 0.4312 - val_acc: 0.7578\n",
      "Epoch 11/40\n",
      "103/103 [==============================] - 142s 1s/step - loss: 0.3756 - acc: 0.8409 - val_loss: 0.5755 - val_acc: 0.8051\n",
      "Epoch 12/40\n",
      "103/103 [==============================] - 147s 1s/step - loss: 0.3415 - acc: 0.8524 - val_loss: 0.7655 - val_acc: 0.7652\n",
      "Epoch 13/40\n",
      "103/103 [==============================] - 142s 1s/step - loss: 0.3373 - acc: 0.8556 - val_loss: 0.6478 - val_acc: 0.8065\n",
      "Epoch 14/40\n",
      "103/103 [==============================] - 142s 1s/step - loss: 0.3362 - acc: 0.8610 - val_loss: 0.3336 - val_acc: 0.7955\n",
      "Epoch 15/40\n",
      "103/103 [==============================] - 141s 1s/step - loss: 0.3158 - acc: 0.8761 - val_loss: 0.4997 - val_acc: 0.7780\n",
      "Epoch 16/40\n",
      "103/103 [==============================] - 141s 1s/step - loss: 0.2770 - acc: 0.8821 - val_loss: 0.4302 - val_acc: 0.8153\n",
      "Epoch 17/40\n",
      "103/103 [==============================] - 141s 1s/step - loss: 0.2820 - acc: 0.8820 - val_loss: 0.5702 - val_acc: 0.7137\n",
      "Epoch 18/40\n",
      "103/103 [==============================] - 141s 1s/step - loss: 0.2877 - acc: 0.8879 - val_loss: 0.5338 - val_acc: 0.8120\n",
      "Epoch 19/40\n",
      "103/103 [==============================] - 141s 1s/step - loss: 0.2837 - acc: 0.8927 - val_loss: 0.2748 - val_acc: 0.8222\n",
      "Epoch 20/40\n",
      "103/103 [==============================] - 141s 1s/step - loss: 0.2733 - acc: 0.8979 - val_loss: 0.4766 - val_acc: 0.8024\n",
      "Epoch 21/40\n",
      "103/103 [==============================] - 141s 1s/step - loss: 0.2626 - acc: 0.8978 - val_loss: 0.4191 - val_acc: 0.8134\n",
      "Epoch 22/40\n",
      "103/103 [==============================] - 140s 1s/step - loss: 0.2571 - acc: 0.9052 - val_loss: 0.4747 - val_acc: 0.8194\n",
      "Epoch 23/40\n",
      "103/103 [==============================] - 141s 1s/step - loss: 0.2149 - acc: 0.9129 - val_loss: 0.9067 - val_acc: 0.7776\n",
      "Epoch 24/40\n",
      "103/103 [==============================] - 140s 1s/step - loss: 0.3114 - acc: 0.9064 - val_loss: 0.1634 - val_acc: 0.8295\n",
      "Epoch 25/40\n",
      "103/103 [==============================] - 140s 1s/step - loss: 0.2142 - acc: 0.9155 - val_loss: 0.5993 - val_acc: 0.8244\n",
      "Epoch 26/40\n",
      "103/103 [==============================] - 149s 1s/step - loss: 0.2264 - acc: 0.9137 - val_loss: 0.3954 - val_acc: 0.8166\n",
      "Epoch 27/40\n",
      "103/103 [==============================] - 155s 2s/step - loss: 0.2295 - acc: 0.9164 - val_loss: 0.8122 - val_acc: 0.8263\n",
      "Epoch 28/40\n",
      "103/103 [==============================] - 153s 1s/step - loss: 0.2424 - acc: 0.9193 - val_loss: 0.4411 - val_acc: 0.8134\n",
      "Epoch 29/40\n",
      "103/103 [==============================] - 147s 1s/step - loss: 0.2114 - acc: 0.9248 - val_loss: 0.7301 - val_acc: 0.8199\n",
      "Epoch 30/40\n",
      "103/103 [==============================] - 143s 1s/step - loss: 0.2045 - acc: 0.9248 - val_loss: 1.0410 - val_acc: 0.7344\n",
      "Epoch 31/40\n",
      "103/103 [==============================] - 144s 1s/step - loss: 0.1955 - acc: 0.9266 - val_loss: 0.5253 - val_acc: 0.8346\n"
     ]
    }
   ],
   "source": [
    "historyv2 = model_v2.fit_generator(train_gen, epochs=40, validation_data=val_gen, \n",
    "                                   steps_per_epoch= 103, validation_steps= 34,callbacks=my_callbacks)"
   ]
  },
  {
   "cell_type": "code",
   "execution_count": 76,
   "metadata": {},
   "outputs": [],
   "source": [
    "model_v2.save('models/e_mu_v2.h5')"
   ]
  },
  {
   "cell_type": "code",
   "execution_count": 77,
   "metadata": {},
   "outputs": [
    {
     "name": "stdout",
     "output_type": "stream",
     "text": [
      "Accuracy with the model: 84.73%\n"
     ]
    }
   ],
   "source": [
    "loss, acc = model_v2.evaluate_generator(test_gen, steps=35)\n",
    "print('Accuracy with the model: {:5.2f}%'.format(100*acc))"
   ]
  },
  {
   "cell_type": "code",
   "execution_count": 78,
   "metadata": {},
   "outputs": [],
   "source": [
    "y_predicted2 = model_v2.predict_generator(test_generator(X), steps=35)\n",
    "\n",
    "y_predicted2[np.where(y_predicted2>=0.5)] = 1\n",
    "y_predicted2[np.where(y_predicted2<0.5)] = 0\n",
    "\n",
    "true_labels = gen_true_y()"
   ]
  },
  {
   "cell_type": "code",
   "execution_count": 79,
   "metadata": {},
   "outputs": [
    {
     "data": {
      "image/png": "[encoded data removed]",
      "text/plain": [
       "<Figure size 576x432 with 2 Axes>"
      ]
     },
     "metadata": {
      "needs_background": "light"
     },
     "output_type": "display_data"
    }
   ],
   "source": [
    "conf2 = confusion_matrix(true_labels, y_predicted2, labels = list([0,1]))\n",
    "plot_confusion_matrix(cm           = conf2, \n",
    "                      normalize    = False,\n",
    "                      target_names = ['muon','electron'],\n",
    "                      title        = \"Confusion Matrix\")"
   ]
  },
  {
   "cell_type": "code",
   "execution_count": 80,
   "metadata": {},
   "outputs": [
    {
     "data": {
      "image/png": "[encoded data removed]",
      "text/plain": [
       "<Figure size 432x288 with 1 Axes>"
      ]
     },
     "metadata": {
      "needs_background": "light"
     },
     "output_type": "display_data"
    }
   ],
   "source": [
    "history_n1 = historyv2.history\n",
    "loss_values_n1 = history_n1['loss']\n",
    "val_loss_values_n1 = history_n1['val_loss']\n",
    "epochs_n1 = range(1, len(loss_values_n1) + 1)\n",
    "plt.plot(epochs_n1, loss_values_n1, 'bo', label='Training loss')\n",
    "plt.plot(epochs_n1, val_loss_values_n1, 'b', label='Validation loss')\n",
    "plt.title('Training and validation loss')\n",
    "plt.xlabel('Epochs')\n",
    "plt.ylabel('Loss')\n",
    "plt.legend()\n",
    "plt.show()"
   ]
  },
  {
   "cell_type": "markdown",
   "metadata": {},
   "source": [
    "### Model 6: 102 neurons, bigger lr"
   ]
  },
  {
   "cell_type": "code",
   "execution_count": 26,
   "metadata": {
    "scrolled": true
   },
   "outputs": [
    {
     "name": "stdout",
     "output_type": "stream",
     "text": [
      "Model: \"sequential_2\"\n",
      "_________________________________________________________________\n",
      "Layer (type)                 Output Shape              Param #   \n",
      "=================================================================\n",
      "conv2d_6 (Conv2D)            (None, 240, 190, 32)      320       \n",
      "_________________________________________________________________\n",
      "max_pooling2d_6 (MaxPooling2 (None, 120, 95, 32)       0         \n",
      "_________________________________________________________________\n",
      "conv2d_7 (Conv2D)            (None, 118, 93, 32)       9248      \n",
      "_________________________________________________________________\n",
      "max_pooling2d_7 (MaxPooling2 (None, 59, 46, 32)        0         \n",
      "_________________________________________________________________\n",
      "conv2d_8 (Conv2D)            (None, 57, 44, 64)        18496     \n",
      "_________________________________________________________________\n",
      "max_pooling2d_8 (MaxPooling2 (None, 28, 22, 64)        0         \n",
      "_________________________________________________________________\n",
      "conv2d_9 (Conv2D)            (None, 26, 20, 64)        36928     \n",
      "_________________________________________________________________\n",
      "max_pooling2d_9 (MaxPooling2 (None, 13, 10, 64)        0         \n",
      "_________________________________________________________________\n",
      "conv2d_10 (Conv2D)           (None, 12, 9, 128)        32896     \n",
      "_________________________________________________________________\n",
      "max_pooling2d_10 (MaxPooling (None, 6, 4, 128)         0         \n",
      "_________________________________________________________________\n",
      "flatten_2 (Flatten)          (None, 3072)              0         \n",
      "_________________________________________________________________\n",
      "dropout_3 (Dropout)          (None, 3072)              0         \n",
      "_________________________________________________________________\n",
      "dense_3 (Dense)              (None, 102)               313446    \n",
      "_________________________________________________________________\n",
      "dropout_4 (Dropout)          (None, 102)               0         \n",
      "_________________________________________________________________\n",
      "dense_4 (Dense)              (None, 1)                 103       \n",
      "=================================================================\n",
      "Total params: 411,437\n",
      "Trainable params: 411,437\n",
      "Non-trainable params: 0\n",
      "_________________________________________________________________\n"
     ]
    }
   ],
   "source": [
    "model_v6 = models.Sequential()\n",
    "model_v6.add(layers.Conv2D(32,(3,3), activation='relu', input_shape=(window_y, window_x, 1)))\n",
    "model_v6.add(layers.MaxPooling2D((2,2)))\n",
    "model_v6.add(layers.Conv2D(32,(3,3), activation='relu'))\n",
    "model_v6.add(layers.MaxPooling2D((2,2)))\n",
    "model_v6.add(layers.Conv2D(64,(3,3), activation='relu'))\n",
    "model_v6.add(layers.MaxPooling2D((2,2)))\n",
    "model_v6.add(layers.Conv2D(64,(3,3), activation='relu'))\n",
    "model_v6.add(layers.MaxPooling2D((2,2)))\n",
    "model_v6.add(layers.Conv2D(128,(2,2), activation='relu'))\n",
    "model_v6.add(layers.MaxPooling2D((2,2)))\n",
    "\n",
    "model_v6.add(layers.Flatten())\n",
    "model_v6.add(layers.Dropout((0.5)))\n",
    "model_v6.add(layers.Dense(units= 102, activation='relu'))\n",
    "model_v6.add(layers.Dropout((0.5)))\n",
    "model_v6.add(layers.Dense(units= 1, activation='sigmoid'))\n",
    "model_v6.summary()"
   ]
  },
  {
   "cell_type": "code",
   "execution_count": 27,
   "metadata": {},
   "outputs": [],
   "source": [
    "model_v6.compile(optimizer=optimizers.RMSprop(lr= 1e-3),loss='binary_crossentropy', metrics=['acc'])"
   ]
  },
  {
   "cell_type": "code",
   "execution_count": 28,
   "metadata": {
    "scrolled": true
   },
   "outputs": [
    {
     "name": "stdout",
     "output_type": "stream",
     "text": [
      "Epoch 1/35\n",
      "103/103 [==============================] - 140s 1s/step - loss: 0.6749 - acc: 0.5901 - val_loss: 0.6378 - val_acc: 0.6526\n",
      "Epoch 2/35\n",
      "103/103 [==============================] - 143s 1s/step - loss: 0.6022 - acc: 0.6826 - val_loss: 0.6298 - val_acc: 0.6677\n",
      "Epoch 3/35\n",
      "103/103 [==============================] - 148s 1s/step - loss: 0.5628 - acc: 0.7148 - val_loss: 0.4493 - val_acc: 0.7348\n",
      "Epoch 4/35\n",
      "103/103 [==============================] - 154s 1s/step - loss: 0.5464 - acc: 0.7374 - val_loss: 0.4280 - val_acc: 0.7275\n",
      "Epoch 5/35\n",
      "103/103 [==============================] - 141s 1s/step - loss: 0.4984 - acc: 0.7568 - val_loss: 0.4805 - val_acc: 0.7679\n",
      "Epoch 6/35\n",
      "103/103 [==============================] - 140s 1s/step - loss: 0.4806 - acc: 0.7776 - val_loss: 0.5769 - val_acc: 0.7638\n",
      "Epoch 7/35\n",
      "103/103 [==============================] - 140s 1s/step - loss: 0.4290 - acc: 0.7990 - val_loss: 0.4385 - val_acc: 0.7858\n",
      "Epoch 8/35\n",
      "103/103 [==============================] - 140s 1s/step - loss: 0.4236 - acc: 0.8089 - val_loss: 0.3924 - val_acc: 0.7872\n",
      "Epoch 9/35\n",
      "103/103 [==============================] - 139s 1s/step - loss: 0.4081 - acc: 0.8210 - val_loss: 0.4893 - val_acc: 0.7996\n",
      "Epoch 10/35\n",
      "103/103 [==============================] - 138s 1s/step - loss: 0.3772 - acc: 0.8392 - val_loss: 0.3560 - val_acc: 0.7868\n",
      "Epoch 11/35\n",
      "103/103 [==============================] - 138s 1s/step - loss: 0.3540 - acc: 0.8431 - val_loss: 0.5407 - val_acc: 0.7500\n",
      "Epoch 12/35\n",
      "103/103 [==============================] - 138s 1s/step - loss: 0.3331 - acc: 0.8553 - val_loss: 1.3350 - val_acc: 0.6062\n",
      "Epoch 13/35\n",
      "103/103 [==============================] - 138s 1s/step - loss: 0.3316 - acc: 0.8618 - val_loss: 0.3904 - val_acc: 0.8125\n",
      "Epoch 14/35\n",
      "103/103 [==============================] - 140s 1s/step - loss: 0.2934 - acc: 0.8767 - val_loss: 0.6271 - val_acc: 0.7647\n",
      "Epoch 15/35\n",
      "103/103 [==============================] - 142s 1s/step - loss: 0.3040 - acc: 0.8695 - val_loss: 0.7161 - val_acc: 0.8102\n",
      "Epoch 16/35\n",
      "103/103 [==============================] - 141s 1s/step - loss: 0.2783 - acc: 0.8858 - val_loss: 0.3749 - val_acc: 0.8120\n",
      "Epoch 17/35\n",
      "103/103 [==============================] - 139s 1s/step - loss: 0.3089 - acc: 0.8864 - val_loss: 0.9362 - val_acc: 0.8153\n"
     ]
    }
   ],
   "source": [
    "historyv6 = model_v6.fit_generator(train_gen, epochs=35, validation_data=val_gen, \n",
    "                                   steps_per_epoch= 103, validation_steps= 34,callbacks=my_callbacks)"
   ]
  },
  {
   "cell_type": "code",
   "execution_count": 29,
   "metadata": {},
   "outputs": [],
   "source": [
    "model_v6.save('models/e_mu_n_v6.h5')"
   ]
  },
  {
   "cell_type": "code",
   "execution_count": 30,
   "metadata": {},
   "outputs": [
    {
     "name": "stdout",
     "output_type": "stream",
     "text": [
      "Accuracy with the model: 82.63%\n"
     ]
    }
   ],
   "source": [
    "loss, acc = model_v6.evaluate_generator(test_gen, steps=35)\n",
    "print('Accuracy with the model: {:5.2f}%'.format(100*acc))"
   ]
  },
  {
   "cell_type": "code",
   "execution_count": 31,
   "metadata": {},
   "outputs": [],
   "source": [
    "y_predicted6 = model_v6.predict_generator(test_generator(X), steps=35)\n",
    "\n",
    "y_predicted6[np.where(y_predicted6>=0.5)] = 1\n",
    "y_predicted6[np.where(y_predicted6<0.5)] = 0\n",
    "\n",
    "true_labels = gen_true_y()"
   ]
  },
  {
   "cell_type": "code",
   "execution_count": 32,
   "metadata": {},
   "outputs": [
    {
     "data": {
      "image/png": "[encoded data removed]",
      "text/plain": [
       "<Figure size 576x432 with 2 Axes>"
      ]
     },
     "metadata": {
      "needs_background": "light"
     },
     "output_type": "display_data"
    }
   ],
   "source": [
    "conf6 = confusion_matrix(true_labels, y_predicted6, labels = list([0,1]))\n",
    "plot_confusion_matrix(cm           = conf6, \n",
    "                      normalize    = False,\n",
    "                      target_names = ['muon','electron'],\n",
    "                      title        = \"Confusion Matrix\")"
   ]
  },
  {
   "cell_type": "code",
   "execution_count": 33,
   "metadata": {},
   "outputs": [
    {
     "data": {
      "image/png": "[encoded data removed]",
      "text/plain": [
       "<Figure size 432x288 with 1 Axes>"
      ]
     },
     "metadata": {
      "needs_background": "light"
     },
     "output_type": "display_data"
    }
   ],
   "source": [
    "history_n1 = historyv6.history\n",
    "loss_values_n1 = history_n1['loss']\n",
    "val_loss_values_n1 = history_n1['val_loss']\n",
    "epochs_n1 = range(1, len(loss_values_n1) + 1)\n",
    "plt.plot(epochs_n1, loss_values_n1, 'bo', label='Training loss')\n",
    "plt.plot(epochs_n1, val_loss_values_n1, 'b', label='Validation loss')\n",
    "plt.title('Training and validation loss')\n",
    "plt.xlabel('Epochs')\n",
    "plt.ylabel('Loss')\n",
    "plt.legend()\n",
    "plt.show()"
   ]
  },
  {
   "cell_type": "markdown",
   "metadata": {},
   "source": [
    "### Model 7: 102 neurons, small lr"
   ]
  },
  {
   "cell_type": "code",
   "execution_count": 81,
   "metadata": {
    "scrolled": true
   },
   "outputs": [
    {
     "name": "stdout",
     "output_type": "stream",
     "text": [
      "Model: \"sequential_8\"\n",
      "_________________________________________________________________\n",
      "Layer (type)                 Output Shape              Param #   \n",
      "=================================================================\n",
      "conv2d_36 (Conv2D)           (None, 240, 190, 32)      320       \n",
      "_________________________________________________________________\n",
      "max_pooling2d_36 (MaxPooling (None, 120, 95, 32)       0         \n",
      "_________________________________________________________________\n",
      "conv2d_37 (Conv2D)           (None, 118, 93, 32)       9248      \n",
      "_________________________________________________________________\n",
      "max_pooling2d_37 (MaxPooling (None, 59, 46, 32)        0         \n",
      "_________________________________________________________________\n",
      "conv2d_38 (Conv2D)           (None, 57, 44, 64)        18496     \n",
      "_________________________________________________________________\n",
      "max_pooling2d_38 (MaxPooling (None, 28, 22, 64)        0         \n",
      "_________________________________________________________________\n",
      "conv2d_39 (Conv2D)           (None, 26, 20, 64)        36928     \n",
      "_________________________________________________________________\n",
      "max_pooling2d_39 (MaxPooling (None, 13, 10, 64)        0         \n",
      "_________________________________________________________________\n",
      "conv2d_40 (Conv2D)           (None, 12, 9, 128)        32896     \n",
      "_________________________________________________________________\n",
      "max_pooling2d_40 (MaxPooling (None, 6, 4, 128)         0         \n",
      "_________________________________________________________________\n",
      "flatten_8 (Flatten)          (None, 3072)              0         \n",
      "_________________________________________________________________\n",
      "dropout_15 (Dropout)         (None, 3072)              0         \n",
      "_________________________________________________________________\n",
      "dense_15 (Dense)             (None, 102)               313446    \n",
      "_________________________________________________________________\n",
      "dropout_16 (Dropout)         (None, 102)               0         \n",
      "_________________________________________________________________\n",
      "dense_16 (Dense)             (None, 1)                 103       \n",
      "=================================================================\n",
      "Total params: 411,437\n",
      "Trainable params: 411,437\n",
      "Non-trainable params: 0\n",
      "_________________________________________________________________\n"
     ]
    }
   ],
   "source": [
    "model_v7 = models.Sequential()\n",
    "model_v7.add(layers.Conv2D(32,(3,3), activation='relu', input_shape=(window_y, window_x, 1)))\n",
    "model_v7.add(layers.MaxPooling2D((2,2)))\n",
    "model_v7.add(layers.Conv2D(32,(3,3), activation='relu'))\n",
    "model_v7.add(layers.MaxPooling2D((2,2)))\n",
    "model_v7.add(layers.Conv2D(64,(3,3), activation='relu'))\n",
    "model_v7.add(layers.MaxPooling2D((2,2)))\n",
    "model_v7.add(layers.Conv2D(64,(3,3), activation='relu'))\n",
    "model_v7.add(layers.MaxPooling2D((2,2)))\n",
    "model_v7.add(layers.Conv2D(128,(2,2), activation='relu'))\n",
    "model_v7.add(layers.MaxPooling2D((2,2)))\n",
    "\n",
    "model_v7.add(layers.Flatten())\n",
    "model_v7.add(layers.Dropout((0.5)))\n",
    "model_v7.add(layers.Dense(units= 102, activation='relu'))\n",
    "model_v7.add(layers.Dropout((0.5)))\n",
    "model_v7.add(layers.Dense(units= 1, activation='sigmoid'))\n",
    "model_v7.summary()"
   ]
  },
  {
   "cell_type": "code",
   "execution_count": 20,
   "metadata": {},
   "outputs": [],
   "source": [
    "model_v7.compile(optimizer=optimizers.RMSprop(lr= 1e-3),loss='binary_crossentropy', metrics=['acc'])"
   ]
  },
  {
   "cell_type": "code",
   "execution_count": 21,
   "metadata": {
    "scrolled": true
   },
   "outputs": [
    {
     "name": "stdout",
     "output_type": "stream",
     "text": [
      "Epoch 1/40\n",
      "103/103 [==============================] - 141s 1s/step - loss: 0.7180 - acc: 0.5170 - val_loss: 0.6968 - val_acc: 0.5538\n",
      "Epoch 2/40\n",
      "103/103 [==============================] - 148s 1s/step - loss: 0.6920 - acc: 0.5531 - val_loss: 0.6818 - val_acc: 0.5758\n",
      "Epoch 3/40\n",
      "103/103 [==============================] - 139s 1s/step - loss: 0.6795 - acc: 0.5787 - val_loss: 0.6683 - val_acc: 0.5915\n",
      "Epoch 4/40\n",
      "103/103 [==============================] - 139s 1s/step - loss: 0.6533 - acc: 0.6160 - val_loss: 0.6718 - val_acc: 0.6204\n",
      "Epoch 5/40\n",
      "103/103 [==============================] - 143s 1s/step - loss: 0.6186 - acc: 0.6540 - val_loss: 0.6240 - val_acc: 0.6507\n",
      "Epoch 6/40\n",
      "103/103 [==============================] - 146s 1s/step - loss: 0.6011 - acc: 0.6693 - val_loss: 0.5504 - val_acc: 0.6572\n",
      "Epoch 7/40\n",
      "103/103 [==============================] - 141s 1s/step - loss: 0.5882 - acc: 0.6817 - val_loss: 0.6211 - val_acc: 0.6581\n",
      "Epoch 8/40\n",
      "103/103 [==============================] - 149s 1s/step - loss: 0.5767 - acc: 0.6890 - val_loss: 0.5688 - val_acc: 0.6654\n",
      "Epoch 9/40\n",
      "103/103 [==============================] - 146s 1s/step - loss: 0.5649 - acc: 0.7062 - val_loss: 0.6034 - val_acc: 0.6824\n",
      "Epoch 10/40\n",
      "103/103 [==============================] - 145s 1s/step - loss: 0.5525 - acc: 0.7045 - val_loss: 0.5653 - val_acc: 0.6889\n",
      "Epoch 11/40\n",
      "103/103 [==============================] - 148s 1s/step - loss: 0.5412 - acc: 0.7189 - val_loss: 0.5602 - val_acc: 0.6751\n",
      "Epoch 12/40\n",
      "103/103 [==============================] - 147s 1s/step - loss: 0.5243 - acc: 0.7330 - val_loss: 0.5564 - val_acc: 0.6967\n",
      "Epoch 13/40\n",
      "103/103 [==============================] - 138s 1s/step - loss: 0.5150 - acc: 0.7426 - val_loss: 0.4692 - val_acc: 0.6893\n",
      "Epoch 14/40\n",
      "103/103 [==============================] - 137s 1s/step - loss: 0.4994 - acc: 0.7467 - val_loss: 0.6676 - val_acc: 0.6981\n",
      "Epoch 15/40\n",
      "103/103 [==============================] - 138s 1s/step - loss: 0.4870 - acc: 0.7596 - val_loss: 0.5554 - val_acc: 0.7151\n",
      "Epoch 16/40\n",
      "103/103 [==============================] - 139s 1s/step - loss: 0.4765 - acc: 0.7635 - val_loss: 0.4943 - val_acc: 0.7165\n",
      "Epoch 17/40\n",
      "103/103 [==============================] - 138s 1s/step - loss: 0.4670 - acc: 0.7721 - val_loss: 0.5904 - val_acc: 0.7123\n",
      "Epoch 18/40\n",
      "103/103 [==============================] - 136s 1s/step - loss: 0.4552 - acc: 0.7809 - val_loss: 0.4008 - val_acc: 0.7266\n",
      "Epoch 19/40\n",
      "103/103 [==============================] - 135s 1s/step - loss: 0.4490 - acc: 0.7820 - val_loss: 0.5051 - val_acc: 0.7224\n",
      "Epoch 20/40\n",
      "103/103 [==============================] - 136s 1s/step - loss: 0.4320 - acc: 0.7963 - val_loss: 0.5689 - val_acc: 0.6889\n",
      "Epoch 21/40\n",
      "103/103 [==============================] - 136s 1s/step - loss: 0.4236 - acc: 0.7985 - val_loss: 0.6801 - val_acc: 0.7031\n",
      "Epoch 22/40\n",
      "103/103 [==============================] - 135s 1s/step - loss: 0.4134 - acc: 0.8040 - val_loss: 0.6409 - val_acc: 0.7298\n",
      "Epoch 23/40\n",
      "103/103 [==============================] - 135s 1s/step - loss: 0.4077 - acc: 0.8102 - val_loss: 0.7628 - val_acc: 0.7339\n",
      "Epoch 24/40\n",
      "103/103 [==============================] - 140s 1s/step - loss: 0.3945 - acc: 0.8193 - val_loss: 0.4474 - val_acc: 0.7073\n",
      "Epoch 25/40\n",
      "103/103 [==============================] - 136s 1s/step - loss: 0.3916 - acc: 0.8215 - val_loss: 0.5562 - val_acc: 0.7275\n"
     ]
    }
   ],
   "source": [
    "historyv7 = model_v7.fit_generator(train_gen, epochs=40, validation_data=val_gen, \n",
    "                                   steps_per_epoch= 103, validation_steps= 34,callbacks=my_callbacks)"
   ]
  },
  {
   "cell_type": "code",
   "execution_count": 22,
   "metadata": {},
   "outputs": [],
   "source": [
    "model_v7.save('models/e_mu_n_v7.h5')"
   ]
  },
  {
   "cell_type": "code",
   "execution_count": 23,
   "metadata": {},
   "outputs": [
    {
     "name": "stdout",
     "output_type": "stream",
     "text": [
      "Accuracy with the model: 74.78%\n"
     ]
    }
   ],
   "source": [
    "loss, acc = model_v7.evaluate_generator(test_gen, steps=35)\n",
    "print('Accuracy with the model: {:5.2f}%'.format(100*acc))"
   ]
  },
  {
   "cell_type": "code",
   "execution_count": 24,
   "metadata": {},
   "outputs": [
    {
     "data": {
      "image/png": "[encoded data removed]",
      "text/plain": [
       "<Figure size 576x432 with 2 Axes>"
      ]
     },
     "metadata": {
      "needs_background": "light"
     },
     "output_type": "display_data"
    }
   ],
   "source": [
    "y_predicted7 = model_v7.predict_generator(test_generator(X), steps=35)\n",
    "\n",
    "y_predicted7[np.where(y_predicted7>=0.5)] = 1\n",
    "y_predicted7[np.where(y_predicted7<0.5)] = 0\n",
    "\n",
    "true_labels = gen_true_y()\n",
    "\n",
    "conf7 = confusion_matrix(true_labels, y_predicted7, labels = list([0,1]))\n",
    "plot_confusion_matrix(cm           = conf7, \n",
    "                      normalize    = False,\n",
    "                      target_names = ['muon','electron'],\n",
    "                      title        = \"Confusion Matrix\")"
   ]
  },
  {
   "cell_type": "code",
   "execution_count": 25,
   "metadata": {},
   "outputs": [
    {
     "data": {
      "image/png": "[encoded data removed]",
      "text/plain": [
       "<Figure size 432x288 with 1 Axes>"
      ]
     },
     "metadata": {
      "needs_background": "light"
     },
     "output_type": "display_data"
    }
   ],
   "source": [
    "history_n1 = historyv7.history\n",
    "loss_values_n1 = history_n1['loss']\n",
    "val_loss_values_n1 = history_n1['val_loss']\n",
    "epochs_n1 = range(1, len(loss_values_n1) + 1)\n",
    "plt.plot(epochs_n1, loss_values_n1, 'bo', label='Training loss')\n",
    "plt.plot(epochs_n1, val_loss_values_n1, 'b', label='Validation loss')\n",
    "plt.title('Training and validation loss')\n",
    "plt.xlabel('Epochs')\n",
    "plt.ylabel('Loss')\n",
    "plt.legend()\n",
    "plt.show()"
   ]
  },
  {
   "cell_type": "markdown",
   "metadata": {},
   "source": [
    "### Model 8: 302 neurons, bigger lr"
   ]
  },
  {
   "cell_type": "code",
   "execution_count": 34,
   "metadata": {
    "scrolled": true
   },
   "outputs": [
    {
     "name": "stdout",
     "output_type": "stream",
     "text": [
      "Model: \"sequential_3\"\n",
      "_________________________________________________________________\n",
      "Layer (type)                 Output Shape              Param #   \n",
      "=================================================================\n",
      "conv2d_11 (Conv2D)           (None, 240, 190, 32)      320       \n",
      "_________________________________________________________________\n",
      "max_pooling2d_11 (MaxPooling (None, 120, 95, 32)       0         \n",
      "_________________________________________________________________\n",
      "conv2d_12 (Conv2D)           (None, 118, 93, 32)       9248      \n",
      "_________________________________________________________________\n",
      "max_pooling2d_12 (MaxPooling (None, 59, 46, 32)        0         \n",
      "_________________________________________________________________\n",
      "conv2d_13 (Conv2D)           (None, 57, 44, 64)        18496     \n",
      "_________________________________________________________________\n",
      "max_pooling2d_13 (MaxPooling (None, 28, 22, 64)        0         \n",
      "_________________________________________________________________\n",
      "conv2d_14 (Conv2D)           (None, 26, 20, 64)        36928     \n",
      "_________________________________________________________________\n",
      "max_pooling2d_14 (MaxPooling (None, 13, 10, 64)        0         \n",
      "_________________________________________________________________\n",
      "conv2d_15 (Conv2D)           (None, 12, 9, 128)        32896     \n",
      "_________________________________________________________________\n",
      "max_pooling2d_15 (MaxPooling (None, 6, 4, 128)         0         \n",
      "_________________________________________________________________\n",
      "flatten_3 (Flatten)          (None, 3072)              0         \n",
      "_________________________________________________________________\n",
      "dropout_5 (Dropout)          (None, 3072)              0         \n",
      "_________________________________________________________________\n",
      "dense_5 (Dense)              (None, 302)               928046    \n",
      "_________________________________________________________________\n",
      "dropout_6 (Dropout)          (None, 302)               0         \n",
      "_________________________________________________________________\n",
      "dense_6 (Dense)              (None, 1)                 303       \n",
      "=================================================================\n",
      "Total params: 1,026,237\n",
      "Trainable params: 1,026,237\n",
      "Non-trainable params: 0\n",
      "_________________________________________________________________\n"
     ]
    }
   ],
   "source": [
    "model_v8 = models.Sequential()\n",
    "model_v8.add(layers.Conv2D(32,(3,3), activation='relu', input_shape=(window_y, window_x, 1)))\n",
    "model_v8.add(layers.MaxPooling2D((2,2)))\n",
    "model_v8.add(layers.Conv2D(32,(3,3), activation='relu'))\n",
    "model_v8.add(layers.MaxPooling2D((2,2)))\n",
    "model_v8.add(layers.Conv2D(64,(3,3), activation='relu'))\n",
    "model_v8.add(layers.MaxPooling2D((2,2)))\n",
    "model_v8.add(layers.Conv2D(64,(3,3), activation='relu'))\n",
    "model_v8.add(layers.MaxPooling2D((2,2)))\n",
    "model_v8.add(layers.Conv2D(128,(2,2), activation='relu'))\n",
    "model_v8.add(layers.MaxPooling2D((2,2)))\n",
    "\n",
    "model_v8.add(layers.Flatten())\n",
    "model_v8.add(layers.Dropout((0.5)))\n",
    "model_v8.add(layers.Dense(units= 302, activation='relu'))\n",
    "model_v8.add(layers.Dropout((0.5)))\n",
    "model_v8.add(layers.Dense(units= 1, activation='sigmoid'))\n",
    "model_v8.summary()"
   ]
  },
  {
   "cell_type": "code",
   "execution_count": 35,
   "metadata": {},
   "outputs": [],
   "source": [
    "model_v8.compile(optimizer=optimizers.RMSprop(lr= 1e-3),loss='binary_crossentropy', metrics=['acc'])"
   ]
  },
  {
   "cell_type": "code",
   "execution_count": 36,
   "metadata": {
    "scrolled": true
   },
   "outputs": [
    {
     "name": "stdout",
     "output_type": "stream",
     "text": [
      "Epoch 1/35\n",
      "103/103 [==============================] - 150s 1s/step - loss: 0.6559 - acc: 0.6068 - val_loss: 0.6095 - val_acc: 0.6696\n",
      "Epoch 2/35\n",
      "103/103 [==============================] - 164s 2s/step - loss: 0.6062 - acc: 0.6799 - val_loss: 0.6055 - val_acc: 0.6806\n",
      "Epoch 3/35\n",
      "103/103 [==============================] - 173s 2s/step - loss: 0.5759 - acc: 0.6980 - val_loss: 1.3750 - val_acc: 0.5519\n",
      "Epoch 4/35\n",
      "103/103 [==============================] - 143s 1s/step - loss: 0.5551 - acc: 0.7180 - val_loss: 0.5774 - val_acc: 0.6838\n",
      "Epoch 5/35\n",
      "103/103 [==============================] - 153s 1s/step - loss: 0.5130 - acc: 0.7474 - val_loss: 0.5501 - val_acc: 0.7495\n",
      "Epoch 6/35\n",
      "103/103 [==============================] - 143s 1s/step - loss: 0.4829 - acc: 0.7684 - val_loss: 0.6045 - val_acc: 0.6075\n",
      "Epoch 7/35\n",
      "103/103 [==============================] - 147s 1s/step - loss: 0.4549 - acc: 0.7866 - val_loss: 0.7511 - val_acc: 0.7022\n",
      "Epoch 8/35\n",
      "103/103 [==============================] - 135s 1s/step - loss: 0.4271 - acc: 0.8026 - val_loss: 0.4564 - val_acc: 0.7399\n",
      "Epoch 9/35\n",
      "103/103 [==============================] - 134s 1s/step - loss: 0.3943 - acc: 0.8210 - val_loss: 0.3389 - val_acc: 0.7734\n",
      "Epoch 10/35\n",
      "103/103 [==============================] - 134s 1s/step - loss: 0.3773 - acc: 0.8328 - val_loss: 0.5535 - val_acc: 0.7716\n",
      "Epoch 11/35\n",
      "103/103 [==============================] - 134s 1s/step - loss: 0.3676 - acc: 0.8390 - val_loss: 0.6789 - val_acc: 0.7624\n",
      "Epoch 12/35\n",
      "103/103 [==============================] - 135s 1s/step - loss: 0.3523 - acc: 0.8500 - val_loss: 1.1198 - val_acc: 0.6673\n",
      "Epoch 13/35\n",
      "103/103 [==============================] - 135s 1s/step - loss: 0.3193 - acc: 0.8638 - val_loss: 0.4362 - val_acc: 0.7734\n",
      "Epoch 14/35\n",
      "103/103 [==============================] - 135s 1s/step - loss: 0.3269 - acc: 0.8659 - val_loss: 0.4998 - val_acc: 0.8125\n",
      "Epoch 15/35\n",
      "103/103 [==============================] - 134s 1s/step - loss: 0.2936 - acc: 0.8700 - val_loss: 0.6227 - val_acc: 0.7569\n",
      "Epoch 16/35\n",
      "103/103 [==============================] - 134s 1s/step - loss: 0.2722 - acc: 0.8786 - val_loss: 0.5419 - val_acc: 0.7964\n"
     ]
    }
   ],
   "source": [
    "historyv8 = model_v8.fit_generator(train_gen, epochs=35, validation_data=val_gen, \n",
    "                                   steps_per_epoch= 103, validation_steps= 34,callbacks=my_callbacks)"
   ]
  },
  {
   "cell_type": "code",
   "execution_count": 37,
   "metadata": {},
   "outputs": [],
   "source": [
    "model_v8.save('models/e_mu_v8.h5')"
   ]
  },
  {
   "cell_type": "code",
   "execution_count": 38,
   "metadata": {},
   "outputs": [
    {
     "name": "stdout",
     "output_type": "stream",
     "text": [
      "Accuracy with the model: 82.32%\n"
     ]
    }
   ],
   "source": [
    "loss, acc = model_v8.evaluate_generator(test_gen, steps=35)\n",
    "print('Accuracy with the model: {:5.2f}%'.format(100*acc))"
   ]
  },
  {
   "cell_type": "code",
   "execution_count": 39,
   "metadata": {},
   "outputs": [],
   "source": [
    "y_predicted8 = model_v8.predict_generator(test_generator(X), steps=35)\n",
    "\n",
    "y_predicted8[np.where(y_predicted8>=0.5)] = 1\n",
    "y_predicted8[np.where(y_predicted8<0.5)] = 0\n",
    "\n",
    "true_labels = gen_true_y()"
   ]
  },
  {
   "cell_type": "code",
   "execution_count": 40,
   "metadata": {},
   "outputs": [
    {
     "data": {
      "image/png": "[encoded data removed]",
      "text/plain": [
       "<Figure size 576x432 with 2 Axes>"
      ]
     },
     "metadata": {
      "needs_background": "light"
     },
     "output_type": "display_data"
    }
   ],
   "source": [
    "conf8 = confusion_matrix(true_labels, y_predicted8, labels = list([0,1]))\n",
    "plot_confusion_matrix(cm           = conf8, \n",
    "                      normalize    = False,\n",
    "                      target_names = ['muon', 'electron'],\n",
    "                      title        = \"Confusion Matrix\")"
   ]
  },
  {
   "cell_type": "code",
   "execution_count": 41,
   "metadata": {},
   "outputs": [
    {
     "data": {
      "image/png": "[encoded data removed]",
      "text/plain": [
       "<Figure size 432x288 with 1 Axes>"
      ]
     },
     "metadata": {
      "needs_background": "light"
     },
     "output_type": "display_data"
    }
   ],
   "source": [
    "history_n1 = historyv8.history\n",
    "loss_values_n1 = history_n1['loss']\n",
    "val_loss_values_n1 = history_n1['val_loss']\n",
    "epochs_n1 = range(1, len(loss_values_n1) + 1)\n",
    "plt.plot(epochs_n1, loss_values_n1, 'bo', label='Training loss')\n",
    "plt.plot(epochs_n1, val_loss_values_n1, 'b', label='Validation loss')\n",
    "plt.title('Training and validation loss')\n",
    "plt.xlabel('Epochs')\n",
    "plt.ylabel('Loss')\n",
    "plt.legend()\n",
    "plt.show()"
   ]
  },
  {
   "cell_type": "markdown",
   "metadata": {},
   "source": [
    "### Ninth model: learning rate modified, 82 neurons"
   ]
  },
  {
   "cell_type": "code",
   "execution_count": 64,
   "metadata": {
    "scrolled": true
   },
   "outputs": [
    {
     "name": "stdout",
     "output_type": "stream",
     "text": [
      "Model: \"sequential_6\"\n",
      "_________________________________________________________________\n",
      "Layer (type)                 Output Shape              Param #   \n",
      "=================================================================\n",
      "conv2d_26 (Conv2D)           (None, 240, 190, 32)      320       \n",
      "_________________________________________________________________\n",
      "max_pooling2d_26 (MaxPooling (None, 120, 95, 32)       0         \n",
      "_________________________________________________________________\n",
      "conv2d_27 (Conv2D)           (None, 118, 93, 32)       9248      \n",
      "_________________________________________________________________\n",
      "max_pooling2d_27 (MaxPooling (None, 59, 46, 32)        0         \n",
      "_________________________________________________________________\n",
      "conv2d_28 (Conv2D)           (None, 57, 44, 64)        18496     \n",
      "_________________________________________________________________\n",
      "max_pooling2d_28 (MaxPooling (None, 28, 22, 64)        0         \n",
      "_________________________________________________________________\n",
      "conv2d_29 (Conv2D)           (None, 26, 20, 64)        36928     \n",
      "_________________________________________________________________\n",
      "max_pooling2d_29 (MaxPooling (None, 13, 10, 64)        0         \n",
      "_________________________________________________________________\n",
      "conv2d_30 (Conv2D)           (None, 12, 9, 128)        32896     \n",
      "_________________________________________________________________\n",
      "max_pooling2d_30 (MaxPooling (None, 6, 4, 128)         0         \n",
      "_________________________________________________________________\n",
      "flatten_6 (Flatten)          (None, 3072)              0         \n",
      "_________________________________________________________________\n",
      "dropout_11 (Dropout)         (None, 3072)              0         \n",
      "_________________________________________________________________\n",
      "dense_11 (Dense)             (None, 82)                251986    \n",
      "_________________________________________________________________\n",
      "dropout_12 (Dropout)         (None, 82)                0         \n",
      "_________________________________________________________________\n",
      "dense_12 (Dense)             (None, 1)                 83        \n",
      "=================================================================\n",
      "Total params: 349,957\n",
      "Trainable params: 349,957\n",
      "Non-trainable params: 0\n",
      "_________________________________________________________________\n"
     ]
    }
   ],
   "source": [
    "model_v9 = models.Sequential()\n",
    "model_v9.add(layers.Conv2D(32,(3,3), activation='relu', input_shape=(window_y, window_x, 1)))\n",
    "model_v9.add(layers.MaxPooling2D((2,2)))\n",
    "model_v9.add(layers.Conv2D(32,(3,3), activation='relu'))\n",
    "model_v9.add(layers.MaxPooling2D((2,2)))\n",
    "model_v9.add(layers.Conv2D(64,(3,3), activation='relu'))\n",
    "model_v9.add(layers.MaxPooling2D((2,2)))\n",
    "model_v9.add(layers.Conv2D(64,(3,3), activation='relu'))\n",
    "model_v9.add(layers.MaxPooling2D((2,2)))\n",
    "model_v9.add(layers.Conv2D(128,(2,2), activation='relu'))\n",
    "model_v9.add(layers.MaxPooling2D((2,2)))\n",
    "\n",
    "model_v9.add(layers.Flatten())\n",
    "model_v9.add(layers.Dropout((0.5)))\n",
    "model_v9.add(layers.Dense(units= 82, activation='relu'))\n",
    "model_v9.add(layers.Dropout((0.5)))\n",
    "model_v9.add(layers.Dense(units= 1, activation='sigmoid'))\n",
    "model_v9.summary()"
   ]
  },
  {
   "cell_type": "code",
   "execution_count": 65,
   "metadata": {},
   "outputs": [],
   "source": [
    "model_v9.compile(optimizer=optimizers.RMSprop(lr= 1e-3),loss='binary_crossentropy', metrics=['acc'])"
   ]
  },
  {
   "cell_type": "code",
   "execution_count": 66,
   "metadata": {
    "scrolled": true
   },
   "outputs": [
    {
     "name": "stdout",
     "output_type": "stream",
     "text": [
      "Epoch 1/35\n",
      "103/103 [==============================] - 141s 1s/step - loss: 0.6760 - acc: 0.5986 - val_loss: 0.6754 - val_acc: 0.5956\n",
      "Epoch 2/35\n",
      "103/103 [==============================] - 141s 1s/step - loss: 0.6092 - acc: 0.6781 - val_loss: 0.6266 - val_acc: 0.6595\n",
      "Epoch 3/35\n",
      "103/103 [==============================] - 142s 1s/step - loss: 0.5934 - acc: 0.6886 - val_loss: 0.4801 - val_acc: 0.6994\n",
      "Epoch 4/35\n",
      "103/103 [==============================] - 141s 1s/step - loss: 0.5682 - acc: 0.7159 - val_loss: 0.5736 - val_acc: 0.7243\n",
      "Epoch 5/35\n",
      "103/103 [==============================] - 141s 1s/step - loss: 0.5191 - acc: 0.7468 - val_loss: 0.4587 - val_acc: 0.7495\n",
      "Epoch 6/35\n",
      "103/103 [==============================] - 141s 1s/step - loss: 0.4900 - acc: 0.7618 - val_loss: 0.5448 - val_acc: 0.7532\n",
      "Epoch 7/35\n",
      "103/103 [==============================] - 142s 1s/step - loss: 0.4443 - acc: 0.7905 - val_loss: 0.5151 - val_acc: 0.7716\n",
      "Epoch 8/35\n",
      "103/103 [==============================] - 142s 1s/step - loss: 0.4484 - acc: 0.7948 - val_loss: 0.4838 - val_acc: 0.7316\n",
      "Epoch 9/35\n",
      "103/103 [==============================] - 142s 1s/step - loss: 0.4024 - acc: 0.8119 - val_loss: 0.5017 - val_acc: 0.7918\n",
      "Epoch 10/35\n",
      "103/103 [==============================] - 141s 1s/step - loss: 0.3841 - acc: 0.8309 - val_loss: 0.4584 - val_acc: 0.7983\n",
      "Epoch 11/35\n",
      "103/103 [==============================] - 142s 1s/step - loss: 0.3691 - acc: 0.8412 - val_loss: 0.5449 - val_acc: 0.8024\n",
      "Epoch 12/35\n",
      "103/103 [==============================] - 141s 1s/step - loss: 0.3503 - acc: 0.8447 - val_loss: 0.3757 - val_acc: 0.8079\n",
      "Epoch 13/35\n",
      "103/103 [==============================] - 141s 1s/step - loss: 0.3237 - acc: 0.8594 - val_loss: 0.4952 - val_acc: 0.8001\n",
      "Epoch 14/35\n",
      "103/103 [==============================] - 141s 1s/step - loss: 0.3333 - acc: 0.8579 - val_loss: 0.3505 - val_acc: 0.8102\n",
      "Epoch 15/35\n",
      "103/103 [==============================] - 140s 1s/step - loss: 0.3118 - acc: 0.8718 - val_loss: 0.4473 - val_acc: 0.8139\n",
      "Epoch 16/35\n",
      "103/103 [==============================] - 141s 1s/step - loss: 0.2995 - acc: 0.8738 - val_loss: 0.4005 - val_acc: 0.8084\n",
      "Epoch 17/35\n",
      "103/103 [==============================] - 141s 1s/step - loss: 0.2738 - acc: 0.8937 - val_loss: 2.9269 - val_acc: 0.6461\n",
      "Epoch 18/35\n",
      "103/103 [==============================] - 141s 1s/step - loss: 0.3021 - acc: 0.8786 - val_loss: 0.4311 - val_acc: 0.8139\n",
      "Epoch 19/35\n",
      "103/103 [==============================] - 141s 1s/step - loss: 0.2756 - acc: 0.8874 - val_loss: 0.2863 - val_acc: 0.8148\n",
      "Epoch 20/35\n",
      "103/103 [==============================] - 140s 1s/step - loss: 0.2708 - acc: 0.8890 - val_loss: 0.6280 - val_acc: 0.8249\n",
      "Epoch 21/35\n",
      "103/103 [==============================] - 141s 1s/step - loss: 0.2743 - acc: 0.8943 - val_loss: 0.3688 - val_acc: 0.7969\n",
      "Epoch 22/35\n",
      "103/103 [==============================] - 145s 1s/step - loss: 0.2568 - acc: 0.9050 - val_loss: 0.3178 - val_acc: 0.7918\n",
      "Epoch 23/35\n",
      "103/103 [==============================] - 141s 1s/step - loss: 0.2477 - acc: 0.9025 - val_loss: 0.5087 - val_acc: 0.8199\n",
      "Epoch 24/35\n",
      "103/103 [==============================] - 141s 1s/step - loss: 0.2514 - acc: 0.9011 - val_loss: 0.2381 - val_acc: 0.8139\n",
      "Epoch 25/35\n",
      "103/103 [==============================] - 141s 1s/step - loss: 0.2394 - acc: 0.9084 - val_loss: 1.1744 - val_acc: 0.7068\n",
      "Epoch 26/35\n",
      "103/103 [==============================] - 141s 1s/step - loss: 0.2356 - acc: 0.9111 - val_loss: 0.6778 - val_acc: 0.7950\n",
      "Epoch 27/35\n",
      "103/103 [==============================] - 141s 1s/step - loss: 0.2279 - acc: 0.9119 - val_loss: 0.6747 - val_acc: 0.8199\n",
      "Epoch 28/35\n",
      "103/103 [==============================] - 141s 1s/step - loss: 0.2423 - acc: 0.9146 - val_loss: 0.4723 - val_acc: 0.8143\n",
      "Epoch 29/35\n",
      "103/103 [==============================] - 140s 1s/step - loss: 0.1889 - acc: 0.9243 - val_loss: 0.7001 - val_acc: 0.8212\n",
      "Epoch 30/35\n",
      "103/103 [==============================] - 140s 1s/step - loss: 0.2314 - acc: 0.9164 - val_loss: 0.4863 - val_acc: 0.8074\n",
      "Epoch 31/35\n",
      "103/103 [==============================] - 140s 1s/step - loss: 0.2558 - acc: 0.9129 - val_loss: 0.3727 - val_acc: 0.8157\n"
     ]
    }
   ],
   "source": [
    "historyv9 = model_v9.fit_generator(train_gen, epochs=35, validation_data=val_gen, \n",
    "                                   steps_per_epoch= 103, validation_steps= 34,callbacks=my_callbacks)"
   ]
  },
  {
   "cell_type": "code",
   "execution_count": 67,
   "metadata": {},
   "outputs": [],
   "source": [
    "model_v9.save('model_electron_or_muon_v9.h5')"
   ]
  },
  {
   "cell_type": "code",
   "execution_count": 68,
   "metadata": {},
   "outputs": [
    {
     "name": "stdout",
     "output_type": "stream",
     "text": [
      "Accuracy with the model: 81.79%\n"
     ]
    }
   ],
   "source": [
    "loss, acc = model_v9.evaluate_generator(test_gen, steps=35)\n",
    "print('Accuracy with the model: {:5.2f}%'.format(100*acc))"
   ]
  },
  {
   "cell_type": "code",
   "execution_count": 69,
   "metadata": {},
   "outputs": [],
   "source": [
    "y_predicted9 = model_v9.predict_generator(test_generator(X), steps=35)\n",
    "\n",
    "y_predicted9[np.where(y_predicted9>=0.5)] = 1\n",
    "y_predicted9[np.where(y_predicted9<0.5)] = 0\n",
    "\n",
    "true_labels = gen_true_y()"
   ]
  },
  {
   "cell_type": "code",
   "execution_count": 70,
   "metadata": {},
   "outputs": [
    {
     "data": {
      "image/png": "[encoded data removed]",
      "text/plain": [
       "<Figure size 576x432 with 2 Axes>"
      ]
     },
     "metadata": {
      "needs_background": "light"
     },
     "output_type": "display_data"
    }
   ],
   "source": [
    "conf9 = confusion_matrix(true_labels, y_predicted9, labels = list([0,1]))\n",
    "plot_confusion_matrix(cm           = conf9, \n",
    "                      normalize    = False,\n",
    "                      target_names = ['electron', 'muon'],\n",
    "                      title        = \"Confusion Matrix\")"
   ]
  },
  {
   "cell_type": "code",
   "execution_count": 71,
   "metadata": {},
   "outputs": [
    {
     "data": {
      "image/png": "[encoded data removed]",
      "text/plain": [
       "<Figure size 432x288 with 1 Axes>"
      ]
     },
     "metadata": {
      "needs_background": "light"
     },
     "output_type": "display_data"
    }
   ],
   "source": [
    "history_n1 = historyv9.history\n",
    "loss_values_n1 = history_n1['loss']\n",
    "val_loss_values_n1 = history_n1['val_loss']\n",
    "epochs_n1 = range(1, len(loss_values_n1) + 1)\n",
    "plt.plot(epochs_n1, loss_values_n1, 'bo', label='Training loss')\n",
    "plt.plot(epochs_n1, val_loss_values_n1, 'b', label='Validation loss')\n",
    "plt.title('Training and validation loss')\n",
    "plt.xlabel('Epochs')\n",
    "plt.ylabel('Loss')\n",
    "plt.legend()\n",
    "plt.show()"
   ]
  },
  {
   "cell_type": "markdown",
   "metadata": {},
   "source": [
    "### Checking electrons mistaken in the model with best accuracy (model 2)"
   ]
  },
  {
   "cell_type": "code",
   "execution_count": 19,
   "metadata": {},
   "outputs": [],
   "source": [
    "loaded_model = models.load_model('models/e_mu_v2.h5')\n",
    " \n",
    "# evaluate loaded model on test data\n",
    "loaded_model.compile(optimizer=optimizers.RMSprop(lr= 1e-3),loss='binary_crossentropy', metrics=['acc'])"
   ]
  },
  {
   "cell_type": "code",
   "execution_count": 20,
   "metadata": {},
   "outputs": [],
   "source": [
    "def test_generator_XY(inputs, shuffle=True):\n",
    "    while True:\n",
    "    # Create list of indices\n",
    "        idxs = np.arange(len(inputs))\n",
    "        if shuffle:\n",
    "            np.random.shuffle(idxs)\n",
    "        \n",
    "        list_labels = []\n",
    "        distributionX = []\n",
    "        \n",
    "        for i in idxs:\n",
    "            batch_X = []\n",
    "\n",
    "            data = np.load(inputs[i])['X']\n",
    "            label = np.load(inputs[i])['y']\n",
    "            label = label.reshape(label.shape[0])\n",
    "            batch_X.append(data)\n",
    "\n",
    "\n",
    "            batch_X = np.array(batch_X)\n",
    "            \n",
    "            batch_X = batch_X.reshape((batch_X.shape[1],batch_X.shape[2], batch_X.shape[3], batch_X.shape[4]))\n",
    "            batch_y = label\n",
    "            list_labels.append(batch_y)\n",
    "            \n",
    "            aux = batch_X.reshape((batch_X.shape[0],batch_X.shape[1], batch_X.shape[2]))\n",
    "            distributionX.append(aux.sum(axis=1).sum(axis=1))\n",
    "            \n",
    "            yield batch_X, batch_y\n",
    "            \n",
    "        list_labels = np.array(list_labels)\n",
    "        list_labels.flatten()\n",
    "\n",
    "        distributionX = np.array(distributionX)\n",
    "        distributionX.flatten()\n",
    "        \n",
    "        np.save('energy_distribution', distributionX)\n",
    "        np.save('y_labels' , list_labels)"
   ]
  },
  {
   "cell_type": "code",
   "execution_count": 21,
   "metadata": {},
   "outputs": [],
   "source": [
    "y_pred = loaded_model.predict_generator(test_generator_XY(X), steps=35)\n",
    "\n",
    "y_pred[np.where(y_pred>=0.5)] = 1\n",
    "y_pred[np.where(y_pred<0.5)] = 0\n",
    "\n",
    "true_labels = gen_true_y() #true labels"
   ]
  },
  {
   "cell_type": "code",
   "execution_count": 22,
   "metadata": {},
   "outputs": [],
   "source": [
    "Xsums = np.load('energy_distribution.npy')"
   ]
  },
  {
   "cell_type": "code",
   "execution_count": 23,
   "metadata": {},
   "outputs": [
    {
     "data": {
      "text/plain": [
       "(35, 64)"
      ]
     },
     "execution_count": 23,
     "metadata": {},
     "output_type": "execute_result"
    }
   ],
   "source": [
    "Xsums.shape"
   ]
  },
  {
   "cell_type": "code",
   "execution_count": 24,
   "metadata": {},
   "outputs": [
    {
     "data": {
      "text/plain": [
       "(2240, 1)"
      ]
     },
     "execution_count": 24,
     "metadata": {},
     "output_type": "execute_result"
    }
   ],
   "source": [
    "true_labels.shape"
   ]
  },
  {
   "cell_type": "code",
   "execution_count": 25,
   "metadata": {},
   "outputs": [
    {
     "data": {
      "text/plain": [
       "(2240, 1)"
      ]
     },
     "execution_count": 25,
     "metadata": {},
     "output_type": "execute_result"
    }
   ],
   "source": [
    "Xsums = Xsums.reshape(Xsums.shape[0] * Xsums.shape[1],1)\n",
    "\n",
    "Xsums.shape #sum of the energy for each image"
   ]
  },
  {
   "cell_type": "markdown",
   "metadata": {},
   "source": [
    "Adding the true labels to the energy data:"
   ]
  },
  {
   "cell_type": "code",
   "execution_count": 26,
   "metadata": {},
   "outputs": [
    {
     "data": {
      "text/plain": [
       "(2240, 2)"
      ]
     },
     "execution_count": 26,
     "metadata": {},
     "output_type": "execute_result"
    }
   ],
   "source": [
    "X_y_true = np.concatenate((Xsums, true_labels),axis=1)\n",
    "\n",
    "X_y_true.shape"
   ]
  },
  {
   "cell_type": "code",
   "execution_count": 27,
   "metadata": {},
   "outputs": [
    {
     "data": {
      "text/plain": [
       "array([-237.84479236,    0.        ])"
      ]
     },
     "execution_count": 27,
     "metadata": {},
     "output_type": "execute_result"
    }
   ],
   "source": [
    "X_y_true[0] #electron with total standarized energy 10^3"
   ]
  },
  {
   "cell_type": "markdown",
   "metadata": {},
   "source": [
    "Adding the predicted labels to the array created:"
   ]
  },
  {
   "cell_type": "code",
   "execution_count": 28,
   "metadata": {},
   "outputs": [],
   "source": [
    "X_true_predicted = np.concatenate((Xsums, true_labels, y_pred),axis=1)"
   ]
  },
  {
   "cell_type": "code",
   "execution_count": 29,
   "metadata": {},
   "outputs": [
    {
     "data": {
      "text/plain": [
       "array([-237.84479236,    0.        ,    0.        ])"
      ]
     },
     "execution_count": 29,
     "metadata": {},
     "output_type": "execute_result"
    }
   ],
   "source": [
    "X_true_predicted[0] #electron with energy 10^3, classified as electron"
   ]
  },
  {
   "cell_type": "code",
   "execution_count": 30,
   "metadata": {},
   "outputs": [
    {
     "data": {
      "text/plain": [
       "array([-501.23660345,    0.        ,    0.        ])"
      ]
     },
     "execution_count": 30,
     "metadata": {},
     "output_type": "execute_result"
    }
   ],
   "source": [
    "X_true_predicted[10] #electron with standarized energy -826, classified as electron"
   ]
  },
  {
   "cell_type": "markdown",
   "metadata": {},
   "source": [
    "Histagram of energy:"
   ]
  },
  {
   "cell_type": "code",
   "execution_count": 31,
   "metadata": {},
   "outputs": [
    {
     "data": {
      "image/png": "[encoded data removed]",
      "text/plain": [
       "<Figure size 1440x720 with 1 Axes>"
      ]
     },
     "metadata": {
      "needs_background": "light"
     },
     "output_type": "display_data"
    }
   ],
   "source": [
    "import numpy as np\n",
    "import matplotlib.pyplot as plt\n",
    "\n",
    "plt.figure(figsize=(20,10))\n",
    "\n",
    "values =  X_true_predicted[:,0]\n",
    "plt1 = n, bins, patches = plt.hist(values, bins=1500,\n",
    "                            align='left', color='g')\n",
    "\n",
    "values_non_true = np.where(X_true_predicted[:,1] != X_true_predicted[:,2])\n",
    "values_non_true = X_true_predicted[values_non_true,0]\n",
    "values_non_true = np.rollaxis(values_non_true, -1)\n",
    "\n",
    "\n",
    "plt2 = n, bins, patches = plt.hist(values_non_true, bins=len(values_non_true),\n",
    "                            align='left', color='r')\n",
    "plt.legend(('Misclassified+correctly classified', 'Incorrectly classified'), fontsize=18)\n",
    "plt.xlabel('Standardized energy (eV)', fontsize=18)\n",
    "plt.xticks(fontsize= 20)\n",
    "plt.yticks(fontsize= 20)\n",
    "plt.show()"
   ]
  },
  {
   "cell_type": "code",
   "execution_count": 32,
   "metadata": {},
   "outputs": [
    {
     "data": {
      "text/plain": [
       "2240"
      ]
     },
     "execution_count": 32,
     "metadata": {},
     "output_type": "execute_result"
    }
   ],
   "source": [
    "len(values)"
   ]
  },
  {
   "cell_type": "code",
   "execution_count": 33,
   "metadata": {},
   "outputs": [
    {
     "data": {
      "text/plain": [
       "350"
      ]
     },
     "execution_count": 33,
     "metadata": {},
     "output_type": "execute_result"
    }
   ],
   "source": [
    "len(values_non_true)"
   ]
  },
  {
   "cell_type": "code",
   "execution_count": 34,
   "metadata": {},
   "outputs": [
    {
     "data": {
      "image/png": "[encoded data removed]",
      "text/plain": [
       "<Figure size 1440x720 with 1 Axes>"
      ]
     },
     "metadata": {
      "needs_background": "light"
     },
     "output_type": "display_data"
    }
   ],
   "source": [
    "plt.figure(figsize=(20,10))\n",
    "\n",
    "values =  X_true_predicted[:,0]\n",
    "\n",
    "values_true = np.where(X_true_predicted[:,1] == X_true_predicted[:,2])\n",
    "values_true = X_true_predicted[values_true,0]\n",
    "values_true = np.rollaxis(values_true, -1)\n",
    "\n",
    "plt1 = n, bins, patches = plt.hist(values_true, bins=1500,\n",
    "                            align='left', color='g')\n",
    "\n",
    "values_non_true = np.where(X_true_predicted[:,1] != X_true_predicted[:,2])\n",
    "values_non_true = X_true_predicted[values_non_true,0]\n",
    "values_non_true = np.rollaxis(values_non_true, -1)\n",
    "\n",
    "\n",
    "plt2 = n, bins, patches = plt.hist(values_non_true, bins=len(values_non_true),\n",
    "                            align='left', color='r')\n",
    "plt.legend(('Correctly classified', 'Incorrectly classified'), fontsize=18)\n",
    "plt.xlabel('Standardized energy (eV)', fontsize=18)\n",
    "plt.ylabel('Number of particles', fontsize=18)\n",
    "plt.xticks(fontsize= 20)\n",
    "plt.yticks(fontsize= 20)\n",
    "plt.show()"
   ]
  },
  {
   "cell_type": "markdown",
   "metadata": {},
   "source": [
    "### Plotting mistaken tracks"
   ]
  },
  {
   "cell_type": "code",
   "execution_count": 35,
   "metadata": {},
   "outputs": [],
   "source": [
    "def test_generator_XY2(inputs, shuffle=True):\n",
    "    while True:\n",
    "    # Create list of indices\n",
    "        idxs = np.arange(len(inputs))\n",
    "\n",
    "        if shuffle:\n",
    "            np.random.shuffle(idxs)\n",
    "        \n",
    "        list_labels = []\n",
    "        distributionX = []\n",
    "        \n",
    "        for i in idxs:\n",
    "            batch_X = []\n",
    "\n",
    "            data = np.load(inputs[i])['X']\n",
    "            label = np.load(inputs[i])['y']\n",
    "            label = label.reshape(label.shape[0])\n",
    "            batch_X.append(data)\n",
    "\n",
    "\n",
    "            batch_X = np.array(batch_X)\n",
    "            batch_X = batch_X.reshape((batch_X.shape[1],batch_X.shape[2], batch_X.shape[3], batch_X.shape[4]))\n",
    "\n",
    "            batch_y = label\n",
    "            \n",
    "            list_labels.append(batch_y)\n",
    "            distributionX.append(batch_X)\n",
    "            \n",
    "            yield batch_X, batch_y\n",
    "            \n",
    "        list_labels = np.array(list_labels)\n",
    "        list_labels.flatten()\n",
    "\n",
    "        distributionX = np.array(distributionX)\n",
    "        distributionX.flatten()\n",
    "        \n",
    "        np.save('energy_distribution', distributionX)\n",
    "        np.save('y_labels' , list_labels)"
   ]
  },
  {
   "cell_type": "code",
   "execution_count": 36,
   "metadata": {},
   "outputs": [],
   "source": [
    "y_pred2 = loaded_model.predict_generator(test_generator_XY2(X), steps=35)\n",
    "\n",
    "y_pred2[np.where(y_pred2>=0.5)] = 1\n",
    "y_pred2[np.where(y_pred2<0.5)] = 0\n",
    "\n",
    "true_labels2 = gen_true_y() #true labels"
   ]
  },
  {
   "cell_type": "code",
   "execution_count": 37,
   "metadata": {},
   "outputs": [
    {
     "data": {
      "text/plain": [
       "(35, 64, 242, 192, 1)"
      ]
     },
     "execution_count": 37,
     "metadata": {},
     "output_type": "execute_result"
    }
   ],
   "source": [
    "X_energy = np.load('energy_distribution.npy')\n",
    "X_energy.shape"
   ]
  },
  {
   "cell_type": "code",
   "execution_count": 38,
   "metadata": {},
   "outputs": [],
   "source": [
    "#deleting last dimension\n",
    "X_energy = X_energy.reshape(X_energy.shape[0], X_energy.shape[1], X_energy.shape[2], X_energy.shape[3]) "
   ]
  },
  {
   "cell_type": "code",
   "execution_count": 39,
   "metadata": {},
   "outputs": [
    {
     "data": {
      "text/plain": [
       "(2240, 242, 192)"
      ]
     },
     "execution_count": 39,
     "metadata": {},
     "output_type": "execute_result"
    }
   ],
   "source": [
    "X_energy =  X_energy.reshape(X_energy.shape[0] * X_energy.shape[1], X_energy.shape[2], X_energy.shape[3])\n",
    "\n",
    "X_energy.shape"
   ]
  },
  {
   "cell_type": "markdown",
   "metadata": {},
   "source": [
    "Now that we have all the test energy stored in `X_energy`, we will plot this energy in case the particle was misclassified. So first we will put inside this array the labels (both true and predicted) to check whether the particle was correctly classified or not. "
   ]
  },
  {
   "cell_type": "code",
   "execution_count": 40,
   "metadata": {},
   "outputs": [
    {
     "data": {
      "text/plain": [
       "(2240, 2)"
      ]
     },
     "execution_count": 40,
     "metadata": {},
     "output_type": "execute_result"
    }
   ],
   "source": [
    "true_predic = np.concatenate((true_labels2, y_pred2),axis=1) #adding predicted labels to true labels\n",
    "\n",
    "true_predic.shape"
   ]
  },
  {
   "cell_type": "code",
   "execution_count": 41,
   "metadata": {},
   "outputs": [],
   "source": [
    "ind_misclass = np.where(true_predic[:,0] != true_predic[:,1])\n",
    "misclass = X_energy[ind_misclass]"
   ]
  },
  {
   "cell_type": "code",
   "execution_count": 42,
   "metadata": {},
   "outputs": [
    {
     "data": {
      "text/plain": [
       "(350, 242, 192)"
      ]
     },
     "execution_count": 42,
     "metadata": {},
     "output_type": "execute_result"
    }
   ],
   "source": [
    "misclass.shape"
   ]
  },
  {
   "cell_type": "code",
   "execution_count": 43,
   "metadata": {},
   "outputs": [
    {
     "data": {
      "text/plain": [
       "array([[0., 1.],\n",
       "       [0., 1.],\n",
       "       [0., 1.],\n",
       "       [0., 1.],\n",
       "       [0., 1.]])"
      ]
     },
     "execution_count": 43,
     "metadata": {},
     "output_type": "execute_result"
    }
   ],
   "source": [
    "misclass_labels = true_predic[np.where(true_predic[:,0] != true_predic[:,1])] #labels\n",
    "\n",
    "misclass_labels[0:5]"
   ]
  },
  {
   "cell_type": "code",
   "execution_count": 81,
   "metadata": {},
   "outputs": [
    {
     "data": {
      "image/png": "[encoded data removed]",
      "text/plain": [
       "<Figure size 5760x3600 with 6 Axes>"
      ]
     },
     "metadata": {
      "needs_background": "light"
     },
     "output_type": "display_data"
    }
   ],
   "source": [
    "n = 3  # number of images to display\n",
    "\n",
    "plt.figure(figsize=(80, 50))\n",
    "\n",
    "for i in range(n):\n",
    "    # display original\n",
    "    ax = plt.subplot(2, n, i + 1)\n",
    "    plt.imshow(misclass[i], cmap='Reds')\n",
    "    #plt.gray()\n",
    "    ax.get_xaxis().set_visible(False)\n",
    "    ax.get_yaxis().set_visible(False)\n",
    "    ax.set_title('Prediction: {}, Reality: {}'.format(misclass_labels[i,1], misclass_labels[i,0]), fontsize=40)\n",
    "    \n",
    "    ax = plt.subplot(2, n, i + 1 + n)\n",
    "    plt.imshow(misclass[i+n], cmap='Reds')\n",
    "    ax.get_xaxis().set_visible(False)\n",
    "    ax.get_yaxis().set_visible(False)\n",
    "    ax.set_title('Prediction: {}, Reality: {}'.format(misclass_labels[i+n,1], misclass_labels[i+n,0]), fontsize=40)\n",
    "    \n",
    "    \n",
    "    \n",
    "plt.show()"
   ]
  },
  {
   "cell_type": "markdown",
   "metadata": {},
   "source": [
    "### Plotting elongation distribution\n",
    "\n",
    "For each energy image, we will get the number of pixels regarding the size of the track. The size of the track will be placed, generally, in a rectangle, and the number of pixels associated will be size_x * size_y of this rectangle. Then we will plot the distribution to see if the size of the track is a variable that could confuse the model and lead to an incorrect classification of the particle."
   ]
  },
  {
   "cell_type": "code",
   "execution_count": 45,
   "metadata": {},
   "outputs": [],
   "source": [
    "def count_pixels(array):\n",
    "    \n",
    "    n_pixels = []\n",
    "    \n",
    "    for i in range(array.shape[0]):\n",
    "\n",
    "        coords = np.argwhere(array[i]>0)\n",
    "        x_min, y_min = coords.min(axis=0)\n",
    "        x_max, y_max = coords.max(axis=0)\n",
    "        n_pixels.append((y_max-y_min+1)*(x_max-x_min+1))\n",
    "\n",
    "    return n_pixels"
   ]
  },
  {
   "cell_type": "code",
   "execution_count": 46,
   "metadata": {},
   "outputs": [],
   "source": [
    "def test_generator_XY_pixels(inputs, shuffle=True):\n",
    "    while True:\n",
    "    # Create list of indices\n",
    "        idxs = np.arange(len(inputs))\n",
    "\n",
    "        if shuffle:\n",
    "            np.random.shuffle(idxs)\n",
    "        \n",
    "        list_labels = []\n",
    "        list_num_pix = []\n",
    "        \n",
    "        for i in idxs:\n",
    "            batch_X = []\n",
    "\n",
    "            data = np.load(inputs[i])['X']\n",
    "            label = np.load(inputs[i])['y']\n",
    "            label = label.reshape(label.shape[0])\n",
    "            batch_X.append(data)\n",
    "\n",
    "\n",
    "            batch_X = np.array(batch_X)\n",
    "            \n",
    "            batch_X = batch_X.reshape((batch_X.shape[1],batch_X.shape[2], batch_X.shape[3], batch_X.shape[4]))\n",
    "            batch_y = label\n",
    "            list_labels.append(batch_y)\n",
    "            \n",
    "            aux = batch_X.reshape((batch_X.shape[0],batch_X.shape[1], batch_X.shape[2]))\n",
    "            \n",
    "            pix = count_pixels(aux)\n",
    "            #print(pix)\n",
    "            list_num_pix.append(pix)\n",
    "            \n",
    "            yield batch_X, batch_y\n",
    "            \n",
    "        list_labels = np.array(list_labels)\n",
    "        list_labels.flatten()\n",
    "\n",
    "        list_num_pix = np.array(list_num_pix)\n",
    "        list_num_pix.flatten()\n",
    "        \n",
    "        np.save('pixels_distribution', list_num_pix)\n",
    "        np.save('y_labels' , list_labels)"
   ]
  },
  {
   "cell_type": "code",
   "execution_count": 48,
   "metadata": {},
   "outputs": [],
   "source": [
    "loaded_model = models.load_model('models/e_mu_v2.h5')\n",
    " \n",
    "# evaluate loaded model on test data\n",
    "loaded_model.compile(optimizer=optimizers.RMSprop(lr= 1e-3),loss='binary_crossentropy', metrics=['acc'])"
   ]
  },
  {
   "cell_type": "code",
   "execution_count": 49,
   "metadata": {
    "scrolled": true
   },
   "outputs": [],
   "source": [
    "y_predi = loaded_model.predict_generator(test_generator_XY_pixels(X), steps=35)\n",
    "\n",
    "y_predi[np.where(y_predi>=0.5)] = 1\n",
    "y_predi[np.where(y_predi<0.5)] = 0\n",
    "\n",
    "true_labels = gen_true_y() #true labels"
   ]
  },
  {
   "cell_type": "code",
   "execution_count": 50,
   "metadata": {},
   "outputs": [],
   "source": [
    "num_pix = np.load('pixels_distribution.npy')"
   ]
  },
  {
   "cell_type": "code",
   "execution_count": 51,
   "metadata": {},
   "outputs": [
    {
     "data": {
      "text/plain": [
       "(35, 64)"
      ]
     },
     "execution_count": 51,
     "metadata": {},
     "output_type": "execute_result"
    }
   ],
   "source": [
    "num_pix.shape"
   ]
  },
  {
   "cell_type": "code",
   "execution_count": 52,
   "metadata": {},
   "outputs": [
    {
     "data": {
      "text/plain": [
       "array([[  25,   21,    9, ...,  225,  375,  110],\n",
       "       [ 378,   64,   49, ...,   20,   56,  987],\n",
       "       [  12,   50,  144, ...,   20,  690,  464],\n",
       "       ...,\n",
       "       [  48,   16,   84, ...,  544,  476,    1],\n",
       "       [ 760,  100,  150, ...,   25,  132,  240],\n",
       "       [ 165, 1760,   16, ...,  117,   64,  663]])"
      ]
     },
     "execution_count": 52,
     "metadata": {},
     "output_type": "execute_result"
    }
   ],
   "source": [
    "num_pix"
   ]
  },
  {
   "cell_type": "code",
   "execution_count": 53,
   "metadata": {},
   "outputs": [],
   "source": [
    "num_pix = num_pix.reshape((num_pix.shape[0] * num_pix.shape[1],1))"
   ]
  },
  {
   "cell_type": "code",
   "execution_count": 54,
   "metadata": {},
   "outputs": [
    {
     "data": {
      "text/plain": [
       "(2240, 1)"
      ]
     },
     "execution_count": 54,
     "metadata": {},
     "output_type": "execute_result"
    }
   ],
   "source": [
    "num_pix.shape"
   ]
  },
  {
   "cell_type": "code",
   "execution_count": 55,
   "metadata": {},
   "outputs": [
    {
     "data": {
      "text/plain": [
       "array([[ 25],\n",
       "       [ 21],\n",
       "       [  9],\n",
       "       ...,\n",
       "       [117],\n",
       "       [ 64],\n",
       "       [663]])"
      ]
     },
     "execution_count": 55,
     "metadata": {},
     "output_type": "execute_result"
    }
   ],
   "source": [
    "num_pix"
   ]
  },
  {
   "cell_type": "markdown",
   "metadata": {},
   "source": [
    "Once we finally got the number of pixels of the track for each test image, we will put inside this `num_pix` array the true and predicted labels to plot the histogram:"
   ]
  },
  {
   "cell_type": "code",
   "execution_count": 56,
   "metadata": {},
   "outputs": [
    {
     "data": {
      "text/plain": [
       "(2240, 2)"
      ]
     },
     "execution_count": 56,
     "metadata": {},
     "output_type": "execute_result"
    }
   ],
   "source": [
    "Xy_true = np.concatenate((num_pix, true_labels),axis=1) #adding true labels\n",
    "\n",
    "Xy_true.shape"
   ]
  },
  {
   "cell_type": "code",
   "execution_count": 57,
   "metadata": {},
   "outputs": [
    {
     "data": {
      "text/plain": [
       "(2240, 3)"
      ]
     },
     "execution_count": 57,
     "metadata": {},
     "output_type": "execute_result"
    }
   ],
   "source": [
    "X_true_pred = np.concatenate((num_pix, true_labels, y_predi),axis=1) #adding predicted labels\n",
    "\n",
    "X_true_pred.shape"
   ]
  },
  {
   "cell_type": "markdown",
   "metadata": {},
   "source": [
    "Histogram for the elongation distribution:"
   ]
  },
  {
   "cell_type": "code",
   "execution_count": 58,
   "metadata": {},
   "outputs": [
    {
     "data": {
      "image/png": "[encoded data removed]",
      "text/plain": [
       "<Figure size 1440x720 with 1 Axes>"
      ]
     },
     "metadata": {
      "needs_background": "light"
     },
     "output_type": "display_data"
    }
   ],
   "source": [
    "plt.figure(figsize=(20,10))\n",
    "\n",
    "values =  X_true_pred[:,0]\n",
    "plt1 = n, bins, patches = plt.hist(values, bins=len(values),\n",
    "                            align='left', color='g')\n",
    "\n",
    "values_non_true = np.where(X_true_pred[:,1] != X_true_pred[:,2])\n",
    "values_non_true = X_true_pred[values_non_true,0]\n",
    "values_non_true = np.rollaxis(values_non_true, -1)\n",
    "\n",
    "\n",
    "plt2 = n, bins, patches = plt.hist(values_non_true, bins=len(values_non_true),\n",
    "                            align='left', color='r')\n",
    "plt.legend(('Misclassified + Correctly classified', 'Incorrectly classified'), fontsize=18)\n",
    "plt.xlabel('Number of pixels', fontsize=18)\n",
    "plt.ylabel('Number of particles', fontsize=18)\n",
    "plt.xlim(0,200)\n",
    "plt.xticks(fontsize= 20)\n",
    "plt.yticks(fontsize= 20)\n",
    "plt.show()"
   ]
  },
  {
   "cell_type": "code",
   "execution_count": 59,
   "metadata": {},
   "outputs": [
    {
     "data": {
      "image/png": "[encoded data removed]",
      "text/plain": [
       "<Figure size 1440x720 with 1 Axes>"
      ]
     },
     "metadata": {
      "needs_background": "light"
     },
     "output_type": "display_data"
    }
   ],
   "source": [
    "plt.figure(figsize=(20,10))\n",
    "\n",
    "values =  X_true_pred[:,0]\n",
    "\n",
    "values_true = np.where(X_true_pred[:,1] == X_true_pred[:,2])\n",
    "values_true = X_true_pred[values_true,0]\n",
    "values_true = np.rollaxis(values_true, -1)\n",
    "\n",
    "plt1 = n, bins, patches = plt.hist(values_true, bins=len(values),\n",
    "                            align='left', color='g')\n",
    "\n",
    "values_non_true = np.where(X_true_pred[:,1] != X_true_pred[:,2])\n",
    "values_non_true = X_true_pred[values_non_true,0]\n",
    "values_non_true = np.rollaxis(values_non_true, -1)\n",
    "\n",
    "\n",
    "plt2 = n, bins, patches = plt.hist(values_non_true, bins=len(values_non_true),\n",
    "                            align='left', color='r')\n",
    "plt.legend(('Correctly classified', 'Incorrectly classified'), fontsize=18)\n",
    "plt.xlabel('Number of pixels', fontsize=18)\n",
    "plt.ylabel('Number of particles', fontsize=18)\n",
    "plt.xlim(0,200)\n",
    "plt.xticks(fontsize= 20)\n",
    "plt.yticks(fontsize= 20)\n",
    "plt.show()"
   ]
  },
  {
   "cell_type": "markdown",
   "metadata": {},
   "source": [
    "Now we will plot the error rate defined as N(misclassified)/N(correctly classified) "
   ]
  },
  {
   "cell_type": "code",
   "execution_count": 60,
   "metadata": {},
   "outputs": [
    {
     "data": {
      "image/png": "[encoded data removed]",
      "text/plain": [
       "<Figure size 1440x720 with 1 Axes>"
      ]
     },
     "metadata": {
      "needs_background": "light"
     },
     "output_type": "display_data"
    }
   ],
   "source": [
    "plt.figure(figsize=(20,10))\n",
    "\n",
    "binwidth =4\n",
    "\n",
    "values_true = np.where(X_true_pred[:,1] == X_true_pred[:,2])\n",
    "values_true = X_true_pred[values_true,0]\n",
    "values_true = np.rollaxis(values_true, -1)\n",
    "\n",
    "values_non_true = np.where(X_true_pred[:,1] != X_true_pred[:,2])\n",
    "values_non_true = X_true_pred[values_non_true,0]\n",
    "values_non_true = np.rollaxis(values_non_true, -1)\n",
    "\n",
    "bins=np.arange(min(values_true), max(values_true) + binwidth, binwidth)\n",
    "\n",
    "plt1 = n1, bins1, patches1 = plt.hist(values_true, bins=bins,\n",
    "                            align='left', color='g')\n",
    "plt2 = n2, bins2, patches2 = plt.hist(values_non_true, bins=bins,\n",
    "                            align='left', color='r')\n",
    "plt.legend(('Correctly classified', 'Incorrectly classified'), fontsize=18)\n",
    "plt.xlabel('Number of pixels', fontsize=18)\n",
    "plt.ylabel('Number of particles', fontsize=18)\n",
    "plt.xlim(0,1000)\n",
    "plt.xticks(fontsize= 20)\n",
    "plt.yticks(fontsize= 20)\n",
    "plt.show()"
   ]
  },
  {
   "cell_type": "code",
   "execution_count": 61,
   "metadata": {},
   "outputs": [
    {
     "data": {
      "text/plain": [
       "6413"
      ]
     },
     "execution_count": 61,
     "metadata": {},
     "output_type": "execute_result"
    }
   ],
   "source": [
    "len(n1)"
   ]
  },
  {
   "cell_type": "code",
   "execution_count": 62,
   "metadata": {},
   "outputs": [
    {
     "data": {
      "text/plain": [
       "6413"
      ]
     },
     "execution_count": 62,
     "metadata": {},
     "output_type": "execute_result"
    }
   ],
   "source": [
    "len(n2)"
   ]
  },
  {
   "cell_type": "code",
   "execution_count": 63,
   "metadata": {},
   "outputs": [
    {
     "data": {
      "text/plain": [
       "6414"
      ]
     },
     "execution_count": 63,
     "metadata": {},
     "output_type": "execute_result"
    }
   ],
   "source": [
    "len(np.arange(min(values_true), max(values_true) + binwidth, binwidth))"
   ]
  },
  {
   "cell_type": "markdown",
   "metadata": {},
   "source": [
    "If we divide n2/n1, we will get the rate error"
   ]
  },
  {
   "cell_type": "code",
   "execution_count": 64,
   "metadata": {},
   "outputs": [
    {
     "name": "stderr",
     "output_type": "stream",
     "text": [
      "/opt/anaconda3/lib/python3.7/site-packages/ipykernel_launcher.py:1: RuntimeWarning: divide by zero encountered in true_divide\n",
      "  \"\"\"Entry point for launching an IPython kernel.\n",
      "/opt/anaconda3/lib/python3.7/site-packages/ipykernel_launcher.py:1: RuntimeWarning: invalid value encountered in true_divide\n",
      "  \"\"\"Entry point for launching an IPython kernel.\n"
     ]
    }
   ],
   "source": [
    "rate_error = (n2/n1)*100"
   ]
  },
  {
   "cell_type": "code",
   "execution_count": 65,
   "metadata": {},
   "outputs": [],
   "source": [
    "n1 = np.asarray(n1).flatten()"
   ]
  },
  {
   "cell_type": "code",
   "execution_count": 66,
   "metadata": {},
   "outputs": [
    {
     "data": {
      "text/plain": [
       "6413"
      ]
     },
     "execution_count": 66,
     "metadata": {},
     "output_type": "execute_result"
    }
   ],
   "source": [
    "len(n1)"
   ]
  },
  {
   "cell_type": "code",
   "execution_count": 67,
   "metadata": {},
   "outputs": [
    {
     "data": {
      "text/plain": [
       "array([93., 40., 79., ...,  0.,  0.,  1.])"
      ]
     },
     "execution_count": 67,
     "metadata": {},
     "output_type": "execute_result"
    }
   ],
   "source": [
    "n1"
   ]
  },
  {
   "cell_type": "code",
   "execution_count": 68,
   "metadata": {},
   "outputs": [
    {
     "data": {
      "text/plain": [
       "6069"
      ]
     },
     "execution_count": 68,
     "metadata": {},
     "output_type": "execute_result"
    }
   ],
   "source": [
    "len(np.argwhere(n1==0))"
   ]
  },
  {
   "cell_type": "code",
   "execution_count": 69,
   "metadata": {},
   "outputs": [
    {
     "data": {
      "text/plain": [
       "array([40.86021505, 35.        , 69.62025316, ...,         nan,\n",
       "               nan,  0.        ])"
      ]
     },
     "execution_count": 69,
     "metadata": {},
     "output_type": "execute_result"
    }
   ],
   "source": [
    "rate_error"
   ]
  },
  {
   "cell_type": "code",
   "execution_count": 70,
   "metadata": {},
   "outputs": [
    {
     "data": {
      "text/plain": [
       "6413"
      ]
     },
     "execution_count": 70,
     "metadata": {},
     "output_type": "execute_result"
    }
   ],
   "source": [
    "len(rate_error)"
   ]
  },
  {
   "cell_type": "code",
   "execution_count": 71,
   "metadata": {},
   "outputs": [
    {
     "data": {
      "text/plain": [
       "(array([  0.,  20.,  40.,  60.,  80., 100., 120.]),\n",
       " <a list of 7 Text yticklabel objects>)"
      ]
     },
     "execution_count": 71,
     "metadata": {},
     "output_type": "execute_result"
    },
    {
     "data": {
      "image/png": "[encoded data removed]",
      "text/plain": [
       "<Figure size 1440x720 with 1 Axes>"
      ]
     },
     "metadata": {
      "needs_background": "light"
     },
     "output_type": "display_data"
    }
   ],
   "source": [
    "plt.figure(figsize=(20,10))\n",
    "\n",
    "plt.bar(bins[1:], height = rate_error, width=4)\n",
    "plt.xlabel('Number of pixels', fontsize=18)\n",
    "plt.ylabel('Error rate (%)', fontsize=18)\n",
    "plt.xlim(0,1000)\n",
    "plt.xticks(fontsize= 20)\n",
    "plt.yticks(fontsize= 20)"
   ]
  },
  {
   "cell_type": "code",
   "execution_count": 72,
   "metadata": {},
   "outputs": [
    {
     "data": {
      "text/plain": [
       "(array([  0.,  20.,  40.,  60.,  80., 100., 120.]),\n",
       " <a list of 7 Text yticklabel objects>)"
      ]
     },
     "execution_count": 72,
     "metadata": {},
     "output_type": "execute_result"
    },
    {
     "data": {
      "image/png": "[encoded data removed]",
      "text/plain": [
       "<Figure size 1440x720 with 1 Axes>"
      ]
     },
     "metadata": {
      "needs_background": "light"
     },
     "output_type": "display_data"
    }
   ],
   "source": [
    "plt.figure(figsize=(20,10))\n",
    "\n",
    "plt.bar(bins[1:], height = rate_error, width=4)\n",
    "plt.xlabel('Number of pixels', fontsize=18)\n",
    "plt.ylabel('Error rate (%)', fontsize=18)\n",
    "#plt.xlim(0,1000)\n",
    "plt.xticks(fontsize= 20)\n",
    "plt.yticks(fontsize= 20)"
   ]
  },
  {
   "cell_type": "markdown",
   "metadata": {},
   "source": [
    "The bin width is 4, so from 0 to 2000 number of pixels, there are 500 bins. If we wanna check the maximum error rate value, we gotta pick bins from n1 and n2 around the index 100. "
   ]
  },
  {
   "cell_type": "code",
   "execution_count": 73,
   "metadata": {},
   "outputs": [
    {
     "data": {
      "text/plain": [
       "3.0"
      ]
     },
     "execution_count": 73,
     "metadata": {},
     "output_type": "execute_result"
    }
   ],
   "source": [
    "n1[108] #correctly classified"
   ]
  },
  {
   "cell_type": "code",
   "execution_count": 74,
   "metadata": {},
   "outputs": [
    {
     "data": {
      "text/plain": [
       "0.0"
      ]
     },
     "execution_count": 74,
     "metadata": {},
     "output_type": "execute_result"
    }
   ],
   "source": [
    "n2[108] #misclassified"
   ]
  },
  {
   "cell_type": "markdown",
   "metadata": {},
   "source": [
    "we look for the maximum of the maximum rate around indices 75 (300/4) and 125 (500/4)"
   ]
  },
  {
   "cell_type": "code",
   "execution_count": 75,
   "metadata": {},
   "outputs": [
    {
     "data": {
      "text/plain": [
       "0.0"
      ]
     },
     "execution_count": 75,
     "metadata": {},
     "output_type": "execute_result"
    }
   ],
   "source": [
    "rate_error[108]"
   ]
  },
  {
   "cell_type": "code",
   "execution_count": null,
   "metadata": {},
   "outputs": [],
   "source": []
  }
 ],
 "metadata": {
  "kernelspec": {
   "display_name": "Python 3",
   "language": "python",
   "name": "python3"
  },
  "language_info": {
   "codemirror_mode": {
    "name": "ipython",
    "version": 3
   },
   "file_extension": ".py",
   "mimetype": "text/x-python",
   "name": "python",
   "nbconvert_exporter": "python",
   "pygments_lexer": "ipython3",
   "version": "3.7.4"
  }
 },
 "nbformat": 4,
 "nbformat_minor": 2
}

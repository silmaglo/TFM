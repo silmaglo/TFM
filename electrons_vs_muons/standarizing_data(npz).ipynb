{
 "cells": [
  {
   "cell_type": "code",
   "execution_count": 1,
   "metadata": {},
   "outputs": [],
   "source": [
    "import glob\n",
    "import os, shutil\n",
    "import matplotlib.pyplot as plt\n",
    "import numpy as np"
   ]
  },
  {
   "cell_type": "markdown",
   "metadata": {},
   "source": [
    "Standarizing test data:"
   ]
  },
  {
   "cell_type": "code",
   "execution_count": 2,
   "metadata": {},
   "outputs": [],
   "source": [
    "path_te = 'eVSmu_2test/'\n",
    "\n",
    "files_te = os.listdir(path_te)"
   ]
  },
  {
   "cell_type": "code",
   "execution_count": 3,
   "metadata": {},
   "outputs": [
    {
     "data": {
      "text/plain": [
       "35"
      ]
     },
     "execution_count": 3,
     "metadata": {},
     "output_type": "execute_result"
    }
   ],
   "source": [
    "len(files_te)"
   ]
  },
  {
   "cell_type": "code",
   "execution_count": 4,
   "metadata": {},
   "outputs": [
    {
     "data": {
      "text/plain": [
       "(-8.410780489584519e-19, 0.9999999999999962)"
      ]
     },
     "execution_count": 4,
     "metadata": {},
     "output_type": "execute_result"
    }
   ],
   "source": [
    "data = np.load(os.path.join(path_te, files_te[0]))['X']\n",
    "\n",
    "data = (data-data.mean())/data.std()\n",
    "\n",
    "data.mean(), data.std()"
   ]
  },
  {
   "cell_type": "code",
   "execution_count": 6,
   "metadata": {},
   "outputs": [],
   "source": [
    "#'index' is the number of the file, and 'file' is the name of the file\n",
    "for index, file in enumerate(files_te):  \n",
    "    \n",
    "    #loading each image as a numpy array\n",
    "    data = np.load(os.path.join(path_te, files_te[index]))['X']\n",
    "    label = np.load(os.path.join(path_te, files_te[index]))['y']\n",
    "    \n",
    "    data = (data - data.mean()) / data.std()\n",
    "    data = data.reshape((data.shape[0], data.shape[1], data.shape[2], 1))\n",
    "\n",
    "    np.savez(os.path.join(path_te, file), X=data, y=label)"
   ]
  },
  {
   "cell_type": "markdown",
   "metadata": {},
   "source": [
    "Standarizing validation data:"
   ]
  },
  {
   "cell_type": "code",
   "execution_count": 7,
   "metadata": {},
   "outputs": [],
   "source": [
    "path_v = 'eVSmu_2val/'\n",
    "\n",
    "files_v = os.listdir(path_v)"
   ]
  },
  {
   "cell_type": "code",
   "execution_count": 8,
   "metadata": {},
   "outputs": [],
   "source": [
    "for index, file in enumerate(files_v):  \n",
    "    \n",
    "    #loading each image as a numpy array\n",
    "    data = np.load(os.path.join(path_v, files_v[index]))['X']\n",
    "    label = np.load(os.path.join(path_v, files_v[index]))['y']\n",
    "    \n",
    "    data = (data - data.mean()) / data.std()\n",
    "    data = data.reshape((data.shape[0], data.shape[1], data.shape[2], 1))\n",
    "\n",
    "    np.savez(os.path.join(path_v, file), X=data, y=label)"
   ]
  },
  {
   "cell_type": "code",
   "execution_count": 17,
   "metadata": {},
   "outputs": [
    {
     "data": {
      "text/plain": [
       "Text(0.5, 1.0, 'Electron energy')"
      ]
     },
     "execution_count": 17,
     "metadata": {},
     "output_type": "execute_result"
    },
    {
     "data": {
      "image/png": "[encoded data removed]",
      "text/plain": [
       "<Figure size 720x720 with 2 Axes>"
      ]
     },
     "metadata": {
      "needs_background": "light"
     },
     "output_type": "display_data"
    }
   ],
   "source": [
    "original_dataset_dir = path_v\n",
    "\n",
    "files = files_v\n",
    "f=4\n",
    "e = np.load(os.path.join(original_dataset_dir, files[f]))['X']\n",
    "e = e.reshape((e.shape[0], e.shape[1], e.shape[2]))[1]\n",
    "\n",
    "fig_e = plt.figure(figsize=(10,10))\n",
    "plt.imshow(e, cmap='Reds')\n",
    "plt.xticks(fontsize=20, rotation=0)\n",
    "plt.yticks(fontsize=20)\n",
    "cb = plt.colorbar(format='%.0e')\n",
    "cb.ax.set_title('kEv')\n",
    "cb.ax.tick_params(labelsize=20)\n",
    "plt.title(\"Electron energy\", fontsize = 25)"
   ]
  },
  {
   "cell_type": "code",
   "execution_count": 19,
   "metadata": {},
   "outputs": [
    {
     "data": {
      "text/plain": [
       "0.8703358310800615"
      ]
     },
     "execution_count": 19,
     "metadata": {},
     "output_type": "execute_result"
    }
   ],
   "source": [
    "e.std()"
   ]
  },
  {
   "cell_type": "markdown",
   "metadata": {},
   "source": [
    "Standarizing training data:"
   ]
  },
  {
   "cell_type": "code",
   "execution_count": 20,
   "metadata": {},
   "outputs": [],
   "source": [
    "path_tr = 'eVSmu_2tr/'\n",
    "\n",
    "files_tr = os.listdir(path_tr)"
   ]
  },
  {
   "cell_type": "code",
   "execution_count": 24,
   "metadata": {},
   "outputs": [],
   "source": [
    "for index, file in enumerate(files_tr):  \n",
    "    \n",
    "    data = np.load(os.path.join(path_tr, files_tr[index]))['X']\n",
    "    label = np.load(os.path.join(path_tr, files_tr[index]))['y']\n",
    "    \n",
    "    data = (data - data.mean()) / data.std()\n",
    "    data = data.reshape((data.shape[0], data.shape[1], data.shape[2], 1))\n",
    "\n",
    "    np.savez(os.path.join(path_tr, file), X=data, y=label)"
   ]
  },
  {
   "cell_type": "code",
   "execution_count": 35,
   "metadata": {},
   "outputs": [
    {
     "name": "stdout",
     "output_type": "stream",
     "text": [
      "batch54.npz\n"
     ]
    },
    {
     "data": {
      "text/plain": [
       "Text(0.5, 1.0, 'Electron energy')"
      ]
     },
     "execution_count": 35,
     "metadata": {},
     "output_type": "execute_result"
    },
    {
     "data": {
      "image/png": "[encoded data removed]",
      "text/plain": [
       "<Figure size 720x720 with 2 Axes>"
      ]
     },
     "metadata": {
      "needs_background": "light"
     },
     "output_type": "display_data"
    }
   ],
   "source": [
    "original_dataset_dir = path_tr\n",
    "\n",
    "files = files_tr\n",
    "f=34\n",
    "e = np.load(os.path.join(original_dataset_dir, files[f]))['X']\n",
    "print(files[f])\n",
    "e = e.reshape((e.shape[0], e.shape[1], e.shape[2]))[60]\n",
    "\n",
    "fig_e = plt.figure(figsize=(10,10))\n",
    "plt.imshow(e, cmap='Reds')\n",
    "plt.xticks(fontsize=20, rotation=0)\n",
    "plt.yticks(fontsize=20)\n",
    "cb = plt.colorbar(format='%.0e')\n",
    "cb.ax.set_title('kEv')\n",
    "cb.ax.tick_params(labelsize=20)\n",
    "plt.title(\"Electron energy\", fontsize = 25)"
   ]
  },
  {
   "cell_type": "code",
   "execution_count": 37,
   "metadata": {},
   "outputs": [
    {
     "data": {
      "text/plain": [
       "1.367575371717114"
      ]
     },
     "execution_count": 37,
     "metadata": {},
     "output_type": "execute_result"
    }
   ],
   "source": [
    "e.std()"
   ]
  },
  {
   "cell_type": "markdown",
   "metadata": {},
   "source": [
    "Trying to create a tuple (inputs, targets)"
   ]
  },
  {
   "cell_type": "code",
   "execution_count": 38,
   "metadata": {},
   "outputs": [],
   "source": [
    "label = np.load(os.path.join(original_dataset_dir, files[f]))['y']"
   ]
  },
  {
   "cell_type": "code",
   "execution_count": 40,
   "metadata": {},
   "outputs": [
    {
     "data": {
      "text/plain": [
       "array([1.])"
      ]
     },
     "execution_count": 40,
     "metadata": {},
     "output_type": "execute_result"
    }
   ],
   "source": [
    "label[60]"
   ]
  },
  {
   "cell_type": "code",
   "execution_count": 41,
   "metadata": {},
   "outputs": [],
   "source": [
    "muchos_datos = np.load(os.path.join(original_dataset_dir, files[f]))['X']\n",
    "muchas_labels = np.load(os.path.join(original_dataset_dir, files[f]))['y']"
   ]
  },
  {
   "cell_type": "code",
   "execution_count": 63,
   "metadata": {},
   "outputs": [],
   "source": [
    "prueba = tuple((muchos_datos, muchas_labels))"
   ]
  },
  {
   "cell_type": "code",
   "execution_count": null,
   "metadata": {},
   "outputs": [],
   "source": []
  }
 ],
 "metadata": {
  "kernelspec": {
   "display_name": "Python 3",
   "language": "python",
   "name": "python3"
  },
  "language_info": {
   "codemirror_mode": {
    "name": "ipython",
    "version": 3
   },
   "file_extension": ".py",
   "mimetype": "text/x-python",
   "name": "python",
   "nbconvert_exporter": "python",
   "pygments_lexer": "ipython3",
   "version": "3.7.4"
  }
 },
 "nbformat": 4,
 "nbformat_minor": 2
}

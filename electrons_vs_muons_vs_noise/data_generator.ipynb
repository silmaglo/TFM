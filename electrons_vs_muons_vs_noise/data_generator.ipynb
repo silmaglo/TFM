{
 "cells": [
  {
   "cell_type": "markdown",
   "metadata": {},
   "source": [
    "### Data generator function for the classification problem: electrons, muons and noise"
   ]
  },
  {
   "cell_type": "code",
   "execution_count": 1,
   "metadata": {},
   "outputs": [],
   "source": [
    "import glob\n",
    "import os, shutil\n",
    "import matplotlib.pyplot as plt\n",
    "import numpy as np"
   ]
  },
  {
   "cell_type": "markdown",
   "metadata": {},
   "source": [
    "To generate the data, we already have a directory containing the data from electrons and muons (`/gpfs/projects/damic/eVSmu_2def`) so we add to this folder the files stored in `/gpfs/projects/damic/cropped_noise2`"
   ]
  },
  {
   "cell_type": "code",
   "execution_count": 2,
   "metadata": {},
   "outputs": [],
   "source": [
    "path = '/gpfs/projects/damic/eVSmu_2def'"
   ]
  },
  {
   "cell_type": "code",
   "execution_count": 3,
   "metadata": {},
   "outputs": [
    {
     "name": "stdout",
     "output_type": "stream",
     "text": [
      "We have 16894 files\n",
      "There are 5835 electrones, 5224 muons and 5835 files with noise\n"
     ]
    }
   ],
   "source": [
    "num_files = len([f for f in os.listdir(path)if os.path.isfile(os.path.join(path, f))])\n",
    "print('We have', num_files,'files')\n",
    "\n",
    "num_electrons = len(glob.glob1(path,\"*11.npz\"))\n",
    "num_noise = len(glob.glob1(path,\"*0.npz\"))\n",
    "num_muons = len(glob.glob1(path,\"*13.npz\"))\n",
    "\n",
    "print('There are',num_electrons,'electrones,', num_muons,'muons and',num_noise,'files with noise')"
   ]
  },
  {
   "cell_type": "markdown",
   "metadata": {},
   "source": [
    "Now we define our data generator function:"
   ]
  },
  {
   "cell_type": "code",
   "execution_count": 4,
   "metadata": {},
   "outputs": [],
   "source": [
    "def data_generator(inputs, targets, batch_size, num_classes, train_split, val_split, test_split, shuffle=True):\n",
    "    \n",
    "    #checking the parameters\n",
    "    assert len(inputs) == len(targets)\n",
    "    assert len(inputs) >= batch_size\n",
    "    assert train_split + val_split + test_split == 1\n",
    "    \n",
    "    # Create list of indices\n",
    "    idxs = np.arange(len(inputs))\n",
    "    if shuffle:\n",
    "        np.random.shuffle(idxs)\n",
    "\n",
    "    # Reshape targets to the correct shape\n",
    "    if len(targets.shape) == 1:\n",
    "        print('reshaping targets')\n",
    "        targets = targets.reshape(-1, 1)\n",
    "        \n",
    "    num_batch = 0 #index for the batches\n",
    "    \n",
    "    batch_tot = len(range(0, len(inputs) - batch_size + 1, batch_size)) #total number of batches\n",
    "\n",
    "    #creating the batchs \n",
    "    for start_idx in range(0, len(inputs) - batch_size + 1, batch_size):\n",
    "        excerpt = idxs[start_idx:start_idx + batch_size]\n",
    "        batch_X = []\n",
    "        batch_y = []\n",
    "        \n",
    "        for i in excerpt:\n",
    "            im = np.load(inputs[i])['energy']\n",
    "            batch_X.append(im)  # shape (N, 192, 242)\n",
    "            \n",
    "            #putting labels as categorical\n",
    "            lab = int(targets[i])\n",
    "            batch_y.append(np.eye(num_classes)[lab])\n",
    "     \n",
    "        batch_X = np.array(batch_X) #shape (batch_size, 242, 192)\n",
    "        \n",
    "        #creating batch of labels\n",
    "        batch_y = np.asarray(batch_y)\n",
    "        \n",
    "        num_batch += 1\n",
    "        print(num_batch)\n",
    "        a = num_batch/batch_tot\n",
    "        \n",
    "        #saving the batch in the corresponding directory (train, validation or test)\n",
    "        if  a >= (train_split + val_split):\n",
    "            np.savez('/gpfs/projects/damic/eVSmuVSn_2test/batch%d' % num_batch, X = batch_X, y = batch_y)\n",
    "        elif a > (train_split):\n",
    "            np.savez('/gpfs/projects/damic/eVSmuVSn_2val/batch%d' % num_batch, X = batch_X, y = batch_y)\n",
    "        else:\n",
    "            np.savez('/gpfs/projects/damic/eVSmuVSn_2train/batch%d' % num_batch, X = batch_X, y = batch_y)"
   ]
  },
  {
   "cell_type": "code",
   "execution_count": 5,
   "metadata": {},
   "outputs": [
    {
     "data": {
      "text/plain": [
       "['ColdCopper_3_PV_PV_208a81z_s14_N100000_image_evt_71403_ccd_1_ind_1_pdg_11.npz',\n",
       " 'noise_file_from_e4244-0.npz',\n",
       " 'noise_file_from_e4418-0.npz',\n",
       " 'ColdCopper_mu+_5p0GeV_N10000_image_evt_7500_ccd_1_ind_3_pdg_-13.npz',\n",
       " 'noise_file_from_e483-0.npz',\n",
       " 'noise_file_from_e3076-0.npz',\n",
       " 'noise_file_from_e192-0.npz',\n",
       " 'ColdCopper_mu+_3p0GeV_N10000_image_evt_9173_ccd_2_ind_2_pdg_-13.npz',\n",
       " 'ColdCopper_3_PV_PV_60a27z_s41_N100000_image_evt_67738_ccd_2_ind_0_pdg_11.npz',\n",
       " 'noise_file_from_e4854-0.npz']"
      ]
     },
     "execution_count": 5,
     "metadata": {},
     "output_type": "execute_result"
    }
   ],
   "source": [
    "files = os.listdir(path)\n",
    "\n",
    "files[0:10]"
   ]
  },
  {
   "cell_type": "code",
   "execution_count": 6,
   "metadata": {},
   "outputs": [
    {
     "data": {
      "text/plain": [
       "str"
      ]
     },
     "execution_count": 6,
     "metadata": {},
     "output_type": "execute_result"
    }
   ],
   "source": [
    "type(files[0])"
   ]
  },
  {
   "cell_type": "code",
   "execution_count": 7,
   "metadata": {},
   "outputs": [
    {
     "data": {
      "text/plain": [
       "True"
      ]
     },
     "execution_count": 7,
     "metadata": {},
     "output_type": "execute_result"
    }
   ],
   "source": [
    "e_suffix = '11.npz'\n",
    "\n",
    "files[0].endswith(e_suffix)"
   ]
  },
  {
   "cell_type": "markdown",
   "metadata": {},
   "source": [
    "Let's generate the labels with the method `endswith`, where 0 stands for nosie, 1 for electron and 2 for muons:"
   ]
  },
  {
   "cell_type": "code",
   "execution_count": 8,
   "metadata": {},
   "outputs": [],
   "source": [
    "y = np.zeros(shape=(len(files),))"
   ]
  },
  {
   "cell_type": "code",
   "execution_count": 9,
   "metadata": {},
   "outputs": [],
   "source": [
    "mu_suffix = '13.npz'"
   ]
  },
  {
   "cell_type": "code",
   "execution_count": 10,
   "metadata": {},
   "outputs": [],
   "source": [
    "for index, file in enumerate(files):     \n",
    "    if files[index].endswith(e_suffix) == True:\n",
    "        y[index] = 1 #electron\n",
    "    elif files[index].endswith(mu_suffix) == True:\n",
    "        y[index] = 2 #muons\n",
    "    else:\n",
    "        y[index] = 0 #noise"
   ]
  },
  {
   "cell_type": "code",
   "execution_count": 11,
   "metadata": {},
   "outputs": [
    {
     "data": {
      "text/plain": [
       "array([1., 0., 0., 2., 0., 0., 0., 2., 1., 0.])"
      ]
     },
     "execution_count": 11,
     "metadata": {},
     "output_type": "execute_result"
    }
   ],
   "source": [
    "y[0:10]"
   ]
  },
  {
   "cell_type": "markdown",
   "metadata": {},
   "source": [
    "Now we generate the paths of the numpy files:"
   ]
  },
  {
   "cell_type": "code",
   "execution_count": 12,
   "metadata": {},
   "outputs": [],
   "source": [
    "X = np.empty(shape=(len(files),), dtype=object)\n",
    "\n",
    "for index, file in enumerate(files):     \n",
    "\n",
    "    X[index] = os.path.join(path, files[index]) "
   ]
  },
  {
   "cell_type": "code",
   "execution_count": 13,
   "metadata": {},
   "outputs": [
    {
     "data": {
      "text/plain": [
       "array(['/gpfs/projects/damic/eVSmu_2def/ColdCopper_3_PV_PV_208a81z_s14_N100000_image_evt_71403_ccd_1_ind_1_pdg_11.npz',\n",
       "       '/gpfs/projects/damic/eVSmu_2def/noise_file_from_e4244-0.npz',\n",
       "       '/gpfs/projects/damic/eVSmu_2def/noise_file_from_e4418-0.npz', ...,\n",
       "       '/gpfs/projects/damic/eVSmu_2def/noise_file_from_e4290-0.npz',\n",
       "       '/gpfs/projects/damic/eVSmu_2def/ColdCopper_3_PV_PV_56a27z_s72_N100000_image_evt_31450_ccd_2_ind_0_pdg_11.npz',\n",
       "       '/gpfs/projects/damic/eVSmu_2def/ColdCopper_mu+_5p0GeV_N10000_image_evt_7140_ccd_2_ind_7_pdg_-13.npz'],\n",
       "      dtype=object)"
      ]
     },
     "execution_count": 13,
     "metadata": {},
     "output_type": "execute_result"
    }
   ],
   "source": [
    "X"
   ]
  },
  {
   "cell_type": "markdown",
   "metadata": {},
   "source": [
    "Now we generate the data:"
   ]
  },
  {
   "cell_type": "code",
   "execution_count": null,
   "metadata": {},
   "outputs": [],
   "source": [
    "data_gen =  data_generator(inputs=X, targets=y, batch_size=64, num_classes=3, train_split = 0.6, \n",
    "                           val_split = 0.2, test_split = 0.2, shuffle=True)\n",
    "\n",
    "#history = model.fit_generator(generator=train_gen, ...) -> in local"
   ]
  },
  {
   "cell_type": "code",
   "execution_count": 17,
   "metadata": {},
   "outputs": [
    {
     "name": "stdout",
     "output_type": "stream",
     "text": [
      "batch112.npz\n"
     ]
    },
    {
     "data": {
      "text/plain": [
       "Text(0.5, 1.0, 'Energy')"
      ]
     },
     "execution_count": 17,
     "metadata": {},
     "output_type": "execute_result"
    },
    {
     "data": {
      "image/png": "[encoded data removed]",
      "text/plain": [
       "<Figure size 720x720 with 2 Axes>"
      ]
     },
     "metadata": {
      "needs_background": "light"
     },
     "output_type": "display_data"
    }
   ],
   "source": [
    "original_dataset_dir = '/gpfs/projects/damic/eVSmuVSn_2train/'\n",
    "\n",
    "files = os.listdir(original_dataset_dir)\n",
    "f=76\n",
    "e = np.load(os.path.join(original_dataset_dir, files[f]))['X']\n",
    "print(files[f])\n",
    "e = e.reshape((e.shape[0], e.shape[1], e.shape[2]))[60]\n",
    "\n",
    "fig_e = plt.figure(figsize=(10,10))\n",
    "plt.imshow(e, cmap='Reds')\n",
    "plt.xticks(fontsize=20, rotation=0)\n",
    "plt.yticks(fontsize=20)\n",
    "cb = plt.colorbar(format='%.0e')\n",
    "cb.ax.set_title('Ev')\n",
    "cb.ax.tick_params(labelsize=20)\n",
    "plt.title(\"Energy\", fontsize = 25)"
   ]
  },
  {
   "cell_type": "code",
   "execution_count": 32,
   "metadata": {},
   "outputs": [
    {
     "data": {
      "text/plain": [
       "223.2693957929481"
      ]
     },
     "execution_count": 32,
     "metadata": {},
     "output_type": "execute_result"
    }
   ],
   "source": [
    "e.std()"
   ]
  },
  {
   "cell_type": "code",
   "execution_count": 5,
   "metadata": {},
   "outputs": [
    {
     "data": {
      "text/plain": [
       "64"
      ]
     },
     "execution_count": 5,
     "metadata": {},
     "output_type": "execute_result"
    }
   ],
   "source": [
    "len(np.load(os.path.join(original_dataset_dir, files[f]))['X'])"
   ]
  }
 ],
 "metadata": {
  "kernelspec": {
   "display_name": "Python 3",
   "language": "python",
   "name": "python3"
  },
  "language_info": {
   "codemirror_mode": {
    "name": "ipython",
    "version": 3
   },
   "file_extension": ".py",
   "mimetype": "text/x-python",
   "name": "python",
   "nbconvert_exporter": "python",
   "pygments_lexer": "ipython3",
   "version": "3.7.4"
  }
 },
 "nbformat": 4,
 "nbformat_minor": 4
}

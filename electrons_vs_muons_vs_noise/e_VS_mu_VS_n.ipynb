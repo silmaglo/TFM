{
 "cells": [
  {
   "cell_type": "markdown",
   "metadata": {},
   "source": [
    "### Building a model to differentiate between noise, muons and electrons from scratch\n",
    "\n",
    "In this notebook, we will build a convolutional neural network to classify a signal as electron, muon or noise. Therefore, we are facing a multiclass classification problem: electron, muon or noise. This is the reason why we will have just one neuron in the output layer with softmax activation.\n",
    "\n",
    "First we import the data stored in a file called `eVSmuVSn_noisy1.npz` composed of two variables: 'data' for the numpy arrays with energy or noise, and 'labels' where 1 stands for electron signal, 2 for muon signal and 0 for noise.\n",
    "\n",
    "* [First model: data with class_weights](#First-model:-data-with-class_weights)\n",
    "* [Second model: Under/oversampling data](#Second-model:-Under/oversampling-data)"
   ]
  },
  {
   "cell_type": "code",
   "execution_count": 1,
   "metadata": {},
   "outputs": [],
   "source": [
    "import numpy as np\n",
    "from sklearn.model_selection import train_test_split"
   ]
  },
  {
   "cell_type": "code",
   "execution_count": 2,
   "metadata": {},
   "outputs": [],
   "source": [
    "loaded = np.load('/Users/Silvia/Desktop/TFM/e_VS_mu_VS_n/eVSmuVSn_1.npz')\n",
    "X = loaded['data']\n",
    "y = loaded['labels']"
   ]
  },
  {
   "cell_type": "code",
   "execution_count": null,
   "metadata": {},
   "outputs": [],
   "source": []
  },
  {
   "cell_type": "code",
   "execution_count": 4,
   "metadata": {},
   "outputs": [],
   "source": [
    "X_train, X_test, y_train, y_test = train_test_split(X, y, random_state=0)"
   ]
  },
  {
   "cell_type": "code",
   "execution_count": 5,
   "metadata": {},
   "outputs": [
    {
     "name": "stdout",
     "output_type": "stream",
     "text": [
      "(5143, 296, 286)\n"
     ]
    }
   ],
   "source": [
    "print(X_train.shape)"
   ]
  },
  {
   "cell_type": "code",
   "execution_count": 6,
   "metadata": {},
   "outputs": [
    {
     "name": "stdout",
     "output_type": "stream",
     "text": [
      "(5143, 84656) (1715, 84656)\n"
     ]
    }
   ],
   "source": [
    "from sklearn import preprocessing\n",
    "\n",
    "aux_train = X_train.reshape((X_train.shape[0], X_train.shape[1]* X_train.shape[2]))\n",
    "aux_test = X_test.reshape((X_test.shape[0], X_test.shape[1]* X_test.shape[2]))\n",
    "\n",
    "scaler = preprocessing.StandardScaler().fit(aux_train)\n",
    "\n",
    "X_trainr = scaler.transform(aux_train)\n",
    "\n",
    "X_testr = scaler.transform(aux_test)\n",
    "\n",
    "print(X_trainr.shape, X_testr.shape)"
   ]
  },
  {
   "cell_type": "code",
   "execution_count": 7,
   "metadata": {},
   "outputs": [
    {
     "name": "stdout",
     "output_type": "stream",
     "text": [
      "(5143, 296, 286, 1)\n"
     ]
    }
   ],
   "source": [
    "X_train = X_trainr.reshape((X_train.shape[0], X_train.shape[1], X_train.shape[2], 1))\n",
    "\n",
    "print(X_train.shape)"
   ]
  },
  {
   "cell_type": "code",
   "execution_count": 8,
   "metadata": {},
   "outputs": [
    {
     "name": "stdout",
     "output_type": "stream",
     "text": [
      "(1715, 296, 286, 1)\n"
     ]
    }
   ],
   "source": [
    "X_test = X_testr.reshape((X_test.shape[0], X_test.shape[1], X_test.shape[2], 1))\n",
    "\n",
    "print(X_test.shape)"
   ]
  },
  {
   "cell_type": "code",
   "execution_count": 2,
   "metadata": {},
   "outputs": [
    {
     "name": "stderr",
     "output_type": "stream",
     "text": [
      "Using TensorFlow backend.\n"
     ]
    }
   ],
   "source": [
    "import keras"
   ]
  },
  {
   "cell_type": "code",
   "execution_count": 3,
   "metadata": {},
   "outputs": [],
   "source": [
    "from keras import layers, models, optimizers"
   ]
  },
  {
   "cell_type": "markdown",
   "metadata": {},
   "source": [
    "### First model: data with class_weights"
   ]
  },
  {
   "cell_type": "code",
   "execution_count": 4,
   "metadata": {},
   "outputs": [],
   "source": [
    "window_y, window_x = 296,286"
   ]
  },
  {
   "cell_type": "code",
   "execution_count": 12,
   "metadata": {
    "scrolled": true
   },
   "outputs": [
    {
     "name": "stdout",
     "output_type": "stream",
     "text": [
      "Model: \"sequential_1\"\n",
      "_________________________________________________________________\n",
      "Layer (type)                 Output Shape              Param #   \n",
      "=================================================================\n",
      "conv2d_1 (Conv2D)            (None, 294, 284, 32)      320       \n",
      "_________________________________________________________________\n",
      "max_pooling2d_1 (MaxPooling2 (None, 147, 142, 32)      0         \n",
      "_________________________________________________________________\n",
      "conv2d_2 (Conv2D)            (None, 145, 140, 64)      18496     \n",
      "_________________________________________________________________\n",
      "max_pooling2d_2 (MaxPooling2 (None, 72, 70, 64)        0         \n",
      "_________________________________________________________________\n",
      "conv2d_3 (Conv2D)            (None, 70, 68, 128)       73856     \n",
      "_________________________________________________________________\n",
      "max_pooling2d_3 (MaxPooling2 (None, 35, 34, 128)       0         \n",
      "_________________________________________________________________\n",
      "conv2d_4 (Conv2D)            (None, 33, 32, 128)       147584    \n",
      "_________________________________________________________________\n",
      "max_pooling2d_4 (MaxPooling2 (None, 16, 16, 128)       0         \n",
      "_________________________________________________________________\n",
      "flatten_1 (Flatten)          (None, 32768)             0         \n",
      "_________________________________________________________________\n",
      "dense_1 (Dense)              (None, 2050)              67176450  \n",
      "_________________________________________________________________\n",
      "dense_2 (Dense)              (None, 512)               1050112   \n",
      "_________________________________________________________________\n",
      "dense_3 (Dense)              (None, 3)                 1539      \n",
      "=================================================================\n",
      "Total params: 68,468,357\n",
      "Trainable params: 68,468,357\n",
      "Non-trainable params: 0\n",
      "_________________________________________________________________\n"
     ]
    }
   ],
   "source": [
    "model_v1 = models.Sequential()\n",
    "model_v1.add(layers.Conv2D(32,(3,3), activation='relu', input_shape=(window_y, window_x, 1)))\n",
    "model_v1.add(layers.MaxPooling2D((2,2)))\n",
    "model_v1.add(layers.Conv2D(64,(3,3), activation='relu'))\n",
    "model_v1.add(layers.MaxPooling2D((2,2)))\n",
    "model_v1.add(layers.Conv2D(128,(3,3), activation='relu'))\n",
    "model_v1.add(layers.MaxPooling2D((2,2)))\n",
    "model_v1.add(layers.Conv2D(128,(3,3), activation='relu'))\n",
    "model_v1.add(layers.MaxPooling2D((2,2)))\n",
    "\n",
    "model_v1.add(layers.Flatten())\n",
    "model_v1.add(layers.Dense(units= 2050, activation='relu'))\n",
    "model_v1.add(layers.Dense(units= 512, activation='relu'))\n",
    "model_v1.add(layers.Dense(units= 3, activation='softmax'))\n",
    "model_v1.summary()"
   ]
  },
  {
   "cell_type": "code",
   "execution_count": 13,
   "metadata": {},
   "outputs": [],
   "source": [
    "model_v1.compile(optimizer=optimizers.RMSprop(lr= 1e-4),loss='categorical_crossentropy', metrics=['acc'])"
   ]
  },
  {
   "cell_type": "code",
   "execution_count": 14,
   "metadata": {},
   "outputs": [],
   "source": [
    "from keras.utils.np_utils import to_categorical\n",
    "one_hot_train_labels = to_categorical(y_train)\n",
    "one_hot_test_labels = to_categorical(y_test)"
   ]
  },
  {
   "cell_type": "code",
   "execution_count": 15,
   "metadata": {
    "scrolled": true
   },
   "outputs": [
    {
     "name": "stdout",
     "output_type": "stream",
     "text": [
      "Train on 4114 samples, validate on 1029 samples\n",
      "Epoch 1/15\n",
      "4114/4114 [==============================] - 333s 81ms/step - loss: 0.6025 - acc: 0.7710 - val_loss: 0.4727 - val_acc: 0.7988\n",
      "Epoch 2/15\n",
      "4114/4114 [==============================] - 344s 84ms/step - loss: 0.3301 - acc: 0.8576 - val_loss: 0.3881 - val_acc: 0.8348\n",
      "Epoch 3/15\n",
      "4114/4114 [==============================] - 341s 83ms/step - loss: 0.2169 - acc: 0.9115 - val_loss: 0.4541 - val_acc: 0.8222\n",
      "Epoch 4/15\n",
      "4114/4114 [==============================] - 345s 84ms/step - loss: 0.1454 - acc: 0.9434 - val_loss: 0.5035 - val_acc: 0.8426\n",
      "Epoch 5/15\n",
      "4114/4114 [==============================] - 349s 85ms/step - loss: 0.0935 - acc: 0.9623 - val_loss: 0.6573 - val_acc: 0.8251\n",
      "Epoch 6/15\n",
      "4114/4114 [==============================] - 349s 85ms/step - loss: 0.0602 - acc: 0.9767 - val_loss: 0.7722 - val_acc: 0.8047\n",
      "Epoch 7/15\n",
      "4114/4114 [==============================] - 346s 84ms/step - loss: 0.0465 - acc: 0.9849 - val_loss: 0.9738 - val_acc: 0.8319\n",
      "Epoch 8/15\n",
      "4114/4114 [==============================] - 351s 85ms/step - loss: 0.0362 - acc: 0.9878 - val_loss: 1.0881 - val_acc: 0.8465\n",
      "Epoch 9/15\n",
      "4114/4114 [==============================] - 337s 82ms/step - loss: 0.0265 - acc: 0.9917 - val_loss: 1.3772 - val_acc: 0.8212\n",
      "Epoch 10/15\n",
      "4114/4114 [==============================] - 339s 82ms/step - loss: 0.0207 - acc: 0.9944 - val_loss: 1.4596 - val_acc: 0.8358\n",
      "Epoch 11/15\n",
      "4114/4114 [==============================] - 333s 81ms/step - loss: 0.0190 - acc: 0.9947 - val_loss: 1.6459 - val_acc: 0.8309\n",
      "Epoch 12/15\n",
      "4114/4114 [==============================] - 335s 81ms/step - loss: 0.0130 - acc: 0.9961 - val_loss: 2.6681 - val_acc: 0.8397\n",
      "Epoch 13/15\n",
      "4114/4114 [==============================] - 331s 80ms/step - loss: 0.0202 - acc: 0.9944 - val_loss: 2.0290 - val_acc: 0.8465\n",
      "Epoch 14/15\n",
      "4114/4114 [==============================] - 330s 80ms/step - loss: 0.0185 - acc: 0.9961 - val_loss: 2.1025 - val_acc: 0.8251\n",
      "Epoch 15/15\n",
      "4114/4114 [==============================] - 330s 80ms/step - loss: 0.0111 - acc: 0.9976 - val_loss: 2.0518 - val_acc: 0.8465\n"
     ]
    },
    {
     "data": {
      "text/plain": [
       "<keras.callbacks.callbacks.History at 0x3c8a449d0>"
      ]
     },
     "execution_count": 15,
     "metadata": {},
     "output_type": "execute_result"
    }
   ],
   "source": [
    "from sklearn.utils import class_weight\n",
    "class_weights = class_weight.compute_class_weight('balanced', np.unique(y_train), y_train)\n",
    "model_v1.fit(X_train, one_hot_train_labels, class_weight=class_weights, epochs= 15, validation_split = 0.2)"
   ]
  },
  {
   "cell_type": "code",
   "execution_count": 5,
   "metadata": {},
   "outputs": [],
   "source": [
    "import matplotlib.pyplot as plt"
   ]
  },
  {
   "cell_type": "code",
   "execution_count": 6,
   "metadata": {},
   "outputs": [],
   "source": [
    "#https://scikit-learn.org/0.21/auto_examples/model_selection/plot_confusion_matrix.html#sphx-glr-auto-examples-model-selection-plot-confusion-matrix-py\n",
    "from sklearn.metrics import confusion_matrix\n",
    "from sklearn.utils.multiclass import unique_labels\n",
    "def plot_confusion_matrix(y_true, y_pred, classes,\n",
    "                          normalize=False,\n",
    "                          title=None,\n",
    "                          cmap=plt.cm.Blues):\n",
    "    \"\"\"\n",
    "    This function prints and plots the confusion matrix.\n",
    "    Normalization can be applied by setting `normalize=True`.\n",
    "    \"\"\"\n",
    "    if not title:\n",
    "        if normalize:\n",
    "            title = 'Normalized confusion matrix'\n",
    "        else:\n",
    "            title = 'Confusion matrix, without normalization'\n",
    "\n",
    "    # Compute confusion matrix\n",
    "    cm = confusion_matrix(y_true, y_pred)\n",
    "    # Only use the labels that appear in the data\n",
    "    classes = classes[unique_labels(y_true, y_pred)]\n",
    "    if normalize:\n",
    "        cm = cm.astype('float') / cm.sum(axis=1)[:, np.newaxis]\n",
    "        print(\"Normalized confusion matrix\")\n",
    "    else:\n",
    "        print('Confusion matrix, without normalization')\n",
    "\n",
    "    print(cm)\n",
    "\n",
    "    fig, ax = plt.subplots()\n",
    "    im = ax.imshow(cm, interpolation='nearest', cmap=cmap)\n",
    "    ax.figure.colorbar(im, ax=ax)\n",
    "    # We want to show all ticks...\n",
    "    ax.set(xticks=np.arange(cm.shape[1]),\n",
    "           yticks=np.arange(cm.shape[0]),\n",
    "           # ... and label them with the respective list entries\n",
    "           xticklabels=classes, yticklabels=classes,\n",
    "           title=title,\n",
    "           ylabel='True label',\n",
    "           xlabel='Predicted label')\n",
    "\n",
    "    # Rotate the tick labels and set their alignment.\n",
    "    plt.setp(ax.get_xticklabels(), rotation=45, ha=\"right\",\n",
    "             rotation_mode=\"anchor\")\n",
    "\n",
    "    # Loop over data dimensions and create text annotations.\n",
    "    fmt = '.2f' if normalize else 'd'\n",
    "    thresh = cm.max() / 2.\n",
    "    for i in range(cm.shape[0]):\n",
    "        for j in range(cm.shape[1]):\n",
    "            ax.text(j, i, format(cm[i, j], fmt),\n",
    "                    ha=\"center\", va=\"center\",\n",
    "                    color=\"white\" if cm[i, j] > thresh else \"black\")\n",
    "    fig.tight_layout()\n",
    "    return ax\n",
    "\n"
   ]
  },
  {
   "cell_type": "code",
   "execution_count": 32,
   "metadata": {},
   "outputs": [],
   "source": [
    "model_v1.save('model_e_mu_or_n_v1.h5')"
   ]
  },
  {
   "cell_type": "code",
   "execution_count": 16,
   "metadata": {},
   "outputs": [
    {
     "name": "stdout",
     "output_type": "stream",
     "text": [
      "1715/1715 [==============================] - 34s 20ms/step\n",
      "Accuracy with the model: 80.64%\n"
     ]
    }
   ],
   "source": [
    "loss, acc = model_v1.evaluate(X_test, one_hot_test_labels)\n",
    "print('Accuracy with the model: {:5.2f}%'.format(100*acc))"
   ]
  },
  {
   "cell_type": "code",
   "execution_count": 17,
   "metadata": {},
   "outputs": [],
   "source": [
    "y_predicted1 = model_v1.predict(X_test)"
   ]
  },
  {
   "cell_type": "code",
   "execution_count": 18,
   "metadata": {},
   "outputs": [
    {
     "data": {
      "text/plain": [
       "array([[1.0000000e+00, 5.8218351e-08, 3.0675560e-13],\n",
       "       [4.2868528e-11, 9.9999774e-01, 2.3073464e-06],\n",
       "       [1.0000000e+00, 8.9619569e-24, 4.3206611e-32],\n",
       "       ...,\n",
       "       [1.0000000e+00, 5.9536274e-22, 1.7700027e-28],\n",
       "       [1.2076167e-29, 1.0000000e+00, 7.3066327e-12],\n",
       "       [9.9999940e-01, 5.9725807e-08, 5.1227795e-07]], dtype=float32)"
      ]
     },
     "execution_count": 18,
     "metadata": {},
     "output_type": "execute_result"
    }
   ],
   "source": [
    "y_predicted1"
   ]
  },
  {
   "cell_type": "code",
   "execution_count": 19,
   "metadata": {},
   "outputs": [],
   "source": [
    "y_predicted_1 = np.argmax(y_predicted1, axis=1)"
   ]
  },
  {
   "cell_type": "code",
   "execution_count": 20,
   "metadata": {},
   "outputs": [
    {
     "data": {
      "text/plain": [
       "array([0, 1, 0, ..., 0, 1, 0])"
      ]
     },
     "execution_count": 20,
     "metadata": {},
     "output_type": "execute_result"
    }
   ],
   "source": [
    "y_predicted_1"
   ]
  },
  {
   "cell_type": "code",
   "execution_count": 7,
   "metadata": {},
   "outputs": [],
   "source": [
    "import matplotlib.pyplot as plt"
   ]
  },
  {
   "cell_type": "code",
   "execution_count": 8,
   "metadata": {},
   "outputs": [],
   "source": [
    "from sklearn.metrics import confusion_matrix"
   ]
  },
  {
   "cell_type": "code",
   "execution_count": 36,
   "metadata": {},
   "outputs": [
    {
     "data": {
      "text/plain": [
       "array([[851,  18,   0],\n",
       "       [ 90, 520,  37],\n",
       "       [ 30, 157,  12]])"
      ]
     },
     "execution_count": 36,
     "metadata": {},
     "output_type": "execute_result"
    }
   ],
   "source": [
    "conf=confusion_matrix(y_test, y_predicted_1, labels = list([0,1,2]))\n",
    "conf"
   ]
  },
  {
   "cell_type": "code",
   "execution_count": 9,
   "metadata": {},
   "outputs": [],
   "source": [
    "def plot_confusion_matrix(cm,\n",
    "                          target_names,\n",
    "                          title='Confusion matrix',\n",
    "                          cmap=None,\n",
    "                          normalize=True):\n",
    "    \"\"\"\n",
    "    given a sklearn confusion matrix (cm), make a nice plot\n",
    "\n",
    "    Arguments\n",
    "    ---------\n",
    "    cm:           confusion matrix from sklearn.metrics.confusion_matrix\n",
    "\n",
    "    target_names: given classification classes such as [0, 1, 2]\n",
    "                  the class names, for example: ['high', 'medium', 'low']\n",
    "\n",
    "    title:        the text to display at the top of the matrix\n",
    "\n",
    "    cmap:         the gradient of the values displayed from matplotlib.pyplot.cm\n",
    "                  see http://matplotlib.org/examples/color/colormaps_reference.html\n",
    "                  plt.get_cmap('jet') or plt.cm.Blues\n",
    "\n",
    "    normalize:    If False, plot the raw numbers\n",
    "                  If True, plot the proportions\n",
    "\n",
    "    Citiation\n",
    "    ---------\n",
    "    http://scikit-learn.org/stable/auto_examples/model_selection/plot_confusion_matrix.html\n",
    "\n",
    "    \"\"\"\n",
    "    import matplotlib.pyplot as plt\n",
    "    import numpy as np\n",
    "    import itertools\n",
    "\n",
    "    accuracy = np.trace(cm) / float(np.sum(cm))\n",
    "    misclass = 1 - accuracy\n",
    "\n",
    "    if cmap is None:\n",
    "        cmap = plt.get_cmap('Blues')\n",
    "\n",
    "    plt.figure(figsize=(8, 6))\n",
    "    plt.imshow(cm, interpolation='nearest', cmap=cmap)\n",
    "    plt.title(title)\n",
    "    plt.colorbar()\n",
    "\n",
    "    if target_names is not None:\n",
    "        tick_marks = np.arange(len(target_names))\n",
    "        plt.xticks(tick_marks, target_names, rotation=45)\n",
    "        plt.yticks(tick_marks, target_names)\n",
    "\n",
    "    if normalize:\n",
    "        cm = cm.astype('float') / cm.sum(axis=1)[:, np.newaxis]\n",
    "\n",
    "\n",
    "    thresh = cm.max() / 1.5 if normalize else cm.max() / 2\n",
    "    for i, j in itertools.product(range(cm.shape[0]), range(cm.shape[1])):\n",
    "        if normalize:\n",
    "            plt.text(j, i, \"{:0.4f}\".format(cm[i, j]),\n",
    "                     horizontalalignment=\"center\",\n",
    "                     color=\"white\" if cm[i, j] > thresh else \"black\")\n",
    "        else:\n",
    "            plt.text(j, i, \"{:,}\".format(cm[i, j]),\n",
    "                     horizontalalignment=\"center\",\n",
    "                     color=\"white\" if cm[i, j] > thresh else \"black\")\n",
    "    plt.grid(b=False)\n",
    "    plt.xlim(-0.5, 2.5)\n",
    "    plt.ylim(2.5, -0.5)\n",
    "    plt.tight_layout()\n",
    "    plt.ylabel('True label')\n",
    "    plt.xlabel('Predicted label\\naccuracy={:0.4f}; misclass={:0.4f}'.format(accuracy, misclass))\n",
    "    plt.show()"
   ]
  },
  {
   "cell_type": "code",
   "execution_count": 51,
   "metadata": {},
   "outputs": [
    {
     "data": {
      "image/png": "[encoded data removed]",
      "text/plain": [
       "<Figure size 576x432 with 2 Axes>"
      ]
     },
     "metadata": {},
     "output_type": "display_data"
    }
   ],
   "source": [
    "plot_confusion_matrix(cm           = conf, \n",
    "                      normalize    = False,\n",
    "                      target_names = ['noise', 'electron', 'muon'],\n",
    "                      title        = \"Confusion Matrix\")\n"
   ]
  },
  {
   "cell_type": "code",
   "execution_count": 52,
   "metadata": {},
   "outputs": [
    {
     "data": {
      "text/plain": [
       "<Figure size 432x288 with 0 Axes>"
      ]
     },
     "metadata": {},
     "output_type": "display_data"
    }
   ],
   "source": [
    "plt.savefig('conf1.png')"
   ]
  },
  {
   "cell_type": "markdown",
   "metadata": {},
   "source": [
    "### Second model: Under/oversampling data"
   ]
  },
  {
   "cell_type": "code",
   "execution_count": 3,
   "metadata": {},
   "outputs": [],
   "source": [
    "loaded = np.load('/Users/Silvia/Desktop/TFM/e_VS_mu_VS_n/eVSmuVSn_tr1.npz')\n",
    "X_train = loaded['data']\n",
    "y_train = loaded['labels']"
   ]
  },
  {
   "cell_type": "code",
   "execution_count": 4,
   "metadata": {},
   "outputs": [
    {
     "name": "stdout",
     "output_type": "stream",
     "text": [
      "(5943, 296, 286) (5943,)\n"
     ]
    }
   ],
   "source": [
    "print(X_train.shape, y_train.shape)"
   ]
  },
  {
   "cell_type": "code",
   "execution_count": 5,
   "metadata": {},
   "outputs": [],
   "source": [
    "loaded = np.load('/Users/Silvia/Desktop/TFM/e_VS_mu_VS_n/eVSmuVSn_te1.npz')\n",
    "X_test = loaded['data_test']\n",
    "y_test = loaded['labels_test']"
   ]
  },
  {
   "cell_type": "code",
   "execution_count": 13,
   "metadata": {},
   "outputs": [
    {
     "name": "stdout",
     "output_type": "stream",
     "text": [
      "(1715, 296, 286) (1715,)\n"
     ]
    }
   ],
   "source": [
    "print(X_test.shape, y_test.shape)"
   ]
  },
  {
   "cell_type": "code",
   "execution_count": 14,
   "metadata": {},
   "outputs": [
    {
     "name": "stdout",
     "output_type": "stream",
     "text": [
      "(5943, 84656) (1715, 84656)\n"
     ]
    }
   ],
   "source": [
    "from sklearn import preprocessing\n",
    "\n",
    "aux_train = X_train.reshape((X_train.shape[0], X_train.shape[1]* X_train.shape[2]))\n",
    "aux_test = X_test.reshape((X_test.shape[0], X_test.shape[1]* X_test.shape[2]))\n",
    "\n",
    "scaler = preprocessing.StandardScaler().fit(aux_train)\n",
    "\n",
    "X_trainr = scaler.transform(aux_train)\n",
    "\n",
    "X_testr = scaler.transform(aux_test)\n",
    "\n",
    "print(X_trainr.shape, X_testr.shape)"
   ]
  },
  {
   "cell_type": "code",
   "execution_count": 15,
   "metadata": {},
   "outputs": [
    {
     "name": "stdout",
     "output_type": "stream",
     "text": [
      "(5943, 296, 286, 1)\n"
     ]
    }
   ],
   "source": [
    "X_train = X_trainr.reshape((X_train.shape[0], X_train.shape[1], X_train.shape[2], 1))\n",
    "\n",
    "print(X_train.shape)"
   ]
  },
  {
   "cell_type": "code",
   "execution_count": 16,
   "metadata": {},
   "outputs": [
    {
     "name": "stdout",
     "output_type": "stream",
     "text": [
      "(1715, 296, 286, 1)\n"
     ]
    }
   ],
   "source": [
    "X_test = X_testr.reshape((X_test.shape[0], X_test.shape[1], X_test.shape[2], 1))\n",
    "\n",
    "print(X_test.shape)"
   ]
  },
  {
   "cell_type": "code",
   "execution_count": 17,
   "metadata": {},
   "outputs": [],
   "source": [
    "window_y, window_x = 296,286"
   ]
  },
  {
   "cell_type": "code",
   "execution_count": 18,
   "metadata": {
    "scrolled": true
   },
   "outputs": [
    {
     "name": "stdout",
     "output_type": "stream",
     "text": [
      "Model: \"sequential_1\"\n",
      "_________________________________________________________________\n",
      "Layer (type)                 Output Shape              Param #   \n",
      "=================================================================\n",
      "conv2d_1 (Conv2D)            (None, 294, 284, 32)      320       \n",
      "_________________________________________________________________\n",
      "max_pooling2d_1 (MaxPooling2 (None, 147, 142, 32)      0         \n",
      "_________________________________________________________________\n",
      "conv2d_2 (Conv2D)            (None, 145, 140, 64)      18496     \n",
      "_________________________________________________________________\n",
      "max_pooling2d_2 (MaxPooling2 (None, 72, 70, 64)        0         \n",
      "_________________________________________________________________\n",
      "conv2d_3 (Conv2D)            (None, 70, 68, 128)       73856     \n",
      "_________________________________________________________________\n",
      "max_pooling2d_3 (MaxPooling2 (None, 35, 34, 128)       0         \n",
      "_________________________________________________________________\n",
      "conv2d_4 (Conv2D)            (None, 33, 32, 128)       147584    \n",
      "_________________________________________________________________\n",
      "max_pooling2d_4 (MaxPooling2 (None, 16, 16, 128)       0         \n",
      "_________________________________________________________________\n",
      "flatten_1 (Flatten)          (None, 32768)             0         \n",
      "_________________________________________________________________\n",
      "dense_1 (Dense)              (None, 2050)              67176450  \n",
      "_________________________________________________________________\n",
      "dense_2 (Dense)              (None, 512)               1050112   \n",
      "_________________________________________________________________\n",
      "dense_3 (Dense)              (None, 3)                 1539      \n",
      "=================================================================\n",
      "Total params: 68,468,357\n",
      "Trainable params: 68,468,357\n",
      "Non-trainable params: 0\n",
      "_________________________________________________________________\n"
     ]
    }
   ],
   "source": [
    "model_v2 = models.Sequential()\n",
    "model_v2.add(layers.Conv2D(32,(3,3), activation='relu', input_shape=(window_y, window_x, 1)))\n",
    "model_v2.add(layers.MaxPooling2D((2,2)))\n",
    "model_v2.add(layers.Conv2D(64,(3,3), activation='relu'))\n",
    "model_v2.add(layers.MaxPooling2D((2,2)))\n",
    "model_v2.add(layers.Conv2D(128,(3,3), activation='relu'))\n",
    "model_v2.add(layers.MaxPooling2D((2,2)))\n",
    "model_v2.add(layers.Conv2D(128,(3,3), activation='relu'))\n",
    "model_v2.add(layers.MaxPooling2D((2,2)))\n",
    "\n",
    "model_v2.add(layers.Flatten())\n",
    "model_v2.add(layers.Dense(units= 2050, activation='relu'))\n",
    "model_v2.add(layers.Dense(units= 512, activation='relu'))\n",
    "model_v2.add(layers.Dense(units= 3, activation='softmax'))\n",
    "model_v2.summary()"
   ]
  },
  {
   "cell_type": "code",
   "execution_count": 19,
   "metadata": {},
   "outputs": [],
   "source": [
    "model_v2.compile(optimizer=optimizers.RMSprop(lr= 1e-4),loss='categorical_crossentropy', metrics=['acc'])"
   ]
  },
  {
   "cell_type": "code",
   "execution_count": 20,
   "metadata": {},
   "outputs": [],
   "source": [
    "from keras.utils.np_utils import to_categorical\n",
    "one_hot_train_labels = to_categorical(y_train)\n",
    "one_hot_test_labels = to_categorical(y_test)"
   ]
  },
  {
   "cell_type": "code",
   "execution_count": 21,
   "metadata": {
    "scrolled": true
   },
   "outputs": [
    {
     "name": "stdout",
     "output_type": "stream",
     "text": [
      "Train on 4754 samples, validate on 1189 samples\n",
      "Epoch 1/20\n",
      "4754/4754 [==============================] - 394s 83ms/step - loss: 0.5922 - acc: 0.7430 - val_loss: 0.9915 - val_acc: 0.3263\n",
      "Epoch 2/20\n",
      "4754/4754 [==============================] - 387s 81ms/step - loss: 0.3308 - acc: 0.8540 - val_loss: 1.0228 - val_acc: 0.3516\n",
      "Epoch 3/20\n",
      "4754/4754 [==============================] - 381s 80ms/step - loss: 0.2213 - acc: 0.9060 - val_loss: 0.3605 - val_acc: 0.8183\n",
      "Epoch 4/20\n",
      "4754/4754 [==============================] - 403s 85ms/step - loss: 0.1405 - acc: 0.9468 - val_loss: 0.2453 - val_acc: 0.9008\n",
      "Epoch 5/20\n",
      "4754/4754 [==============================] - 660s 139ms/step - loss: 0.0931 - acc: 0.9638 - val_loss: 0.0896 - val_acc: 0.9731\n",
      "Epoch 6/20\n",
      "4754/4754 [==============================] - 392s 82ms/step - loss: 0.0592 - acc: 0.9800 - val_loss: 0.1195 - val_acc: 0.9546\n",
      "Epoch 7/20\n",
      "4754/4754 [==============================] - 361s 76ms/step - loss: 0.0417 - acc: 0.9870 - val_loss: 0.0764 - val_acc: 0.9739\n",
      "Epoch 8/20\n",
      "4754/4754 [==============================] - 361s 76ms/step - loss: 0.0329 - acc: 0.9884 - val_loss: 0.0805 - val_acc: 0.9790\n",
      "Epoch 9/20\n",
      "4754/4754 [==============================] - 359s 75ms/step - loss: 0.0315 - acc: 0.9897 - val_loss: 0.0446 - val_acc: 0.9865\n",
      "Epoch 10/20\n",
      "4754/4754 [==============================] - 362s 76ms/step - loss: 0.0227 - acc: 0.9928 - val_loss: 0.0212 - val_acc: 0.9899\n",
      "Epoch 11/20\n",
      "4754/4754 [==============================] - 359s 75ms/step - loss: 0.0163 - acc: 0.9937 - val_loss: 0.0265 - val_acc: 0.9840\n",
      "Epoch 12/20\n",
      "4754/4754 [==============================] - 356s 75ms/step - loss: 0.0214 - acc: 0.9952 - val_loss: 0.0262 - val_acc: 0.9916\n",
      "Epoch 13/20\n",
      "4754/4754 [==============================] - 357s 75ms/step - loss: 0.0120 - acc: 0.9975 - val_loss: 0.0331 - val_acc: 0.9907\n",
      "Epoch 14/20\n",
      "4754/4754 [==============================] - 356s 75ms/step - loss: 0.0196 - acc: 0.9958 - val_loss: 0.0749 - val_acc: 0.9815\n",
      "Epoch 15/20\n",
      "4754/4754 [==============================] - 356s 75ms/step - loss: 0.0135 - acc: 0.9962 - val_loss: 0.0162 - val_acc: 0.9916\n",
      "Epoch 16/20\n",
      "4754/4754 [==============================] - 371s 78ms/step - loss: 0.0268 - acc: 0.9952 - val_loss: 0.0268 - val_acc: 0.9907\n",
      "Epoch 17/20\n",
      "4754/4754 [==============================] - 361s 76ms/step - loss: 0.0172 - acc: 0.9962 - val_loss: 0.0201 - val_acc: 0.9916\n",
      "Epoch 18/20\n",
      "4754/4754 [==============================] - 357s 75ms/step - loss: 0.0073 - acc: 0.9975 - val_loss: 0.0229 - val_acc: 0.9882\n",
      "Epoch 19/20\n",
      "4754/4754 [==============================] - 360s 76ms/step - loss: 0.0141 - acc: 0.9964 - val_loss: 0.0146 - val_acc: 0.9924\n",
      "Epoch 20/20\n",
      "4754/4754 [==============================] - 370s 78ms/step - loss: 0.0064 - acc: 0.9977 - val_loss: 0.0236 - val_acc: 0.9924\n"
     ]
    }
   ],
   "source": [
    "from sklearn.utils import class_weight\n",
    "#class_weights = class_weight.compute_class_weight('balanced', np.unique(y_train), y_train)\n",
    "historyv2 = model_v2.fit(X_train, one_hot_train_labels,  epochs= 20, validation_split = 0.2)#,class_weight=class_weights,)"
   ]
  },
  {
   "cell_type": "code",
   "execution_count": 16,
   "metadata": {},
   "outputs": [],
   "source": [
    "import matplotlib.pyplot as plt"
   ]
  },
  {
   "cell_type": "code",
   "execution_count": 22,
   "metadata": {},
   "outputs": [],
   "source": [
    "model_v2.save('model_e_mu_or_n_v3.h5')"
   ]
  },
  {
   "cell_type": "code",
   "execution_count": 23,
   "metadata": {},
   "outputs": [
    {
     "name": "stdout",
     "output_type": "stream",
     "text": [
      "1715/1715 [==============================] - 39s 23ms/step\n",
      "Accuracy with the model: 79.36%\n"
     ]
    }
   ],
   "source": [
    "loss, acc = model_v2.evaluate(X_test, one_hot_test_labels)\n",
    "print('Accuracy with the model: {:5.2f}%'.format(100*acc))"
   ]
  },
  {
   "cell_type": "code",
   "execution_count": 24,
   "metadata": {},
   "outputs": [],
   "source": [
    "y_predicted2 = model_v2.predict(X_test)"
   ]
  },
  {
   "cell_type": "code",
   "execution_count": 25,
   "metadata": {},
   "outputs": [],
   "source": [
    "y_predicted_2 = np.argmax(y_predicted2, axis=1)"
   ]
  },
  {
   "cell_type": "code",
   "execution_count": 26,
   "metadata": {},
   "outputs": [],
   "source": [
    "from sklearn.metrics import confusion_matrix"
   ]
  },
  {
   "cell_type": "code",
   "execution_count": 27,
   "metadata": {},
   "outputs": [],
   "source": [
    "conf=confusion_matrix(y_test, y_predicted_2, labels = list([0,1,2]))"
   ]
  },
  {
   "cell_type": "code",
   "execution_count": 28,
   "metadata": {},
   "outputs": [
    {
     "data": {
      "image/png": "[encoded data removed]",
      "text/plain": [
       "<Figure size 576x432 with 2 Axes>"
      ]
     },
     "metadata": {
      "needs_background": "light"
     },
     "output_type": "display_data"
    }
   ],
   "source": [
    "plot_confusion_matrix(cm           = conf, \n",
    "                      normalize    = False,\n",
    "                      target_names = ['noise', 'electron', 'muon'],\n",
    "                      title        = \"Confusion Matrix\")"
   ]
  },
  {
   "cell_type": "code",
   "execution_count": 25,
   "metadata": {},
   "outputs": [
    {
     "data": {
      "text/plain": [
       "<Figure size 432x288 with 0 Axes>"
      ]
     },
     "metadata": {},
     "output_type": "display_data"
    }
   ],
   "source": [
    "plt.savefig('conf2.png')"
   ]
  },
  {
   "cell_type": "code",
   "execution_count": 29,
   "metadata": {},
   "outputs": [
    {
     "data": {
      "image/png": "[encoded data removed]",
      "text/plain": [
       "<Figure size 432x288 with 1 Axes>"
      ]
     },
     "metadata": {
      "needs_background": "light"
     },
     "output_type": "display_data"
    }
   ],
   "source": [
    "history_n2 = historyv2.history\n",
    "loss_values_n2 = history_n2['loss']\n",
    "val_loss_values_n2 = history_n2['val_loss']\n",
    "epochs_n2 = range(1, len(loss_values_n2) + 1)\n",
    "plt.plot(epochs_n2, loss_values_n2, 'bo', label='Training loss')\n",
    "plt.plot(epochs_n2, val_loss_values_n2, 'b', label='Validation loss')\n",
    "plt.title('Training and validation loss')\n",
    "plt.xlabel('Epochs')\n",
    "plt.ylabel('Loss')\n",
    "plt.legend()\n",
    "plt.show()"
   ]
  },
  {
   "cell_type": "code",
   "execution_count": 28,
   "metadata": {},
   "outputs": [
    {
     "data": {
      "text/plain": [
       "<Figure size 432x288 with 0 Axes>"
      ]
     },
     "metadata": {},
     "output_type": "display_data"
    }
   ],
   "source": [
    "plt.savefig('hist2.png')"
   ]
  },
  {
   "cell_type": "code",
   "execution_count": 30,
   "metadata": {},
   "outputs": [
    {
     "name": "stdout",
     "output_type": "stream",
     "text": [
      "              precision    recall  f1-score   support\n",
      "\n",
      "       noise       0.84      0.97      0.90       869\n",
      "    electron       0.75      0.79      0.77       647\n",
      "        muon       0.24      0.03      0.05       199\n",
      "\n",
      "    accuracy                           0.79      1715\n",
      "   macro avg       0.61      0.60      0.57      1715\n",
      "weighted avg       0.73      0.79      0.75      1715\n",
      "\n"
     ]
    }
   ],
   "source": [
    "from sklearn.metrics import classification_report\n",
    "target_names = ['noise', 'electron', 'muon']\n",
    "print(classification_report(y_test, y_predicted_2, target_names=target_names))"
   ]
  }
 ],
 "metadata": {
  "kernelspec": {
   "display_name": "Python 3",
   "language": "python",
   "name": "python3"
  },
  "language_info": {
   "codemirror_mode": {
    "name": "ipython",
    "version": 3
   },
   "file_extension": ".py",
   "mimetype": "text/x-python",
   "name": "python",
   "nbconvert_exporter": "python",
   "pygments_lexer": "ipython3",
   "version": "3.7.4"
  }
 },
 "nbformat": 4,
 "nbformat_minor": 2
}

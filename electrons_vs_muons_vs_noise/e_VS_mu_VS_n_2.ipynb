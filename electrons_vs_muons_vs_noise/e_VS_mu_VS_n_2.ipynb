{
 "cells": [
  {
   "cell_type": "markdown",
   "metadata": {},
   "source": [
    "### Model to differenciate between muons, electrons and noise\n",
    "\n",
    "Labels: 0 noise, 1 electron, 2 muon\n",
    "* [Creating training and validation generators](#Creating-training-and-validation-generators)\n",
    "* [Model 1: 302 neurons, dropouts, callbacks](#Model-1:-302-neurons,-dropouts,-callbacks)\n",
    "* [Model 2: 302 neurons, bigger lr](#Model-2:-302-neurons,-bigger-lr)\n",
    "* [Model 4: 92 neurons, bigger lr](#Model-4:-92-neurons,-bigger-lr)\n",
    "* [Model 5: 82 neurons, bigger lr (best model)](#Model-5:-82-neurons,-bigger-lr-(best-model))"
   ]
  },
  {
   "cell_type": "code",
   "execution_count": 1,
   "metadata": {},
   "outputs": [],
   "source": [
    "import numpy as np\n",
    "import matplotlib.pyplot as plt\n",
    "from sklearn.metrics import confusion_matrix\n",
    "def plot_confusion_matrix(cm,\n",
    "                          target_names,\n",
    "                          title='Confusion matrix',\n",
    "                          cmap=None,\n",
    "                          normalize=True):\n",
    "    \"\"\"\n",
    "    cm:           confusion matrix from sklearn.metrics.confusion_matrix\n",
    "\n",
    "    target_names: given classification classes such as [0, 1, 2]\n",
    "                  the class names, for example: ['high', 'medium', 'low']\n",
    "\n",
    "    title:        the text to display at the top of the matrix\n",
    "\n",
    "    cmap:         the gradient of the values displayed from matplotlib.pyplot.cm\n",
    "                  see http://matplotlib.org/examples/color/colormaps_reference.html\n",
    "                  plt.get_cmap('jet') or plt.cm.Blues\n",
    "\n",
    "    normalize:    If False, plot the raw numbers\n",
    "                  If True, plot the proportions\n",
    "\n",
    "    Citiation\n",
    "    ---------\n",
    "    http://scikit-learn.org/stable/auto_examples/model_selection/plot_confusion_matrix.html\n",
    "\n",
    "    \"\"\"\n",
    "    import itertools\n",
    "\n",
    "    accuracy = np.trace(cm) / float(np.sum(cm))\n",
    "    misclass = 1 - accuracy\n",
    "\n",
    "    if cmap is None:\n",
    "        cmap = plt.get_cmap('Blues')\n",
    "\n",
    "    plt.figure(figsize=(8, 6))\n",
    "    plt.imshow(cm, interpolation='nearest', cmap=cmap)\n",
    "    plt.title(title, fontsize= 16)\n",
    "    cb = plt.colorbar()\n",
    "    cb.ax.tick_params(labelsize= 16)\n",
    "\n",
    "    if target_names is not None:\n",
    "        tick_marks = np.arange(len(target_names))\n",
    "        plt.xticks(tick_marks, target_names, rotation=45, fontsize=18)\n",
    "        plt.yticks(tick_marks, target_names, fontsize=18)\n",
    "\n",
    "    if normalize:\n",
    "        cm = cm.astype('float') / cm.sum(axis=1)[:, np.newaxis]\n",
    "\n",
    "\n",
    "    thresh = cm.max() / 1.5 if normalize else cm.max() / 2\n",
    "    for i, j in itertools.product(range(cm.shape[0]), range(cm.shape[1])):\n",
    "        if normalize:\n",
    "            plt.text(j, i, \"{:0.4f}\".format(cm[i, j], fontsize=18),\n",
    "                     horizontalalignment=\"center\",\n",
    "                     color=\"white\" if cm[i, j] > thresh else \"black\", fontsize=18)\n",
    "        else:\n",
    "            plt.text(j, i, \"{:,}\".format(cm[i, j], fontsize=18),\n",
    "                     horizontalalignment=\"center\",\n",
    "                     color=\"white\" if cm[i, j] > thresh else \"black\", fontsize=18)\n",
    "    plt.grid(b=False)\n",
    "    plt.xlim(-0.5, 2.5)\n",
    "    plt.ylim(2.5, -0.5)\n",
    "    plt.tight_layout()\n",
    "    plt.ylabel('True label', fontsize=18)\n",
    "    plt.xlabel('Predicted label\\naccuracy={:0.4f}; misclass={:0.4f}'.format(accuracy, misclass), fontsize=14)\n",
    "    plt.show()"
   ]
  },
  {
   "cell_type": "code",
   "execution_count": 2,
   "metadata": {},
   "outputs": [
    {
     "name": "stderr",
     "output_type": "stream",
     "text": [
      "Using TensorFlow backend.\n"
     ]
    }
   ],
   "source": [
    "import keras\n",
    "from keras import layers, models, optimizers\n",
    "from keras import callbacks"
   ]
  },
  {
   "cell_type": "code",
   "execution_count": 3,
   "metadata": {},
   "outputs": [],
   "source": [
    "window_y, window_x = 242,192 #shape of each image"
   ]
  },
  {
   "cell_type": "code",
   "execution_count": 4,
   "metadata": {},
   "outputs": [],
   "source": [
    "import glob\n",
    "import os, shutil"
   ]
  },
  {
   "cell_type": "markdown",
   "metadata": {},
   "source": [
    "### Creating training and validation generators\n",
    "We need to create a numpy array (X) with the path to each npz file. Each npz contains 64 npy (batch_size), so basically, one npz is one batch. \n",
    "* For the training batchs:"
   ]
  },
  {
   "cell_type": "code",
   "execution_count": 5,
   "metadata": {},
   "outputs": [],
   "source": [
    "path_tr = 'eVSmuVSn_2tr/'\n",
    "files_tr = os.listdir(path_tr)\n",
    "\n",
    "X = np.empty(shape=(len(files_tr),), dtype=object)\n",
    "\n",
    "for index, file in enumerate(files_tr):     \n",
    "    X[index] = os.path.join(path_tr, files_tr[index]) "
   ]
  },
  {
   "cell_type": "code",
   "execution_count": 6,
   "metadata": {},
   "outputs": [
    {
     "data": {
      "text/plain": [
       "(157,)"
      ]
     },
     "execution_count": 6,
     "metadata": {},
     "output_type": "execute_result"
    }
   ],
   "source": [
    "X.shape #we have 157 batchs (npz files) for the training"
   ]
  },
  {
   "cell_type": "code",
   "execution_count": 7,
   "metadata": {},
   "outputs": [],
   "source": [
    "def data_generator2(inputs, shuffle=True):\n",
    "     while True:\n",
    "    # Create list of indices\n",
    "        idxs = np.arange(len(inputs))\n",
    "        if shuffle:\n",
    "            np.random.shuffle(idxs)\n",
    "\n",
    "        for i in idxs:\n",
    "            batch_X = []\n",
    "\n",
    "            data = np.load(inputs[i])['X']\n",
    "            label = np.load(inputs[i])['y']\n",
    " \n",
    "            batch_X.append(data)\n",
    "\n",
    "\n",
    "            batch_X = np.array(batch_X)\n",
    "            batch_X = batch_X.reshape((batch_X.shape[1],batch_X.shape[2], batch_X.shape[3], batch_X.shape[4]))\n",
    "            batch_y = label\n",
    "\n",
    "            yield batch_X, batch_y"
   ]
  },
  {
   "cell_type": "code",
   "execution_count": 8,
   "metadata": {},
   "outputs": [],
   "source": [
    "train_gen =  data_generator2(inputs=X) #training data generator"
   ]
  },
  {
   "cell_type": "code",
   "execution_count": 9,
   "metadata": {},
   "outputs": [
    {
     "data": {
      "text/plain": [
       "generator"
      ]
     },
     "execution_count": 9,
     "metadata": {},
     "output_type": "execute_result"
    }
   ],
   "source": [
    "type(train_gen)"
   ]
  },
  {
   "cell_type": "markdown",
   "metadata": {},
   "source": [
    "* Similary for the validation data:"
   ]
  },
  {
   "cell_type": "code",
   "execution_count": 10,
   "metadata": {},
   "outputs": [],
   "source": [
    "path_v = 'eVSmuVSn_2val/'\n",
    "files_v = os.listdir(path_v)\n",
    "\n",
    "#X is a numpy array of the baths to the npz files, where each one contains a batch of npy\n",
    "X = np.empty(shape=(len(files_v),), dtype=object)\n",
    "\n",
    "for index, file in enumerate(files_v):     \n",
    "    X[index] = os.path.join(path_v, files_v[index]) "
   ]
  },
  {
   "cell_type": "code",
   "execution_count": 11,
   "metadata": {},
   "outputs": [
    {
     "data": {
      "text/plain": [
       "(53,)"
      ]
     },
     "execution_count": 11,
     "metadata": {},
     "output_type": "execute_result"
    }
   ],
   "source": [
    "X.shape #this is how many batches we have of validation data"
   ]
  },
  {
   "cell_type": "code",
   "execution_count": 12,
   "metadata": {},
   "outputs": [],
   "source": [
    "val_gen = data_generator2(inputs=X)"
   ]
  },
  {
   "cell_type": "markdown",
   "metadata": {},
   "source": [
    "### Model 1: 302 neurons, dropouts, callbacks"
   ]
  },
  {
   "cell_type": "code",
   "execution_count": 35,
   "metadata": {
    "scrolled": true
   },
   "outputs": [
    {
     "name": "stdout",
     "output_type": "stream",
     "text": [
      "Model: \"sequential_4\"\n",
      "_________________________________________________________________\n",
      "Layer (type)                 Output Shape              Param #   \n",
      "=================================================================\n",
      "conv2d_16 (Conv2D)           (None, 240, 190, 32)      320       \n",
      "_________________________________________________________________\n",
      "max_pooling2d_16 (MaxPooling (None, 120, 95, 32)       0         \n",
      "_________________________________________________________________\n",
      "conv2d_17 (Conv2D)           (None, 118, 93, 32)       9248      \n",
      "_________________________________________________________________\n",
      "max_pooling2d_17 (MaxPooling (None, 59, 46, 32)        0         \n",
      "_________________________________________________________________\n",
      "conv2d_18 (Conv2D)           (None, 57, 44, 32)        9248      \n",
      "_________________________________________________________________\n",
      "max_pooling2d_18 (MaxPooling (None, 28, 22, 32)        0         \n",
      "_________________________________________________________________\n",
      "conv2d_19 (Conv2D)           (None, 26, 20, 64)        18496     \n",
      "_________________________________________________________________\n",
      "max_pooling2d_19 (MaxPooling (None, 13, 10, 64)        0         \n",
      "_________________________________________________________________\n",
      "conv2d_20 (Conv2D)           (None, 11, 8, 64)         36928     \n",
      "_________________________________________________________________\n",
      "max_pooling2d_20 (MaxPooling (None, 5, 4, 64)          0         \n",
      "_________________________________________________________________\n",
      "flatten_4 (Flatten)          (None, 1280)              0         \n",
      "_________________________________________________________________\n",
      "dropout_7 (Dropout)          (None, 1280)              0         \n",
      "_________________________________________________________________\n",
      "dense_7 (Dense)              (None, 302)               386862    \n",
      "_________________________________________________________________\n",
      "dropout_8 (Dropout)          (None, 302)               0         \n",
      "_________________________________________________________________\n",
      "dense_8 (Dense)              (None, 3)                 909       \n",
      "=================================================================\n",
      "Total params: 462,011\n",
      "Trainable params: 462,011\n",
      "Non-trainable params: 0\n",
      "_________________________________________________________________\n"
     ]
    }
   ],
   "source": [
    "model_v1 = models.Sequential()\n",
    "model_v1.add(layers.Conv2D(32,(3,3), activation='relu', input_shape=(window_y, window_x, 1)))\n",
    "model_v1.add(layers.MaxPooling2D((2,2)))\n",
    "model_v1.add(layers.Conv2D(32,(3,3), activation='relu'))\n",
    "model_v1.add(layers.MaxPooling2D((2,2)))\n",
    "model_v1.add(layers.Conv2D(32,(3,3), activation='relu'))\n",
    "model_v1.add(layers.MaxPooling2D((2,2)))\n",
    "model_v1.add(layers.Conv2D(64,(3,3), activation='relu'))\n",
    "model_v1.add(layers.MaxPooling2D((2,2)))\n",
    "model_v1.add(layers.Conv2D(64,(3,3), activation='relu'))\n",
    "model_v1.add(layers.MaxPooling2D((2,2)))\n",
    "\n",
    "model_v1.add(layers.Flatten())\n",
    "model_v1.add(layers.Dropout((0.5)))\n",
    "model_v1.add(layers.Dense(units= 302, activation='relu'))\n",
    "model_v1.add(layers.Dropout((0.5)))\n",
    "model_v1.add(layers.Dense(units= 3, activation='softmax'))\n",
    "model_v1.summary()"
   ]
  },
  {
   "cell_type": "code",
   "execution_count": 36,
   "metadata": {},
   "outputs": [],
   "source": [
    "model_v1.compile(optimizer=optimizers.RMSprop(lr= 1e-4),loss='categorical_crossentropy', metrics=['acc'])"
   ]
  },
  {
   "cell_type": "code",
   "execution_count": 13,
   "metadata": {},
   "outputs": [],
   "source": [
    "my_callbacks = [\n",
    "    callbacks.EarlyStopping(patience=7)\n",
    "]"
   ]
  },
  {
   "cell_type": "code",
   "execution_count": 38,
   "metadata": {
    "scrolled": true
   },
   "outputs": [
    {
     "name": "stdout",
     "output_type": "stream",
     "text": [
      "Epoch 1/30\n",
      "157/157 [==============================] - 200s 1s/step - loss: 0.9697 - acc: 0.6411 - val_loss: 0.8692 - val_acc: 0.6642\n",
      "Epoch 2/30\n",
      "157/157 [==============================] - 199s 1s/step - loss: 0.8639 - acc: 0.6638 - val_loss: 0.7758 - val_acc: 0.6675\n",
      "Epoch 3/30\n",
      "157/157 [==============================] - 200s 1s/step - loss: 0.7078 - acc: 0.6769 - val_loss: 0.5883 - val_acc: 0.7235\n",
      "Epoch 4/30\n",
      "157/157 [==============================] - 200s 1s/step - loss: 0.5028 - acc: 0.7220 - val_loss: 0.4336 - val_acc: 0.7459\n",
      "Epoch 5/30\n",
      "157/157 [==============================] - 199s 1s/step - loss: 0.4216 - acc: 0.7637 - val_loss: 0.4570 - val_acc: 0.7771\n",
      "Epoch 6/30\n",
      "157/157 [==============================] - 199s 1s/step - loss: 0.4059 - acc: 0.7740 - val_loss: 0.3886 - val_acc: 0.7871\n",
      "Epoch 7/30\n",
      "157/157 [==============================] - 210s 1s/step - loss: 0.3915 - acc: 0.7892 - val_loss: 0.4008 - val_acc: 0.7733\n",
      "Epoch 8/30\n",
      "157/157 [==============================] - 202s 1s/step - loss: 0.3758 - acc: 0.8013 - val_loss: 0.4287 - val_acc: 0.7818\n",
      "Epoch 9/30\n",
      "157/157 [==============================] - 213s 1s/step - loss: 0.3762 - acc: 0.8057 - val_loss: 0.3169 - val_acc: 0.7821\n",
      "Epoch 10/30\n",
      "157/157 [==============================] - 213s 1s/step - loss: 0.3643 - acc: 0.8114 - val_loss: 0.4367 - val_acc: 0.7854\n",
      "Epoch 11/30\n",
      "157/157 [==============================] - 197s 1s/step - loss: 0.3554 - acc: 0.8160 - val_loss: 0.3392 - val_acc: 0.8031\n",
      "Epoch 12/30\n",
      "157/157 [==============================] - 195s 1s/step - loss: 0.3474 - acc: 0.8210 - val_loss: 0.4534 - val_acc: 0.7972\n",
      "Epoch 13/30\n",
      "157/157 [==============================] - 195s 1s/step - loss: 0.3392 - acc: 0.8271 - val_loss: 0.3727 - val_acc: 0.7986\n",
      "Epoch 14/30\n",
      "157/157 [==============================] - 194s 1s/step - loss: 0.3281 - acc: 0.8384 - val_loss: 0.2441 - val_acc: 0.8069\n",
      "Epoch 15/30\n",
      "157/157 [==============================] - 194s 1s/step - loss: 0.3111 - acc: 0.8455 - val_loss: 0.2277 - val_acc: 0.8193\n",
      "Epoch 16/30\n",
      "157/157 [==============================] - 194s 1s/step - loss: 0.3210 - acc: 0.8406 - val_loss: 0.4506 - val_acc: 0.8143\n",
      "Epoch 17/30\n",
      "157/157 [==============================] - 194s 1s/step - loss: 0.3007 - acc: 0.8595 - val_loss: 0.2451 - val_acc: 0.8281\n",
      "Epoch 18/30\n",
      "157/157 [==============================] - 195s 1s/step - loss: 0.3003 - acc: 0.8563 - val_loss: 0.2052 - val_acc: 0.8337\n",
      "Epoch 19/30\n",
      "157/157 [==============================] - 193s 1s/step - loss: 0.2848 - acc: 0.8628 - val_loss: 0.3408 - val_acc: 0.8202\n",
      "Epoch 20/30\n",
      "157/157 [==============================] - 193s 1s/step - loss: 0.2872 - acc: 0.8650 - val_loss: 0.3605 - val_acc: 0.8364\n",
      "Epoch 21/30\n",
      "157/157 [==============================] - 193s 1s/step - loss: 0.2854 - acc: 0.8623 - val_loss: 0.3814 - val_acc: 0.8364\n",
      "Epoch 22/30\n",
      "157/157 [==============================] - 193s 1s/step - loss: 0.2688 - acc: 0.8751 - val_loss: 0.2822 - val_acc: 0.8311\n",
      "Epoch 23/30\n",
      "157/157 [==============================] - 207s 1s/step - loss: 0.2685 - acc: 0.8755 - val_loss: 0.2940 - val_acc: 0.8458\n",
      "Epoch 24/30\n",
      "157/157 [==============================] - 194s 1s/step - loss: 0.2649 - acc: 0.8790 - val_loss: 0.2325 - val_acc: 0.8470\n",
      "Epoch 25/30\n",
      "157/157 [==============================] - 194s 1s/step - loss: 0.2496 - acc: 0.8878 - val_loss: 0.5022 - val_acc: 0.8417\n"
     ]
    }
   ],
   "source": [
    "historyv1 = model_v1.fit_generator(train_gen, epochs=30, validation_data=val_gen, \n",
    "                                   steps_per_epoch= 157, validation_steps= 53, callbacks = my_callbacks)"
   ]
  },
  {
   "cell_type": "code",
   "execution_count": 39,
   "metadata": {},
   "outputs": [],
   "source": [
    "model_v1.save('models/e_mu_n_v1.h5')"
   ]
  },
  {
   "cell_type": "markdown",
   "metadata": {},
   "source": [
    "* Creating the testing data from the data generator:"
   ]
  },
  {
   "cell_type": "code",
   "execution_count": 15,
   "metadata": {},
   "outputs": [],
   "source": [
    "path_t = 'eVSmuVSn_2test/'\n",
    "files_t = os.listdir(path_t)\n",
    "\n",
    "X = np.empty(shape=(len(files_t),), dtype=object)\n",
    "\n",
    "for index, file in enumerate(files_t):     \n",
    "    X[index] = os.path.join(path_t, files_t[index]) "
   ]
  },
  {
   "cell_type": "code",
   "execution_count": 16,
   "metadata": {},
   "outputs": [
    {
     "data": {
      "text/plain": [
       "(53,)"
      ]
     },
     "execution_count": 16,
     "metadata": {},
     "output_type": "execute_result"
    }
   ],
   "source": [
    "X.shape"
   ]
  },
  {
   "cell_type": "code",
   "execution_count": 17,
   "metadata": {},
   "outputs": [],
   "source": [
    "test_gen = data_generator2(inputs=X)"
   ]
  },
  {
   "cell_type": "markdown",
   "metadata": {},
   "source": [
    "Now we can evaluate model to get the accuracy in the test date:"
   ]
  },
  {
   "cell_type": "code",
   "execution_count": 43,
   "metadata": {},
   "outputs": [
    {
     "name": "stdout",
     "output_type": "stream",
     "text": [
      "Accuracy with the model: 84.08%\n"
     ]
    }
   ],
   "source": [
    "loss, acc = model_v1.evaluate_generator(test_gen, steps=53)\n",
    "print('Accuracy with the model: {:5.2f}%'.format(100*acc))"
   ]
  },
  {
   "cell_type": "markdown",
   "metadata": {},
   "source": [
    "Finally we predict, to draw the confusion matrix:"
   ]
  },
  {
   "cell_type": "code",
   "execution_count": 18,
   "metadata": {},
   "outputs": [],
   "source": [
    "def test_generator(inputs, shuffle=True):\n",
    "    while True:\n",
    "    # Create list of indices\n",
    "        idxs = np.arange(len(inputs))\n",
    "        if shuffle:\n",
    "            np.random.shuffle(idxs)\n",
    "        \n",
    "        list_labels = []\n",
    "        \n",
    "        for i in idxs:\n",
    "            batch_X = []\n",
    "\n",
    "            data = np.load(inputs[i])['X']\n",
    "            label = np.load(inputs[i])['y']\n",
    "            batch_X.append(data)\n",
    "\n",
    "\n",
    "            batch_X = np.array(batch_X)\n",
    "            batch_X = batch_X.reshape((batch_X.shape[1],batch_X.shape[2], batch_X.shape[3], batch_X.shape[4]))\n",
    "            batch_y = label\n",
    "            list_labels.append(batch_y)\n",
    "            \n",
    "            yield batch_X, batch_y\n",
    "            \n",
    "        list_labels = np.array(list_labels)\n",
    "        list_labels.flatten()\n",
    "        np.save('y_labels' , list_labels)"
   ]
  },
  {
   "cell_type": "code",
   "execution_count": 19,
   "metadata": {},
   "outputs": [],
   "source": [
    "def gen_true_y():\n",
    "    true_labels = np.load('y_labels.npy')\n",
    "    true_labels = true_labels.reshape(true_labels.shape[0]*true_labels.shape[1],3)\n",
    "    true_labels = np.argmax(true_labels, axis=1)\n",
    "    \n",
    "    return true_labels"
   ]
  },
  {
   "cell_type": "code",
   "execution_count": 46,
   "metadata": {},
   "outputs": [],
   "source": [
    "y_predicted1 = model_v1.predict_generator(test_generator(X), steps=53)"
   ]
  },
  {
   "cell_type": "code",
   "execution_count": 21,
   "metadata": {},
   "outputs": [
    {
     "data": {
      "text/plain": [
       "array([[9.0931417e-19, 9.8330587e-01, 1.6694086e-02],\n",
       "       [9.9999499e-01, 1.1954755e-07, 4.8335683e-06],\n",
       "       [9.9999475e-01, 1.3554690e-07, 5.1586940e-06],\n",
       "       [9.9999487e-01, 1.2818170e-07, 4.9847145e-06],\n",
       "       [1.0420615e-13, 9.9661946e-01, 3.3804560e-03],\n",
       "       [2.6847691e-05, 6.3502657e-01, 3.6494660e-01],\n",
       "       [3.8770285e-09, 7.6998562e-01, 2.3001437e-01],\n",
       "       [4.2045001e-22, 9.9856085e-01, 1.4391904e-03],\n",
       "       [8.6874485e-13, 9.8899990e-01, 1.1000106e-02],\n",
       "       [4.2928536e-05, 7.0902044e-01, 2.9093668e-01]], dtype=float32)"
      ]
     },
     "execution_count": 21,
     "metadata": {},
     "output_type": "execute_result"
    }
   ],
   "source": [
    "y_predicted1[0:10]"
   ]
  },
  {
   "cell_type": "code",
   "execution_count": 22,
   "metadata": {},
   "outputs": [],
   "source": [
    "y_predicted1 = np.argmax(y_predicted1, axis=1)"
   ]
  },
  {
   "cell_type": "code",
   "execution_count": 23,
   "metadata": {},
   "outputs": [
    {
     "data": {
      "text/plain": [
       "array([1, 0, 0, 0, 1, 1, 1, 1, 1, 1])"
      ]
     },
     "execution_count": 23,
     "metadata": {},
     "output_type": "execute_result"
    }
   ],
   "source": [
    "y_predicted1[0:10]"
   ]
  },
  {
   "cell_type": "code",
   "execution_count": 24,
   "metadata": {},
   "outputs": [],
   "source": [
    "true_labels = gen_true_y()"
   ]
  },
  {
   "cell_type": "code",
   "execution_count": 25,
   "metadata": {},
   "outputs": [
    {
     "data": {
      "text/plain": [
       "array([1, 0, 0, 0, 1, 2, 2, 1, 1, 1])"
      ]
     },
     "execution_count": 25,
     "metadata": {},
     "output_type": "execute_result"
    }
   ],
   "source": [
    "true_labels[0:10]"
   ]
  },
  {
   "cell_type": "code",
   "execution_count": 26,
   "metadata": {},
   "outputs": [
    {
     "data": {
      "image/png": "[encoded data removed]",
      "text/plain": [
       "<Figure size 576x432 with 2 Axes>"
      ]
     },
     "metadata": {
      "needs_background": "light"
     },
     "output_type": "display_data"
    }
   ],
   "source": [
    "conf1 = confusion_matrix(true_labels, y_predicted1, labels = list([0,1,2]))\n",
    "plot_confusion_matrix(cm           = conf1, \n",
    "                      normalize    = False,\n",
    "                      target_names = ['noise','electron', 'muon'],\n",
    "                      title        = \"Confusion Matrix\")"
   ]
  },
  {
   "cell_type": "code",
   "execution_count": 53,
   "metadata": {},
   "outputs": [
    {
     "data": {
      "image/png": "[encoded data removed]",
      "text/plain": [
       "<Figure size 432x288 with 1 Axes>"
      ]
     },
     "metadata": {
      "needs_background": "light"
     },
     "output_type": "display_data"
    }
   ],
   "source": [
    "history_n1 = historyv1.history\n",
    "loss_values_n1 = history_n1['loss']\n",
    "val_loss_values_n1 = history_n1['val_loss']\n",
    "epochs_n1 = range(1, len(loss_values_n1) + 1)\n",
    "plt.plot(epochs_n1, loss_values_n1, 'bo', label='Training loss')\n",
    "plt.plot(epochs_n1, val_loss_values_n1, 'b', label='Validation loss')\n",
    "plt.title('Training and validation loss')\n",
    "plt.xlabel('Epochs')\n",
    "plt.ylabel('Loss')\n",
    "plt.legend()\n",
    "plt.show()"
   ]
  },
  {
   "cell_type": "markdown",
   "metadata": {},
   "source": [
    "### Model 2: 302 neurons, bigger lr"
   ]
  },
  {
   "cell_type": "code",
   "execution_count": 26,
   "metadata": {
    "scrolled": true
   },
   "outputs": [
    {
     "name": "stdout",
     "output_type": "stream",
     "text": [
      "Model: \"sequential_3\"\n",
      "_________________________________________________________________\n",
      "Layer (type)                 Output Shape              Param #   \n",
      "=================================================================\n",
      "conv2d_11 (Conv2D)           (None, 240, 190, 32)      320       \n",
      "_________________________________________________________________\n",
      "max_pooling2d_11 (MaxPooling (None, 120, 95, 32)       0         \n",
      "_________________________________________________________________\n",
      "conv2d_12 (Conv2D)           (None, 118, 93, 32)       9248      \n",
      "_________________________________________________________________\n",
      "max_pooling2d_12 (MaxPooling (None, 59, 46, 32)        0         \n",
      "_________________________________________________________________\n",
      "conv2d_13 (Conv2D)           (None, 57, 44, 64)        18496     \n",
      "_________________________________________________________________\n",
      "max_pooling2d_13 (MaxPooling (None, 28, 22, 64)        0         \n",
      "_________________________________________________________________\n",
      "conv2d_14 (Conv2D)           (None, 26, 20, 64)        36928     \n",
      "_________________________________________________________________\n",
      "max_pooling2d_14 (MaxPooling (None, 13, 10, 64)        0         \n",
      "_________________________________________________________________\n",
      "conv2d_15 (Conv2D)           (None, 12, 9, 128)        32896     \n",
      "_________________________________________________________________\n",
      "max_pooling2d_15 (MaxPooling (None, 6, 4, 128)         0         \n",
      "_________________________________________________________________\n",
      "flatten_3 (Flatten)          (None, 3072)              0         \n",
      "_________________________________________________________________\n",
      "dropout_5 (Dropout)          (None, 3072)              0         \n",
      "_________________________________________________________________\n",
      "dense_5 (Dense)              (None, 302)               928046    \n",
      "_________________________________________________________________\n",
      "dropout_6 (Dropout)          (None, 302)               0         \n",
      "_________________________________________________________________\n",
      "dense_6 (Dense)              (None, 3)                 909       \n",
      "=================================================================\n",
      "Total params: 1,026,843\n",
      "Trainable params: 1,026,843\n",
      "Non-trainable params: 0\n",
      "_________________________________________________________________\n"
     ]
    }
   ],
   "source": [
    "model_v2 = models.Sequential()\n",
    "model_v2.add(layers.Conv2D(32,(3,3), activation='relu', input_shape=(window_y, window_x, 1)))\n",
    "model_v2.add(layers.MaxPooling2D((2,2)))\n",
    "model_v2.add(layers.Conv2D(32,(3,3), activation='relu'))\n",
    "model_v2.add(layers.MaxPooling2D((2,2)))\n",
    "model_v2.add(layers.Conv2D(64,(3,3), activation='relu'))\n",
    "model_v2.add(layers.MaxPooling2D((2,2)))\n",
    "model_v2.add(layers.Conv2D(64,(3,3), activation='relu'))\n",
    "model_v2.add(layers.MaxPooling2D((2,2)))\n",
    "model_v2.add(layers.Conv2D(128,(2,2), activation='relu'))\n",
    "model_v2.add(layers.MaxPooling2D((2,2)))\n",
    "\n",
    "model_v2.add(layers.Flatten())\n",
    "model_v2.add(layers.Dropout((0.5)))\n",
    "model_v2.add(layers.Dense(units= 302, activation='relu'))\n",
    "model_v2.add(layers.Dropout((0.5)))\n",
    "model_v2.add(layers.Dense(units= 3, activation='softmax'))\n",
    "model_v2.summary()"
   ]
  },
  {
   "cell_type": "code",
   "execution_count": 27,
   "metadata": {},
   "outputs": [],
   "source": [
    "model_v2.compile(optimizer=optimizers.RMSprop(lr= 1e-3),loss='categorical_crossentropy', metrics=['acc'])"
   ]
  },
  {
   "cell_type": "code",
   "execution_count": 28,
   "metadata": {
    "scrolled": true
   },
   "outputs": [
    {
     "name": "stdout",
     "output_type": "stream",
     "text": [
      "Epoch 1/40\n",
      "157/157 [==============================] - 216s 1s/step - loss: 0.7013 - acc: 0.6565 - val_loss: 0.3792 - val_acc: 0.7052\n",
      "Epoch 2/40\n",
      "157/157 [==============================] - 213s 1s/step - loss: 0.5951 - acc: 0.7235 - val_loss: 0.4045 - val_acc: 0.7733\n",
      "Epoch 3/40\n",
      "157/157 [==============================] - 216s 1s/step - loss: 0.4982 - acc: 0.7651 - val_loss: 0.3850 - val_acc: 0.7706\n",
      "Epoch 4/40\n",
      "157/157 [==============================] - 231s 1s/step - loss: 0.5219 - acc: 0.7663 - val_loss: 0.4117 - val_acc: 0.7748\n",
      "Epoch 5/40\n",
      "157/157 [==============================] - 220s 1s/step - loss: 0.4846 - acc: 0.7851 - val_loss: 0.4024 - val_acc: 0.7960\n",
      "Epoch 6/40\n",
      "157/157 [==============================] - 222s 1s/step - loss: 0.4733 - acc: 0.7916 - val_loss: 0.3977 - val_acc: 0.7751\n",
      "Epoch 7/40\n",
      "157/157 [==============================] - 210s 1s/step - loss: 0.4460 - acc: 0.8080 - val_loss: 0.9317 - val_acc: 0.7367\n",
      "Epoch 8/40\n",
      "157/157 [==============================] - 206s 1s/step - loss: 0.4013 - acc: 0.8273 - val_loss: 0.3381 - val_acc: 0.8426\n",
      "Epoch 9/40\n",
      "157/157 [==============================] - 207s 1s/step - loss: 0.4844 - acc: 0.8325 - val_loss: 0.4117 - val_acc: 0.8470\n",
      "Epoch 10/40\n",
      "157/157 [==============================] - 206s 1s/step - loss: 0.4421 - acc: 0.8393 - val_loss: 0.2658 - val_acc: 0.8455\n",
      "Epoch 11/40\n",
      "157/157 [==============================] - 205s 1s/step - loss: 0.3705 - acc: 0.8579 - val_loss: 0.4240 - val_acc: 0.8682\n",
      "Epoch 12/40\n",
      "157/157 [==============================] - 205s 1s/step - loss: 0.3857 - acc: 0.8515 - val_loss: 0.4078 - val_acc: 0.8653\n",
      "Epoch 13/40\n",
      "157/157 [==============================] - 205s 1s/step - loss: 0.3812 - acc: 0.8526 - val_loss: 0.3888 - val_acc: 0.8535\n",
      "Epoch 14/40\n",
      "157/157 [==============================] - 204s 1s/step - loss: 0.3385 - acc: 0.8746 - val_loss: 0.8887 - val_acc: 0.8732\n",
      "Epoch 15/40\n",
      "157/157 [==============================] - 204s 1s/step - loss: 0.3749 - acc: 0.8747 - val_loss: 0.3831 - val_acc: 0.8381\n",
      "Epoch 16/40\n",
      "157/157 [==============================] - 205s 1s/step - loss: 0.3636 - acc: 0.8790 - val_loss: 0.2762 - val_acc: 0.8685\n",
      "Epoch 17/40\n",
      "157/157 [==============================] - 205s 1s/step - loss: 0.3292 - acc: 0.8717 - val_loss: 0.2229 - val_acc: 0.8759\n",
      "Epoch 18/40\n",
      "157/157 [==============================] - 205s 1s/step - loss: 0.3766 - acc: 0.8606 - val_loss: 0.2833 - val_acc: 0.8676\n",
      "Epoch 19/40\n",
      "157/157 [==============================] - 208s 1s/step - loss: 0.3821 - acc: 0.8826 - val_loss: 0.4068 - val_acc: 0.8514\n",
      "Epoch 20/40\n",
      "157/157 [==============================] - 209s 1s/step - loss: 0.3084 - acc: 0.8879 - val_loss: 0.2124 - val_acc: 0.8765\n",
      "Epoch 21/40\n",
      "157/157 [==============================] - 205s 1s/step - loss: 0.8007 - acc: 0.8819 - val_loss: 0.2768 - val_acc: 0.8729\n",
      "Epoch 22/40\n",
      "157/157 [==============================] - 205s 1s/step - loss: 0.3461 - acc: 0.8868 - val_loss: 0.2607 - val_acc: 0.8603\n",
      "Epoch 23/40\n",
      "157/157 [==============================] - 207s 1s/step - loss: 0.3007 - acc: 0.8863 - val_loss: 0.8023 - val_acc: 0.8806\n",
      "Epoch 24/40\n",
      "157/157 [==============================] - 217s 1s/step - loss: 0.2944 - acc: 0.8970 - val_loss: 3.7155 - val_acc: 0.5136\n",
      "Epoch 25/40\n",
      "157/157 [==============================] - 219s 1s/step - loss: 0.3377 - acc: 0.8858 - val_loss: 0.2157 - val_acc: 0.8597\n",
      "Epoch 26/40\n",
      "157/157 [==============================] - 205s 1s/step - loss: 0.3445 - acc: 0.8865 - val_loss: 0.4817 - val_acc: 0.8800\n",
      "Epoch 27/40\n",
      "157/157 [==============================] - 205s 1s/step - loss: 0.2999 - acc: 0.8988 - val_loss: 0.3616 - val_acc: 0.8644\n"
     ]
    }
   ],
   "source": [
    "historyv2 = model_v2.fit_generator(train_gen, epochs=40, validation_data=val_gen, \n",
    "                                   steps_per_epoch= 157, validation_steps= 53,callbacks=my_callbacks)"
   ]
  },
  {
   "cell_type": "code",
   "execution_count": 29,
   "metadata": {},
   "outputs": [],
   "source": [
    "model_v2.save('models/e_mu_n_v2.h5')"
   ]
  },
  {
   "cell_type": "code",
   "execution_count": 30,
   "metadata": {},
   "outputs": [
    {
     "name": "stdout",
     "output_type": "stream",
     "text": [
      "Accuracy with the model: 85.32%\n"
     ]
    }
   ],
   "source": [
    "loss, acc = model_v2.evaluate_generator(test_gen, steps=53)\n",
    "print('Accuracy with the model: {:5.2f}%'.format(100*acc))"
   ]
  },
  {
   "cell_type": "code",
   "execution_count": 31,
   "metadata": {},
   "outputs": [],
   "source": [
    "y_predicted2 = model_v2.predict_generator(test_generator(X), steps=53)\n",
    "\n",
    "y_predicted2 = np.argmax(y_predicted2, axis=1)"
   ]
  },
  {
   "cell_type": "code",
   "execution_count": 32,
   "metadata": {},
   "outputs": [],
   "source": [
    "true_labels = gen_true_y()"
   ]
  },
  {
   "cell_type": "code",
   "execution_count": 33,
   "metadata": {},
   "outputs": [
    {
     "data": {
      "image/png": "[encoded data removed]",
      "text/plain": [
       "<Figure size 576x432 with 2 Axes>"
      ]
     },
     "metadata": {
      "needs_background": "light"
     },
     "output_type": "display_data"
    }
   ],
   "source": [
    "conf2 = confusion_matrix(true_labels, y_predicted2, labels = list([0,1,2]))\n",
    "plot_confusion_matrix(cm           = conf2, \n",
    "                      normalize    = False,\n",
    "                      target_names = ['noise','electron', 'muon'],\n",
    "                      title        = \"Confusion Matrix\")"
   ]
  },
  {
   "cell_type": "code",
   "execution_count": 34,
   "metadata": {},
   "outputs": [
    {
     "data": {
      "image/png": "[encoded data removed]",
      "text/plain": [
       "<Figure size 432x288 with 1 Axes>"
      ]
     },
     "metadata": {
      "needs_background": "light"
     },
     "output_type": "display_data"
    }
   ],
   "source": [
    "history_n1 = historyv2.history\n",
    "loss_values_n1 = history_n1['loss']\n",
    "val_loss_values_n1 = history_n1['val_loss']\n",
    "epochs_n1 = range(1, len(loss_values_n1) + 1)\n",
    "plt.plot(epochs_n1, loss_values_n1, 'bo', label='Training loss')\n",
    "plt.plot(epochs_n1, val_loss_values_n1, 'b', label='Validation loss')\n",
    "plt.title('Training and validation loss')\n",
    "plt.xlabel('Epochs')\n",
    "plt.ylabel('Loss')\n",
    "plt.legend()\n",
    "plt.show()"
   ]
  },
  {
   "cell_type": "markdown",
   "metadata": {},
   "source": [
    "### Model 4: 92 neurons, bigger lr"
   ]
  },
  {
   "cell_type": "code",
   "execution_count": 19,
   "metadata": {
    "scrolled": true
   },
   "outputs": [
    {
     "name": "stdout",
     "output_type": "stream",
     "text": [
      "Model: \"sequential_1\"\n",
      "_________________________________________________________________\n",
      "Layer (type)                 Output Shape              Param #   \n",
      "=================================================================\n",
      "conv2d_1 (Conv2D)            (None, 240, 190, 32)      320       \n",
      "_________________________________________________________________\n",
      "max_pooling2d_1 (MaxPooling2 (None, 120, 95, 32)       0         \n",
      "_________________________________________________________________\n",
      "conv2d_2 (Conv2D)            (None, 118, 93, 32)       9248      \n",
      "_________________________________________________________________\n",
      "max_pooling2d_2 (MaxPooling2 (None, 59, 46, 32)        0         \n",
      "_________________________________________________________________\n",
      "conv2d_3 (Conv2D)            (None, 57, 44, 64)        18496     \n",
      "_________________________________________________________________\n",
      "max_pooling2d_3 (MaxPooling2 (None, 28, 22, 64)        0         \n",
      "_________________________________________________________________\n",
      "conv2d_4 (Conv2D)            (None, 26, 20, 64)        36928     \n",
      "_________________________________________________________________\n",
      "max_pooling2d_4 (MaxPooling2 (None, 13, 10, 64)        0         \n",
      "_________________________________________________________________\n",
      "conv2d_5 (Conv2D)            (None, 12, 9, 128)        32896     \n",
      "_________________________________________________________________\n",
      "max_pooling2d_5 (MaxPooling2 (None, 6, 4, 128)         0         \n",
      "_________________________________________________________________\n",
      "flatten_1 (Flatten)          (None, 3072)              0         \n",
      "_________________________________________________________________\n",
      "dropout_1 (Dropout)          (None, 3072)              0         \n",
      "_________________________________________________________________\n",
      "dense_1 (Dense)              (None, 92)                282716    \n",
      "_________________________________________________________________\n",
      "dropout_2 (Dropout)          (None, 92)                0         \n",
      "_________________________________________________________________\n",
      "dense_2 (Dense)              (None, 3)                 279       \n",
      "=================================================================\n",
      "Total params: 380,883\n",
      "Trainable params: 380,883\n",
      "Non-trainable params: 0\n",
      "_________________________________________________________________\n"
     ]
    }
   ],
   "source": [
    "model_v7 = models.Sequential()\n",
    "model_v7.add(layers.Conv2D(32,(3,3), activation='relu', input_shape=(window_y, window_x, 1)))\n",
    "model_v7.add(layers.MaxPooling2D((2,2)))\n",
    "model_v7.add(layers.Conv2D(32,(3,3), activation='relu'))\n",
    "model_v7.add(layers.MaxPooling2D((2,2)))\n",
    "model_v7.add(layers.Conv2D(64,(3,3), activation='relu'))\n",
    "model_v7.add(layers.MaxPooling2D((2,2)))\n",
    "model_v7.add(layers.Conv2D(64,(3,3), activation='relu'))\n",
    "model_v7.add(layers.MaxPooling2D((2,2)))\n",
    "model_v7.add(layers.Conv2D(128,(2,2), activation='relu'))\n",
    "model_v7.add(layers.MaxPooling2D((2,2)))\n",
    "\n",
    "model_v7.add(layers.Flatten())\n",
    "model_v7.add(layers.Dropout((0.5)))\n",
    "model_v7.add(layers.Dense(units= 92, activation='relu'))\n",
    "model_v7.add(layers.Dropout((0.5)))\n",
    "model_v7.add(layers.Dense(units= 3, activation='softmax'))\n",
    "model_v7.summary()"
   ]
  },
  {
   "cell_type": "code",
   "execution_count": 21,
   "metadata": {},
   "outputs": [],
   "source": [
    "model_v7.compile(optimizer=optimizers.RMSprop(learning_rate=1e-3),loss='categorical_crossentropy', metrics=['acc'])"
   ]
  },
  {
   "cell_type": "code",
   "execution_count": 22,
   "metadata": {
    "scrolled": true
   },
   "outputs": [
    {
     "name": "stdout",
     "output_type": "stream",
     "text": [
      "Epoch 1/40\n",
      "157/157 [==============================] - 229s 1s/step - loss: 0.7259 - acc: 0.6483 - val_loss: 0.6230 - val_acc: 0.7123\n",
      "Epoch 2/40\n",
      "157/157 [==============================] - 213s 1s/step - loss: 0.5910 - acc: 0.7225 - val_loss: 0.4176 - val_acc: 0.7748\n",
      "Epoch 3/40\n",
      "157/157 [==============================] - 218s 1s/step - loss: 0.4913 - acc: 0.7540 - val_loss: 0.4888 - val_acc: 0.7795\n",
      "Epoch 4/40\n",
      "157/157 [==============================] - 214s 1s/step - loss: 0.4715 - acc: 0.7778 - val_loss: 0.4089 - val_acc: 0.7718\n",
      "Epoch 5/40\n",
      "157/157 [==============================] - 213s 1s/step - loss: 0.5112 - acc: 0.7753 - val_loss: 0.4656 - val_acc: 0.8042\n",
      "Epoch 6/40\n",
      "157/157 [==============================] - 209s 1s/step - loss: 0.4503 - acc: 0.7904 - val_loss: 0.5262 - val_acc: 0.7612\n",
      "Epoch 7/40\n",
      "157/157 [==============================] - 209s 1s/step - loss: 0.4907 - acc: 0.7865 - val_loss: 0.5555 - val_acc: 0.7845\n",
      "Epoch 8/40\n",
      "157/157 [==============================] - 215s 1s/step - loss: 0.4291 - acc: 0.8173 - val_loss: 0.3796 - val_acc: 0.8328\n",
      "Epoch 9/40\n",
      "157/157 [==============================] - 213s 1s/step - loss: 0.4340 - acc: 0.8249 - val_loss: 0.2598 - val_acc: 0.8411\n",
      "Epoch 10/40\n",
      "157/157 [==============================] - 215s 1s/step - loss: 0.4029 - acc: 0.8380 - val_loss: 0.3422 - val_acc: 0.8423\n",
      "Epoch 11/40\n",
      "157/157 [==============================] - 216s 1s/step - loss: 0.3939 - acc: 0.8438 - val_loss: 0.3110 - val_acc: 0.8629\n",
      "Epoch 12/40\n",
      "157/157 [==============================] - 211s 1s/step - loss: 0.3815 - acc: 0.8528 - val_loss: 0.2059 - val_acc: 0.8691\n",
      "Epoch 13/40\n",
      "157/157 [==============================] - 216s 1s/step - loss: 0.4202 - acc: 0.8469 - val_loss: 0.4891 - val_acc: 0.7821\n",
      "Epoch 14/40\n",
      "157/157 [==============================] - 222s 1s/step - loss: 0.3912 - acc: 0.8555 - val_loss: 0.4169 - val_acc: 0.8284\n",
      "Epoch 15/40\n",
      "157/157 [==============================] - 223s 1s/step - loss: 0.3922 - acc: 0.8618 - val_loss: 0.2883 - val_acc: 0.8691\n",
      "Epoch 16/40\n",
      "157/157 [==============================] - 216s 1s/step - loss: 0.3606 - acc: 0.8713 - val_loss: 0.1621 - val_acc: 0.8735\n",
      "Epoch 17/40\n",
      "157/157 [==============================] - 219s 1s/step - loss: 0.3959 - acc: 0.8720 - val_loss: 1.3481 - val_acc: 0.7229\n",
      "Epoch 18/40\n",
      "157/157 [==============================] - 223s 1s/step - loss: 0.3346 - acc: 0.8760 - val_loss: 0.4250 - val_acc: 0.8759\n",
      "Epoch 19/40\n",
      "157/157 [==============================] - 212s 1s/step - loss: 0.3632 - acc: 0.8771 - val_loss: 0.1643 - val_acc: 0.8771\n",
      "Epoch 20/40\n",
      "157/157 [==============================] - 206s 1s/step - loss: 0.3639 - acc: 0.8687 - val_loss: 0.4090 - val_acc: 0.8600\n",
      "Epoch 21/40\n",
      "157/157 [==============================] - 224s 1s/step - loss: 0.3030 - acc: 0.8939 - val_loss: 0.3351 - val_acc: 0.8747\n",
      "Epoch 22/40\n",
      "157/157 [==============================] - 217s 1s/step - loss: 0.2975 - acc: 0.8938 - val_loss: 0.2241 - val_acc: 0.8762\n",
      "Epoch 23/40\n",
      "157/157 [==============================] - 210s 1s/step - loss: 0.3162 - acc: 0.8891 - val_loss: 0.2653 - val_acc: 0.8644\n"
     ]
    }
   ],
   "source": [
    "historyv7 = model_v7.fit_generator(train_gen, epochs=40, validation_data=val_gen, \n",
    "                                   steps_per_epoch= 157, validation_steps= 53,callbacks=my_callbacks)"
   ]
  },
  {
   "cell_type": "code",
   "execution_count": 23,
   "metadata": {},
   "outputs": [],
   "source": [
    "model_v7.save('models/e_mu_n_v4.h5')"
   ]
  },
  {
   "cell_type": "code",
   "execution_count": 24,
   "metadata": {},
   "outputs": [
    {
     "name": "stdout",
     "output_type": "stream",
     "text": [
      "Accuracy with the model: 86.20%\n"
     ]
    }
   ],
   "source": [
    "loss, acc = model_v7.evaluate_generator(test_gen, steps=53)\n",
    "print('Accuracy with the model: {:5.2f}%'.format(100*acc))"
   ]
  },
  {
   "cell_type": "code",
   "execution_count": 35,
   "metadata": {},
   "outputs": [
    {
     "data": {
      "image/png": "[encoded data removed]",
      "text/plain": [
       "<Figure size 576x432 with 2 Axes>"
      ]
     },
     "metadata": {
      "needs_background": "light"
     },
     "output_type": "display_data"
    }
   ],
   "source": [
    "y_predicted7 = model_v7.predict_generator(test_generator(X), steps=53)\n",
    "\n",
    "y_predicted7 = np.argmax(y_predicted7, axis=1)\n",
    "\n",
    "true_labels = gen_true_y()\n",
    "\n",
    "conf7 = confusion_matrix(true_labels, y_predicted7, labels = list([0,1,2]))\n",
    "plot_confusion_matrix(cm           = conf7, \n",
    "                      normalize    = False,\n",
    "                      target_names = ['noise','electron', 'muon'],\n",
    "                      title        = \"Confusion Matrix\")"
   ]
  },
  {
   "cell_type": "code",
   "execution_count": 26,
   "metadata": {},
   "outputs": [
    {
     "data": {
      "image/png": "[encoded data removed]",
      "text/plain": [
       "<Figure size 432x288 with 1 Axes>"
      ]
     },
     "metadata": {
      "needs_background": "light"
     },
     "output_type": "display_data"
    }
   ],
   "source": [
    "history_n1 = historyv7.history\n",
    "loss_values_n1 = history_n1['loss']\n",
    "val_loss_values_n1 = history_n1['val_loss']\n",
    "epochs_n1 = range(1, len(loss_values_n1) + 1)\n",
    "plt.plot(epochs_n1, loss_values_n1, 'bo', label='Training loss')\n",
    "plt.plot(epochs_n1, val_loss_values_n1, 'b', label='Validation loss')\n",
    "plt.title('Training and validation loss')\n",
    "plt.xlabel('Epochs')\n",
    "plt.ylabel('Loss')\n",
    "plt.legend()\n",
    "plt.show()"
   ]
  },
  {
   "cell_type": "markdown",
   "metadata": {},
   "source": [
    "### Model 5: 82 neurons, bigger lr (best model)"
   ]
  },
  {
   "cell_type": "code",
   "execution_count": 27,
   "metadata": {
    "scrolled": true
   },
   "outputs": [
    {
     "name": "stdout",
     "output_type": "stream",
     "text": [
      "Model: \"sequential_2\"\n",
      "_________________________________________________________________\n",
      "Layer (type)                 Output Shape              Param #   \n",
      "=================================================================\n",
      "conv2d_6 (Conv2D)            (None, 240, 190, 32)      320       \n",
      "_________________________________________________________________\n",
      "max_pooling2d_6 (MaxPooling2 (None, 120, 95, 32)       0         \n",
      "_________________________________________________________________\n",
      "conv2d_7 (Conv2D)            (None, 118, 93, 32)       9248      \n",
      "_________________________________________________________________\n",
      "max_pooling2d_7 (MaxPooling2 (None, 59, 46, 32)        0         \n",
      "_________________________________________________________________\n",
      "conv2d_8 (Conv2D)            (None, 57, 44, 64)        18496     \n",
      "_________________________________________________________________\n",
      "max_pooling2d_8 (MaxPooling2 (None, 28, 22, 64)        0         \n",
      "_________________________________________________________________\n",
      "conv2d_9 (Conv2D)            (None, 26, 20, 64)        36928     \n",
      "_________________________________________________________________\n",
      "max_pooling2d_9 (MaxPooling2 (None, 13, 10, 64)        0         \n",
      "_________________________________________________________________\n",
      "conv2d_10 (Conv2D)           (None, 12, 9, 128)        32896     \n",
      "_________________________________________________________________\n",
      "max_pooling2d_10 (MaxPooling (None, 6, 4, 128)         0         \n",
      "_________________________________________________________________\n",
      "flatten_2 (Flatten)          (None, 3072)              0         \n",
      "_________________________________________________________________\n",
      "dropout_3 (Dropout)          (None, 3072)              0         \n",
      "_________________________________________________________________\n",
      "dense_3 (Dense)              (None, 82)                251986    \n",
      "_________________________________________________________________\n",
      "dropout_4 (Dropout)          (None, 82)                0         \n",
      "_________________________________________________________________\n",
      "dense_4 (Dense)              (None, 3)                 249       \n",
      "=================================================================\n",
      "Total params: 350,123\n",
      "Trainable params: 350,123\n",
      "Non-trainable params: 0\n",
      "_________________________________________________________________\n"
     ]
    }
   ],
   "source": [
    "model_v9 = models.Sequential()\n",
    "model_v9.add(layers.Conv2D(32,(3,3), activation='relu', input_shape=(window_y, window_x, 1)))\n",
    "model_v9.add(layers.MaxPooling2D((2,2)))\n",
    "model_v9.add(layers.Conv2D(32,(3,3), activation='relu'))\n",
    "model_v9.add(layers.MaxPooling2D((2,2)))\n",
    "model_v9.add(layers.Conv2D(64,(3,3), activation='relu'))\n",
    "model_v9.add(layers.MaxPooling2D((2,2)))\n",
    "model_v9.add(layers.Conv2D(64,(3,3), activation='relu'))\n",
    "model_v9.add(layers.MaxPooling2D((2,2)))\n",
    "model_v9.add(layers.Conv2D(128,(2,2), activation='relu'))\n",
    "model_v9.add(layers.MaxPooling2D((2,2)))\n",
    "\n",
    "model_v9.add(layers.Flatten())\n",
    "model_v9.add(layers.Dropout((0.5)))\n",
    "model_v9.add(layers.Dense(units= 82, activation='relu'))\n",
    "model_v9.add(layers.Dropout((0.5)))\n",
    "model_v9.add(layers.Dense(units= 3, activation='softmax'))\n",
    "model_v9.summary()"
   ]
  },
  {
   "cell_type": "code",
   "execution_count": 28,
   "metadata": {},
   "outputs": [],
   "source": [
    "model_v9.compile(optimizer=optimizers.RMSprop(lr= 1e-3),loss='categorical_crossentropy', metrics=['acc'])"
   ]
  },
  {
   "cell_type": "code",
   "execution_count": 29,
   "metadata": {
    "scrolled": true
   },
   "outputs": [
    {
     "name": "stdout",
     "output_type": "stream",
     "text": [
      "Epoch 1/35\n",
      "157/157 [==============================] - 247s 2s/step - loss: 0.7486 - acc: 0.6395 - val_loss: 0.4430 - val_acc: 0.7485\n",
      "Epoch 2/35\n",
      "157/157 [==============================] - 246s 2s/step - loss: 0.5781 - acc: 0.7212 - val_loss: 0.4888 - val_acc: 0.7553\n",
      "Epoch 3/35\n",
      "157/157 [==============================] - 219s 1s/step - loss: 0.5286 - acc: 0.7568 - val_loss: 0.3987 - val_acc: 0.7653\n",
      "Epoch 4/35\n",
      "157/157 [==============================] - 213s 1s/step - loss: 0.4817 - acc: 0.7775 - val_loss: 0.4594 - val_acc: 0.7650\n",
      "Epoch 5/35\n",
      "157/157 [==============================] - 212s 1s/step - loss: 0.4429 - acc: 0.7844 - val_loss: 0.3317 - val_acc: 0.7866\n",
      "Epoch 6/35\n",
      "157/157 [==============================] - 209s 1s/step - loss: 0.5039 - acc: 0.8022 - val_loss: 0.3185 - val_acc: 0.7615\n",
      "Epoch 7/35\n",
      "157/157 [==============================] - 209s 1s/step - loss: 0.4695 - acc: 0.7891 - val_loss: 0.6429 - val_acc: 0.8051\n",
      "Epoch 8/35\n",
      "157/157 [==============================] - 212s 1s/step - loss: 0.4886 - acc: 0.8075 - val_loss: 0.2808 - val_acc: 0.8184\n",
      "Epoch 9/35\n",
      "157/157 [==============================] - 212s 1s/step - loss: 0.4440 - acc: 0.8061 - val_loss: 0.2452 - val_acc: 0.8302\n",
      "Epoch 10/35\n",
      "157/157 [==============================] - 212s 1s/step - loss: 0.3956 - acc: 0.8338 - val_loss: 0.7815 - val_acc: 0.7199\n",
      "Epoch 11/35\n",
      "157/157 [==============================] - 212s 1s/step - loss: 0.4627 - acc: 0.8265 - val_loss: 0.3160 - val_acc: 0.8567\n",
      "Epoch 12/35\n",
      "157/157 [==============================] - 211s 1s/step - loss: 0.3697 - acc: 0.8451 - val_loss: 0.3022 - val_acc: 0.8564\n",
      "Epoch 13/35\n",
      "157/157 [==============================] - 211s 1s/step - loss: 0.4452 - acc: 0.8345 - val_loss: 0.7645 - val_acc: 0.7907\n",
      "Epoch 14/35\n",
      "157/157 [==============================] - 216s 1s/step - loss: 0.3789 - acc: 0.8495 - val_loss: 0.5008 - val_acc: 0.8600\n",
      "Epoch 15/35\n",
      "157/157 [==============================] - 212s 1s/step - loss: 0.3932 - acc: 0.8569 - val_loss: 0.4157 - val_acc: 0.8659\n",
      "Epoch 16/35\n",
      "157/157 [==============================] - 207s 1s/step - loss: 0.3375 - acc: 0.8680 - val_loss: 0.3353 - val_acc: 0.8797\n"
     ]
    }
   ],
   "source": [
    "historyv9 = model_v9.fit_generator(train_gen, epochs=35, validation_data=val_gen, \n",
    "                                   steps_per_epoch= 157, validation_steps= 53,callbacks=my_callbacks)"
   ]
  },
  {
   "cell_type": "code",
   "execution_count": 30,
   "metadata": {},
   "outputs": [],
   "source": [
    "model_v9.save('models/e_mu_n_v5.h5')"
   ]
  },
  {
   "cell_type": "code",
   "execution_count": 31,
   "metadata": {},
   "outputs": [
    {
     "name": "stdout",
     "output_type": "stream",
     "text": [
      "Accuracy with the model: 87.56%\n"
     ]
    }
   ],
   "source": [
    "loss, acc = model_v9.evaluate_generator(test_gen, steps=53)\n",
    "print('Accuracy with the model: {:5.2f}%'.format(100*acc))"
   ]
  },
  {
   "cell_type": "code",
   "execution_count": 37,
   "metadata": {},
   "outputs": [],
   "source": [
    "y_predicted9 = model_v9.predict_generator(test_generator(X), steps=53)\n",
    "\n",
    "y_predicted9 = np.argmax(y_predicted9, axis=1)\n",
    "\n",
    "true_labels = gen_true_y()"
   ]
  },
  {
   "cell_type": "code",
   "execution_count": 38,
   "metadata": {},
   "outputs": [
    {
     "data": {
      "image/png": "[encoded data removed]",
      "text/plain": [
       "<Figure size 576x432 with 2 Axes>"
      ]
     },
     "metadata": {
      "needs_background": "light"
     },
     "output_type": "display_data"
    }
   ],
   "source": [
    "conf9 = confusion_matrix(true_labels, y_predicted9, labels = list([0,1,2]))\n",
    "plot_confusion_matrix(cm           = conf9, \n",
    "                      normalize    = False,\n",
    "                      target_names = ['noise','electron', 'muon'],\n",
    "                      title        = \"Confusion Matrix\")"
   ]
  },
  {
   "cell_type": "code",
   "execution_count": 36,
   "metadata": {
    "scrolled": true
   },
   "outputs": [
    {
     "data": {
      "image/png": "[encoded data removed]",
      "text/plain": [
       "<Figure size 432x288 with 1 Axes>"
      ]
     },
     "metadata": {
      "needs_background": "light"
     },
     "output_type": "display_data"
    }
   ],
   "source": [
    "history_n1 = historyv9.history\n",
    "loss_values_n1 = history_n1['loss']\n",
    "val_loss_values_n1 = history_n1['val_loss']\n",
    "epochs_n1 = range(1, len(loss_values_n1) + 1)\n",
    "plt.plot(epochs_n1, loss_values_n1, 'bo', label='Training loss')\n",
    "plt.plot(epochs_n1, val_loss_values_n1, 'b', label='Validation loss')\n",
    "plt.title('Training and validation loss')\n",
    "plt.xlabel('Epochs')\n",
    "plt.ylabel('Loss')\n",
    "plt.legend()\n",
    "plt.show()"
   ]
  }
 ],
 "metadata": {
  "kernelspec": {
   "display_name": "Python 3",
   "language": "python",
   "name": "python3"
  },
  "language_info": {
   "codemirror_mode": {
    "name": "ipython",
    "version": 3
   },
   "file_extension": ".py",
   "mimetype": "text/x-python",
   "name": "python",
   "nbconvert_exporter": "python",
   "pygments_lexer": "ipython3",
   "version": "3.7.4"
  }
 },
 "nbformat": 4,
 "nbformat_minor": 2
}

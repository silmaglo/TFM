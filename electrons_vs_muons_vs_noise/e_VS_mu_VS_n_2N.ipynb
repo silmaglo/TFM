{
 "cells": [
  {
   "cell_type": "markdown",
   "metadata": {},
   "source": [
    "### Model to differenciate between muons, electrons and noise NOISY\n",
    "\n",
    "Labels: 0 noise, 1 electron, 2 muon\n",
    "* [Creating training and validation generators](#Creating-training-and-validation-generators)\n",
    "* [Model 1: 82 neurons, callbacks, bigger lr](#Model-1:-82-neurons,-callbacks,-bigger-lr)\n",
    "* [Model 2: 202 + 82 neurons, bigger lr](#Model-2:-202-+-82-neurons,-bigger-lr)\n",
    "* [Model 3: 82 neurons, dropouts, bigger lr](#Model-3:-82-neurons,-dropouts,-bigger-lr)\n",
    "* [Model 4: 300+92 neurons, bigger lr](#Model-4:-300+92-neurons,-bigger-lr)\n",
    "* [Model 5: 82 neurons, bigger lr, dropouts](#Model-5:-82-neurons,-bigger-lr,-dropouts)"
   ]
  },
  {
   "cell_type": "code",
   "execution_count": 31,
   "metadata": {},
   "outputs": [],
   "source": [
    "import numpy as np\n",
    "import matplotlib.pyplot as plt\n",
    "from sklearn.metrics import confusion_matrix\n",
    "def plot_confusion_matrix(cm,\n",
    "                          target_names,\n",
    "                          title='Confusion matrix',\n",
    "                          cmap=None,\n",
    "                          normalize=True):\n",
    "    \"\"\"\n",
    "    cm:           confusion matrix from sklearn.metrics.confusion_matrix\n",
    "\n",
    "    target_names: given classification classes such as [0, 1, 2]\n",
    "                  the class names, for example: ['high', 'medium', 'low']\n",
    "\n",
    "    title:        the text to display at the top of the matrix\n",
    "\n",
    "    cmap:         the gradient of the values displayed from matplotlib.pyplot.cm\n",
    "                  see http://matplotlib.org/examples/color/colormaps_reference.html\n",
    "                  plt.get_cmap('jet') or plt.cm.Blues\n",
    "\n",
    "    normalize:    If False, plot the raw numbers\n",
    "                  If True, plot the proportions\n",
    "\n",
    "    Citiation\n",
    "    ---------\n",
    "    http://scikit-learn.org/stable/auto_examples/model_selection/plot_confusion_matrix.html\n",
    "\n",
    "    \"\"\"\n",
    "    import itertools\n",
    "\n",
    "    accuracy = np.trace(cm) / float(np.sum(cm))\n",
    "    misclass = 1 - accuracy\n",
    "\n",
    "    if cmap is None:\n",
    "        cmap = plt.get_cmap('Blues')\n",
    "\n",
    "    plt.figure(figsize=(8, 6))\n",
    "    plt.imshow(cm, interpolation='nearest', cmap=cmap)\n",
    "    plt.title(title, fontsize= 16)\n",
    "    cb = plt.colorbar()\n",
    "    cb.ax.tick_params(labelsize= 16)\n",
    "\n",
    "    if target_names is not None:\n",
    "        tick_marks = np.arange(len(target_names))\n",
    "        plt.xticks(tick_marks, target_names, rotation=45, fontsize=18)\n",
    "        plt.yticks(tick_marks, target_names, fontsize=18)\n",
    "\n",
    "    if normalize:\n",
    "        cm = cm.astype('float') / cm.sum(axis=1)[:, np.newaxis]\n",
    "\n",
    "\n",
    "    thresh = cm.max() / 1.5 if normalize else cm.max() / 2\n",
    "    for i, j in itertools.product(range(cm.shape[0]), range(cm.shape[1])):\n",
    "        if normalize:\n",
    "            plt.text(j, i, \"{:0.4f}\".format(cm[i, j], fontsize=18),\n",
    "                     horizontalalignment=\"center\",\n",
    "                     color=\"white\" if cm[i, j] > thresh else \"black\", fontsize=18)\n",
    "        else:\n",
    "            plt.text(j, i, \"{:,}\".format(cm[i, j], fontsize=18),\n",
    "                     horizontalalignment=\"center\",\n",
    "                     color=\"white\" if cm[i, j] > thresh else \"black\", fontsize=18)\n",
    "    plt.grid(b=False)\n",
    "    plt.xlim(-0.5, 2.5)\n",
    "    plt.ylim(2.5, -0.5)\n",
    "    plt.tight_layout()\n",
    "    plt.ylabel('True label', fontsize=18)\n",
    "    plt.xlabel('Predicted label\\naccuracy={:0.4f}; misclass={:0.4f}'.format(accuracy, misclass), fontsize=14)\n",
    "    plt.show()"
   ]
  },
  {
   "cell_type": "code",
   "execution_count": 32,
   "metadata": {},
   "outputs": [],
   "source": [
    "import keras\n",
    "from keras import layers, models, optimizers\n",
    "from keras import callbacks"
   ]
  },
  {
   "cell_type": "code",
   "execution_count": 3,
   "metadata": {},
   "outputs": [],
   "source": [
    "window_y, window_x = 242,192 #shape of each image"
   ]
  },
  {
   "cell_type": "code",
   "execution_count": 4,
   "metadata": {},
   "outputs": [],
   "source": [
    "import glob\n",
    "import os, shutil\n",
    "from sklearn.metrics import classification_report"
   ]
  },
  {
   "cell_type": "markdown",
   "metadata": {},
   "source": [
    "### Creating training and validation generators\n",
    "We need to create a numpy array (X) with the path to each npz file. Each npz contains 64 npy (batch_size), so basically, one npz is one batch. \n",
    "* For the training batchs:"
   ]
  },
  {
   "cell_type": "code",
   "execution_count": 5,
   "metadata": {},
   "outputs": [],
   "source": [
    "path_tr = 'eVSmuVSn_N2tr/'\n",
    "files_tr = os.listdir(path_tr)\n",
    "\n",
    "X = np.empty(shape=(len(files_tr),), dtype=object)\n",
    "\n",
    "for index, file in enumerate(files_tr):     \n",
    "    X[index] = os.path.join(path_tr, files_tr[index]) "
   ]
  },
  {
   "cell_type": "code",
   "execution_count": 6,
   "metadata": {},
   "outputs": [
    {
     "data": {
      "text/plain": [
       "(157,)"
      ]
     },
     "execution_count": 6,
     "metadata": {},
     "output_type": "execute_result"
    }
   ],
   "source": [
    "X.shape #we have 157 batchs (npz files) for the training"
   ]
  },
  {
   "cell_type": "code",
   "execution_count": 7,
   "metadata": {},
   "outputs": [],
   "source": [
    "def data_generator2(inputs, shuffle=True):\n",
    "     while True:\n",
    "    # Create list of indices\n",
    "        idxs = np.arange(len(inputs))\n",
    "        if shuffle:\n",
    "            np.random.shuffle(idxs)\n",
    "\n",
    "        for i in idxs:\n",
    "            batch_X = []\n",
    "\n",
    "            data = np.load(inputs[i])['X']\n",
    "            label = np.load(inputs[i])['y']\n",
    " \n",
    "            batch_X.append(data)\n",
    "\n",
    "\n",
    "            batch_X = np.array(batch_X)\n",
    "            batch_X = batch_X.reshape((batch_X.shape[1],batch_X.shape[2], batch_X.shape[3], batch_X.shape[4]))\n",
    "            batch_y = label\n",
    "\n",
    "            yield batch_X, batch_y"
   ]
  },
  {
   "cell_type": "code",
   "execution_count": 8,
   "metadata": {},
   "outputs": [],
   "source": [
    "train_gen =  data_generator2(inputs=X) #training data generator"
   ]
  },
  {
   "cell_type": "code",
   "execution_count": 9,
   "metadata": {},
   "outputs": [
    {
     "data": {
      "text/plain": [
       "generator"
      ]
     },
     "execution_count": 9,
     "metadata": {},
     "output_type": "execute_result"
    }
   ],
   "source": [
    "type(train_gen)"
   ]
  },
  {
   "cell_type": "markdown",
   "metadata": {},
   "source": [
    "* Similary for the validation data:"
   ]
  },
  {
   "cell_type": "code",
   "execution_count": 10,
   "metadata": {},
   "outputs": [],
   "source": [
    "path_v = 'eVSmuVSn_N2val/'\n",
    "files_v = os.listdir(path_v)\n",
    "\n",
    "#X is a numpy array of the baths to the npz files, where each one contains a batch of npy\n",
    "X = np.empty(shape=(len(files_v),), dtype=object)\n",
    "\n",
    "for index, file in enumerate(files_v):     \n",
    "    X[index] = os.path.join(path_v, files_v[index]) "
   ]
  },
  {
   "cell_type": "code",
   "execution_count": 11,
   "metadata": {},
   "outputs": [
    {
     "data": {
      "text/plain": [
       "(53,)"
      ]
     },
     "execution_count": 11,
     "metadata": {},
     "output_type": "execute_result"
    }
   ],
   "source": [
    "X.shape #this is how many batches we have of validation data"
   ]
  },
  {
   "cell_type": "code",
   "execution_count": 12,
   "metadata": {},
   "outputs": [],
   "source": [
    "val_gen = data_generator2(inputs=X)"
   ]
  },
  {
   "cell_type": "markdown",
   "metadata": {},
   "source": [
    "### Model 1: 82 neurons, callbacks, bigger lr"
   ]
  },
  {
   "cell_type": "code",
   "execution_count": 36,
   "metadata": {
    "scrolled": true
   },
   "outputs": [
    {
     "name": "stdout",
     "output_type": "stream",
     "text": [
      "Model: \"sequential_4\"\n",
      "_________________________________________________________________\n",
      "Layer (type)                 Output Shape              Param #   \n",
      "=================================================================\n",
      "conv2d_13 (Conv2D)           (None, 240, 190, 32)      320       \n",
      "_________________________________________________________________\n",
      "max_pooling2d_13 (MaxPooling (None, 120, 95, 32)       0         \n",
      "_________________________________________________________________\n",
      "conv2d_14 (Conv2D)           (None, 118, 93, 32)       9248      \n",
      "_________________________________________________________________\n",
      "max_pooling2d_14 (MaxPooling (None, 59, 46, 32)        0         \n",
      "_________________________________________________________________\n",
      "conv2d_15 (Conv2D)           (None, 57, 44, 64)        18496     \n",
      "_________________________________________________________________\n",
      "max_pooling2d_15 (MaxPooling (None, 28, 22, 64)        0         \n",
      "_________________________________________________________________\n",
      "conv2d_16 (Conv2D)           (None, 26, 20, 128)       73856     \n",
      "_________________________________________________________________\n",
      "max_pooling2d_16 (MaxPooling (None, 13, 10, 128)       0         \n",
      "_________________________________________________________________\n",
      "flatten_4 (Flatten)          (None, 16640)             0         \n",
      "_________________________________________________________________\n",
      "dense_7 (Dense)              (None, 82)                1364562   \n",
      "_________________________________________________________________\n",
      "dense_8 (Dense)              (None, 3)                 249       \n",
      "=================================================================\n",
      "Total params: 1,466,731\n",
      "Trainable params: 1,466,731\n",
      "Non-trainable params: 0\n",
      "_________________________________________________________________\n"
     ]
    }
   ],
   "source": [
    "model_v1 = models.Sequential()\n",
    "model_v1.add(layers.Conv2D(32,(3,3), activation='relu', input_shape=(window_y, window_x, 1)))\n",
    "model_v1.add(layers.MaxPooling2D((2,2)))\n",
    "model_v1.add(layers.Conv2D(32,(3,3), activation='relu'))\n",
    "model_v1.add(layers.MaxPooling2D((2,2)))\n",
    "model_v1.add(layers.Conv2D(64,(3,3), activation='relu'))\n",
    "model_v1.add(layers.MaxPooling2D((2,2)))\n",
    "model_v1.add(layers.Conv2D(128,(3,3), activation='relu'))\n",
    "model_v1.add(layers.MaxPooling2D((2,2)))\n",
    "\n",
    "model_v1.add(layers.Flatten())\n",
    "model_v1.add(layers.Dense(units= 82, activation='relu'))\n",
    "model_v1.add(layers.Dense(units= 3, activation='softmax'))\n",
    "model_v1.summary()"
   ]
  },
  {
   "cell_type": "code",
   "execution_count": 37,
   "metadata": {},
   "outputs": [],
   "source": [
    "model_v1.compile(optimizer=optimizers.RMSprop(lr= 1e-3),loss='categorical_crossentropy', metrics=['acc'])"
   ]
  },
  {
   "cell_type": "code",
   "execution_count": 38,
   "metadata": {},
   "outputs": [],
   "source": [
    "my_callbacks = [\n",
    "    callbacks.EarlyStopping(patience=7)\n",
    "]"
   ]
  },
  {
   "cell_type": "code",
   "execution_count": 39,
   "metadata": {
    "scrolled": true
   },
   "outputs": [
    {
     "name": "stdout",
     "output_type": "stream",
     "text": [
      "Epoch 1/40\n",
      "157/157 [==============================] - 237s 2s/step - loss: 0.6225 - acc: 0.6969 - val_loss: 0.6059 - val_acc: 0.7603\n",
      "Epoch 2/40\n",
      "157/157 [==============================] - 225s 1s/step - loss: 0.4735 - acc: 0.7745 - val_loss: 0.3615 - val_acc: 0.7665\n",
      "Epoch 3/40\n",
      "157/157 [==============================] - 214s 1s/step - loss: 0.4389 - acc: 0.7928 - val_loss: 0.3692 - val_acc: 0.7656\n",
      "Epoch 4/40\n",
      "157/157 [==============================] - 214s 1s/step - loss: 0.3914 - acc: 0.8172 - val_loss: 0.2762 - val_acc: 0.8081\n",
      "Epoch 5/40\n",
      "157/157 [==============================] - 215s 1s/step - loss: 0.3666 - acc: 0.8416 - val_loss: 0.5468 - val_acc: 0.7471\n",
      "Epoch 6/40\n",
      "157/157 [==============================] - 214s 1s/step - loss: 0.3178 - acc: 0.8735 - val_loss: 0.5362 - val_acc: 0.7933\n",
      "Epoch 7/40\n",
      "157/157 [==============================] - 253s 2s/step - loss: 0.2983 - acc: 0.8849 - val_loss: 0.5772 - val_acc: 0.7739\n",
      "Epoch 8/40\n",
      "157/157 [==============================] - 239s 2s/step - loss: 0.2444 - acc: 0.9072 - val_loss: 0.7168 - val_acc: 0.7854\n",
      "Epoch 9/40\n",
      "157/157 [==============================] - 226s 1s/step - loss: 0.2226 - acc: 0.9221 - val_loss: 0.5870 - val_acc: 0.8202\n",
      "Epoch 10/40\n",
      "157/157 [==============================] - 221s 1s/step - loss: 0.2051 - acc: 0.9301 - val_loss: 0.5019 - val_acc: 0.8278\n",
      "Epoch 11/40\n",
      "157/157 [==============================] - 222s 1s/step - loss: 0.1972 - acc: 0.9403 - val_loss: 0.9662 - val_acc: 0.8384\n"
     ]
    }
   ],
   "source": [
    "historyv1 = model_v1.fit_generator(train_gen, epochs=40, validation_data=val_gen, \n",
    "                                   steps_per_epoch= 157, validation_steps= 53, callbacks = my_callbacks)"
   ]
  },
  {
   "cell_type": "code",
   "execution_count": 40,
   "metadata": {},
   "outputs": [],
   "source": [
    "model_v1.save('models/e_mu_n_Nv1.h5')"
   ]
  },
  {
   "cell_type": "markdown",
   "metadata": {},
   "source": [
    "* Creating the testing data from the data generator:"
   ]
  },
  {
   "cell_type": "code",
   "execution_count": 13,
   "metadata": {},
   "outputs": [],
   "source": [
    "path_t = 'eVSmuVSn_N2test/'\n",
    "files_t = os.listdir(path_t)\n",
    "\n",
    "X = np.empty(shape=(len(files_t),), dtype=object)\n",
    "\n",
    "for index, file in enumerate(files_t):     \n",
    "    X[index] = os.path.join(path_t, files_t[index]) "
   ]
  },
  {
   "cell_type": "code",
   "execution_count": 14,
   "metadata": {},
   "outputs": [
    {
     "data": {
      "text/plain": [
       "(53,)"
      ]
     },
     "execution_count": 14,
     "metadata": {},
     "output_type": "execute_result"
    }
   ],
   "source": [
    "X.shape"
   ]
  },
  {
   "cell_type": "code",
   "execution_count": 15,
   "metadata": {},
   "outputs": [],
   "source": [
    "test_gen = data_generator2(inputs=X)"
   ]
  },
  {
   "cell_type": "markdown",
   "metadata": {},
   "source": [
    "Now we can evaluate model to get the accuracy in the test date:"
   ]
  },
  {
   "cell_type": "code",
   "execution_count": 41,
   "metadata": {},
   "outputs": [
    {
     "name": "stdout",
     "output_type": "stream",
     "text": [
      "Accuracy with the model: 80.93%\n"
     ]
    }
   ],
   "source": [
    "loss, acc = model_v1.evaluate_generator(test_gen, steps=53)\n",
    "print('Accuracy with the model: {:5.2f}%'.format(100*acc))"
   ]
  },
  {
   "cell_type": "markdown",
   "metadata": {},
   "source": [
    "Finally we predict, to draw the confusion matrix:"
   ]
  },
  {
   "cell_type": "code",
   "execution_count": 16,
   "metadata": {},
   "outputs": [],
   "source": [
    "def test_generator(inputs, shuffle=True):\n",
    "    while True:\n",
    "    # Create list of indices\n",
    "        idxs = np.arange(len(inputs))\n",
    "        if shuffle:\n",
    "            np.random.shuffle(idxs)\n",
    "        \n",
    "        list_labels = []\n",
    "        \n",
    "        for i in idxs:\n",
    "            batch_X = []\n",
    "\n",
    "            data = np.load(inputs[i])['X']\n",
    "            label = np.load(inputs[i])['y']\n",
    "            batch_X.append(data)\n",
    "\n",
    "\n",
    "            batch_X = np.array(batch_X)\n",
    "            batch_X = batch_X.reshape((batch_X.shape[1],batch_X.shape[2], batch_X.shape[3], batch_X.shape[4]))\n",
    "            batch_y = label\n",
    "            list_labels.append(batch_y)\n",
    "            \n",
    "            yield batch_X, batch_y\n",
    "            \n",
    "        list_labels = np.array(list_labels)\n",
    "        list_labels.flatten()\n",
    "        np.save('y_labels' , list_labels)"
   ]
  },
  {
   "cell_type": "code",
   "execution_count": 17,
   "metadata": {},
   "outputs": [],
   "source": [
    "def gen_true_y():\n",
    "    true_labels = np.load('y_labels.npy')\n",
    "    true_labels = true_labels.reshape(true_labels.shape[0]*true_labels.shape[1],3)\n",
    "    true_labels = np.argmax(true_labels, axis=1)\n",
    "    \n",
    "    return true_labels"
   ]
  },
  {
   "cell_type": "code",
   "execution_count": 42,
   "metadata": {},
   "outputs": [],
   "source": [
    "y_predicted1 = model_v1.predict_generator(test_generator(X), steps=53)"
   ]
  },
  {
   "cell_type": "code",
   "execution_count": 43,
   "metadata": {},
   "outputs": [
    {
     "data": {
      "text/plain": [
       "array([[4.98013470e-08, 8.29590619e-01, 1.70409232e-01],\n",
       "       [1.20989478e-22, 3.17369252e-01, 6.82630777e-01],\n",
       "       [9.98311520e-01, 1.17723655e-03, 5.11303369e-04],\n",
       "       [6.08919275e-36, 2.25064845e-11, 1.00000000e+00],\n",
       "       [9.86011544e-25, 9.89965796e-01, 1.00341635e-02],\n",
       "       [9.98318791e-01, 1.17223791e-03, 5.08980593e-04],\n",
       "       [7.37627810e-22, 1.31903458e-02, 9.86809611e-01],\n",
       "       [9.98326123e-01, 1.16699724e-03, 5.06918994e-04],\n",
       "       [9.98322904e-01, 1.16913894e-03, 5.07967547e-04],\n",
       "       [0.00000000e+00, 1.00000000e+00, 1.62222735e-09]], dtype=float32)"
      ]
     },
     "execution_count": 43,
     "metadata": {},
     "output_type": "execute_result"
    }
   ],
   "source": [
    "y_predicted1[0:10]"
   ]
  },
  {
   "cell_type": "code",
   "execution_count": 44,
   "metadata": {},
   "outputs": [],
   "source": [
    "y_predicted1 = np.argmax(y_predicted1, axis=1)"
   ]
  },
  {
   "cell_type": "code",
   "execution_count": 45,
   "metadata": {},
   "outputs": [
    {
     "data": {
      "text/plain": [
       "array([1, 2, 0, 2, 1, 0, 2, 0, 0, 1])"
      ]
     },
     "execution_count": 45,
     "metadata": {},
     "output_type": "execute_result"
    }
   ],
   "source": [
    "y_predicted1[0:10]"
   ]
  },
  {
   "cell_type": "code",
   "execution_count": 46,
   "metadata": {},
   "outputs": [],
   "source": [
    "true_labels = gen_true_y()"
   ]
  },
  {
   "cell_type": "code",
   "execution_count": 47,
   "metadata": {},
   "outputs": [
    {
     "data": {
      "text/plain": [
       "array([1, 2, 0, 2, 1, 0, 2, 0, 0, 1])"
      ]
     },
     "execution_count": 47,
     "metadata": {},
     "output_type": "execute_result"
    }
   ],
   "source": [
    "true_labels[0:10]"
   ]
  },
  {
   "cell_type": "code",
   "execution_count": 48,
   "metadata": {},
   "outputs": [
    {
     "data": {
      "image/png": "[encoded data removed]",
      "text/plain": [
       "<Figure size 576x432 with 2 Axes>"
      ]
     },
     "metadata": {
      "needs_background": "light"
     },
     "output_type": "display_data"
    }
   ],
   "source": [
    "conf1 = confusion_matrix(true_labels, y_predicted1, labels = list([0,1,2]))\n",
    "plot_confusion_matrix(cm           = conf1, \n",
    "                      normalize    = False,\n",
    "                      target_names = ['noise','electron', 'muon'],\n",
    "                      title        = \"Confusion Matrix\")"
   ]
  },
  {
   "cell_type": "code",
   "execution_count": 49,
   "metadata": {},
   "outputs": [
    {
     "data": {
      "image/png": "[encoded data removed]",
      "text/plain": [
       "<Figure size 432x288 with 1 Axes>"
      ]
     },
     "metadata": {
      "needs_background": "light"
     },
     "output_type": "display_data"
    }
   ],
   "source": [
    "history_n1 = historyv1.history\n",
    "loss_values_n1 = history_n1['loss']\n",
    "val_loss_values_n1 = history_n1['val_loss']\n",
    "epochs_n1 = range(1, len(loss_values_n1) + 1)\n",
    "plt.plot(epochs_n1, loss_values_n1, 'bo', label='Training loss')\n",
    "plt.plot(epochs_n1, val_loss_values_n1, 'b', label='Validation loss')\n",
    "plt.title('Training and validation loss', fontsize=18)\n",
    "plt.xlabel('Epochs', fontsize=18)\n",
    "plt.ylabel('Loss', fontsize=18)\n",
    "plt.legend(fontsize=15)\n",
    "plt.xticks(fontsize=14)\n",
    "plt.yticks(fontsize=14)\n",
    "plt.show()"
   ]
  },
  {
   "cell_type": "code",
   "execution_count": 29,
   "metadata": {},
   "outputs": [],
   "source": [
    "target_names=['noise','electron', 'muon']"
   ]
  },
  {
   "cell_type": "code",
   "execution_count": 51,
   "metadata": {},
   "outputs": [
    {
     "name": "stdout",
     "output_type": "stream",
     "text": [
      "              precision    recall  f1-score   support\n",
      "\n",
      "       noise       0.96      1.00      0.98      1141\n",
      "    electron       0.78      0.68      0.73      1220\n",
      "        muon       0.69      0.76      0.73      1031\n",
      "\n",
      "    accuracy                           0.81      3392\n",
      "   macro avg       0.81      0.82      0.81      3392\n",
      "weighted avg       0.82      0.81      0.81      3392\n",
      "\n"
     ]
    }
   ],
   "source": [
    "print(classification_report(true_labels, y_predicted1, target_names=target_names))"
   ]
  },
  {
   "cell_type": "markdown",
   "metadata": {},
   "source": [
    "### Model 2: 202 + 82 neurons, bigger lr"
   ]
  },
  {
   "cell_type": "code",
   "execution_count": 87,
   "metadata": {
    "scrolled": true
   },
   "outputs": [
    {
     "name": "stdout",
     "output_type": "stream",
     "text": [
      "Model: \"sequential_18\"\n",
      "_________________________________________________________________\n",
      "Layer (type)                 Output Shape              Param #   \n",
      "=================================================================\n",
      "conv2d_81 (Conv2D)           (None, 240, 190, 32)      320       \n",
      "_________________________________________________________________\n",
      "max_pooling2d_79 (MaxPooling (None, 120, 95, 32)       0         \n",
      "_________________________________________________________________\n",
      "conv2d_82 (Conv2D)           (None, 118, 93, 32)       9248      \n",
      "_________________________________________________________________\n",
      "max_pooling2d_80 (MaxPooling (None, 59, 46, 32)        0         \n",
      "_________________________________________________________________\n",
      "conv2d_83 (Conv2D)           (None, 57, 44, 64)        18496     \n",
      "_________________________________________________________________\n",
      "max_pooling2d_81 (MaxPooling (None, 28, 22, 64)        0         \n",
      "_________________________________________________________________\n",
      "conv2d_84 (Conv2D)           (None, 27, 21, 128)       32896     \n",
      "_________________________________________________________________\n",
      "max_pooling2d_82 (MaxPooling (None, 13, 10, 128)       0         \n",
      "_________________________________________________________________\n",
      "flatten_18 (Flatten)         (None, 16640)             0         \n",
      "_________________________________________________________________\n",
      "dense_45 (Dense)             (None, 202)               3361482   \n",
      "_________________________________________________________________\n",
      "dense_46 (Dense)             (None, 82)                16646     \n",
      "_________________________________________________________________\n",
      "dense_47 (Dense)             (None, 3)                 249       \n",
      "=================================================================\n",
      "Total params: 3,439,337\n",
      "Trainable params: 3,439,337\n",
      "Non-trainable params: 0\n",
      "_________________________________________________________________\n"
     ]
    }
   ],
   "source": [
    "model_v2 = models.Sequential()\n",
    "model_v2.add(layers.Conv2D(32,(3,3), activation='relu', input_shape=(window_y, window_x, 1)))\n",
    "model_v2.add(layers.MaxPooling2D((2,2)))\n",
    "model_v2.add(layers.Conv2D(32,(3,3), activation='relu'))\n",
    "model_v2.add(layers.MaxPooling2D((2,2)))\n",
    "model_v2.add(layers.Conv2D(64,(3,3), activation='relu'))\n",
    "model_v2.add(layers.MaxPooling2D((2,2)))\n",
    "model_v2.add(layers.Conv2D(128,(2,2), activation='relu'))\n",
    "model_v2.add(layers.MaxPooling2D((2,2)))\n",
    "\n",
    "model_v2.add(layers.Flatten())\n",
    "model_v2.add(layers.Dense(units= 202, activation='relu'))\n",
    "model_v2.add(layers.Dense(units= 82, activation='relu'))\n",
    "model_v2.add(layers.Dense(units= 3, activation='softmax'))\n",
    "model_v2.summary()"
   ]
  },
  {
   "cell_type": "code",
   "execution_count": 88,
   "metadata": {},
   "outputs": [],
   "source": [
    "model_v2.compile(optimizer=optimizers.RMSprop(lr= 1e-3),loss='categorical_crossentropy', metrics=['acc'])"
   ]
  },
  {
   "cell_type": "code",
   "execution_count": 89,
   "metadata": {
    "scrolled": true
   },
   "outputs": [
    {
     "name": "stdout",
     "output_type": "stream",
     "text": [
      "Epoch 1/40\n",
      "157/157 [==============================] - 212s 1s/step - loss: 0.6820 - acc: 0.6567 - val_loss: 0.5502 - val_acc: 0.7108\n",
      "Epoch 2/40\n",
      "157/157 [==============================] - 211s 1s/step - loss: 0.5666 - acc: 0.7265 - val_loss: 0.6397 - val_acc: 0.7538\n",
      "Epoch 3/40\n",
      "157/157 [==============================] - 211s 1s/step - loss: 0.5135 - acc: 0.7696 - val_loss: 0.5285 - val_acc: 0.7662\n",
      "Epoch 4/40\n",
      "157/157 [==============================] - 221s 1s/step - loss: 0.4697 - acc: 0.8039 - val_loss: 0.3991 - val_acc: 0.7642\n",
      "Epoch 5/40\n",
      "157/157 [==============================] - 227s 1s/step - loss: 0.4282 - acc: 0.8304 - val_loss: 0.6056 - val_acc: 0.7768\n",
      "Epoch 6/40\n",
      "157/157 [==============================] - 212s 1s/step - loss: 0.3885 - acc: 0.8508 - val_loss: 0.6184 - val_acc: 0.7527\n",
      "Epoch 7/40\n",
      "157/157 [==============================] - 216s 1s/step - loss: 0.3327 - acc: 0.8848 - val_loss: 0.5936 - val_acc: 0.7854\n",
      "Epoch 8/40\n",
      "157/157 [==============================] - 215s 1s/step - loss: 0.3048 - acc: 0.8972 - val_loss: 0.3953 - val_acc: 0.7927\n",
      "Epoch 9/40\n",
      "157/157 [==============================] - 215s 1s/step - loss: 0.2801 - acc: 0.9096 - val_loss: 0.8476 - val_acc: 0.7869\n",
      "Epoch 10/40\n",
      "157/157 [==============================] - 214s 1s/step - loss: 0.2406 - acc: 0.9259 - val_loss: 1.0451 - val_acc: 0.7869\n",
      "Epoch 11/40\n",
      "157/157 [==============================] - 214s 1s/step - loss: 0.2356 - acc: 0.9311 - val_loss: 0.4333 - val_acc: 0.7857\n",
      "Epoch 12/40\n",
      "157/157 [==============================] - 214s 1s/step - loss: 0.2419 - acc: 0.9385 - val_loss: 0.4348 - val_acc: 0.7863\n",
      "Epoch 13/40\n",
      "157/157 [==============================] - 214s 1s/step - loss: 0.1891 - acc: 0.9490 - val_loss: 0.9059 - val_acc: 0.7783\n",
      "Epoch 14/40\n",
      "157/157 [==============================] - 215s 1s/step - loss: 0.1825 - acc: 0.9480 - val_loss: 1.1585 - val_acc: 0.7733\n",
      "Epoch 15/40\n",
      "157/157 [==============================] - 215s 1s/step - loss: 0.2090 - acc: 0.9474 - val_loss: 0.8152 - val_acc: 0.8001\n"
     ]
    }
   ],
   "source": [
    "historyv2 = model_v2.fit_generator(train_gen, epochs=40, validation_data=val_gen, \n",
    "                                   steps_per_epoch= 157, validation_steps= 53,callbacks=my_callbacks)"
   ]
  },
  {
   "cell_type": "code",
   "execution_count": 90,
   "metadata": {},
   "outputs": [],
   "source": [
    "model_v2.save('models/e_mu_n_Nv2.h5')"
   ]
  },
  {
   "cell_type": "code",
   "execution_count": 91,
   "metadata": {},
   "outputs": [
    {
     "name": "stdout",
     "output_type": "stream",
     "text": [
      "Accuracy with the model: 77.56%\n"
     ]
    }
   ],
   "source": [
    "loss, acc = model_v2.evaluate_generator(test_gen, steps=53)\n",
    "print('Accuracy with the model: {:5.2f}%'.format(100*acc))"
   ]
  },
  {
   "cell_type": "code",
   "execution_count": 92,
   "metadata": {},
   "outputs": [],
   "source": [
    "y_predicted2 = model_v2.predict_generator(test_generator(X), steps=53)\n",
    "\n",
    "y_predicted2 = np.argmax(y_predicted2, axis=1)\n",
    "\n",
    "true_labels = gen_true_y()"
   ]
  },
  {
   "cell_type": "code",
   "execution_count": 93,
   "metadata": {},
   "outputs": [
    {
     "data": {
      "image/png": "[encoded data removed]",
      "text/plain": [
       "<Figure size 576x432 with 2 Axes>"
      ]
     },
     "metadata": {
      "needs_background": "light"
     },
     "output_type": "display_data"
    }
   ],
   "source": [
    "conf2 = confusion_matrix(true_labels, y_predicted2, labels = list([0,1,2]))\n",
    "plot_confusion_matrix(cm           = conf2, \n",
    "                      normalize    = False,\n",
    "                      target_names = ['noise','electron', 'muon'],\n",
    "                      title        = \"Confusion Matrix\")"
   ]
  },
  {
   "cell_type": "code",
   "execution_count": 94,
   "metadata": {},
   "outputs": [
    {
     "data": {
      "image/png": "[encoded data removed]",
      "text/plain": [
       "<Figure size 432x288 with 1 Axes>"
      ]
     },
     "metadata": {
      "needs_background": "light"
     },
     "output_type": "display_data"
    }
   ],
   "source": [
    "history_n1 = historyv2.history\n",
    "loss_values_n1 = history_n1['loss']\n",
    "val_loss_values_n1 = history_n1['val_loss']\n",
    "epochs_n1 = range(1, len(loss_values_n1) + 1)\n",
    "plt.plot(epochs_n1, loss_values_n1, 'bo', label='Training loss')\n",
    "plt.plot(epochs_n1, val_loss_values_n1, 'b', label='Validation loss')\n",
    "plt.title('Training and validation loss', fontsize=18)\n",
    "plt.xlabel('Epochs', fontsize=18)\n",
    "plt.ylabel('Loss', fontsize=18)\n",
    "plt.legend(fontsize=15)\n",
    "plt.xticks(fontsize=14)\n",
    "plt.yticks(fontsize=14)\n",
    "plt.show()"
   ]
  },
  {
   "cell_type": "code",
   "execution_count": 95,
   "metadata": {},
   "outputs": [
    {
     "name": "stdout",
     "output_type": "stream",
     "text": [
      "              precision    recall  f1-score   support\n",
      "\n",
      "       noise       0.91      1.00      0.95      1141\n",
      "    electron       0.75      0.62      0.68      1220\n",
      "        muon       0.65      0.72      0.68      1031\n",
      "\n",
      "    accuracy                           0.78      3392\n",
      "   macro avg       0.77      0.78      0.77      3392\n",
      "weighted avg       0.77      0.78      0.77      3392\n",
      "\n"
     ]
    }
   ],
   "source": [
    "print(classification_report(true_labels, y_predicted2, target_names=target_names))"
   ]
  },
  {
   "cell_type": "markdown",
   "metadata": {},
   "source": [
    "### Model 3: 82 neurons, dropouts, bigger lr"
   ]
  },
  {
   "cell_type": "code",
   "execution_count": 152,
   "metadata": {
    "scrolled": true
   },
   "outputs": [
    {
     "name": "stdout",
     "output_type": "stream",
     "text": [
      "Model: \"sequential_8\"\n",
      "_________________________________________________________________\n",
      "Layer (type)                 Output Shape              Param #   \n",
      "=================================================================\n",
      "conv2d_36 (Conv2D)           (None, 240, 190, 32)      320       \n",
      "_________________________________________________________________\n",
      "max_pooling2d_36 (MaxPooling (None, 120, 95, 32)       0         \n",
      "_________________________________________________________________\n",
      "conv2d_37 (Conv2D)           (None, 118, 93, 32)       9248      \n",
      "_________________________________________________________________\n",
      "max_pooling2d_37 (MaxPooling (None, 59, 46, 32)        0         \n",
      "_________________________________________________________________\n",
      "conv2d_38 (Conv2D)           (None, 57, 44, 64)        18496     \n",
      "_________________________________________________________________\n",
      "max_pooling2d_38 (MaxPooling (None, 28, 22, 64)        0         \n",
      "_________________________________________________________________\n",
      "conv2d_39 (Conv2D)           (None, 26, 20, 64)        36928     \n",
      "_________________________________________________________________\n",
      "max_pooling2d_39 (MaxPooling (None, 13, 10, 64)        0         \n",
      "_________________________________________________________________\n",
      "conv2d_40 (Conv2D)           (None, 12, 9, 128)        32896     \n",
      "_________________________________________________________________\n",
      "max_pooling2d_40 (MaxPooling (None, 6, 4, 128)         0         \n",
      "_________________________________________________________________\n",
      "flatten_8 (Flatten)          (None, 3072)              0         \n",
      "_________________________________________________________________\n",
      "dropout_15 (Dropout)         (None, 3072)              0         \n",
      "_________________________________________________________________\n",
      "dense_15 (Dense)             (None, 82)                251986    \n",
      "_________________________________________________________________\n",
      "dropout_16 (Dropout)         (None, 82)                0         \n",
      "_________________________________________________________________\n",
      "dense_16 (Dense)             (None, 3)                 249       \n",
      "=================================================================\n",
      "Total params: 350,123\n",
      "Trainable params: 350,123\n",
      "Non-trainable params: 0\n",
      "_________________________________________________________________\n"
     ]
    }
   ],
   "source": [
    "model_v6 = models.Sequential()\n",
    "model_v6.add(layers.Conv2D(32,(3,3), activation='relu', input_shape=(window_y, window_x, 1)))\n",
    "model_v6.add(layers.MaxPooling2D((2,2)))\n",
    "model_v6.add(layers.Conv2D(32,(3,3), activation='relu'))\n",
    "model_v6.add(layers.MaxPooling2D((2,2)))\n",
    "model_v6.add(layers.Conv2D(64,(3,3), activation='relu'))\n",
    "model_v6.add(layers.MaxPooling2D((2,2)))\n",
    "model_v6.add(layers.Conv2D(64,(3,3), activation='relu'))\n",
    "model_v6.add(layers.MaxPooling2D((2,2)))\n",
    "model_v6.add(layers.Conv2D(128,(2,2), activation='relu'))\n",
    "model_v6.add(layers.MaxPooling2D((2,2)))\n",
    "\n",
    "model_v6.add(layers.Flatten())\n",
    "model_v6.add(layers.Dropout((0.5)))\n",
    "model_v6.add(layers.Dense(units= 82, activation='relu'))\n",
    "model_v6.add(layers.Dropout((0.25)))\n",
    "model_v6.add(layers.Dense(units= 3, activation='softmax'))\n",
    "model_v6.summary()"
   ]
  },
  {
   "cell_type": "code",
   "execution_count": 153,
   "metadata": {},
   "outputs": [],
   "source": [
    "model_v6.compile(optimizer=optimizers.RMSprop(lr= 1e-3),loss='categorical_crossentropy', metrics=['acc'])"
   ]
  },
  {
   "cell_type": "code",
   "execution_count": 154,
   "metadata": {
    "scrolled": true
   },
   "outputs": [
    {
     "name": "stdout",
     "output_type": "stream",
     "text": [
      "Epoch 1/40\n",
      "157/157 [==============================] - 239s 2s/step - loss: 0.7179 - acc: 0.6528 - val_loss: 0.6189 - val_acc: 0.7217\n",
      "Epoch 2/40\n",
      "157/157 [==============================] - 240s 2s/step - loss: 0.5707 - acc: 0.7258 - val_loss: 0.6304 - val_acc: 0.7453\n",
      "Epoch 3/40\n",
      "157/157 [==============================] - 242s 2s/step - loss: 0.5564 - acc: 0.7517 - val_loss: 0.5643 - val_acc: 0.7812\n",
      "Epoch 4/40\n",
      "157/157 [==============================] - 236s 2s/step - loss: 0.5249 - acc: 0.7674 - val_loss: 0.5617 - val_acc: 0.8051\n",
      "Epoch 5/40\n",
      "157/157 [==============================] - 213s 1s/step - loss: 0.4995 - acc: 0.7851 - val_loss: 0.4543 - val_acc: 0.8022\n",
      "Epoch 6/40\n",
      "157/157 [==============================] - 224s 1s/step - loss: 0.4660 - acc: 0.8069 - val_loss: 0.5927 - val_acc: 0.8258\n",
      "Epoch 7/40\n",
      "157/157 [==============================] - 226s 1s/step - loss: 0.4570 - acc: 0.8232 - val_loss: 0.4477 - val_acc: 0.8511\n",
      "Epoch 8/40\n",
      "157/157 [==============================] - 224s 1s/step - loss: 0.4438 - acc: 0.8332 - val_loss: 0.7585 - val_acc: 0.7692\n",
      "Epoch 9/40\n",
      "157/157 [==============================] - 226s 1s/step - loss: 0.4304 - acc: 0.8380 - val_loss: 0.4235 - val_acc: 0.8670\n",
      "Epoch 10/40\n",
      "157/157 [==============================] - 226s 1s/step - loss: 0.4008 - acc: 0.8464 - val_loss: 0.3536 - val_acc: 0.8458\n",
      "Epoch 11/40\n",
      "157/157 [==============================] - 234s 1s/step - loss: 0.3796 - acc: 0.8599 - val_loss: 0.2914 - val_acc: 0.8567\n",
      "Epoch 12/40\n",
      "157/157 [==============================] - 214s 1s/step - loss: 0.3763 - acc: 0.8583 - val_loss: 0.3252 - val_acc: 0.8691\n",
      "Epoch 13/40\n",
      "157/157 [==============================] - 212s 1s/step - loss: 0.3731 - acc: 0.8720 - val_loss: 0.3627 - val_acc: 0.8532\n",
      "Epoch 14/40\n",
      "157/157 [==============================] - 213s 1s/step - loss: 0.3650 - acc: 0.8686 - val_loss: 0.5626 - val_acc: 0.8210\n",
      "Epoch 15/40\n",
      "157/157 [==============================] - 212s 1s/step - loss: 0.3656 - acc: 0.8717 - val_loss: 0.3563 - val_acc: 0.8744\n",
      "Epoch 16/40\n",
      "157/157 [==============================] - 212s 1s/step - loss: 0.3469 - acc: 0.8802 - val_loss: 0.4699 - val_acc: 0.8435\n",
      "Epoch 17/40\n",
      "157/157 [==============================] - 212s 1s/step - loss: 0.3515 - acc: 0.8804 - val_loss: 0.2706 - val_acc: 0.8706\n",
      "Epoch 18/40\n",
      "157/157 [==============================] - 212s 1s/step - loss: 0.3237 - acc: 0.8923 - val_loss: 0.2076 - val_acc: 0.8721\n",
      "Epoch 19/40\n",
      "157/157 [==============================] - 211s 1s/step - loss: 0.3368 - acc: 0.8879 - val_loss: 0.3363 - val_acc: 0.8777\n",
      "Epoch 20/40\n",
      "157/157 [==============================] - 219s 1s/step - loss: 0.3991 - acc: 0.8925 - val_loss: 0.3393 - val_acc: 0.8272\n",
      "Epoch 21/40\n",
      "157/157 [==============================] - 213s 1s/step - loss: 0.3471 - acc: 0.9028 - val_loss: 0.1184 - val_acc: 0.8797\n",
      "Epoch 22/40\n",
      "157/157 [==============================] - 213s 1s/step - loss: 0.3038 - acc: 0.8976 - val_loss: 0.3158 - val_acc: 0.8735\n",
      "Epoch 23/40\n",
      "157/157 [==============================] - 213s 1s/step - loss: 0.3111 - acc: 0.9003 - val_loss: 0.4007 - val_acc: 0.8635\n",
      "Epoch 24/40\n",
      "157/157 [==============================] - 212s 1s/step - loss: 0.2924 - acc: 0.9044 - val_loss: 0.0965 - val_acc: 0.8812\n",
      "Epoch 25/40\n",
      "157/157 [==============================] - 213s 1s/step - loss: 0.3013 - acc: 0.9020 - val_loss: 0.4908 - val_acc: 0.8703\n",
      "Epoch 26/40\n",
      "157/157 [==============================] - 213s 1s/step - loss: 0.3007 - acc: 0.9088 - val_loss: 0.3707 - val_acc: 0.8585\n",
      "Epoch 27/40\n",
      "157/157 [==============================] - 213s 1s/step - loss: 1.5931 - acc: 0.8974 - val_loss: 0.4509 - val_acc: 0.8679\n",
      "Epoch 28/40\n",
      "157/157 [==============================] - 214s 1s/step - loss: 0.2892 - acc: 0.9091 - val_loss: 0.5026 - val_acc: 0.8815\n",
      "Epoch 29/40\n",
      "157/157 [==============================] - 213s 1s/step - loss: 0.2783 - acc: 0.9123 - val_loss: 0.2590 - val_acc: 0.8771\n",
      "Epoch 30/40\n",
      "157/157 [==============================] - 212s 1s/step - loss: 0.2889 - acc: 0.9135 - val_loss: 0.2019 - val_acc: 0.8588\n",
      "Epoch 31/40\n",
      "157/157 [==============================] - 213s 1s/step - loss: 0.2841 - acc: 0.9133 - val_loss: 0.3874 - val_acc: 0.8791\n"
     ]
    }
   ],
   "source": [
    "historyv6 = model_v6.fit_generator(train_gen, epochs=40, validation_data=val_gen, \n",
    "                                   steps_per_epoch= 157, validation_steps= 53,callbacks=my_callbacks)"
   ]
  },
  {
   "cell_type": "code",
   "execution_count": 155,
   "metadata": {},
   "outputs": [],
   "source": [
    "model_v6.save('models/e_mu_n_Nv3.h5')"
   ]
  },
  {
   "cell_type": "code",
   "execution_count": 22,
   "metadata": {},
   "outputs": [],
   "source": [
    "model_v6 = models.load_model('models/e_mu_n_Nv3.h5')"
   ]
  },
  {
   "cell_type": "code",
   "execution_count": 24,
   "metadata": {},
   "outputs": [
    {
     "name": "stdout",
     "output_type": "stream",
     "text": [
      "Accuracy with the model: 87.00%\n"
     ]
    }
   ],
   "source": [
    "loss, acc = model_v6.evaluate_generator(test_gen, steps=53)\n",
    "print('Accuracy with the model: {:5.2f}%'.format(100*acc))"
   ]
  },
  {
   "cell_type": "code",
   "execution_count": 25,
   "metadata": {},
   "outputs": [],
   "source": [
    "y_predicted6 = model_v6.predict_generator(test_generator(X), steps=53)\n",
    "\n",
    "y_predicted6 = np.argmax(y_predicted6, axis=1)\n",
    "\n",
    "true_labels = gen_true_y()"
   ]
  },
  {
   "cell_type": "code",
   "execution_count": 26,
   "metadata": {},
   "outputs": [
    {
     "data": {
      "image/png": "[encoded data removed]",
      "text/plain": [
       "<Figure size 576x432 with 2 Axes>"
      ]
     },
     "metadata": {
      "needs_background": "light"
     },
     "output_type": "display_data"
    }
   ],
   "source": [
    "conf6 = confusion_matrix(true_labels, y_predicted6, labels = list([0,1,2]))\n",
    "plot_confusion_matrix(cm           = conf6, \n",
    "                      normalize    = False,\n",
    "                      target_names = ['noise','electron', 'muon'],\n",
    "                      title        = \"Confusion Matrix\")"
   ]
  },
  {
   "cell_type": "code",
   "execution_count": 27,
   "metadata": {},
   "outputs": [
    {
     "ename": "NameError",
     "evalue": "name 'historyv6' is not defined",
     "output_type": "error",
     "traceback": [
      "\u001b[0;31m---------------------------------------------------------------------------\u001b[0m",
      "\u001b[0;31mNameError\u001b[0m                                 Traceback (most recent call last)",
      "\u001b[0;32m<ipython-input-27-9588a7d6cf2c>\u001b[0m in \u001b[0;36m<module>\u001b[0;34m\u001b[0m\n\u001b[0;32m----> 1\u001b[0;31m \u001b[0mhistory_n1\u001b[0m \u001b[0;34m=\u001b[0m \u001b[0mhistoryv6\u001b[0m\u001b[0;34m.\u001b[0m\u001b[0mhistory\u001b[0m\u001b[0;34m\u001b[0m\u001b[0;34m\u001b[0m\u001b[0m\n\u001b[0m\u001b[1;32m      2\u001b[0m \u001b[0mloss_values_n1\u001b[0m \u001b[0;34m=\u001b[0m \u001b[0mhistory_n1\u001b[0m\u001b[0;34m[\u001b[0m\u001b[0;34m'loss'\u001b[0m\u001b[0;34m]\u001b[0m\u001b[0;34m\u001b[0m\u001b[0;34m\u001b[0m\u001b[0m\n\u001b[1;32m      3\u001b[0m \u001b[0mval_loss_values_n1\u001b[0m \u001b[0;34m=\u001b[0m \u001b[0mhistory_n1\u001b[0m\u001b[0;34m[\u001b[0m\u001b[0;34m'val_loss'\u001b[0m\u001b[0;34m]\u001b[0m\u001b[0;34m\u001b[0m\u001b[0;34m\u001b[0m\u001b[0m\n\u001b[1;32m      4\u001b[0m \u001b[0mepochs_n1\u001b[0m \u001b[0;34m=\u001b[0m \u001b[0mrange\u001b[0m\u001b[0;34m(\u001b[0m\u001b[0;36m1\u001b[0m\u001b[0;34m,\u001b[0m \u001b[0mlen\u001b[0m\u001b[0;34m(\u001b[0m\u001b[0mloss_values_n1\u001b[0m\u001b[0;34m)\u001b[0m \u001b[0;34m+\u001b[0m \u001b[0;36m1\u001b[0m\u001b[0;34m)\u001b[0m\u001b[0;34m\u001b[0m\u001b[0;34m\u001b[0m\u001b[0m\n\u001b[1;32m      5\u001b[0m \u001b[0mplt\u001b[0m\u001b[0;34m.\u001b[0m\u001b[0mplot\u001b[0m\u001b[0;34m(\u001b[0m\u001b[0mepochs_n1\u001b[0m\u001b[0;34m,\u001b[0m \u001b[0mloss_values_n1\u001b[0m\u001b[0;34m,\u001b[0m \u001b[0;34m'bo'\u001b[0m\u001b[0;34m,\u001b[0m \u001b[0mlabel\u001b[0m\u001b[0;34m=\u001b[0m\u001b[0;34m'Training loss'\u001b[0m\u001b[0;34m)\u001b[0m\u001b[0;34m\u001b[0m\u001b[0;34m\u001b[0m\u001b[0m\n",
      "\u001b[0;31mNameError\u001b[0m: name 'historyv6' is not defined"
     ]
    }
   ],
   "source": [
    "history_n1 = historyv6.history\n",
    "loss_values_n1 = history_n1['loss']\n",
    "val_loss_values_n1 = history_n1['val_loss']\n",
    "epochs_n1 = range(1, len(loss_values_n1) + 1)\n",
    "plt.plot(epochs_n1, loss_values_n1, 'bo', label='Training loss')\n",
    "plt.plot(epochs_n1, val_loss_values_n1, 'b', label='Validation loss')\n",
    "plt.title('Training and validation loss', fontsize=18)\n",
    "plt.xlabel('Epochs', fontsize=18)\n",
    "plt.ylabel('Loss', fontsize=18)\n",
    "plt.legend(fontsize=15)\n",
    "plt.xticks(fontsize=14)\n",
    "plt.yticks(fontsize=14)\n",
    "plt.show()\n",
    "\n",
    "#esta imagen se llama \"losses.png\" y está en e_VS_mu_VS_n2Noisy dentro de la carpeta de TFM"
   ]
  },
  {
   "cell_type": "markdown",
   "metadata": {},
   "source": [
    "![title](losses.png)"
   ]
  },
  {
   "cell_type": "code",
   "execution_count": 30,
   "metadata": {},
   "outputs": [
    {
     "name": "stdout",
     "output_type": "stream",
     "text": [
      "              precision    recall  f1-score   support\n",
      "\n",
      "       noise       0.91      1.00      0.95      1141\n",
      "    electron       0.83      0.84      0.84      1220\n",
      "        muon       0.87      0.76      0.81      1031\n",
      "\n",
      "    accuracy                           0.87      3392\n",
      "   macro avg       0.87      0.87      0.87      3392\n",
      "weighted avg       0.87      0.87      0.87      3392\n",
      "\n"
     ]
    }
   ],
   "source": [
    "print(classification_report(true_labels, y_predicted6, target_names=target_names))"
   ]
  },
  {
   "cell_type": "markdown",
   "metadata": {},
   "source": [
    "### Model 4: 300+92 neurons, bigger lr"
   ]
  },
  {
   "cell_type": "code",
   "execution_count": 78,
   "metadata": {
    "scrolled": true
   },
   "outputs": [
    {
     "name": "stdout",
     "output_type": "stream",
     "text": [
      "Model: \"sequential_16\"\n",
      "_________________________________________________________________\n",
      "Layer (type)                 Output Shape              Param #   \n",
      "=================================================================\n",
      "conv2d_72 (Conv2D)           (None, 240, 190, 32)      320       \n",
      "_________________________________________________________________\n",
      "max_pooling2d_70 (MaxPooling (None, 120, 95, 32)       0         \n",
      "_________________________________________________________________\n",
      "conv2d_73 (Conv2D)           (None, 118, 93, 32)       9248      \n",
      "_________________________________________________________________\n",
      "max_pooling2d_71 (MaxPooling (None, 59, 46, 32)        0         \n",
      "_________________________________________________________________\n",
      "conv2d_74 (Conv2D)           (None, 57, 44, 64)        18496     \n",
      "_________________________________________________________________\n",
      "max_pooling2d_72 (MaxPooling (None, 28, 22, 64)        0         \n",
      "_________________________________________________________________\n",
      "conv2d_75 (Conv2D)           (None, 26, 20, 128)       73856     \n",
      "_________________________________________________________________\n",
      "max_pooling2d_73 (MaxPooling (None, 13, 10, 128)       0         \n",
      "_________________________________________________________________\n",
      "conv2d_76 (Conv2D)           (None, 12, 9, 128)        65664     \n",
      "_________________________________________________________________\n",
      "max_pooling2d_74 (MaxPooling (None, 6, 4, 128)         0         \n",
      "_________________________________________________________________\n",
      "flatten_16 (Flatten)         (None, 3072)              0         \n",
      "_________________________________________________________________\n",
      "dense_39 (Dense)             (None, 300)               921900    \n",
      "_________________________________________________________________\n",
      "dense_40 (Dense)             (None, 92)                27692     \n",
      "_________________________________________________________________\n",
      "dense_41 (Dense)             (None, 3)                 279       \n",
      "=================================================================\n",
      "Total params: 1,117,455\n",
      "Trainable params: 1,117,455\n",
      "Non-trainable params: 0\n",
      "_________________________________________________________________\n"
     ]
    }
   ],
   "source": [
    "model_v7 = models.Sequential()\n",
    "model_v7.add(layers.Conv2D(32,(3,3), activation='relu', input_shape=(window_y, window_x, 1)))\n",
    "model_v7.add(layers.MaxPooling2D((2,2)))\n",
    "model_v7.add(layers.Conv2D(32,(3,3), activation='relu'))\n",
    "model_v7.add(layers.MaxPooling2D((2,2)))\n",
    "model_v7.add(layers.Conv2D(64,(3,3), activation='relu'))\n",
    "model_v7.add(layers.MaxPooling2D((2,2)))\n",
    "model_v7.add(layers.Conv2D(128,(3,3), activation='relu'))\n",
    "model_v7.add(layers.MaxPooling2D((2,2)))\n",
    "model_v7.add(layers.Conv2D(128,(2,2), activation='relu'))\n",
    "model_v7.add(layers.MaxPooling2D((2,2)))\n",
    "\n",
    "model_v7.add(layers.Flatten())\n",
    "model_v7.add(layers.Dense(units= 300, activation='relu'))\n",
    "model_v7.add(layers.Dense(units= 92, activation='relu'))\n",
    "model_v7.add(layers.Dense(units= 3, activation='softmax'))\n",
    "model_v7.summary()"
   ]
  },
  {
   "cell_type": "code",
   "execution_count": 79,
   "metadata": {},
   "outputs": [],
   "source": [
    "model_v7.compile(optimizer=optimizers.RMSprop(learning_rate=1e-3),loss='categorical_crossentropy', metrics=['acc'])"
   ]
  },
  {
   "cell_type": "code",
   "execution_count": 80,
   "metadata": {
    "scrolled": true
   },
   "outputs": [
    {
     "name": "stdout",
     "output_type": "stream",
     "text": [
      "Epoch 1/40\n",
      "157/157 [==============================] - 220s 1s/step - loss: 0.6550 - acc: 0.6650 - val_loss: 0.5525 - val_acc: 0.7544\n",
      "Epoch 2/40\n",
      "157/157 [==============================] - 246s 2s/step - loss: 0.5612 - acc: 0.7362 - val_loss: 0.5078 - val_acc: 0.7680\n",
      "Epoch 3/40\n",
      "157/157 [==============================] - 253s 2s/step - loss: 0.5173 - acc: 0.7617 - val_loss: 0.4544 - val_acc: 0.7774\n",
      "Epoch 4/40\n",
      "157/157 [==============================] - 233s 1s/step - loss: 0.4910 - acc: 0.7882 - val_loss: 0.4652 - val_acc: 0.7954\n",
      "Epoch 5/40\n",
      "157/157 [==============================] - 233s 1s/step - loss: 0.4971 - acc: 0.7965 - val_loss: 0.5911 - val_acc: 0.8287\n",
      "Epoch 6/40\n",
      "157/157 [==============================] - 232s 1s/step - loss: 0.4480 - acc: 0.8180 - val_loss: 0.4917 - val_acc: 0.7960\n",
      "Epoch 7/40\n",
      "157/157 [==============================] - 242s 2s/step - loss: 0.4384 - acc: 0.8377 - val_loss: 0.3066 - val_acc: 0.8423\n",
      "Epoch 8/40\n",
      "157/157 [==============================] - 232s 1s/step - loss: 0.4522 - acc: 0.8504 - val_loss: 0.3789 - val_acc: 0.8491\n",
      "Epoch 9/40\n",
      "157/157 [==============================] - 222s 1s/step - loss: 0.3875 - acc: 0.8556 - val_loss: 0.3237 - val_acc: 0.8464\n",
      "Epoch 10/40\n",
      "157/157 [==============================] - 221s 1s/step - loss: 0.3623 - acc: 0.8712 - val_loss: 0.5827 - val_acc: 0.8399\n",
      "Epoch 11/40\n",
      "157/157 [==============================] - 223s 1s/step - loss: 0.3594 - acc: 0.8738 - val_loss: 0.4910 - val_acc: 0.8656\n",
      "Epoch 12/40\n",
      "157/157 [==============================] - 223s 1s/step - loss: 0.3506 - acc: 0.8832 - val_loss: 1.0069 - val_acc: 0.8252\n",
      "Epoch 13/40\n",
      "157/157 [==============================] - 231s 1s/step - loss: 0.3369 - acc: 0.8892 - val_loss: 0.6442 - val_acc: 0.8517\n",
      "Epoch 14/40\n",
      "157/157 [==============================] - 230s 1s/step - loss: 0.3078 - acc: 0.9007 - val_loss: 0.3862 - val_acc: 0.8496\n"
     ]
    }
   ],
   "source": [
    "historyv7 = model_v7.fit_generator(train_gen, epochs=40, validation_data=val_gen, \n",
    "                                   steps_per_epoch= 157, validation_steps= 53,callbacks=my_callbacks)"
   ]
  },
  {
   "cell_type": "code",
   "execution_count": 81,
   "metadata": {},
   "outputs": [],
   "source": [
    "model_v7.save('models/e_mu_n_Nv4.h5')"
   ]
  },
  {
   "cell_type": "code",
   "execution_count": 82,
   "metadata": {},
   "outputs": [
    {
     "name": "stdout",
     "output_type": "stream",
     "text": [
      "Accuracy with the model: 83.81%\n"
     ]
    }
   ],
   "source": [
    "loss, acc = model_v7.evaluate_generator(test_gen, steps=53)\n",
    "print('Accuracy with the model: {:5.2f}%'.format(100*acc))"
   ]
  },
  {
   "cell_type": "code",
   "execution_count": 83,
   "metadata": {},
   "outputs": [
    {
     "data": {
      "image/png": "[encoded data removed]",
      "text/plain": [
       "<Figure size 576x432 with 2 Axes>"
      ]
     },
     "metadata": {
      "needs_background": "light"
     },
     "output_type": "display_data"
    }
   ],
   "source": [
    "y_predicted7 = model_v7.predict_generator(test_generator(X), steps=53)\n",
    "\n",
    "y_predicted7 = np.argmax(y_predicted7, axis=1)\n",
    "\n",
    "true_labels = gen_true_y()\n",
    "\n",
    "conf7 = confusion_matrix(true_labels, y_predicted7, labels = list([0,1,2]))\n",
    "plot_confusion_matrix(cm           = conf7, \n",
    "                      normalize    = False,\n",
    "                      target_names = target_names,\n",
    "                      title        = \"Confusion Matrix\")"
   ]
  },
  {
   "cell_type": "code",
   "execution_count": 84,
   "metadata": {},
   "outputs": [
    {
     "data": {
      "image/png": "[encoded data removed]",
      "text/plain": [
       "<Figure size 432x288 with 1 Axes>"
      ]
     },
     "metadata": {
      "needs_background": "light"
     },
     "output_type": "display_data"
    }
   ],
   "source": [
    "history_n1 = historyv7.history\n",
    "loss_values_n1 = history_n1['loss']\n",
    "val_loss_values_n1 = history_n1['val_loss']\n",
    "epochs_n1 = range(1, len(loss_values_n1) + 1)\n",
    "plt.plot(epochs_n1, loss_values_n1, 'bo', label='Training loss')\n",
    "plt.plot(epochs_n1, val_loss_values_n1, 'b', label='Validation loss')\n",
    "plt.title('Training and validation loss', fontsize=18)\n",
    "plt.xlabel('Epochs', fontsize=18)\n",
    "plt.ylabel('Loss', fontsize=18)\n",
    "plt.legend(fontsize=15)\n",
    "plt.xticks(fontsize=14)\n",
    "plt.yticks(fontsize=14)\n",
    "plt.show()"
   ]
  },
  {
   "cell_type": "code",
   "execution_count": 85,
   "metadata": {},
   "outputs": [
    {
     "name": "stdout",
     "output_type": "stream",
     "text": [
      "              precision    recall  f1-score   support\n",
      "\n",
      "       noise       0.91      1.00      0.95      1141\n",
      "    electron       0.80      0.78      0.79      1220\n",
      "        muon       0.79      0.73      0.76      1031\n",
      "\n",
      "    accuracy                           0.84      3392\n",
      "   macro avg       0.83      0.84      0.83      3392\n",
      "weighted avg       0.83      0.84      0.84      3392\n",
      "\n"
     ]
    }
   ],
   "source": [
    "print(classification_report(true_labels, y_predicted7, target_names=target_names))"
   ]
  },
  {
   "cell_type": "markdown",
   "metadata": {},
   "source": [
    "### Model 5: 82 neurons, bigger lr, dropouts"
   ]
  },
  {
   "cell_type": "code",
   "execution_count": 53,
   "metadata": {
    "scrolled": true
   },
   "outputs": [
    {
     "name": "stdout",
     "output_type": "stream",
     "text": [
      "Model: \"sequential_4\"\n",
      "_________________________________________________________________\n",
      "Layer (type)                 Output Shape              Param #   \n",
      "=================================================================\n",
      "conv2d_16 (Conv2D)           (None, 240, 190, 32)      320       \n",
      "_________________________________________________________________\n",
      "max_pooling2d_16 (MaxPooling (None, 120, 95, 32)       0         \n",
      "_________________________________________________________________\n",
      "conv2d_17 (Conv2D)           (None, 118, 93, 32)       9248      \n",
      "_________________________________________________________________\n",
      "max_pooling2d_17 (MaxPooling (None, 59, 46, 32)        0         \n",
      "_________________________________________________________________\n",
      "conv2d_18 (Conv2D)           (None, 57, 44, 64)        18496     \n",
      "_________________________________________________________________\n",
      "max_pooling2d_18 (MaxPooling (None, 28, 22, 64)        0         \n",
      "_________________________________________________________________\n",
      "conv2d_19 (Conv2D)           (None, 26, 20, 64)        36928     \n",
      "_________________________________________________________________\n",
      "max_pooling2d_19 (MaxPooling (None, 13, 10, 64)        0         \n",
      "_________________________________________________________________\n",
      "conv2d_20 (Conv2D)           (None, 12, 9, 128)        32896     \n",
      "_________________________________________________________________\n",
      "max_pooling2d_20 (MaxPooling (None, 6, 4, 128)         0         \n",
      "_________________________________________________________________\n",
      "flatten_4 (Flatten)          (None, 3072)              0         \n",
      "_________________________________________________________________\n",
      "dropout_7 (Dropout)          (None, 3072)              0         \n",
      "_________________________________________________________________\n",
      "dense_7 (Dense)              (None, 82)                251986    \n",
      "_________________________________________________________________\n",
      "dropout_8 (Dropout)          (None, 82)                0         \n",
      "_________________________________________________________________\n",
      "dense_8 (Dense)              (None, 3)                 249       \n",
      "=================================================================\n",
      "Total params: 350,123\n",
      "Trainable params: 350,123\n",
      "Non-trainable params: 0\n",
      "_________________________________________________________________\n"
     ]
    }
   ],
   "source": [
    "model_v9 = models.Sequential()\n",
    "model_v9.add(layers.Conv2D(32,(3,3), activation='relu', input_shape=(window_y, window_x, 1)))\n",
    "model_v9.add(layers.MaxPooling2D((2,2)))\n",
    "model_v9.add(layers.Conv2D(32,(3,3), activation='relu'))\n",
    "model_v9.add(layers.MaxPooling2D((2,2)))\n",
    "model_v9.add(layers.Conv2D(64,(3,3), activation='relu'))\n",
    "model_v9.add(layers.MaxPooling2D((2,2)))\n",
    "model_v9.add(layers.Conv2D(64,(3,3), activation='relu'))\n",
    "model_v9.add(layers.MaxPooling2D((2,2)))\n",
    "model_v9.add(layers.Conv2D(128,(2,2), activation='relu'))\n",
    "model_v9.add(layers.MaxPooling2D((2,2)))\n",
    "\n",
    "model_v9.add(layers.Flatten())\n",
    "model_v9.add(layers.Dropout((0.5)))\n",
    "model_v9.add(layers.Dense(units= 82, activation='relu'))\n",
    "model_v9.add(layers.Dropout((0.5)))\n",
    "model_v9.add(layers.Dense(units= 3, activation='softmax'))\n",
    "model_v9.summary()"
   ]
  },
  {
   "cell_type": "code",
   "execution_count": 54,
   "metadata": {},
   "outputs": [],
   "source": [
    "model_v9.compile(optimizer=optimizers.RMSprop(lr= 1e-3),loss='categorical_crossentropy', metrics=['acc'])"
   ]
  },
  {
   "cell_type": "code",
   "execution_count": 55,
   "metadata": {
    "scrolled": true
   },
   "outputs": [
    {
     "name": "stdout",
     "output_type": "stream",
     "text": [
      "Epoch 1/40\n",
      "157/157 [==============================] - 227s 1s/step - loss: 0.7431 - acc: 0.6443 - val_loss: 0.6135 - val_acc: 0.6943\n",
      "Epoch 2/40\n",
      "157/157 [==============================] - 214s 1s/step - loss: 0.6025 - acc: 0.7105 - val_loss: 0.4888 - val_acc: 0.7724\n",
      "Epoch 3/40\n",
      "157/157 [==============================] - 213s 1s/step - loss: 0.5554 - acc: 0.7485 - val_loss: 0.5079 - val_acc: 0.7739\n",
      "Epoch 4/40\n",
      "157/157 [==============================] - 214s 1s/step - loss: 0.5318 - acc: 0.7664 - val_loss: 0.3860 - val_acc: 0.8181\n",
      "Epoch 5/40\n",
      "157/157 [==============================] - 213s 1s/step - loss: 0.4914 - acc: 0.7972 - val_loss: 0.2693 - val_acc: 0.8208\n",
      "Epoch 6/40\n",
      "157/157 [==============================] - 214s 1s/step - loss: 0.4937 - acc: 0.8101 - val_loss: 0.4058 - val_acc: 0.8210\n",
      "Epoch 7/40\n",
      "157/157 [==============================] - 214s 1s/step - loss: 0.4530 - acc: 0.8251 - val_loss: 0.5629 - val_acc: 0.8479\n",
      "Epoch 8/40\n",
      "157/157 [==============================] - 214s 1s/step - loss: 0.4536 - acc: 0.8269 - val_loss: 0.4806 - val_acc: 0.8337\n",
      "Epoch 9/40\n",
      "157/157 [==============================] - 213s 1s/step - loss: 0.4524 - acc: 0.8443 - val_loss: 0.5198 - val_acc: 0.8591\n",
      "Epoch 10/40\n",
      "157/157 [==============================] - 213s 1s/step - loss: 0.4543 - acc: 0.8502 - val_loss: 0.4059 - val_acc: 0.8529\n",
      "Epoch 11/40\n",
      "157/157 [==============================] - 213s 1s/step - loss: 0.4423 - acc: 0.8587 - val_loss: 0.4176 - val_acc: 0.8750\n",
      "Epoch 12/40\n",
      "157/157 [==============================] - 213s 1s/step - loss: 0.3920 - acc: 0.8655 - val_loss: 0.4078 - val_acc: 0.8835\n"
     ]
    }
   ],
   "source": [
    "historyv9 = model_v9.fit_generator(train_gen, epochs=40, validation_data=val_gen, \n",
    "                                   steps_per_epoch= 157, validation_steps= 53,callbacks=my_callbacks)"
   ]
  },
  {
   "cell_type": "code",
   "execution_count": 56,
   "metadata": {},
   "outputs": [],
   "source": [
    "model_v9.save('models/e_mu_n_Nv5.h5')"
   ]
  },
  {
   "cell_type": "code",
   "execution_count": 57,
   "metadata": {},
   "outputs": [
    {
     "name": "stdout",
     "output_type": "stream",
     "text": [
      "Accuracy with the model: 86.53%\n"
     ]
    }
   ],
   "source": [
    "loss, acc = model_v9.evaluate_generator(test_gen, steps=53)\n",
    "print('Accuracy with the model: {:5.2f}%'.format(100*acc))"
   ]
  },
  {
   "cell_type": "code",
   "execution_count": 131,
   "metadata": {},
   "outputs": [],
   "source": [
    "y_predicted9 = model_v9.predict_generator(test_generator(X), steps=53)\n",
    "\n",
    "y_predicted9 = np.argmax(y_predicted9, axis=1)\n",
    "\n",
    "true_labels = gen_true_y()"
   ]
  },
  {
   "cell_type": "code",
   "execution_count": 132,
   "metadata": {},
   "outputs": [
    {
     "data": {
      "image/png": "[encoded data removed]",
      "text/plain": [
       "<Figure size 576x432 with 2 Axes>"
      ]
     },
     "metadata": {
      "needs_background": "light"
     },
     "output_type": "display_data"
    }
   ],
   "source": [
    "conf9 = confusion_matrix(true_labels, y_predicted9, labels = list([0,1,2]))\n",
    "plot_confusion_matrix(cm           = conf9, \n",
    "                      normalize    = False,\n",
    "                      target_names = ['noise','electron', 'muon'],\n",
    "                      title        = \"Confusion Matrix\")"
   ]
  },
  {
   "cell_type": "code",
   "execution_count": 133,
   "metadata": {
    "scrolled": true
   },
   "outputs": [
    {
     "data": {
      "image/png": "[encoded data removed]",
      "text/plain": [
       "<Figure size 432x288 with 1 Axes>"
      ]
     },
     "metadata": {
      "needs_background": "light"
     },
     "output_type": "display_data"
    }
   ],
   "source": [
    "history_n1 = historyv9.history\n",
    "loss_values_n1 = history_n1['loss']\n",
    "val_loss_values_n1 = history_n1['val_loss']\n",
    "epochs_n1 = range(1, len(loss_values_n1) + 1)\n",
    "plt.plot(epochs_n1, loss_values_n1, 'bo', label='Training loss')\n",
    "plt.plot(epochs_n1, val_loss_values_n1, 'b', label='Validation loss')\n",
    "plt.title('Training and validation loss', fontsize=18)\n",
    "plt.xlabel('Epochs', fontsize=18)\n",
    "plt.ylabel('Loss', fontsize=18)\n",
    "plt.legend(fontsize=15)\n",
    "plt.xticks(fontsize=14)\n",
    "plt.yticks(fontsize=14)\n",
    "plt.show()"
   ]
  },
  {
   "cell_type": "code",
   "execution_count": 61,
   "metadata": {},
   "outputs": [
    {
     "name": "stdout",
     "output_type": "stream",
     "text": [
      "              precision    recall  f1-score   support\n",
      "\n",
      "       noise       0.90      1.00      0.95      1141\n",
      "    electron       0.80      0.87      0.83      1220\n",
      "        muon       0.90      0.69      0.78      1031\n",
      "\n",
      "    accuracy                           0.86      3392\n",
      "   macro avg       0.87      0.86      0.86      3392\n",
      "weighted avg       0.87      0.86      0.86      3392\n",
      "\n"
     ]
    }
   ],
   "source": [
    "print(classification_report(true_labels, y_predicted9, target_names=target_names))"
   ]
  }
 ],
 "metadata": {
  "kernelspec": {
   "display_name": "Python 3",
   "language": "python",
   "name": "python3"
  },
  "language_info": {
   "codemirror_mode": {
    "name": "ipython",
    "version": 3
   },
   "file_extension": ".py",
   "mimetype": "text/x-python",
   "name": "python",
   "nbconvert_exporter": "python",
   "pygments_lexer": "ipython3",
   "version": "3.7.4"
  }
 },
 "nbformat": 4,
 "nbformat_minor": 2
}

{
 "cells": [
  {
   "cell_type": "markdown",
   "metadata": {},
   "source": [
    "### Building a model to differentiate between noise, muons and electrons with noise from scratch\n",
    "\n",
    "In this notebook, we will build a convolutional neural network to classify a signal as electron, muon or noise whe there is noise present in the energy signals. Therefore, we are facing a multiclass classification problem: electron, muon or noise. This is the reason why we will have just one neuron in the output layer with softmax activation.\n",
    "\n",
    "First we import the data stored in a file called `eVSmuVSn_noisy1.npz` composed of two variables: 'data' for the numpy arrays with energy or noise, and 'labels' where 1 stands for electron signal, 2 for muon signal and 0 for noise.\n",
    "\n",
    "Actually, we will import the train and test dataset who suffered from a under/oversampling transformation so we have the same number of samples for each class: `eVSmuVSn_trnoisy1.npz` will store the training data and `eVSmuVSn_tenoisy1.npz` will store the testing data.\n",
    "\n",
    "* [First model: under/oversampled data](#First-model:-under/oversampled-data)"
   ]
  },
  {
   "cell_type": "code",
   "execution_count": 1,
   "metadata": {},
   "outputs": [],
   "source": [
    "import numpy as np\n",
    "import matplotlib.pyplot as plt\n",
    "from sklearn.metrics import confusion_matrix"
   ]
  },
  {
   "cell_type": "code",
   "execution_count": 2,
   "metadata": {},
   "outputs": [],
   "source": [
    "def plot_confusion_matrix(cm,\n",
    "                          target_names,\n",
    "                          title='Confusion matrix',\n",
    "                          cmap=None,\n",
    "                          normalize=True):\n",
    "    \"\"\"\n",
    "    given a sklearn confusion matrix (cm), make a nice plot\n",
    "\n",
    "    Arguments\n",
    "    ---------\n",
    "    cm:           confusion matrix from sklearn.metrics.confusion_matrix\n",
    "\n",
    "    target_names: given classification classes such as [0, 1, 2]\n",
    "                  the class names, for example: ['high', 'medium', 'low']\n",
    "\n",
    "    title:        the text to display at the top of the matrix\n",
    "\n",
    "    cmap:         the gradient of the values displayed from matplotlib.pyplot.cm\n",
    "                  see http://matplotlib.org/examples/color/colormaps_reference.html\n",
    "                  plt.get_cmap('jet') or plt.cm.Blues\n",
    "\n",
    "    normalize:    If False, plot the raw numbers\n",
    "                  If True, plot the proportions\n",
    "\n",
    "    Usage\n",
    "    -----\n",
    "    plot_confusion_matrix(cm           = cm,                  # confusion matrix created by\n",
    "                                                              # sklearn.metrics.confusion_matrix\n",
    "                          normalize    = True,                # show proportions\n",
    "                          target_names = y_labels_vals,       # list of names of the classes\n",
    "                          title        = best_estimator_name) # title of graph\n",
    "\n",
    "    Citiation\n",
    "    ---------\n",
    "    http://scikit-learn.org/stable/auto_examples/model_selection/plot_confusion_matrix.html\n",
    "\n",
    "    \"\"\"\n",
    "    import matplotlib.pyplot as plt\n",
    "    import numpy as np\n",
    "    import itertools\n",
    "\n",
    "    accuracy = np.trace(cm) / float(np.sum(cm))\n",
    "    misclass = 1 - accuracy\n",
    "\n",
    "    if cmap is None:\n",
    "        cmap = plt.get_cmap('Blues')\n",
    "\n",
    "    plt.figure(figsize=(8, 6))\n",
    "    plt.imshow(cm, interpolation='nearest', cmap=cmap)\n",
    "    plt.title(title)\n",
    "    plt.colorbar()\n",
    "\n",
    "    if target_names is not None:\n",
    "        tick_marks = np.arange(len(target_names))\n",
    "        plt.xticks(tick_marks, target_names, rotation=45)\n",
    "        plt.yticks(tick_marks, target_names)\n",
    "\n",
    "    if normalize:\n",
    "        cm = cm.astype('float') / cm.sum(axis=1)[:, np.newaxis]\n",
    "\n",
    "\n",
    "    thresh = cm.max() / 1.5 if normalize else cm.max() / 2\n",
    "    for i, j in itertools.product(range(cm.shape[0]), range(cm.shape[1])):\n",
    "        if normalize:\n",
    "            plt.text(j, i, \"{:0.4f}\".format(cm[i, j]),\n",
    "                     horizontalalignment=\"center\",\n",
    "                     color=\"white\" if cm[i, j] > thresh else \"black\")\n",
    "        else:\n",
    "            plt.text(j, i, \"{:,}\".format(cm[i, j]),\n",
    "                     horizontalalignment=\"center\",\n",
    "                     color=\"white\" if cm[i, j] > thresh else \"black\")\n",
    "    plt.grid(b=False)\n",
    "    plt.xlim(-0.5, 2.5)\n",
    "    plt.ylim(2.5, -0.5)\n",
    "    plt.tight_layout()\n",
    "    plt.ylabel('True label')\n",
    "    plt.xlabel('Predicted label\\naccuracy={:0.4f}; misclass={:0.4f}'.format(accuracy, misclass))\n",
    "    plt.show()"
   ]
  },
  {
   "cell_type": "markdown",
   "metadata": {},
   "source": [
    "Loading and scaling data:"
   ]
  },
  {
   "cell_type": "code",
   "execution_count": 3,
   "metadata": {},
   "outputs": [],
   "source": [
    "loaded = np.load('/Users/Silvia/Desktop/TFM/e_VS_mu_VS_n/eVSmuVSn_noisytr1.npz')\n",
    "X_train = loaded['data']\n",
    "y_train = loaded['labels']"
   ]
  },
  {
   "cell_type": "code",
   "execution_count": 4,
   "metadata": {},
   "outputs": [
    {
     "name": "stdout",
     "output_type": "stream",
     "text": [
      "(5931, 296, 286) (5931,)\n"
     ]
    }
   ],
   "source": [
    "print(X_train.shape, y_train.shape)"
   ]
  },
  {
   "cell_type": "code",
   "execution_count": 6,
   "metadata": {},
   "outputs": [],
   "source": [
    "loaded = np.load('/Users/Silvia/Desktop/TFM/e_VS_mu_VS_n/eVSmuVSn_noisyte1.npz')\n",
    "X_test = loaded['data_test']\n",
    "y_test = loaded['labels_test']"
   ]
  },
  {
   "cell_type": "code",
   "execution_count": 7,
   "metadata": {},
   "outputs": [
    {
     "name": "stdout",
     "output_type": "stream",
     "text": [
      "(1715, 296, 286) (1715,)\n"
     ]
    }
   ],
   "source": [
    "print(X_test.shape, y_test.shape)"
   ]
  },
  {
   "cell_type": "code",
   "execution_count": 8,
   "metadata": {},
   "outputs": [
    {
     "name": "stdout",
     "output_type": "stream",
     "text": [
      "(5931, 84656) (1715, 84656)\n"
     ]
    }
   ],
   "source": [
    "from sklearn import preprocessing\n",
    "\n",
    "aux_train = X_train.reshape((X_train.shape[0], X_train.shape[1]* X_train.shape[2]))\n",
    "aux_test = X_test.reshape((X_test.shape[0], X_test.shape[1]* X_test.shape[2]))\n",
    "\n",
    "scaler = preprocessing.StandardScaler().fit(aux_train)\n",
    "\n",
    "X_trainr = scaler.transform(aux_train)\n",
    "\n",
    "X_testr = scaler.transform(aux_test)\n",
    "\n",
    "print(X_trainr.shape, X_testr.shape)"
   ]
  },
  {
   "cell_type": "code",
   "execution_count": 9,
   "metadata": {},
   "outputs": [
    {
     "name": "stdout",
     "output_type": "stream",
     "text": [
      "(5931, 296, 286, 1)\n"
     ]
    }
   ],
   "source": [
    "X_train = X_trainr.reshape((X_train.shape[0], X_train.shape[1], X_train.shape[2], 1))\n",
    "\n",
    "print(X_train.shape)"
   ]
  },
  {
   "cell_type": "code",
   "execution_count": 10,
   "metadata": {},
   "outputs": [
    {
     "name": "stdout",
     "output_type": "stream",
     "text": [
      "(1715, 296, 286, 1)\n"
     ]
    }
   ],
   "source": [
    "X_test = X_testr.reshape((X_test.shape[0], X_test.shape[1], X_test.shape[2], 1))\n",
    "\n",
    "print(X_test.shape)"
   ]
  },
  {
   "cell_type": "code",
   "execution_count": 11,
   "metadata": {},
   "outputs": [
    {
     "name": "stderr",
     "output_type": "stream",
     "text": [
      "Using TensorFlow backend.\n"
     ]
    }
   ],
   "source": [
    "import keras"
   ]
  },
  {
   "cell_type": "code",
   "execution_count": 12,
   "metadata": {},
   "outputs": [],
   "source": [
    "from keras import layers, models, optimizers"
   ]
  },
  {
   "cell_type": "code",
   "execution_count": 13,
   "metadata": {},
   "outputs": [],
   "source": [
    "window_y, window_x = 296,286"
   ]
  },
  {
   "cell_type": "markdown",
   "metadata": {},
   "source": [
    "### First model: under/oversampled data"
   ]
  },
  {
   "cell_type": "code",
   "execution_count": 14,
   "metadata": {
    "scrolled": true
   },
   "outputs": [
    {
     "name": "stdout",
     "output_type": "stream",
     "text": [
      "Model: \"sequential_1\"\n",
      "_________________________________________________________________\n",
      "Layer (type)                 Output Shape              Param #   \n",
      "=================================================================\n",
      "conv2d_1 (Conv2D)            (None, 294, 284, 32)      320       \n",
      "_________________________________________________________________\n",
      "max_pooling2d_1 (MaxPooling2 (None, 147, 142, 32)      0         \n",
      "_________________________________________________________________\n",
      "conv2d_2 (Conv2D)            (None, 145, 140, 64)      18496     \n",
      "_________________________________________________________________\n",
      "max_pooling2d_2 (MaxPooling2 (None, 72, 70, 64)        0         \n",
      "_________________________________________________________________\n",
      "conv2d_3 (Conv2D)            (None, 70, 68, 128)       73856     \n",
      "_________________________________________________________________\n",
      "max_pooling2d_3 (MaxPooling2 (None, 35, 34, 128)       0         \n",
      "_________________________________________________________________\n",
      "conv2d_4 (Conv2D)            (None, 33, 32, 128)       147584    \n",
      "_________________________________________________________________\n",
      "max_pooling2d_4 (MaxPooling2 (None, 16, 16, 128)       0         \n",
      "_________________________________________________________________\n",
      "flatten_1 (Flatten)          (None, 32768)             0         \n",
      "_________________________________________________________________\n",
      "dense_1 (Dense)              (None, 2050)              67176450  \n",
      "_________________________________________________________________\n",
      "dense_2 (Dense)              (None, 512)               1050112   \n",
      "_________________________________________________________________\n",
      "dense_3 (Dense)              (None, 3)                 1539      \n",
      "=================================================================\n",
      "Total params: 68,468,357\n",
      "Trainable params: 68,468,357\n",
      "Non-trainable params: 0\n",
      "_________________________________________________________________\n"
     ]
    }
   ],
   "source": [
    "model_n1 = models.Sequential()\n",
    "model_n1.add(layers.Conv2D(32,(3,3), activation='relu', input_shape=(window_y, window_x, 1)))\n",
    "model_n1.add(layers.MaxPooling2D((2,2)))\n",
    "model_n1.add(layers.Conv2D(64,(3,3), activation='relu'))\n",
    "model_n1.add(layers.MaxPooling2D((2,2)))\n",
    "model_n1.add(layers.Conv2D(128,(3,3), activation='relu'))\n",
    "model_n1.add(layers.MaxPooling2D((2,2)))\n",
    "model_n1.add(layers.Conv2D(128,(3,3), activation='relu'))\n",
    "model_n1.add(layers.MaxPooling2D((2,2)))\n",
    "\n",
    "model_n1.add(layers.Flatten())\n",
    "model_n1.add(layers.Dense(units= 2050, activation='relu'))\n",
    "model_n1.add(layers.Dense(units= 512, activation='relu'))\n",
    "model_n1.add(layers.Dense(units= 3, activation='softmax'))\n",
    "model_n1.summary()"
   ]
  },
  {
   "cell_type": "code",
   "execution_count": 15,
   "metadata": {},
   "outputs": [],
   "source": [
    "model_n1.compile(optimizer=optimizers.RMSprop(lr= 1e-4),loss='categorical_crossentropy', metrics=['acc'])"
   ]
  },
  {
   "cell_type": "code",
   "execution_count": 16,
   "metadata": {},
   "outputs": [],
   "source": [
    "from keras.utils.np_utils import to_categorical\n",
    "one_hot_train_labels = to_categorical(y_train)\n",
    "one_hot_test_labels = to_categorical(y_test)"
   ]
  },
  {
   "cell_type": "code",
   "execution_count": 17,
   "metadata": {
    "scrolled": true
   },
   "outputs": [
    {
     "name": "stdout",
     "output_type": "stream",
     "text": [
      "Train on 4744 samples, validate on 1187 samples\n",
      "Epoch 1/20\n",
      "4744/4744 [==============================] - 423s 89ms/step - loss: 0.6244 - acc: 0.7492 - val_loss: 1.3786 - val_acc: 0.0893\n",
      "Epoch 2/20\n",
      "4744/4744 [==============================] - 385s 81ms/step - loss: 0.4240 - acc: 0.8326 - val_loss: 0.8455 - val_acc: 0.5510\n",
      "Epoch 3/20\n",
      "4744/4744 [==============================] - 402s 85ms/step - loss: 0.3180 - acc: 0.8777 - val_loss: 0.8903 - val_acc: 0.5628\n",
      "Epoch 4/20\n",
      "4744/4744 [==============================] - 385s 81ms/step - loss: 0.2344 - acc: 0.9191 - val_loss: 0.4220 - val_acc: 0.8644\n",
      "Epoch 5/20\n",
      "4744/4744 [==============================] - 381s 80ms/step - loss: 0.1726 - acc: 0.9403 - val_loss: 0.1593 - val_acc: 0.9604\n",
      "Epoch 6/20\n",
      "4744/4744 [==============================] - 379s 80ms/step - loss: 0.1351 - acc: 0.9583 - val_loss: 0.1545 - val_acc: 0.9503\n",
      "Epoch 7/20\n",
      "4744/4744 [==============================] - 377s 79ms/step - loss: 0.1065 - acc: 0.9677 - val_loss: 0.1554 - val_acc: 0.9545\n",
      "Epoch 8/20\n",
      "4744/4744 [==============================] - 378s 80ms/step - loss: 0.0854 - acc: 0.9747 - val_loss: 0.0938 - val_acc: 0.9756\n",
      "Epoch 9/20\n",
      "4744/4744 [==============================] - 376s 79ms/step - loss: 0.0711 - acc: 0.9793 - val_loss: 0.0771 - val_acc: 0.9697\n",
      "Epoch 10/20\n",
      "4744/4744 [==============================] - 386s 81ms/step - loss: 0.0633 - acc: 0.9825 - val_loss: 0.0413 - val_acc: 0.9823\n",
      "Epoch 11/20\n",
      "4744/4744 [==============================] - 395s 83ms/step - loss: 0.0582 - acc: 0.9825 - val_loss: 0.0725 - val_acc: 0.9806\n",
      "Epoch 12/20\n",
      "4744/4744 [==============================] - 382s 81ms/step - loss: 0.0600 - acc: 0.9821 - val_loss: 0.0627 - val_acc: 0.9747\n",
      "Epoch 13/20\n",
      "4744/4744 [==============================] - 379s 80ms/step - loss: 0.0503 - acc: 0.9844 - val_loss: 0.0380 - val_acc: 0.9865\n",
      "Epoch 14/20\n",
      "4744/4744 [==============================] - 380s 80ms/step - loss: 0.0491 - acc: 0.9846 - val_loss: 0.0560 - val_acc: 0.9823\n",
      "Epoch 15/20\n",
      "4744/4744 [==============================] - 378s 80ms/step - loss: 0.0475 - acc: 0.9855 - val_loss: 0.0269 - val_acc: 0.9907\n",
      "Epoch 16/20\n",
      "4744/4744 [==============================] - 382s 80ms/step - loss: 0.0491 - acc: 0.9857 - val_loss: 0.0446 - val_acc: 0.9865\n",
      "Epoch 17/20\n",
      "4744/4744 [==============================] - 381s 80ms/step - loss: 0.0423 - acc: 0.9871 - val_loss: 0.0268 - val_acc: 0.9907\n",
      "Epoch 18/20\n",
      "4744/4744 [==============================] - 381s 80ms/step - loss: 0.0423 - acc: 0.9869 - val_loss: 0.0470 - val_acc: 0.9857\n",
      "Epoch 19/20\n",
      "4744/4744 [==============================] - 378s 80ms/step - loss: 0.0370 - acc: 0.9886 - val_loss: 0.0187 - val_acc: 0.9924\n",
      "Epoch 20/20\n",
      "4744/4744 [==============================] - 380s 80ms/step - loss: 0.0367 - acc: 0.9888 - val_loss: 0.0143 - val_acc: 0.9924\n"
     ]
    }
   ],
   "source": [
    "historyn1 = model_n1.fit(X_train, one_hot_train_labels,  epochs= 20, validation_split = 0.2)"
   ]
  },
  {
   "cell_type": "code",
   "execution_count": 18,
   "metadata": {},
   "outputs": [],
   "source": [
    "model_n1.save('model_e_mu_or_n_n1.h5')"
   ]
  },
  {
   "cell_type": "code",
   "execution_count": 19,
   "metadata": {},
   "outputs": [],
   "source": [
    "y_predicted1 = model_n1.predict(X_test)"
   ]
  },
  {
   "cell_type": "code",
   "execution_count": 20,
   "metadata": {},
   "outputs": [],
   "source": [
    "y_predicted_1 = np.argmax(y_predicted1, axis=1)"
   ]
  },
  {
   "cell_type": "code",
   "execution_count": null,
   "metadata": {},
   "outputs": [],
   "source": [
    "loss, acc = model_n1.evaluate(X_test, y_test)\n",
    "print('Accuracy with the model: {:5.2f}%'.format(100*acc))"
   ]
  },
  {
   "cell_type": "code",
   "execution_count": 21,
   "metadata": {},
   "outputs": [],
   "source": [
    "conf1 = confusion_matrix(y_test, y_predicted_1, labels = list([0,1,2]))"
   ]
  },
  {
   "cell_type": "code",
   "execution_count": 22,
   "metadata": {},
   "outputs": [
    {
     "data": {
      "image/png": "[encoded data removed]",
      "text/plain": [
       "<Figure size 576x432 with 2 Axes>"
      ]
     },
     "metadata": {
      "needs_background": "light"
     },
     "output_type": "display_data"
    }
   ],
   "source": [
    "plot_confusion_matrix(cm           = conf1, \n",
    "                      normalize    = False,\n",
    "                      target_names = ['noise', 'electron', 'muon'],\n",
    "                      title        = \"Confusion Matrix\")"
   ]
  },
  {
   "cell_type": "code",
   "execution_count": 23,
   "metadata": {},
   "outputs": [
    {
     "data": {
      "image/png": "[encoded data removed]",
      "text/plain": [
       "<Figure size 432x288 with 1 Axes>"
      ]
     },
     "metadata": {
      "needs_background": "light"
     },
     "output_type": "display_data"
    }
   ],
   "source": [
    "history_n1 = historyn1.history\n",
    "loss_values_n1 = history_n1['loss']\n",
    "val_loss_values_n1 = history_n1['val_loss']\n",
    "epochs_n1 = range(1, len(loss_values_n1) + 1)\n",
    "plt.plot(epochs_n1, loss_values_n1, 'bo', label='Training loss')\n",
    "plt.plot(epochs_n1, val_loss_values_n1, 'b', label='Validation loss')\n",
    "plt.title('Training and validation loss')\n",
    "plt.xlabel('Epochs')\n",
    "plt.ylabel('Loss')\n",
    "plt.legend()\n",
    "plt.show()"
   ]
  },
  {
   "cell_type": "code",
   "execution_count": 24,
   "metadata": {},
   "outputs": [
    {
     "name": "stdout",
     "output_type": "stream",
     "text": [
      "              precision    recall  f1-score   support\n",
      "\n",
      "       noise       0.93      0.96      0.94       869\n",
      "    electron       0.22      0.12      0.16       195\n",
      "        muon       0.75      0.82      0.78       651\n",
      "\n",
      "    accuracy                           0.81      1715\n",
      "   macro avg       0.63      0.63      0.63      1715\n",
      "weighted avg       0.78      0.81      0.79      1715\n",
      "\n"
     ]
    }
   ],
   "source": [
    "from sklearn.metrics import classification_report\n",
    "target_names = ['noise', 'electron', 'muon']\n",
    "print(classification_report(y_test, y_predicted_1, target_names=target_names))"
   ]
  },
  {
   "cell_type": "markdown",
   "metadata": {},
   "source": [
    "### Second model: one less layer"
   ]
  },
  {
   "cell_type": "code",
   "execution_count": 25,
   "metadata": {
    "scrolled": true
   },
   "outputs": [
    {
     "name": "stdout",
     "output_type": "stream",
     "text": [
      "Model: \"sequential_2\"\n",
      "_________________________________________________________________\n",
      "Layer (type)                 Output Shape              Param #   \n",
      "=================================================================\n",
      "conv2d_5 (Conv2D)            (None, 294, 284, 32)      320       \n",
      "_________________________________________________________________\n",
      "max_pooling2d_5 (MaxPooling2 (None, 147, 142, 32)      0         \n",
      "_________________________________________________________________\n",
      "conv2d_6 (Conv2D)            (None, 145, 140, 64)      18496     \n",
      "_________________________________________________________________\n",
      "max_pooling2d_6 (MaxPooling2 (None, 72, 70, 64)        0         \n",
      "_________________________________________________________________\n",
      "conv2d_7 (Conv2D)            (None, 70, 68, 128)       73856     \n",
      "_________________________________________________________________\n",
      "max_pooling2d_7 (MaxPooling2 (None, 35, 34, 128)       0         \n",
      "_________________________________________________________________\n",
      "conv2d_8 (Conv2D)            (None, 33, 32, 128)       147584    \n",
      "_________________________________________________________________\n",
      "max_pooling2d_8 (MaxPooling2 (None, 16, 16, 128)       0         \n",
      "_________________________________________________________________\n",
      "flatten_2 (Flatten)          (None, 32768)             0         \n",
      "_________________________________________________________________\n",
      "dense_4 (Dense)              (None, 512)               16777728  \n",
      "_________________________________________________________________\n",
      "dense_5 (Dense)              (None, 3)                 1539      \n",
      "=================================================================\n",
      "Total params: 17,019,523\n",
      "Trainable params: 17,019,523\n",
      "Non-trainable params: 0\n",
      "_________________________________________________________________\n"
     ]
    }
   ],
   "source": [
    "model_n2 = models.Sequential()\n",
    "model_n2.add(layers.Conv2D(32,(3,3), activation='relu', input_shape=(window_y, window_x, 1)))\n",
    "model_n2.add(layers.MaxPooling2D((2,2)))\n",
    "model_n2.add(layers.Conv2D(64,(3,3), activation='relu'))\n",
    "model_n2.add(layers.MaxPooling2D((2,2)))\n",
    "model_n2.add(layers.Conv2D(128,(3,3), activation='relu'))\n",
    "model_n2.add(layers.MaxPooling2D((2,2)))\n",
    "model_n2.add(layers.Conv2D(128,(3,3), activation='relu'))\n",
    "model_n2.add(layers.MaxPooling2D((2,2)))\n",
    "\n",
    "model_n2.add(layers.Flatten())\n",
    "model_n2.add(layers.Dense(units= 512, activation='relu'))\n",
    "model_n2.add(layers.Dense(units= 3, activation='softmax'))\n",
    "model_n2.summary()"
   ]
  },
  {
   "cell_type": "code",
   "execution_count": 26,
   "metadata": {},
   "outputs": [],
   "source": [
    "model_n2.compile(optimizer=optimizers.RMSprop(lr= 1e-4),loss='categorical_crossentropy', metrics=['acc'])"
   ]
  },
  {
   "cell_type": "code",
   "execution_count": 27,
   "metadata": {
    "scrolled": true
   },
   "outputs": [
    {
     "name": "stdout",
     "output_type": "stream",
     "text": [
      "Train on 4744 samples, validate on 1187 samples\n",
      "Epoch 1/15\n",
      "4744/4744 [==============================] - 351s 74ms/step - loss: 0.6818 - acc: 0.7220 - val_loss: 1.2764 - val_acc: 0.2190\n",
      "Epoch 2/15\n",
      "4744/4744 [==============================] - 318s 67ms/step - loss: 0.4561 - acc: 0.8202 - val_loss: 1.0620 - val_acc: 0.4591\n",
      "Epoch 3/15\n",
      "4744/4744 [==============================] - 318s 67ms/step - loss: 0.3559 - acc: 0.8693 - val_loss: 0.6323 - val_acc: 0.7355\n",
      "Epoch 4/15\n",
      "4744/4744 [==============================] - 314s 66ms/step - loss: 0.2834 - acc: 0.8995 - val_loss: 0.5033 - val_acc: 0.8121\n",
      "Epoch 5/15\n",
      "4744/4744 [==============================] - 317s 67ms/step - loss: 0.2279 - acc: 0.9247 - val_loss: 0.7644 - val_acc: 0.6251\n",
      "Epoch 6/15\n",
      "4744/4744 [==============================] - 314s 66ms/step - loss: 0.1906 - acc: 0.9368 - val_loss: 0.2397 - val_acc: 0.9385\n",
      "Epoch 7/15\n",
      "4744/4744 [==============================] - 318s 67ms/step - loss: 0.1545 - acc: 0.9500 - val_loss: 0.3827 - val_acc: 0.8585\n",
      "Epoch 8/15\n",
      "4744/4744 [==============================] - 313s 66ms/step - loss: 0.1302 - acc: 0.9599 - val_loss: 0.1835 - val_acc: 0.9461\n",
      "Epoch 9/15\n",
      "4744/4744 [==============================] - 313s 66ms/step - loss: 0.1069 - acc: 0.9671 - val_loss: 0.2630 - val_acc: 0.9166\n",
      "Epoch 10/15\n",
      "4744/4744 [==============================] - 319s 67ms/step - loss: 0.0951 - acc: 0.9699 - val_loss: 0.0670 - val_acc: 0.9806\n",
      "Epoch 11/15\n",
      "4744/4744 [==============================] - 317s 67ms/step - loss: 0.0884 - acc: 0.9707 - val_loss: 0.1655 - val_acc: 0.9444\n",
      "Epoch 12/15\n",
      "4744/4744 [==============================] - 313s 66ms/step - loss: 0.0754 - acc: 0.9758 - val_loss: 0.1101 - val_acc: 0.9638\n",
      "Epoch 13/15\n",
      "4744/4744 [==============================] - 312s 66ms/step - loss: 0.0722 - acc: 0.9768 - val_loss: 0.0676 - val_acc: 0.9798\n",
      "Epoch 14/15\n",
      "4744/4744 [==============================] - 314s 66ms/step - loss: 0.0691 - acc: 0.9785 - val_loss: 0.1456 - val_acc: 0.9537\n",
      "Epoch 15/15\n",
      "4744/4744 [==============================] - 313s 66ms/step - loss: 0.0636 - acc: 0.9787 - val_loss: 0.1502 - val_acc: 0.9570\n"
     ]
    }
   ],
   "source": [
    "historyn2 = model_n2.fit(X_train, one_hot_train_labels,  epochs= 15, validation_split = 0.2)"
   ]
  },
  {
   "cell_type": "code",
   "execution_count": 28,
   "metadata": {},
   "outputs": [],
   "source": [
    "model_n2.save('model_e_mu_or_n_n2.h5')"
   ]
  },
  {
   "cell_type": "code",
   "execution_count": 33,
   "metadata": {},
   "outputs": [
    {
     "name": "stdout",
     "output_type": "stream",
     "text": [
      "1715/1715 [==============================] - 30s 17ms/step\n",
      "Accuracy with the model: 82.27%\n"
     ]
    }
   ],
   "source": [
    "loss, acc = model_n2.evaluate(X_test, one_hot_test_labels)\n",
    "print('Accuracy with the model: {:5.2f}%'.format(100*acc))"
   ]
  },
  {
   "cell_type": "code",
   "execution_count": 29,
   "metadata": {},
   "outputs": [],
   "source": [
    "y_predicted2 = model_n2.predict(X_test)\n",
    "y_predicted_2 = np.argmax(y_predicted2, axis=1)"
   ]
  },
  {
   "cell_type": "code",
   "execution_count": 30,
   "metadata": {},
   "outputs": [
    {
     "data": {
      "image/png": "[encoded data removed]",
      "text/plain": [
       "<Figure size 576x432 with 2 Axes>"
      ]
     },
     "metadata": {
      "needs_background": "light"
     },
     "output_type": "display_data"
    }
   ],
   "source": [
    "conf2 = confusion_matrix(y_test, y_predicted_2, labels = list([0,1,2]))\n",
    "plot_confusion_matrix(cm           = conf2, \n",
    "                      normalize    = False,\n",
    "                      target_names = ['noise', 'electron', 'muon'],\n",
    "                      title        = \"Confusion Matrix\")"
   ]
  },
  {
   "cell_type": "code",
   "execution_count": 34,
   "metadata": {},
   "outputs": [
    {
     "data": {
      "image/png": "[encoded data removed]",
      "text/plain": [
       "<Figure size 432x288 with 1 Axes>"
      ]
     },
     "metadata": {
      "needs_background": "light"
     },
     "output_type": "display_data"
    }
   ],
   "source": [
    "history_n2 = historyn2.history\n",
    "loss_values_n2 = history_n2['loss']\n",
    "val_loss_values_n2 = history_n2['val_loss']\n",
    "epochs_n2 = range(1, len(loss_values_n2) + 1)\n",
    "plt.plot(epochs_n2, loss_values_n2, 'bo', label='Training loss')\n",
    "plt.plot(epochs_n2, val_loss_values_n2, 'b', label='Validation loss')\n",
    "plt.title('Training and validation loss')\n",
    "plt.xlabel('Epochs')\n",
    "plt.ylabel('Loss')\n",
    "plt.legend()\n",
    "plt.show()"
   ]
  },
  {
   "cell_type": "code",
   "execution_count": 35,
   "metadata": {},
   "outputs": [
    {
     "name": "stdout",
     "output_type": "stream",
     "text": [
      "              precision    recall  f1-score   support\n",
      "\n",
      "       noise       0.90      0.98      0.94       869\n",
      "    electron       0.20      0.05      0.08       195\n",
      "        muon       0.76      0.84      0.80       651\n",
      "\n",
      "    accuracy                           0.82      1715\n",
      "   macro avg       0.62      0.63      0.61      1715\n",
      "weighted avg       0.77      0.82      0.79      1715\n",
      "\n"
     ]
    }
   ],
   "source": [
    "target_names = ['noise', 'electron', 'muon']\n",
    "print(classification_report(y_test, y_predicted_2, target_names=target_names))"
   ]
  },
  {
   "cell_type": "code",
   "execution_count": null,
   "metadata": {},
   "outputs": [],
   "source": []
  }
 ],
 "metadata": {
  "kernelspec": {
   "display_name": "Python 3",
   "language": "python",
   "name": "python3"
  },
  "language_info": {
   "codemirror_mode": {
    "name": "ipython",
    "version": 3
   },
   "file_extension": ".py",
   "mimetype": "text/x-python",
   "name": "python",
   "nbconvert_exporter": "python",
   "pygments_lexer": "ipython3",
   "version": "3.7.4"
  }
 },
 "nbformat": 4,
 "nbformat_minor": 2
}

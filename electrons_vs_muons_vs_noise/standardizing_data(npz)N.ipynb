{
 "cells": [
  {
   "cell_type": "markdown",
   "metadata": {},
   "source": [
    "### Standardize data for training/validation/testing"
   ]
  },
  {
   "cell_type": "code",
   "execution_count": 1,
   "metadata": {},
   "outputs": [],
   "source": [
    "import glob\n",
    "import os, shutil\n",
    "import matplotlib.pyplot as plt\n",
    "import numpy as np"
   ]
  },
  {
   "cell_type": "markdown",
   "metadata": {},
   "source": [
    "* Standarizing **test** data:"
   ]
  },
  {
   "cell_type": "code",
   "execution_count": 2,
   "metadata": {},
   "outputs": [],
   "source": [
    "path_te = 'eVSmuVSn_N2test/'\n",
    "\n",
    "files_te = os.listdir(path_te)"
   ]
  },
  {
   "cell_type": "code",
   "execution_count": 3,
   "metadata": {},
   "outputs": [
    {
     "data": {
      "text/plain": [
       "53"
      ]
     },
     "execution_count": 3,
     "metadata": {},
     "output_type": "execute_result"
    }
   ],
   "source": [
    "len(files_te)"
   ]
  },
  {
   "cell_type": "code",
   "execution_count": 13,
   "metadata": {
    "scrolled": true
   },
   "outputs": [],
   "source": [
    "#'index' is the number of the file, and 'file' is the name of the file\n",
    "for index, file in enumerate(files_te):  \n",
    "    \n",
    "    #loading each image as a numpy array\n",
    "    data = np.load(os.path.join(path_te, files_te[index]))['X']\n",
    "    label = np.load(os.path.join(path_te, files_te[index]))['y']\n",
    "    \n",
    "    data = (data - data.mean()) / data.std()\n",
    "    data = data.reshape((data.shape[0], data.shape[1], data.shape[2], 1))\n",
    "\n",
    "    np.savez(os.path.join(path_te, file), X=data, y=label)"
   ]
  },
  {
   "cell_type": "code",
   "execution_count": 4,
   "metadata": {},
   "outputs": [
    {
     "data": {
      "text/plain": [
       "(3.3451967856302066e-20, 1.0)"
      ]
     },
     "execution_count": 4,
     "metadata": {},
     "output_type": "execute_result"
    }
   ],
   "source": [
    "data = np.load(os.path.join(path_te, files_te[0]))['X']\n",
    "\n",
    "data = (data-data.mean())/data.std()\n",
    "\n",
    "data.mean(), data.std()"
   ]
  },
  {
   "cell_type": "markdown",
   "metadata": {},
   "source": [
    "* Standarizing **validation** data:"
   ]
  },
  {
   "cell_type": "code",
   "execution_count": 5,
   "metadata": {},
   "outputs": [],
   "source": [
    "path_v = 'eVSmuVSn_N2val/'\n",
    "\n",
    "files_v = os.listdir(path_v)"
   ]
  },
  {
   "cell_type": "code",
   "execution_count": 6,
   "metadata": {},
   "outputs": [
    {
     "data": {
      "text/plain": [
       "53"
      ]
     },
     "execution_count": 6,
     "metadata": {},
     "output_type": "execute_result"
    }
   ],
   "source": [
    "len(files_v)"
   ]
  },
  {
   "cell_type": "code",
   "execution_count": 23,
   "metadata": {},
   "outputs": [],
   "source": [
    "for index, file in enumerate(files_v):  \n",
    "    \n",
    "    #loading each image as a numpy array\n",
    "    data = np.load(os.path.join(path_v, files_v[index]))['X']\n",
    "    label = np.load(os.path.join(path_v, files_v[index]))['y']\n",
    "    \n",
    "    data = (data - data.mean()) / data.std()\n",
    "    data = data.reshape((data.shape[0], data.shape[1], data.shape[2], 1))\n",
    "\n",
    "    np.savez(os.path.join(path_v, file), X=data, y=label)"
   ]
  },
  {
   "cell_type": "code",
   "execution_count": 7,
   "metadata": {},
   "outputs": [
    {
     "data": {
      "text/plain": [
       "Text(0.5, 1.0, 'Noise')"
      ]
     },
     "execution_count": 7,
     "metadata": {},
     "output_type": "execute_result"
    },
    {
     "data": {
      "image/png": "[encoded data removed]",
      "text/plain": [
       "<Figure size 720x720 with 2 Axes>"
      ]
     },
     "metadata": {
      "needs_background": "light"
     },
     "output_type": "display_data"
    }
   ],
   "source": [
    "original_dataset_dir = path_v\n",
    "\n",
    "files = files_v\n",
    "f=4\n",
    "e = np.load(os.path.join(original_dataset_dir, files[f]))['X']\n",
    "e = e.reshape((e.shape[0], e.shape[1], e.shape[2]))[4]\n",
    "\n",
    "fig_e = plt.figure(figsize=(10,10))\n",
    "plt.imshow(e, cmap='Reds')\n",
    "plt.xticks(fontsize=20, rotation=0)\n",
    "plt.yticks(fontsize=20)\n",
    "cb = plt.colorbar(format='%.0e')\n",
    "cb.ax.set_title('Ev')\n",
    "cb.ax.tick_params(labelsize=20)\n",
    "plt.title(\"Noise\", fontsize = 25)"
   ]
  },
  {
   "cell_type": "code",
   "execution_count": 8,
   "metadata": {},
   "outputs": [
    {
     "data": {
      "text/plain": [
       "0.6655992852226965"
      ]
     },
     "execution_count": 8,
     "metadata": {},
     "output_type": "execute_result"
    }
   ],
   "source": [
    "e.std()"
   ]
  },
  {
   "cell_type": "markdown",
   "metadata": {},
   "source": [
    "* Standarizing **training** data:"
   ]
  },
  {
   "cell_type": "code",
   "execution_count": 10,
   "metadata": {},
   "outputs": [],
   "source": [
    "path_tr = 'eVSmuVSn_N2tr/'\n",
    "\n",
    "files_tr = os.listdir(path_tr)"
   ]
  },
  {
   "cell_type": "code",
   "execution_count": 11,
   "metadata": {},
   "outputs": [
    {
     "data": {
      "text/plain": [
       "157"
      ]
     },
     "execution_count": 11,
     "metadata": {},
     "output_type": "execute_result"
    }
   ],
   "source": [
    "len(files_tr)"
   ]
  },
  {
   "cell_type": "code",
   "execution_count": 33,
   "metadata": {},
   "outputs": [],
   "source": [
    "for index, file in enumerate(files_tr):  \n",
    "    \n",
    "    data = np.load(os.path.join(path_tr, files_tr[index]))['X']\n",
    "    label = np.load(os.path.join(path_tr, files_tr[index]))['y']\n",
    "    \n",
    "    data = (data - data.mean()) / data.std()\n",
    "    data = data.reshape((data.shape[0], data.shape[1], data.shape[2], 1))\n",
    "\n",
    "    np.savez(os.path.join(path_tr, file), X=data, y=label)"
   ]
  },
  {
   "cell_type": "code",
   "execution_count": 36,
   "metadata": {},
   "outputs": [
    {
     "name": "stdout",
     "output_type": "stream",
     "text": [
      "batch34.npz\n"
     ]
    },
    {
     "data": {
      "text/plain": [
       "Text(0.5, 1.0, 'Electron energy')"
      ]
     },
     "execution_count": 36,
     "metadata": {},
     "output_type": "execute_result"
    },
    {
     "data": {
      "image/png": "[encoded data removed]",
      "text/plain": [
       "<Figure size 720x720 with 2 Axes>"
      ]
     },
     "metadata": {
      "needs_background": "light"
     },
     "output_type": "display_data"
    }
   ],
   "source": [
    "original_dataset_dir = path_tr\n",
    "\n",
    "files = files_tr\n",
    "f=3\n",
    "e = np.load(os.path.join(original_dataset_dir, files[f]))['X']\n",
    "print(files[f])\n",
    "e = e.reshape((e.shape[0], e.shape[1], e.shape[2]))[60]\n",
    "\n",
    "fig_e = plt.figure(figsize=(10,10))\n",
    "plt.imshow(e, cmap='Reds')\n",
    "plt.xticks(fontsize=20, rotation=0)\n",
    "plt.yticks(fontsize=20)\n",
    "cb = plt.colorbar(format='%.0e')\n",
    "cb.ax.set_title('kEv')\n",
    "cb.ax.tick_params(labelsize=20)\n",
    "plt.title(\"Electron energy\", fontsize = 25)"
   ]
  },
  {
   "cell_type": "code",
   "execution_count": 37,
   "metadata": {},
   "outputs": [
    {
     "data": {
      "text/plain": [
       "1.6977757571033707"
      ]
     },
     "execution_count": 37,
     "metadata": {},
     "output_type": "execute_result"
    }
   ],
   "source": [
    "e.std()"
   ]
  },
  {
   "cell_type": "code",
   "execution_count": null,
   "metadata": {},
   "outputs": [],
   "source": []
  }
 ],
 "metadata": {
  "kernelspec": {
   "display_name": "Python 3",
   "language": "python",
   "name": "python3"
  },
  "language_info": {
   "codemirror_mode": {
    "name": "ipython",
    "version": 3
   },
   "file_extension": ".py",
   "mimetype": "text/x-python",
   "name": "python",
   "nbconvert_exporter": "python",
   "pygments_lexer": "ipython3",
   "version": "3.7.4"
  }
 },
 "nbformat": 4,
 "nbformat_minor": 2
}

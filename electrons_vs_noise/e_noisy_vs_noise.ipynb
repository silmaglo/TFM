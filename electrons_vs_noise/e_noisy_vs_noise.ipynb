{
 "cells": [
  {
   "cell_type": "markdown",
   "metadata": {},
   "source": [
    "### Building a model to differentiate between noise and electrons with noise from scratch\n",
    "\n",
    "In this notebook, we will build a convolutional neural network to classify a signal as electron or noise. Therefore, we are facing a binary classification problem: electron or noise. This is the reason why we will have just one neuron in the output layer with sigmoidal activation.\n",
    "\n",
    "First we import the data stored in a file called `eVSn_noisy1.npz` composed of two variables: 'data' for the numpy arrays with energy or noise, and 'labels' where 1 stands for electron signal and 0 for noise.\n",
    "* [Model without noise](#Model-without-noise)\n",
    "* [First model: 40 epochs](#First-model:-40-epochs)\n",
    "* [Second model: 60 epochs](#Second-model:-60-epochs)\n",
    "* [Third model: relu activation](#Third-model:-relu-activation)\n",
    "* [Fourth model: relu activation, dropout](#Fourth-model:-relu-activation,-dropout)\n",
    "* [Fifth model: one layer less, dropout](#Fifth-model:-one-layer-less,-dropout)"
   ]
  },
  {
   "cell_type": "code",
   "execution_count": 1,
   "metadata": {},
   "outputs": [],
   "source": [
    "import numpy as np\n",
    "from sklearn.model_selection import train_test_split"
   ]
  },
  {
   "cell_type": "code",
   "execution_count": 2,
   "metadata": {},
   "outputs": [],
   "source": [
    "loaded = np.load('/Users/Silvia/Desktop/TFM/e_VS_n/eVSn_noisy1.npz')\n",
    "X = loaded['data']\n",
    "y = loaded['labels']"
   ]
  },
  {
   "cell_type": "code",
   "execution_count": 3,
   "metadata": {},
   "outputs": [],
   "source": [
    "#train and test partition\n",
    "X_train, X_test, y_train, y_test = train_test_split(X, y, random_state=0)"
   ]
  },
  {
   "cell_type": "code",
   "execution_count": 4,
   "metadata": {},
   "outputs": [
    {
     "name": "stdout",
     "output_type": "stream",
     "text": [
      "(3942, 29547) (1314, 29547)\n"
     ]
    }
   ],
   "source": [
    "#standarizing the data\n",
    "from sklearn import preprocessing\n",
    "\n",
    "aux_train = X_train.reshape((X_train.shape[0], X_train.shape[1]* X_train.shape[2]))\n",
    "aux_test = X_test.reshape((X_test.shape[0], X_test.shape[1]* X_test.shape[2]))\n",
    "\n",
    "scaler = preprocessing.StandardScaler().fit(aux_train)\n",
    "\n",
    "X_trainr = scaler.transform(aux_train)\n",
    "\n",
    "X_testr = scaler.transform(aux_test)\n",
    "\n",
    "print(X_trainr.shape, X_testr.shape)"
   ]
  },
  {
   "cell_type": "code",
   "execution_count": 5,
   "metadata": {},
   "outputs": [
    {
     "name": "stdout",
     "output_type": "stream",
     "text": [
      "(3942, 201, 147, 1)\n"
     ]
    }
   ],
   "source": [
    "#reshape\n",
    "X_train = X_trainr.reshape((X_train.shape[0], X_train.shape[1], X_train.shape[2], 1))\n",
    "\n",
    "print(X_train.shape)"
   ]
  },
  {
   "cell_type": "code",
   "execution_count": 6,
   "metadata": {},
   "outputs": [
    {
     "name": "stdout",
     "output_type": "stream",
     "text": [
      "(1314, 201, 147, 1)\n"
     ]
    }
   ],
   "source": [
    "X_test = X_testr.reshape((X_test.shape[0], X_test.shape[1], X_test.shape[2], 1))\n",
    "\n",
    "print(X_test.shape)"
   ]
  },
  {
   "cell_type": "code",
   "execution_count": 7,
   "metadata": {},
   "outputs": [
    {
     "name": "stderr",
     "output_type": "stream",
     "text": [
      "Using TensorFlow backend.\n"
     ]
    }
   ],
   "source": [
    "import keras"
   ]
  },
  {
   "cell_type": "markdown",
   "metadata": {},
   "source": [
    "### Model without noise\n",
    "\n",
    "We will load the model (that yielded the highest accuracy) we used to classify between electron and noise:"
   ]
  },
  {
   "cell_type": "code",
   "execution_count": 8,
   "metadata": {
    "scrolled": true
   },
   "outputs": [
    {
     "name": "stdout",
     "output_type": "stream",
     "text": [
      "Model: \"sequential_2\"\n",
      "_________________________________________________________________\n",
      "Layer (type)                 Output Shape              Param #   \n",
      "=================================================================\n",
      "conv2d_5 (Conv2D)            (None, 199, 145, 32)      320       \n",
      "_________________________________________________________________\n",
      "max_pooling2d_5 (MaxPooling2 (None, 99, 72, 32)        0         \n",
      "_________________________________________________________________\n",
      "conv2d_6 (Conv2D)            (None, 97, 70, 64)        18496     \n",
      "_________________________________________________________________\n",
      "max_pooling2d_6 (MaxPooling2 (None, 48, 35, 64)        0         \n",
      "_________________________________________________________________\n",
      "conv2d_7 (Conv2D)            (None, 46, 33, 128)       73856     \n",
      "_________________________________________________________________\n",
      "max_pooling2d_7 (MaxPooling2 (None, 23, 16, 128)       0         \n",
      "_________________________________________________________________\n",
      "conv2d_8 (Conv2D)            (None, 21, 14, 128)       147584    \n",
      "_________________________________________________________________\n",
      "max_pooling2d_8 (MaxPooling2 (None, 10, 7, 128)        0         \n",
      "_________________________________________________________________\n",
      "flatten_2 (Flatten)          (None, 8960)              0         \n",
      "_________________________________________________________________\n",
      "dense_4 (Dense)              (None, 2050)              18370050  \n",
      "_________________________________________________________________\n",
      "dense_5 (Dense)              (None, 512)               1050112   \n",
      "_________________________________________________________________\n",
      "dense_6 (Dense)              (None, 1)                 513       \n",
      "=================================================================\n",
      "Total params: 19,660,931\n",
      "Trainable params: 19,660,931\n",
      "Non-trainable params: 0\n",
      "_________________________________________________________________\n",
      "1314/1314 [==============================] - 8s 6ms/step\n",
      "Accuracy with the model: 93.07%\n"
     ]
    }
   ],
   "source": [
    "from keras.models import load_model\n",
    " \n",
    "# load model\n",
    "model = load_model('model_electron_or_noise_v1.h5')\n",
    "# summarize model.\n",
    "model.summary()\n",
    "\n",
    "# evaluate the model\n",
    "loss, acc = model.evaluate(X_test, y_test)\n",
    "print('Accuracy with the model: {:5.2f}%'.format(100*acc))"
   ]
  },
  {
   "cell_type": "markdown",
   "metadata": {},
   "source": [
    "The accuracy is high but we will train to improve it:\n",
    "### First model: 40 epochs"
   ]
  },
  {
   "cell_type": "code",
   "execution_count": 9,
   "metadata": {},
   "outputs": [],
   "source": [
    "from keras import layers, models, optimizers"
   ]
  },
  {
   "cell_type": "code",
   "execution_count": 10,
   "metadata": {},
   "outputs": [],
   "source": [
    "window_y, window_x = 201,147"
   ]
  },
  {
   "cell_type": "code",
   "execution_count": 12,
   "metadata": {
    "scrolled": true
   },
   "outputs": [
    {
     "name": "stdout",
     "output_type": "stream",
     "text": [
      "Model: \"sequential_1\"\n",
      "_________________________________________________________________\n",
      "Layer (type)                 Output Shape              Param #   \n",
      "=================================================================\n",
      "conv2d_1 (Conv2D)            (None, 199, 145, 32)      320       \n",
      "_________________________________________________________________\n",
      "max_pooling2d_1 (MaxPooling2 (None, 99, 72, 32)        0         \n",
      "_________________________________________________________________\n",
      "conv2d_2 (Conv2D)            (None, 97, 70, 64)        18496     \n",
      "_________________________________________________________________\n",
      "max_pooling2d_2 (MaxPooling2 (None, 48, 35, 64)        0         \n",
      "_________________________________________________________________\n",
      "conv2d_3 (Conv2D)            (None, 46, 33, 128)       73856     \n",
      "_________________________________________________________________\n",
      "max_pooling2d_3 (MaxPooling2 (None, 23, 16, 128)       0         \n",
      "_________________________________________________________________\n",
      "conv2d_4 (Conv2D)            (None, 21, 14, 128)       147584    \n",
      "_________________________________________________________________\n",
      "max_pooling2d_4 (MaxPooling2 (None, 10, 7, 128)        0         \n",
      "_________________________________________________________________\n",
      "flatten_1 (Flatten)          (None, 8960)              0         \n",
      "_________________________________________________________________\n",
      "dense_1 (Dense)              (None, 2050)              18370050  \n",
      "_________________________________________________________________\n",
      "dense_2 (Dense)              (None, 512)               1050112   \n",
      "_________________________________________________________________\n",
      "dense_3 (Dense)              (None, 1)                 513       \n",
      "=================================================================\n",
      "Total params: 19,660,931\n",
      "Trainable params: 19,660,931\n",
      "Non-trainable params: 0\n",
      "_________________________________________________________________\n"
     ]
    }
   ],
   "source": [
    "model_n1 = models.Sequential()\n",
    "model_n1.add(layers.Conv2D(32,(3,3), activation='relu', input_shape=(window_y, window_x, 1)))\n",
    "model_n1.add(layers.MaxPooling2D((2,2)))\n",
    "model_n1.add(layers.Conv2D(64,(3,3), activation='relu'))\n",
    "model_n1.add(layers.MaxPooling2D((2,2)))\n",
    "model_n1.add(layers.Conv2D(128,(3,3), activation='relu'))\n",
    "model_n1.add(layers.MaxPooling2D((2,2)))\n",
    "model_n1.add(layers.Conv2D(128,(3,3), activation='relu'))\n",
    "model_n1.add(layers.MaxPooling2D((2,2)))\n",
    "\n",
    "model_n1.add(layers.Flatten())\n",
    "model_n1.add(layers.Dense(units= 2050, activation='softmax'))\n",
    "model_n1.add(layers.Dense(units= 512, activation='softmax'))\n",
    "model_n1.add(layers.Dense(units= 1, activation='sigmoid'))\n",
    "model_n1.summary()"
   ]
  },
  {
   "cell_type": "code",
   "execution_count": 13,
   "metadata": {},
   "outputs": [],
   "source": [
    "model_n1.compile(optimizer=optimizers.RMSprop(lr= 1e-4),loss='binary_crossentropy', metrics=['acc'])"
   ]
  },
  {
   "cell_type": "code",
   "execution_count": 14,
   "metadata": {
    "scrolled": true
   },
   "outputs": [
    {
     "name": "stdout",
     "output_type": "stream",
     "text": [
      "Train on 3153 samples, validate on 789 samples\n",
      "Epoch 1/40\n",
      "3153/3153 [==============================] - 85s 27ms/step - loss: 0.6932 - acc: 0.5002 - val_loss: 0.6932 - val_acc: 0.4968\n",
      "Epoch 2/40\n",
      "3153/3153 [==============================] - 96s 30ms/step - loss: 0.6931 - acc: 0.5046 - val_loss: 0.6930 - val_acc: 0.4968\n",
      "Epoch 3/40\n",
      "3153/3153 [==============================] - 85s 27ms/step - loss: 0.6929 - acc: 0.5046 - val_loss: 0.6929 - val_acc: 0.4968\n",
      "Epoch 4/40\n",
      "3153/3153 [==============================] - 83s 26ms/step - loss: 0.6928 - acc: 0.5046 - val_loss: 0.6927 - val_acc: 0.4968\n",
      "Epoch 5/40\n",
      "3153/3153 [==============================] - 80s 25ms/step - loss: 0.6926 - acc: 0.5046 - val_loss: 0.6925 - val_acc: 0.4968\n",
      "Epoch 6/40\n",
      "3153/3153 [==============================] - 80s 25ms/step - loss: 0.6924 - acc: 0.5046 - val_loss: 0.6924 - val_acc: 0.4968\n",
      "Epoch 7/40\n",
      "3153/3153 [==============================] - 80s 26ms/step - loss: 0.6923 - acc: 0.5046 - val_loss: 0.6922 - val_acc: 0.4968\n",
      "Epoch 8/40\n",
      "3153/3153 [==============================] - 81s 26ms/step - loss: 0.6921 - acc: 0.5046 - val_loss: 0.6920 - val_acc: 0.4968\n",
      "Epoch 9/40\n",
      "3153/3153 [==============================] - 81s 26ms/step - loss: 0.6919 - acc: 0.5046 - val_loss: 0.6918 - val_acc: 0.4968\n",
      "Epoch 10/40\n",
      "3153/3153 [==============================] - 84s 27ms/step - loss: 0.6917 - acc: 0.5046 - val_loss: 0.6916 - val_acc: 0.4968\n",
      "Epoch 11/40\n",
      "3153/3153 [==============================] - 79s 25ms/step - loss: 0.6914 - acc: 0.5046 - val_loss: 0.6914 - val_acc: 0.4968\n",
      "Epoch 12/40\n",
      "3153/3153 [==============================] - 80s 25ms/step - loss: 0.6912 - acc: 0.5046 - val_loss: 0.6912 - val_acc: 0.4968\n",
      "Epoch 13/40\n",
      "3153/3153 [==============================] - 88s 28ms/step - loss: 0.6909 - acc: 0.5046 - val_loss: 0.6909 - val_acc: 0.4968\n",
      "Epoch 14/40\n",
      "3153/3153 [==============================] - 84s 27ms/step - loss: 0.6906 - acc: 0.5046 - val_loss: 0.6906 - val_acc: 0.4968\n",
      "Epoch 15/40\n",
      "3153/3153 [==============================] - 80s 26ms/step - loss: 0.6904 - acc: 0.5046 - val_loss: 0.6903 - val_acc: 0.4968\n",
      "Epoch 16/40\n",
      "3153/3153 [==============================] - 81s 26ms/step - loss: 0.6901 - acc: 0.5046 - val_loss: 0.6901 - val_acc: 0.4968\n",
      "Epoch 17/40\n",
      "3153/3153 [==============================] - 81s 26ms/step - loss: 0.6901 - acc: 0.5046 - val_loss: 0.6899 - val_acc: 0.4968\n",
      "Epoch 18/40\n",
      "3153/3153 [==============================] - 81s 26ms/step - loss: 0.6896 - acc: 0.5046 - val_loss: 0.6896 - val_acc: 0.4968\n",
      "Epoch 19/40\n",
      "3153/3153 [==============================] - 81s 26ms/step - loss: 0.6893 - acc: 0.5046 - val_loss: 0.6892 - val_acc: 0.4968\n",
      "Epoch 20/40\n",
      "3153/3153 [==============================] - 81s 26ms/step - loss: 0.6888 - acc: 0.5046 - val_loss: 0.6889 - val_acc: 0.4968\n",
      "Epoch 21/40\n",
      "3153/3153 [==============================] - 83s 26ms/step - loss: 0.6883 - acc: 0.5046 - val_loss: 0.6882 - val_acc: 0.4968\n",
      "Epoch 22/40\n",
      "3153/3153 [==============================] - 81s 26ms/step - loss: 0.6877 - acc: 0.5046 - val_loss: 0.6878 - val_acc: 0.4968\n",
      "Epoch 23/40\n",
      "3153/3153 [==============================] - 81s 26ms/step - loss: 0.6870 - acc: 0.5068 - val_loss: 0.6871 - val_acc: 0.4867\n",
      "Epoch 24/40\n",
      "3153/3153 [==============================] - 81s 26ms/step - loss: 0.6861 - acc: 0.8700 - val_loss: 0.6862 - val_acc: 0.8619\n",
      "Epoch 25/40\n",
      "3153/3153 [==============================] - 81s 26ms/step - loss: 0.6852 - acc: 0.9134 - val_loss: 0.6852 - val_acc: 0.9062\n",
      "Epoch 26/40\n",
      "3153/3153 [==============================] - 80s 26ms/step - loss: 0.6842 - acc: 0.9236 - val_loss: 0.6841 - val_acc: 0.9138\n",
      "Epoch 27/40\n",
      "3153/3153 [==============================] - 81s 26ms/step - loss: 0.6832 - acc: 0.9305 - val_loss: 0.6833 - val_acc: 0.9024\n",
      "Epoch 28/40\n",
      "3153/3153 [==============================] - 81s 26ms/step - loss: 0.6820 - acc: 0.9356 - val_loss: 0.6818 - val_acc: 0.9265\n",
      "Epoch 29/40\n",
      "3153/3153 [==============================] - 80s 26ms/step - loss: 0.6806 - acc: 0.9435 - val_loss: 0.6802 - val_acc: 0.9379\n",
      "Epoch 30/40\n",
      "3153/3153 [==============================] - 81s 26ms/step - loss: 0.6793 - acc: 0.9474 - val_loss: 0.6788 - val_acc: 0.9430\n",
      "Epoch 31/40\n",
      "3153/3153 [==============================] - 81s 26ms/step - loss: 0.6779 - acc: 0.9493 - val_loss: 0.6774 - val_acc: 0.9468\n",
      "Epoch 32/40\n",
      "3153/3153 [==============================] - 81s 26ms/step - loss: 0.6764 - acc: 0.9553 - val_loss: 0.6763 - val_acc: 0.9392\n",
      "Epoch 33/40\n",
      "3153/3153 [==============================] - 83s 26ms/step - loss: 0.6749 - acc: 0.9569 - val_loss: 0.6744 - val_acc: 0.9493\n",
      "Epoch 34/40\n",
      "3153/3153 [==============================] - 81s 26ms/step - loss: 0.6733 - acc: 0.9559 - val_loss: 0.6730 - val_acc: 0.9455\n",
      "Epoch 35/40\n",
      "3153/3153 [==============================] - 81s 26ms/step - loss: 0.6716 - acc: 0.9559 - val_loss: 0.6713 - val_acc: 0.9480\n",
      "Epoch 36/40\n",
      "3153/3153 [==============================] - 81s 26ms/step - loss: 0.6699 - acc: 0.9553 - val_loss: 0.6693 - val_acc: 0.9518\n",
      "Epoch 37/40\n",
      "3153/3153 [==============================] - 80s 26ms/step - loss: 0.6679 - acc: 0.9591 - val_loss: 0.6675 - val_acc: 0.9506\n",
      "Epoch 38/40\n",
      "3153/3153 [==============================] - 81s 26ms/step - loss: 0.6661 - acc: 0.9578 - val_loss: 0.6652 - val_acc: 0.9569\n",
      "Epoch 39/40\n",
      "3153/3153 [==============================] - 80s 25ms/step - loss: 0.6639 - acc: 0.9635 - val_loss: 0.6634 - val_acc: 0.9544\n",
      "Epoch 40/40\n",
      "3153/3153 [==============================] - 81s 26ms/step - loss: 0.6619 - acc: 0.9632 - val_loss: 0.6613 - val_acc: 0.9569\n"
     ]
    },
    {
     "data": {
      "text/plain": [
       "<keras.callbacks.callbacks.History at 0x12c2812d0>"
      ]
     },
     "execution_count": 14,
     "metadata": {},
     "output_type": "execute_result"
    }
   ],
   "source": [
    "model_n1.fit(X_train, y_train, epochs= 40, validation_split = 0.2)"
   ]
  },
  {
   "cell_type": "code",
   "execution_count": 15,
   "metadata": {},
   "outputs": [],
   "source": [
    "model_n1.save('model_electron_or_noise_n1.h5')"
   ]
  },
  {
   "cell_type": "code",
   "execution_count": 16,
   "metadata": {},
   "outputs": [
    {
     "name": "stdout",
     "output_type": "stream",
     "text": [
      "1314/1314 [==============================] - 9s 7ms/step\n",
      "Accuracy with the model: 92.77%\n"
     ]
    }
   ],
   "source": [
    "loss, acc = model_n1.evaluate(X_test, y_test)\n",
    "print('Accuracy with the model: {:5.2f}%'.format(100*acc))"
   ]
  },
  {
   "cell_type": "code",
   "execution_count": 17,
   "metadata": {},
   "outputs": [],
   "source": [
    "y_predicted1 = model_n1.predict(X_test)\n",
    "\n",
    "y_predicted1[np.where(y_predicted1>=0.5)] = 1\n",
    "y_predicted1[np.where(y_predicted1<0.5)] = 0"
   ]
  },
  {
   "cell_type": "code",
   "execution_count": 25,
   "metadata": {},
   "outputs": [],
   "source": [
    "import matplotlib.pylab as plt\n",
    "from sklearn.metrics import confusion_matrix\n",
    "def plot_confusion_matrix(cm,\n",
    "                          target_names,\n",
    "                          title='Confusion matrix',\n",
    "                          cmap=None,\n",
    "                          normalize=True):\n",
    "    \"\"\"\n",
    "    cm:           confusion matrix from sklearn.metrics.confusion_matrix\n",
    "\n",
    "    target_names: given classification classes such as [0, 1, 2]\n",
    "                  the class names, for example: ['high', 'medium', 'low']\n",
    "\n",
    "    title:        the text to display at the top of the matrix\n",
    "\n",
    "    cmap:         the gradient of the values displayed from matplotlib.pyplot.cm\n",
    "                  see http://matplotlib.org/examples/color/colormaps_reference.html\n",
    "                  plt.get_cmap('jet') or plt.cm.Blues\n",
    "\n",
    "    normalize:    If False, plot the raw numbers\n",
    "                  If True, plot the proportions\n",
    "\n",
    "    Citiation\n",
    "    ---------\n",
    "    http://scikit-learn.org/stable/auto_examples/model_selection/plot_confusion_matrix.html\n",
    "\n",
    "    \"\"\"\n",
    "    import itertools\n",
    "\n",
    "    accuracy = np.trace(cm) / float(np.sum(cm))\n",
    "    misclass = 1 - accuracy\n",
    "\n",
    "    if cmap is None:\n",
    "        cmap = plt.get_cmap('Blues')\n",
    "\n",
    "    plt.figure(figsize=(8, 6))\n",
    "    plt.imshow(cm, interpolation='nearest', cmap=cmap)\n",
    "    plt.title(title)\n",
    "    plt.colorbar()\n",
    "\n",
    "    if target_names is not None:\n",
    "        tick_marks = np.arange(len(target_names))\n",
    "        plt.xticks(tick_marks, target_names, rotation=45)\n",
    "        plt.yticks(tick_marks, target_names)\n",
    "\n",
    "    if normalize:\n",
    "        cm = cm.astype('float') / cm.sum(axis=1)[:, np.newaxis]\n",
    "\n",
    "\n",
    "    thresh = cm.max() / 1.5 if normalize else cm.max() / 2\n",
    "    for i, j in itertools.product(range(cm.shape[0]), range(cm.shape[1])):\n",
    "        if normalize:\n",
    "            plt.text(j, i, \"{:0.4f}\".format(cm[i, j]),\n",
    "                     horizontalalignment=\"center\",\n",
    "                     color=\"white\" if cm[i, j] > thresh else \"black\")\n",
    "        else:\n",
    "            plt.text(j, i, \"{:,}\".format(cm[i, j]),\n",
    "                     horizontalalignment=\"center\",\n",
    "                     color=\"white\" if cm[i, j] > thresh else \"black\")\n",
    "    plt.grid(b=False)\n",
    "    plt.xlim(-0.5, 1.5)\n",
    "    plt.ylim(1.5, -0.5)\n",
    "    plt.tight_layout()\n",
    "    plt.ylabel('True label')\n",
    "    plt.xlabel('Predicted label\\naccuracy={:0.4f}; misclass={:0.4f}'.format(accuracy, misclass))\n",
    "    plt.show()\n"
   ]
  },
  {
   "cell_type": "code",
   "execution_count": 22,
   "metadata": {},
   "outputs": [],
   "source": [
    "conf1 = confusion_matrix(y_test, y_predicted1, labels = list([0,1]))"
   ]
  },
  {
   "cell_type": "code",
   "execution_count": 23,
   "metadata": {},
   "outputs": [
    {
     "data": {
      "image/png": "[encoded data removed]",
      "text/plain": [
       "<Figure size 576x432 with 2 Axes>"
      ]
     },
     "metadata": {
      "needs_background": "light"
     },
     "output_type": "display_data"
    }
   ],
   "source": [
    "plot_confusion_matrix(cm           = conf1, \n",
    "                      normalize    = False,\n",
    "                      target_names = ['noise', 'electron'],\n",
    "                      title        = \"Confusion Matrix\")"
   ]
  },
  {
   "cell_type": "markdown",
   "metadata": {},
   "source": [
    "### Second model: 60 epochs\n",
    "\n",
    "Maybe a good solution is to train for more epochs, to see if we can improve the accuracy:"
   ]
  },
  {
   "cell_type": "code",
   "execution_count": 24,
   "metadata": {
    "scrolled": true
   },
   "outputs": [
    {
     "name": "stdout",
     "output_type": "stream",
     "text": [
      "Model: \"sequential_2\"\n",
      "_________________________________________________________________\n",
      "Layer (type)                 Output Shape              Param #   \n",
      "=================================================================\n",
      "conv2d_5 (Conv2D)            (None, 199, 145, 32)      320       \n",
      "_________________________________________________________________\n",
      "max_pooling2d_5 (MaxPooling2 (None, 99, 72, 32)        0         \n",
      "_________________________________________________________________\n",
      "conv2d_6 (Conv2D)            (None, 97, 70, 64)        18496     \n",
      "_________________________________________________________________\n",
      "max_pooling2d_6 (MaxPooling2 (None, 48, 35, 64)        0         \n",
      "_________________________________________________________________\n",
      "conv2d_7 (Conv2D)            (None, 46, 33, 128)       73856     \n",
      "_________________________________________________________________\n",
      "max_pooling2d_7 (MaxPooling2 (None, 23, 16, 128)       0         \n",
      "_________________________________________________________________\n",
      "conv2d_8 (Conv2D)            (None, 21, 14, 128)       147584    \n",
      "_________________________________________________________________\n",
      "max_pooling2d_8 (MaxPooling2 (None, 10, 7, 128)        0         \n",
      "_________________________________________________________________\n",
      "flatten_2 (Flatten)          (None, 8960)              0         \n",
      "_________________________________________________________________\n",
      "dense_4 (Dense)              (None, 2050)              18370050  \n",
      "_________________________________________________________________\n",
      "dense_5 (Dense)              (None, 512)               1050112   \n",
      "_________________________________________________________________\n",
      "dense_6 (Dense)              (None, 1)                 513       \n",
      "=================================================================\n",
      "Total params: 19,660,931\n",
      "Trainable params: 19,660,931\n",
      "Non-trainable params: 0\n",
      "_________________________________________________________________\n"
     ]
    }
   ],
   "source": [
    "model_n2 = models.Sequential()\n",
    "model_n2.add(layers.Conv2D(32,(3,3), activation='relu', input_shape=(window_y, window_x, 1)))\n",
    "model_n2.add(layers.MaxPooling2D((2,2)))\n",
    "model_n2.add(layers.Conv2D(64,(3,3), activation='relu'))\n",
    "model_n2.add(layers.MaxPooling2D((2,2)))\n",
    "model_n2.add(layers.Conv2D(128,(3,3), activation='relu'))\n",
    "model_n2.add(layers.MaxPooling2D((2,2)))\n",
    "model_n2.add(layers.Conv2D(128,(3,3), activation='relu'))\n",
    "model_n2.add(layers.MaxPooling2D((2,2)))\n",
    "\n",
    "model_n2.add(layers.Flatten())\n",
    "model_n2.add(layers.Dense(units= 2050, activation='softmax'))\n",
    "model_n2.add(layers.Dense(units= 512, activation='softmax'))\n",
    "model_n2.add(layers.Dense(units= 1, activation='sigmoid'))\n",
    "model_n2.summary()"
   ]
  },
  {
   "cell_type": "code",
   "execution_count": 25,
   "metadata": {},
   "outputs": [],
   "source": [
    "model_n2.compile(optimizer=optimizers.RMSprop(lr= 1e-4),loss='binary_crossentropy', metrics=['acc'])"
   ]
  },
  {
   "cell_type": "code",
   "execution_count": 26,
   "metadata": {
    "scrolled": true
   },
   "outputs": [
    {
     "name": "stdout",
     "output_type": "stream",
     "text": [
      "Train on 3153 samples, validate on 789 samples\n",
      "Epoch 1/60\n",
      "3153/3153 [==============================] - 87s 28ms/step - loss: 0.6932 - acc: 0.4964 - val_loss: 0.6931 - val_acc: 0.4968\n",
      "Epoch 2/60\n",
      "3153/3153 [==============================] - 87s 28ms/step - loss: 0.6931 - acc: 0.5262 - val_loss: 0.6930 - val_acc: 0.4968\n",
      "Epoch 3/60\n",
      "3153/3153 [==============================] - 89s 28ms/step - loss: 0.6929 - acc: 0.5059 - val_loss: 0.6928 - val_acc: 0.4968\n",
      "Epoch 4/60\n",
      "3153/3153 [==============================] - 82s 26ms/step - loss: 0.6927 - acc: 0.5046 - val_loss: 0.6927 - val_acc: 0.4968\n",
      "Epoch 5/60\n",
      "3153/3153 [==============================] - 82s 26ms/step - loss: 0.6926 - acc: 0.5046 - val_loss: 0.6925 - val_acc: 0.4968\n",
      "Epoch 6/60\n",
      "3153/3153 [==============================] - 82s 26ms/step - loss: 0.6924 - acc: 0.5046 - val_loss: 0.6924 - val_acc: 0.4968\n",
      "Epoch 7/60\n",
      "3153/3153 [==============================] - 82s 26ms/step - loss: 0.6922 - acc: 0.5046 - val_loss: 0.6922 - val_acc: 0.4968\n",
      "Epoch 8/60\n",
      "3153/3153 [==============================] - 82s 26ms/step - loss: 0.6921 - acc: 0.5046 - val_loss: 0.6920 - val_acc: 0.4968\n",
      "Epoch 9/60\n",
      "3153/3153 [==============================] - 82s 26ms/step - loss: 0.6919 - acc: 0.5046 - val_loss: 0.6918 - val_acc: 0.4968\n",
      "Epoch 10/60\n",
      "3153/3153 [==============================] - 82s 26ms/step - loss: 0.6916 - acc: 0.5046 - val_loss: 0.6916 - val_acc: 0.4968\n",
      "Epoch 11/60\n",
      "3153/3153 [==============================] - 81s 26ms/step - loss: 0.6914 - acc: 0.5046 - val_loss: 0.6914 - val_acc: 0.4968\n",
      "Epoch 12/60\n",
      "3153/3153 [==============================] - 81s 26ms/step - loss: 0.6911 - acc: 0.5046 - val_loss: 0.6911 - val_acc: 0.4968\n",
      "Epoch 13/60\n",
      "3153/3153 [==============================] - 81s 26ms/step - loss: 0.6909 - acc: 0.5046 - val_loss: 0.6908 - val_acc: 0.4968\n",
      "Epoch 14/60\n",
      "3153/3153 [==============================] - 81s 26ms/step - loss: 0.6906 - acc: 0.5046 - val_loss: 0.6905 - val_acc: 0.4968\n",
      "Epoch 15/60\n",
      "3153/3153 [==============================] - 82s 26ms/step - loss: 0.6905 - acc: 0.5046 - val_loss: 0.6906 - val_acc: 0.4968\n",
      "Epoch 16/60\n",
      "3153/3153 [==============================] - 82s 26ms/step - loss: 0.6902 - acc: 0.5046 - val_loss: 0.6903 - val_acc: 0.4968\n",
      "Epoch 17/60\n",
      "3153/3153 [==============================] - 82s 26ms/step - loss: 0.6900 - acc: 0.5046 - val_loss: 0.6900 - val_acc: 0.4968\n",
      "Epoch 18/60\n",
      "3153/3153 [==============================] - 82s 26ms/step - loss: 0.6895 - acc: 0.5046 - val_loss: 0.6897 - val_acc: 0.4968\n",
      "Epoch 19/60\n",
      "3153/3153 [==============================] - 82s 26ms/step - loss: 0.6891 - acc: 0.5046 - val_loss: 0.6892 - val_acc: 0.4968\n",
      "Epoch 20/60\n",
      "3153/3153 [==============================] - 82s 26ms/step - loss: 0.6887 - acc: 0.5046 - val_loss: 0.6887 - val_acc: 0.4968\n",
      "Epoch 21/60\n",
      "3153/3153 [==============================] - 82s 26ms/step - loss: 0.6880 - acc: 0.5040 - val_loss: 0.6881 - val_acc: 0.4968\n",
      "Epoch 22/60\n",
      "3153/3153 [==============================] - 82s 26ms/step - loss: 0.6874 - acc: 0.5477 - val_loss: 0.6875 - val_acc: 0.8885\n",
      "Epoch 23/60\n",
      "3153/3153 [==============================] - 82s 26ms/step - loss: 0.6866 - acc: 0.9109 - val_loss: 0.6865 - val_acc: 0.9151\n",
      "Epoch 24/60\n",
      "3153/3153 [==============================] - 82s 26ms/step - loss: 0.6856 - acc: 0.9267 - val_loss: 0.6854 - val_acc: 0.9278\n",
      "Epoch 25/60\n",
      "3153/3153 [==============================] - 82s 26ms/step - loss: 0.6846 - acc: 0.9359 - val_loss: 0.6843 - val_acc: 0.9392\n",
      "Epoch 26/60\n",
      "3153/3153 [==============================] - 82s 26ms/step - loss: 0.6835 - acc: 0.9423 - val_loss: 0.6830 - val_acc: 0.9506\n",
      "Epoch 27/60\n",
      "3153/3153 [==============================] - 82s 26ms/step - loss: 0.6823 - acc: 0.9426 - val_loss: 0.6819 - val_acc: 0.9480\n",
      "Epoch 28/60\n",
      "3153/3153 [==============================] - 82s 26ms/step - loss: 0.6811 - acc: 0.9505 - val_loss: 0.6807 - val_acc: 0.9506\n",
      "Epoch 29/60\n",
      "3153/3153 [==============================] - 82s 26ms/step - loss: 0.6798 - acc: 0.9531 - val_loss: 0.6796 - val_acc: 0.9493\n",
      "Epoch 30/60\n",
      "3153/3153 [==============================] - 82s 26ms/step - loss: 0.6784 - acc: 0.9559 - val_loss: 0.6777 - val_acc: 0.9645\n",
      "Epoch 31/60\n",
      "3153/3153 [==============================] - 82s 26ms/step - loss: 0.6769 - acc: 0.9604 - val_loss: 0.6764 - val_acc: 0.9632\n",
      "Epoch 32/60\n",
      "3153/3153 [==============================] - 82s 26ms/step - loss: 0.6755 - acc: 0.9600 - val_loss: 0.6749 - val_acc: 0.9620\n",
      "Epoch 33/60\n",
      "3153/3153 [==============================] - 81s 26ms/step - loss: 0.6739 - acc: 0.9597 - val_loss: 0.6731 - val_acc: 0.9658\n",
      "Epoch 34/60\n",
      "3153/3153 [==============================] - 93s 29ms/step - loss: 0.6719 - acc: 0.9661 - val_loss: 0.6714 - val_acc: 0.9620\n",
      "Epoch 35/60\n",
      "3153/3153 [==============================] - 84s 27ms/step - loss: 0.6703 - acc: 0.9661 - val_loss: 0.6696 - val_acc: 0.9645\n",
      "Epoch 36/60\n",
      "3153/3153 [==============================] - 80s 25ms/step - loss: 0.6685 - acc: 0.9661 - val_loss: 0.6677 - val_acc: 0.9670\n",
      "Epoch 37/60\n",
      "3153/3153 [==============================] - 80s 25ms/step - loss: 0.6667 - acc: 0.9648 - val_loss: 0.6659 - val_acc: 0.9632\n",
      "Epoch 38/60\n",
      "3153/3153 [==============================] - 80s 25ms/step - loss: 0.6647 - acc: 0.9680 - val_loss: 0.6637 - val_acc: 0.9683\n",
      "Epoch 39/60\n",
      "3153/3153 [==============================] - 80s 25ms/step - loss: 0.6628 - acc: 0.9648 - val_loss: 0.6623 - val_acc: 0.9594\n",
      "Epoch 40/60\n",
      "3153/3153 [==============================] - 80s 26ms/step - loss: 0.6605 - acc: 0.9686 - val_loss: 0.6596 - val_acc: 0.9658\n",
      "Epoch 41/60\n",
      "3153/3153 [==============================] - 80s 25ms/step - loss: 0.6584 - acc: 0.9673 - val_loss: 0.6579 - val_acc: 0.9632\n",
      "Epoch 42/60\n",
      "3153/3153 [==============================] - 80s 25ms/step - loss: 0.6562 - acc: 0.9689 - val_loss: 0.6554 - val_acc: 0.9645\n",
      "Epoch 43/60\n",
      "3153/3153 [==============================] - 81s 26ms/step - loss: 0.6541 - acc: 0.9670 - val_loss: 0.6528 - val_acc: 0.9670\n",
      "Epoch 44/60\n",
      "3153/3153 [==============================] - 80s 25ms/step - loss: 0.6519 - acc: 0.9657 - val_loss: 0.6510 - val_acc: 0.9620\n",
      "Epoch 45/60\n",
      "3153/3153 [==============================] - 80s 25ms/step - loss: 0.6495 - acc: 0.9661 - val_loss: 0.6486 - val_acc: 0.9620\n",
      "Epoch 46/60\n",
      "3153/3153 [==============================] - 80s 25ms/step - loss: 0.6470 - acc: 0.9667 - val_loss: 0.6451 - val_acc: 0.9721\n",
      "Epoch 47/60\n",
      "3153/3153 [==============================] - 80s 25ms/step - loss: 0.6443 - acc: 0.9680 - val_loss: 0.6428 - val_acc: 0.9696\n",
      "Epoch 48/60\n",
      "3153/3153 [==============================] - 80s 25ms/step - loss: 0.6417 - acc: 0.9686 - val_loss: 0.6400 - val_acc: 0.9708\n",
      "Epoch 49/60\n",
      "3153/3153 [==============================] - 81s 26ms/step - loss: 0.6392 - acc: 0.9676 - val_loss: 0.6377 - val_acc: 0.9683\n",
      "Epoch 50/60\n",
      "3153/3153 [==============================] - 92s 29ms/step - loss: 0.6366 - acc: 0.9676 - val_loss: 0.6353 - val_acc: 0.9658\n",
      "Epoch 51/60\n",
      "3153/3153 [==============================] - 88s 28ms/step - loss: 0.6339 - acc: 0.9667 - val_loss: 0.6323 - val_acc: 0.9658\n",
      "Epoch 52/60\n",
      "3153/3153 [==============================] - 85s 27ms/step - loss: 0.6306 - acc: 0.9689 - val_loss: 0.6291 - val_acc: 0.9683\n",
      "Epoch 53/60\n",
      "3153/3153 [==============================] - 99s 31ms/step - loss: 0.6276 - acc: 0.9705 - val_loss: 0.6259 - val_acc: 0.9708\n",
      "Epoch 54/60\n",
      "3153/3153 [==============================] - 90s 28ms/step - loss: 0.6250 - acc: 0.9683 - val_loss: 0.6230 - val_acc: 0.9708\n",
      "Epoch 55/60\n",
      "3153/3153 [==============================] - 93s 30ms/step - loss: 0.6219 - acc: 0.9692 - val_loss: 0.6202 - val_acc: 0.9696\n",
      "Epoch 56/60\n",
      "3153/3153 [==============================] - 95s 30ms/step - loss: 0.6185 - acc: 0.9724 - val_loss: 0.6169 - val_acc: 0.9721\n",
      "Epoch 57/60\n",
      "3153/3153 [==============================] - 92s 29ms/step - loss: 0.6158 - acc: 0.9705 - val_loss: 0.6144 - val_acc: 0.9670\n",
      "Epoch 58/60\n",
      "3153/3153 [==============================] - 87s 28ms/step - loss: 0.6126 - acc: 0.9692 - val_loss: 0.6109 - val_acc: 0.9696\n",
      "Epoch 59/60\n",
      "3153/3153 [==============================] - 90s 28ms/step - loss: 0.6089 - acc: 0.9721 - val_loss: 0.6077 - val_acc: 0.9708\n",
      "Epoch 60/60\n",
      "3153/3153 [==============================] - 91s 29ms/step - loss: 0.6063 - acc: 0.9696 - val_loss: 0.6045 - val_acc: 0.9696\n"
     ]
    }
   ],
   "source": [
    "historyn2 =model_n2.fit(X_train, y_train, epochs= 60, validation_split = 0.2)"
   ]
  },
  {
   "cell_type": "code",
   "execution_count": 27,
   "metadata": {},
   "outputs": [],
   "source": [
    "model_n2.save('model_electron_or_noise_n2.h5')"
   ]
  },
  {
   "cell_type": "code",
   "execution_count": 28,
   "metadata": {},
   "outputs": [
    {
     "name": "stdout",
     "output_type": "stream",
     "text": [
      "1314/1314 [==============================] - 10s 8ms/step\n",
      "Accuracy with the model: 94.75%\n"
     ]
    }
   ],
   "source": [
    "loss, acc = model_n2.evaluate(X_test, y_test)\n",
    "print('Accuracy with the model: {:5.2f}%'.format(100*acc))"
   ]
  },
  {
   "cell_type": "code",
   "execution_count": 29,
   "metadata": {},
   "outputs": [],
   "source": [
    "y_predicted2 = model_n2.predict(X_test)\n",
    "y_predicted2[np.where(y_predicted2>=0.5)] = 1\n",
    "y_predicted2[np.where(y_predicted2<0.5)] = 0"
   ]
  },
  {
   "cell_type": "code",
   "execution_count": 30,
   "metadata": {},
   "outputs": [
    {
     "data": {
      "image/png": "[encoded data removed]",
      "text/plain": [
       "<Figure size 576x432 with 2 Axes>"
      ]
     },
     "metadata": {
      "needs_background": "light"
     },
     "output_type": "display_data"
    }
   ],
   "source": [
    "conf2 = confusion_matrix(y_test, y_predicted2, labels = list([0,1]))\n",
    "plot_confusion_matrix(cm           = conf2, \n",
    "                      normalize    = False,\n",
    "                      target_names = ['noise', 'electron'],\n",
    "                      title        = \"Confusion Matrix\")"
   ]
  },
  {
   "cell_type": "code",
   "execution_count": 31,
   "metadata": {},
   "outputs": [
    {
     "data": {
      "image/png": "[encoded data removed]",
      "text/plain": [
       "<Figure size 432x288 with 1 Axes>"
      ]
     },
     "metadata": {
      "needs_background": "light"
     },
     "output_type": "display_data"
    }
   ],
   "source": [
    "history_n2 = historyn2.history\n",
    "loss_values_n2 = history_n2['loss']\n",
    "val_loss_values_n2 = history_n2['val_loss']\n",
    "epochs_n2 = range(1, len(loss_values_n2) + 1)\n",
    "plt.plot(epochs_n2, loss_values_n2, 'bo', label='Training loss')\n",
    "plt.plot(epochs_n2, val_loss_values_n2, 'b', label='Validation loss')\n",
    "plt.title('Training and validation loss')\n",
    "plt.xlabel('Epochs')\n",
    "plt.ylabel('Loss')\n",
    "plt.legend()\n",
    "plt.show()"
   ]
  },
  {
   "cell_type": "markdown",
   "metadata": {},
   "source": [
    "### Third model: relu activation"
   ]
  },
  {
   "cell_type": "code",
   "execution_count": 11,
   "metadata": {
    "scrolled": true
   },
   "outputs": [
    {
     "name": "stdout",
     "output_type": "stream",
     "text": [
      "Model: \"sequential_1\"\n",
      "_________________________________________________________________\n",
      "Layer (type)                 Output Shape              Param #   \n",
      "=================================================================\n",
      "conv2d_1 (Conv2D)            (None, 199, 145, 32)      320       \n",
      "_________________________________________________________________\n",
      "max_pooling2d_1 (MaxPooling2 (None, 99, 72, 32)        0         \n",
      "_________________________________________________________________\n",
      "conv2d_2 (Conv2D)            (None, 97, 70, 64)        18496     \n",
      "_________________________________________________________________\n",
      "max_pooling2d_2 (MaxPooling2 (None, 48, 35, 64)        0         \n",
      "_________________________________________________________________\n",
      "conv2d_3 (Conv2D)            (None, 46, 33, 128)       73856     \n",
      "_________________________________________________________________\n",
      "max_pooling2d_3 (MaxPooling2 (None, 23, 16, 128)       0         \n",
      "_________________________________________________________________\n",
      "conv2d_4 (Conv2D)            (None, 21, 14, 128)       147584    \n",
      "_________________________________________________________________\n",
      "max_pooling2d_4 (MaxPooling2 (None, 10, 7, 128)        0         \n",
      "_________________________________________________________________\n",
      "flatten_1 (Flatten)          (None, 8960)              0         \n",
      "_________________________________________________________________\n",
      "dense_1 (Dense)              (None, 2050)              18370050  \n",
      "_________________________________________________________________\n",
      "dense_2 (Dense)              (None, 512)               1050112   \n",
      "_________________________________________________________________\n",
      "dense_3 (Dense)              (None, 1)                 513       \n",
      "=================================================================\n",
      "Total params: 19,660,931\n",
      "Trainable params: 19,660,931\n",
      "Non-trainable params: 0\n",
      "_________________________________________________________________\n"
     ]
    }
   ],
   "source": [
    "model_n3 = models.Sequential()\n",
    "model_n3.add(layers.Conv2D(32,(3,3), activation='relu', input_shape=(window_y, window_x, 1)))\n",
    "model_n3.add(layers.MaxPooling2D((2,2)))\n",
    "model_n3.add(layers.Conv2D(64,(3,3), activation='relu'))\n",
    "model_n3.add(layers.MaxPooling2D((2,2)))\n",
    "model_n3.add(layers.Conv2D(128,(3,3), activation='relu'))\n",
    "model_n3.add(layers.MaxPooling2D((2,2)))\n",
    "model_n3.add(layers.Conv2D(128,(3,3), activation='relu'))\n",
    "model_n3.add(layers.MaxPooling2D((2,2)))\n",
    "\n",
    "model_n3.add(layers.Flatten())\n",
    "model_n3.add(layers.Dense(units= 2050, activation='relu'))\n",
    "model_n3.add(layers.Dense(units= 512, activation='relu'))\n",
    "model_n3.add(layers.Dense(units= 1, activation='sigmoid'))\n",
    "model_n3.summary()"
   ]
  },
  {
   "cell_type": "code",
   "execution_count": 12,
   "metadata": {},
   "outputs": [],
   "source": [
    "model_n3.compile(optimizer=optimizers.RMSprop(lr= 1e-4),loss='binary_crossentropy', metrics=['acc'])"
   ]
  },
  {
   "cell_type": "code",
   "execution_count": 13,
   "metadata": {
    "scrolled": true
   },
   "outputs": [
    {
     "name": "stdout",
     "output_type": "stream",
     "text": [
      "Train on 3153 samples, validate on 789 samples\n",
      "Epoch 1/45\n",
      "3153/3153 [==============================] - 80s 25ms/step - loss: 0.2114 - acc: 0.9280 - val_loss: 0.1141 - val_acc: 0.9670\n",
      "Epoch 2/45\n",
      "3153/3153 [==============================] - 80s 25ms/step - loss: 0.1265 - acc: 0.9607 - val_loss: 0.1319 - val_acc: 0.9632\n",
      "Epoch 3/45\n",
      "3153/3153 [==============================] - 76s 24ms/step - loss: 0.1082 - acc: 0.9676 - val_loss: 0.1005 - val_acc: 0.9759\n",
      "Epoch 4/45\n",
      "3153/3153 [==============================] - 95s 30ms/step - loss: 0.1041 - acc: 0.9711 - val_loss: 0.1062 - val_acc: 0.9721\n",
      "Epoch 5/45\n",
      "3153/3153 [==============================] - 78s 25ms/step - loss: 0.1020 - acc: 0.9724 - val_loss: 0.0938 - val_acc: 0.9747\n",
      "Epoch 6/45\n",
      "3153/3153 [==============================] - 78s 25ms/step - loss: 0.0876 - acc: 0.9759 - val_loss: 0.0914 - val_acc: 0.9772\n",
      "Epoch 7/45\n",
      "3153/3153 [==============================] - 80s 25ms/step - loss: 0.0917 - acc: 0.9759 - val_loss: 0.1057 - val_acc: 0.9772\n",
      "Epoch 8/45\n",
      "3153/3153 [==============================] - 80s 25ms/step - loss: 0.1009 - acc: 0.9753 - val_loss: 0.1027 - val_acc: 0.9772\n",
      "Epoch 9/45\n",
      "3153/3153 [==============================] - 79s 25ms/step - loss: 0.0817 - acc: 0.9781 - val_loss: 0.1120 - val_acc: 0.9747\n",
      "Epoch 10/45\n",
      "3153/3153 [==============================] - 81s 26ms/step - loss: 0.0763 - acc: 0.9778 - val_loss: 0.1048 - val_acc: 0.9734\n",
      "Epoch 11/45\n",
      "3153/3153 [==============================] - 81s 26ms/step - loss: 0.0701 - acc: 0.9810 - val_loss: 0.1301 - val_acc: 0.9683\n",
      "Epoch 12/45\n",
      "3153/3153 [==============================] - 80s 25ms/step - loss: 0.0676 - acc: 0.9813 - val_loss: 0.1894 - val_acc: 0.9683\n",
      "Epoch 13/45\n",
      "3153/3153 [==============================] - 83s 26ms/step - loss: 0.0713 - acc: 0.9829 - val_loss: 0.1422 - val_acc: 0.9772\n",
      "Epoch 14/45\n",
      "3153/3153 [==============================] - 81s 26ms/step - loss: 0.0658 - acc: 0.9829 - val_loss: 0.1283 - val_acc: 0.9759\n",
      "Epoch 15/45\n",
      "3153/3153 [==============================] - 77s 24ms/step - loss: 0.0829 - acc: 0.9848 - val_loss: 0.1323 - val_acc: 0.9747\n",
      "Epoch 16/45\n",
      "3153/3153 [==============================] - 77s 24ms/step - loss: 0.0610 - acc: 0.9857 - val_loss: 0.1254 - val_acc: 0.9721\n",
      "Epoch 17/45\n",
      "3153/3153 [==============================] - 78s 25ms/step - loss: 0.0685 - acc: 0.9838 - val_loss: 0.1400 - val_acc: 0.9670\n",
      "Epoch 18/45\n",
      "3153/3153 [==============================] - 77s 24ms/step - loss: 0.0651 - acc: 0.9848 - val_loss: 0.1274 - val_acc: 0.9759\n",
      "Epoch 19/45\n",
      "3153/3153 [==============================] - 78s 25ms/step - loss: 0.0723 - acc: 0.9857 - val_loss: 0.1364 - val_acc: 0.9721\n",
      "Epoch 20/45\n",
      "3153/3153 [==============================] - 77s 24ms/step - loss: 0.0561 - acc: 0.9851 - val_loss: 0.2717 - val_acc: 0.9696\n",
      "Epoch 21/45\n",
      "3153/3153 [==============================] - 80s 25ms/step - loss: 0.0573 - acc: 0.9857 - val_loss: 0.1671 - val_acc: 0.9696\n",
      "Epoch 22/45\n",
      "3153/3153 [==============================] - 79s 25ms/step - loss: 0.0604 - acc: 0.9864 - val_loss: 0.1405 - val_acc: 0.9683\n",
      "Epoch 23/45\n",
      "3153/3153 [==============================] - 81s 26ms/step - loss: 0.0652 - acc: 0.9851 - val_loss: 0.1320 - val_acc: 0.9734\n",
      "Epoch 24/45\n",
      "3153/3153 [==============================] - 85s 27ms/step - loss: 0.0546 - acc: 0.9870 - val_loss: 0.1354 - val_acc: 0.9772\n",
      "Epoch 25/45\n",
      "3153/3153 [==============================] - 82s 26ms/step - loss: 0.0561 - acc: 0.9870 - val_loss: 0.1601 - val_acc: 0.9670\n",
      "Epoch 26/45\n",
      "3153/3153 [==============================] - 79s 25ms/step - loss: 0.0546 - acc: 0.9860 - val_loss: 0.1833 - val_acc: 0.9632\n",
      "Epoch 27/45\n",
      "3153/3153 [==============================] - 81s 26ms/step - loss: 0.0570 - acc: 0.9857 - val_loss: 0.1633 - val_acc: 0.9721\n",
      "Epoch 28/45\n",
      "3153/3153 [==============================] - 82s 26ms/step - loss: 0.0673 - acc: 0.9860 - val_loss: 0.1685 - val_acc: 0.9683\n",
      "Epoch 29/45\n",
      "3153/3153 [==============================] - 85s 27ms/step - loss: 0.0569 - acc: 0.9873 - val_loss: 0.1827 - val_acc: 0.9696\n",
      "Epoch 30/45\n",
      "3153/3153 [==============================] - 81s 26ms/step - loss: 0.0687 - acc: 0.9870 - val_loss: 0.1596 - val_acc: 0.9708\n",
      "Epoch 31/45\n",
      "3153/3153 [==============================] - 79s 25ms/step - loss: 0.0527 - acc: 0.9870 - val_loss: 0.1792 - val_acc: 0.9696\n",
      "Epoch 32/45\n",
      "3153/3153 [==============================] - 79s 25ms/step - loss: 0.0506 - acc: 0.9864 - val_loss: 0.1901 - val_acc: 0.9734\n",
      "Epoch 33/45\n",
      "3153/3153 [==============================] - 87s 28ms/step - loss: 0.0621 - acc: 0.9876 - val_loss: 0.4077 - val_acc: 0.9670\n",
      "Epoch 34/45\n",
      "3153/3153 [==============================] - 81s 26ms/step - loss: 0.0572 - acc: 0.9864 - val_loss: 0.1802 - val_acc: 0.9696\n",
      "Epoch 35/45\n",
      "3153/3153 [==============================] - 81s 26ms/step - loss: 0.0522 - acc: 0.9867 - val_loss: 0.1948 - val_acc: 0.9670\n",
      "Epoch 36/45\n",
      "3153/3153 [==============================] - 82s 26ms/step - loss: 0.0521 - acc: 0.9873 - val_loss: 0.2728 - val_acc: 0.9670\n",
      "Epoch 37/45\n",
      "3153/3153 [==============================] - 77s 25ms/step - loss: 0.0633 - acc: 0.9876 - val_loss: 0.2397 - val_acc: 0.9696\n",
      "Epoch 38/45\n",
      "3153/3153 [==============================] - 77s 24ms/step - loss: 0.0519 - acc: 0.9883 - val_loss: 0.2052 - val_acc: 0.9721\n",
      "Epoch 39/45\n",
      "3153/3153 [==============================] - 79s 25ms/step - loss: 0.0598 - acc: 0.9873 - val_loss: 0.2064 - val_acc: 0.9670\n",
      "Epoch 40/45\n",
      "3153/3153 [==============================] - 77s 24ms/step - loss: 0.0577 - acc: 0.9879 - val_loss: 0.1966 - val_acc: 0.9721\n",
      "Epoch 41/45\n",
      "3153/3153 [==============================] - 77s 24ms/step - loss: 0.0486 - acc: 0.9889 - val_loss: 0.2606 - val_acc: 0.9645\n",
      "Epoch 42/45\n",
      "3153/3153 [==============================] - 77s 24ms/step - loss: 0.0550 - acc: 0.9873 - val_loss: 0.2771 - val_acc: 0.9670\n",
      "Epoch 43/45\n",
      "3153/3153 [==============================] - 77s 24ms/step - loss: 0.0481 - acc: 0.9889 - val_loss: 0.2161 - val_acc: 0.9683\n",
      "Epoch 44/45\n",
      "3153/3153 [==============================] - 77s 25ms/step - loss: 0.0471 - acc: 0.9876 - val_loss: 0.2615 - val_acc: 0.9645\n",
      "Epoch 45/45\n",
      "3153/3153 [==============================] - 77s 24ms/step - loss: 0.0938 - acc: 0.9873 - val_loss: 0.2100 - val_acc: 0.9696\n"
     ]
    }
   ],
   "source": [
    "historyn3 =model_n3.fit(X_train, y_train, epochs= 45, validation_split = 0.2)"
   ]
  },
  {
   "cell_type": "code",
   "execution_count": 14,
   "metadata": {},
   "outputs": [],
   "source": [
    "model_n3.save('model_electron_or_noise_n3.h5')"
   ]
  },
  {
   "cell_type": "code",
   "execution_count": 15,
   "metadata": {},
   "outputs": [
    {
     "name": "stdout",
     "output_type": "stream",
     "text": [
      "1314/1314 [==============================] - 9s 7ms/step\n",
      "Accuracy with the model: 96.96%\n"
     ]
    }
   ],
   "source": [
    "loss, acc = model_n3.evaluate(X_test, y_test)\n",
    "print('Accuracy with the model: {:5.2f}%'.format(100*acc))"
   ]
  },
  {
   "cell_type": "code",
   "execution_count": 16,
   "metadata": {},
   "outputs": [],
   "source": [
    "y_predicted3 = model_n3.predict(X_test)\n",
    "y_predicted3[np.where(y_predicted3>=0.5)] = 1\n",
    "y_predicted3[np.where(y_predicted3<0.5)] = 0"
   ]
  },
  {
   "cell_type": "code",
   "execution_count": 26,
   "metadata": {},
   "outputs": [
    {
     "data": {
      "image/png": "[encoded data removed]",
      "text/plain": [
       "<Figure size 576x432 with 2 Axes>"
      ]
     },
     "metadata": {
      "needs_background": "light"
     },
     "output_type": "display_data"
    }
   ],
   "source": [
    "conf3 = confusion_matrix(y_test, y_predicted3, labels = list([0,1]))\n",
    "plot_confusion_matrix(cm           = conf3, \n",
    "                      normalize    = False,\n",
    "                      target_names = ['noise', 'electron'],\n",
    "                      title        = \"Confusion Matrix\")"
   ]
  },
  {
   "cell_type": "code",
   "execution_count": 27,
   "metadata": {},
   "outputs": [
    {
     "data": {
      "image/png": "[encoded data removed]",
      "text/plain": [
       "<Figure size 432x288 with 1 Axes>"
      ]
     },
     "metadata": {
      "needs_background": "light"
     },
     "output_type": "display_data"
    }
   ],
   "source": [
    "history_n3 = historyn3.history\n",
    "loss_values_n3 = history_n3['loss']\n",
    "val_loss_values_n3 = history_n3['val_loss']\n",
    "epochs_n3 = range(1, len(loss_values_n3) + 1)\n",
    "plt.plot(epochs_n3, loss_values_n3, 'bo', label='Training loss')\n",
    "plt.plot(epochs_n3, val_loss_values_n3, 'b', label='Validation loss')\n",
    "plt.title('Training and validation loss')\n",
    "plt.xlabel('Epochs')\n",
    "plt.ylabel('Loss')\n",
    "plt.legend()\n",
    "plt.show()"
   ]
  },
  {
   "cell_type": "markdown",
   "metadata": {},
   "source": [
    "### Fourth model: relu activation, dropout"
   ]
  },
  {
   "cell_type": "code",
   "execution_count": 40,
   "metadata": {
    "scrolled": true
   },
   "outputs": [
    {
     "name": "stdout",
     "output_type": "stream",
     "text": [
      "Model: \"sequential_4\"\n",
      "_________________________________________________________________\n",
      "Layer (type)                 Output Shape              Param #   \n",
      "=================================================================\n",
      "conv2d_13 (Conv2D)           (None, 199, 145, 32)      320       \n",
      "_________________________________________________________________\n",
      "max_pooling2d_13 (MaxPooling (None, 99, 72, 32)        0         \n",
      "_________________________________________________________________\n",
      "conv2d_14 (Conv2D)           (None, 97, 70, 64)        18496     \n",
      "_________________________________________________________________\n",
      "max_pooling2d_14 (MaxPooling (None, 48, 35, 64)        0         \n",
      "_________________________________________________________________\n",
      "conv2d_15 (Conv2D)           (None, 46, 33, 128)       73856     \n",
      "_________________________________________________________________\n",
      "max_pooling2d_15 (MaxPooling (None, 23, 16, 128)       0         \n",
      "_________________________________________________________________\n",
      "conv2d_16 (Conv2D)           (None, 21, 14, 128)       147584    \n",
      "_________________________________________________________________\n",
      "max_pooling2d_16 (MaxPooling (None, 10, 7, 128)        0         \n",
      "_________________________________________________________________\n",
      "flatten_4 (Flatten)          (None, 8960)              0         \n",
      "_________________________________________________________________\n",
      "dropout_1 (Dropout)          (None, 8960)              0         \n",
      "_________________________________________________________________\n",
      "dense_10 (Dense)             (None, 2050)              18370050  \n",
      "_________________________________________________________________\n",
      "dense_11 (Dense)             (None, 512)               1050112   \n",
      "_________________________________________________________________\n",
      "dense_12 (Dense)             (None, 1)                 513       \n",
      "=================================================================\n",
      "Total params: 19,660,931\n",
      "Trainable params: 19,660,931\n",
      "Non-trainable params: 0\n",
      "_________________________________________________________________\n"
     ]
    }
   ],
   "source": [
    "model_n4 = models.Sequential()\n",
    "model_n4.add(layers.Conv2D(32,(3,3), activation='relu', input_shape=(window_y, window_x, 1)))\n",
    "model_n4.add(layers.MaxPooling2D((2,2)))\n",
    "model_n4.add(layers.Conv2D(64,(3,3), activation='relu'))\n",
    "model_n4.add(layers.MaxPooling2D((2,2)))\n",
    "model_n4.add(layers.Conv2D(128,(3,3), activation='relu'))\n",
    "model_n4.add(layers.MaxPooling2D((2,2)))\n",
    "model_n4.add(layers.Conv2D(128,(3,3), activation='relu'))\n",
    "model_n4.add(layers.MaxPooling2D((2,2)))\n",
    "\n",
    "\n",
    "model_n4.add(layers.Flatten())\n",
    "model_n4.add(layers.Dropout(0.5))\n",
    "model_n4.add(layers.Dense(units= 2050, activation='relu'))\n",
    "model_n4.add(layers.Dense(units= 512, activation='relu'))\n",
    "model_n4.add(layers.Dense(units= 1, activation='sigmoid'))\n",
    "model_n4.summary()"
   ]
  },
  {
   "cell_type": "code",
   "execution_count": 41,
   "metadata": {},
   "outputs": [],
   "source": [
    "model_n4.compile(optimizer=optimizers.RMSprop(lr= 1e-4),loss='binary_crossentropy', metrics=['acc'])"
   ]
  },
  {
   "cell_type": "code",
   "execution_count": 42,
   "metadata": {
    "scrolled": true
   },
   "outputs": [
    {
     "name": "stdout",
     "output_type": "stream",
     "text": [
      "Train on 3153 samples, validate on 789 samples\n",
      "Epoch 1/40\n",
      "3153/3153 [==============================] - 91s 29ms/step - loss: 0.2203 - acc: 0.9194 - val_loss: 0.1312 - val_acc: 0.9556\n",
      "Epoch 2/40\n",
      "3153/3153 [==============================] - 91s 29ms/step - loss: 0.1433 - acc: 0.9578 - val_loss: 0.1115 - val_acc: 0.9658\n",
      "Epoch 3/40\n",
      "3153/3153 [==============================] - 92s 29ms/step - loss: 0.1250 - acc: 0.9651 - val_loss: 0.1030 - val_acc: 0.9683\n",
      "Epoch 4/40\n",
      "3153/3153 [==============================] - 93s 29ms/step - loss: 0.1188 - acc: 0.9664 - val_loss: 0.0994 - val_acc: 0.9721\n",
      "Epoch 5/40\n",
      "3153/3153 [==============================] - 91s 29ms/step - loss: 0.1090 - acc: 0.9676 - val_loss: 0.1011 - val_acc: 0.9696\n",
      "Epoch 6/40\n",
      "3153/3153 [==============================] - 91s 29ms/step - loss: 0.1076 - acc: 0.9686 - val_loss: 0.0976 - val_acc: 0.9759\n",
      "Epoch 7/40\n",
      "3153/3153 [==============================] - 91s 29ms/step - loss: 0.1054 - acc: 0.9737 - val_loss: 0.1048 - val_acc: 0.9747\n",
      "Epoch 8/40\n",
      "3153/3153 [==============================] - 90s 28ms/step - loss: 0.1030 - acc: 0.9730 - val_loss: 0.1385 - val_acc: 0.9670\n",
      "Epoch 9/40\n",
      "3153/3153 [==============================] - 90s 29ms/step - loss: 0.0935 - acc: 0.9753 - val_loss: 0.1717 - val_acc: 0.9658\n",
      "Epoch 10/40\n",
      "3153/3153 [==============================] - 90s 29ms/step - loss: 0.0990 - acc: 0.9753 - val_loss: 0.1077 - val_acc: 0.9747\n",
      "Epoch 11/40\n",
      "3153/3153 [==============================] - 90s 29ms/step - loss: 0.0906 - acc: 0.9768 - val_loss: 0.1100 - val_acc: 0.9721\n",
      "Epoch 12/40\n",
      "3153/3153 [==============================] - 90s 29ms/step - loss: 0.0938 - acc: 0.9765 - val_loss: 0.1847 - val_acc: 0.9683\n",
      "Epoch 13/40\n",
      "3153/3153 [==============================] - 90s 29ms/step - loss: 0.0851 - acc: 0.9778 - val_loss: 0.1678 - val_acc: 0.9696\n",
      "Epoch 14/40\n",
      "3153/3153 [==============================] - 90s 28ms/step - loss: 0.0858 - acc: 0.9781 - val_loss: 0.1609 - val_acc: 0.9734\n",
      "Epoch 15/40\n",
      "3153/3153 [==============================] - 86s 27ms/step - loss: 0.0808 - acc: 0.9797 - val_loss: 0.1749 - val_acc: 0.9696\n",
      "Epoch 16/40\n",
      "3153/3153 [==============================] - 88s 28ms/step - loss: 0.1628 - acc: 0.9788 - val_loss: 0.2194 - val_acc: 0.9696\n",
      "Epoch 17/40\n",
      "3153/3153 [==============================] - 84s 27ms/step - loss: 0.0823 - acc: 0.9816 - val_loss: 0.1438 - val_acc: 0.9708\n",
      "Epoch 18/40\n",
      "3153/3153 [==============================] - 83s 26ms/step - loss: 0.0851 - acc: 0.9803 - val_loss: 0.1651 - val_acc: 0.9747\n",
      "Epoch 19/40\n",
      "3153/3153 [==============================] - 96s 30ms/step - loss: 0.0793 - acc: 0.9807 - val_loss: 0.1622 - val_acc: 0.9721\n",
      "Epoch 20/40\n",
      "3153/3153 [==============================] - 83s 26ms/step - loss: 0.1705 - acc: 0.9810 - val_loss: 0.1284 - val_acc: 0.9734\n",
      "Epoch 21/40\n",
      "3153/3153 [==============================] - 91s 29ms/step - loss: 0.0747 - acc: 0.9816 - val_loss: 0.4733 - val_acc: 0.9696\n",
      "Epoch 22/40\n",
      "3153/3153 [==============================] - 90s 29ms/step - loss: 0.0890 - acc: 0.9803 - val_loss: 0.1124 - val_acc: 0.9759\n",
      "Epoch 23/40\n",
      "3153/3153 [==============================] - 90s 28ms/step - loss: 0.0827 - acc: 0.9816 - val_loss: 0.1004 - val_acc: 0.9772\n",
      "Epoch 24/40\n",
      "3153/3153 [==============================] - 91s 29ms/step - loss: 0.0739 - acc: 0.9816 - val_loss: 2.0297 - val_acc: 0.9670\n",
      "Epoch 25/40\n",
      "3153/3153 [==============================] - 91s 29ms/step - loss: 0.1422 - acc: 0.9832 - val_loss: 0.1055 - val_acc: 0.9772\n",
      "Epoch 26/40\n",
      "3153/3153 [==============================] - 91s 29ms/step - loss: 0.0697 - acc: 0.9832 - val_loss: 0.9094 - val_acc: 0.9683\n",
      "Epoch 27/40\n",
      "3153/3153 [==============================] - 92s 29ms/step - loss: 0.3147 - acc: 0.9819 - val_loss: 0.4957 - val_acc: 0.9696\n",
      "Epoch 28/40\n",
      "3153/3153 [==============================] - 91s 29ms/step - loss: 0.0676 - acc: 0.9832 - val_loss: 1.3251 - val_acc: 0.9670\n",
      "Epoch 29/40\n",
      "3153/3153 [==============================] - 94s 30ms/step - loss: 0.2156 - acc: 0.9807 - val_loss: 0.9186 - val_acc: 0.9696\n",
      "Epoch 30/40\n",
      "3153/3153 [==============================] - 90s 28ms/step - loss: 0.0717 - acc: 0.9822 - val_loss: 0.8318 - val_acc: 0.9734\n",
      "Epoch 31/40\n",
      "3153/3153 [==============================] - 93s 30ms/step - loss: 0.1208 - acc: 0.9838 - val_loss: 0.9953 - val_acc: 0.9721\n",
      "Epoch 32/40\n",
      "3153/3153 [==============================] - 89s 28ms/step - loss: 0.1833 - acc: 0.9822 - val_loss: 0.5998 - val_acc: 0.9747\n",
      "Epoch 33/40\n",
      "3153/3153 [==============================] - 89s 28ms/step - loss: 0.0678 - acc: 0.9832 - val_loss: 3.9852 - val_acc: 0.9670\n",
      "Epoch 34/40\n",
      "3153/3153 [==============================] - 92s 29ms/step - loss: 0.1536 - acc: 0.9835 - val_loss: 0.9142 - val_acc: 0.9721\n",
      "Epoch 35/40\n",
      "3153/3153 [==============================] - 90s 29ms/step - loss: 0.0963 - acc: 0.9835 - val_loss: 0.1000 - val_acc: 0.9759\n",
      "Epoch 36/40\n",
      "3153/3153 [==============================] - 90s 29ms/step - loss: 0.0736 - acc: 0.9819 - val_loss: 0.2865 - val_acc: 0.9721\n",
      "Epoch 37/40\n",
      "3153/3153 [==============================] - 90s 29ms/step - loss: 0.2093 - acc: 0.9841 - val_loss: 0.7487 - val_acc: 0.9708\n",
      "Epoch 38/40\n",
      "3153/3153 [==============================] - 90s 28ms/step - loss: 0.1217 - acc: 0.9832 - val_loss: 2.3033 - val_acc: 0.9708\n",
      "Epoch 39/40\n",
      "3153/3153 [==============================] - 90s 28ms/step - loss: 0.2810 - acc: 0.9848 - val_loss: 2.3816 - val_acc: 0.9708\n",
      "Epoch 40/40\n",
      "3153/3153 [==============================] - 89s 28ms/step - loss: 0.1174 - acc: 0.9838 - val_loss: 1.5969 - val_acc: 0.9708\n"
     ]
    }
   ],
   "source": [
    "historyn4 =model_n4.fit(X_train, y_train, epochs= 40, validation_split = 0.2)"
   ]
  },
  {
   "cell_type": "code",
   "execution_count": 43,
   "metadata": {},
   "outputs": [],
   "source": [
    "model_n4.save('model_electron_or_noise_n4.h5')"
   ]
  },
  {
   "cell_type": "code",
   "execution_count": 44,
   "metadata": {},
   "outputs": [
    {
     "name": "stdout",
     "output_type": "stream",
     "text": [
      "1314/1314 [==============================] - 10s 8ms/step\n",
      "Accuracy with the model: 94.90%\n"
     ]
    }
   ],
   "source": [
    "loss, acc = model_n4.evaluate(X_test, y_test)\n",
    "print('Accuracy with the model: {:5.2f}%'.format(100*acc))"
   ]
  },
  {
   "cell_type": "code",
   "execution_count": 45,
   "metadata": {},
   "outputs": [],
   "source": [
    "y_predicted4 = model_n4.predict(X_test)\n",
    "y_predicted4[np.where(y_predicted4>=0.5)] = 1\n",
    "y_predicted4[np.where(y_predicted4<0.5)] = 0"
   ]
  },
  {
   "cell_type": "code",
   "execution_count": 46,
   "metadata": {},
   "outputs": [
    {
     "data": {
      "image/png": "[encoded data removed]",
      "text/plain": [
       "<Figure size 576x432 with 2 Axes>"
      ]
     },
     "metadata": {
      "needs_background": "light"
     },
     "output_type": "display_data"
    }
   ],
   "source": [
    "conf4 = confusion_matrix(y_test, y_predicted4, labels = list([0,1]))\n",
    "plot_confusion_matrix(cm           = conf4, \n",
    "                      normalize    = False,\n",
    "                      target_names = ['noise', 'electron'],\n",
    "                      title        = \"Confusion Matrix\")"
   ]
  },
  {
   "cell_type": "code",
   "execution_count": 47,
   "metadata": {},
   "outputs": [
    {
     "data": {
      "image/png": "[encoded data removed]",
      "text/plain": [
       "<Figure size 432x288 with 1 Axes>"
      ]
     },
     "metadata": {
      "needs_background": "light"
     },
     "output_type": "display_data"
    }
   ],
   "source": [
    "history_n4 = historyn4.history\n",
    "loss_values_n4 = history_n4['loss']\n",
    "val_loss_values_n4 = history_n4['val_loss']\n",
    "epochs_n4 = range(1, len(loss_values_n4) + 1)\n",
    "plt.plot(epochs_n4, loss_values_n4, 'bo', label='Training loss')\n",
    "plt.plot(epochs_n4, val_loss_values_n4, 'b', label='Validation loss')\n",
    "plt.title('Training and validation loss')\n",
    "plt.xlabel('Epochs')\n",
    "plt.ylabel('Loss')\n",
    "plt.legend()\n",
    "plt.show()"
   ]
  },
  {
   "cell_type": "markdown",
   "metadata": {},
   "source": [
    "### Fifth model: one layer less, dropout"
   ]
  },
  {
   "cell_type": "code",
   "execution_count": 18,
   "metadata": {
    "scrolled": true
   },
   "outputs": [
    {
     "name": "stdout",
     "output_type": "stream",
     "text": [
      "Model: \"sequential_2\"\n",
      "_________________________________________________________________\n",
      "Layer (type)                 Output Shape              Param #   \n",
      "=================================================================\n",
      "conv2d_5 (Conv2D)            (None, 199, 145, 32)      320       \n",
      "_________________________________________________________________\n",
      "max_pooling2d_5 (MaxPooling2 (None, 99, 72, 32)        0         \n",
      "_________________________________________________________________\n",
      "conv2d_6 (Conv2D)            (None, 97, 70, 64)        18496     \n",
      "_________________________________________________________________\n",
      "max_pooling2d_6 (MaxPooling2 (None, 48, 35, 64)        0         \n",
      "_________________________________________________________________\n",
      "conv2d_7 (Conv2D)            (None, 46, 33, 128)       73856     \n",
      "_________________________________________________________________\n",
      "max_pooling2d_7 (MaxPooling2 (None, 23, 16, 128)       0         \n",
      "_________________________________________________________________\n",
      "conv2d_8 (Conv2D)            (None, 21, 14, 128)       147584    \n",
      "_________________________________________________________________\n",
      "max_pooling2d_8 (MaxPooling2 (None, 10, 7, 128)        0         \n",
      "_________________________________________________________________\n",
      "flatten_2 (Flatten)          (None, 8960)              0         \n",
      "_________________________________________________________________\n",
      "dropout_1 (Dropout)          (None, 8960)              0         \n",
      "_________________________________________________________________\n",
      "dense_4 (Dense)              (None, 512)               4588032   \n",
      "_________________________________________________________________\n",
      "dense_5 (Dense)              (None, 1)                 513       \n",
      "=================================================================\n",
      "Total params: 4,828,801\n",
      "Trainable params: 4,828,801\n",
      "Non-trainable params: 0\n",
      "_________________________________________________________________\n"
     ]
    }
   ],
   "source": [
    "model_n5 = models.Sequential()\n",
    "model_n5.add(layers.Conv2D(32,(3,3), activation='relu', input_shape=(window_y, window_x, 1)))\n",
    "model_n5.add(layers.MaxPooling2D((2,2)))\n",
    "model_n5.add(layers.Conv2D(64,(3,3), activation='relu'))\n",
    "model_n5.add(layers.MaxPooling2D((2,2)))\n",
    "model_n5.add(layers.Conv2D(128,(3,3), activation='relu'))\n",
    "model_n5.add(layers.MaxPooling2D((2,2)))\n",
    "model_n5.add(layers.Conv2D(128,(3,3), activation='relu'))\n",
    "model_n5.add(layers.MaxPooling2D((2,2)))\n",
    "\n",
    "\n",
    "model_n5.add(layers.Flatten())\n",
    "model_n5.add(layers.Dropout(0.5))\n",
    "#model_n4.add(layers.Dense(units= 2050, activation='relu'))\n",
    "model_n5.add(layers.Dense(units= 512, activation='relu'))\n",
    "model_n5.add(layers.Dense(units= 1, activation='sigmoid'))\n",
    "model_n5.summary()"
   ]
  },
  {
   "cell_type": "code",
   "execution_count": 19,
   "metadata": {},
   "outputs": [],
   "source": [
    "model_n5.compile(optimizer=optimizers.RMSprop(lr= 1e-4),loss='binary_crossentropy', metrics=['acc'])"
   ]
  },
  {
   "cell_type": "code",
   "execution_count": 20,
   "metadata": {
    "scrolled": true
   },
   "outputs": [
    {
     "name": "stdout",
     "output_type": "stream",
     "text": [
      "Train on 3153 samples, validate on 789 samples\n",
      "Epoch 1/40\n",
      "3153/3153 [==============================] - 70s 22ms/step - loss: 0.2526 - acc: 0.9125 - val_loss: 0.1320 - val_acc: 0.9569\n",
      "Epoch 2/40\n",
      "3153/3153 [==============================] - 63s 20ms/step - loss: 0.1362 - acc: 0.9562 - val_loss: 0.1111 - val_acc: 0.9683\n",
      "Epoch 3/40\n",
      "3153/3153 [==============================] - 66s 21ms/step - loss: 0.1189 - acc: 0.9638 - val_loss: 0.1030 - val_acc: 0.9721\n",
      "Epoch 4/40\n",
      "3153/3153 [==============================] - 64s 20ms/step - loss: 0.1168 - acc: 0.9670 - val_loss: 0.0987 - val_acc: 0.9696\n",
      "Epoch 5/40\n",
      "3153/3153 [==============================] - 65s 21ms/step - loss: 0.1095 - acc: 0.9689 - val_loss: 0.1024 - val_acc: 0.9708\n",
      "Epoch 6/40\n",
      "3153/3153 [==============================] - 64s 20ms/step - loss: 0.1148 - acc: 0.9667 - val_loss: 0.0986 - val_acc: 0.9721\n",
      "Epoch 7/40\n",
      "3153/3153 [==============================] - 66s 21ms/step - loss: 0.1137 - acc: 0.9689 - val_loss: 0.0931 - val_acc: 0.9734\n",
      "Epoch 8/40\n",
      "3153/3153 [==============================] - 70s 22ms/step - loss: 0.1044 - acc: 0.9689 - val_loss: 0.1174 - val_acc: 0.9734\n",
      "Epoch 9/40\n",
      "3153/3153 [==============================] - 69s 22ms/step - loss: 0.1155 - acc: 0.9705 - val_loss: 0.1029 - val_acc: 0.9759\n",
      "Epoch 10/40\n",
      "3153/3153 [==============================] - 68s 22ms/step - loss: 0.1004 - acc: 0.9718 - val_loss: 0.0911 - val_acc: 0.9759\n",
      "Epoch 11/40\n",
      "3153/3153 [==============================] - 64s 20ms/step - loss: 0.1100 - acc: 0.9702 - val_loss: 0.0984 - val_acc: 0.9772\n",
      "Epoch 12/40\n",
      "3153/3153 [==============================] - 64s 20ms/step - loss: 0.0955 - acc: 0.9724 - val_loss: 0.0987 - val_acc: 0.9772\n",
      "Epoch 13/40\n",
      "3153/3153 [==============================] - 64s 20ms/step - loss: 0.0995 - acc: 0.9721 - val_loss: 0.0980 - val_acc: 0.9810\n",
      "Epoch 14/40\n",
      "3153/3153 [==============================] - 64s 20ms/step - loss: 0.1115 - acc: 0.9727 - val_loss: 0.1158 - val_acc: 0.9734\n",
      "Epoch 15/40\n",
      "3153/3153 [==============================] - 64s 20ms/step - loss: 0.0979 - acc: 0.9721 - val_loss: 0.1034 - val_acc: 0.9747\n",
      "Epoch 16/40\n",
      "3153/3153 [==============================] - 64s 20ms/step - loss: 0.0942 - acc: 0.9746 - val_loss: 0.1061 - val_acc: 0.9721\n",
      "Epoch 17/40\n",
      "3153/3153 [==============================] - 64s 20ms/step - loss: 0.1084 - acc: 0.9749 - val_loss: 0.0990 - val_acc: 0.9759\n",
      "Epoch 18/40\n",
      "3153/3153 [==============================] - 64s 20ms/step - loss: 0.1110 - acc: 0.9746 - val_loss: 0.1232 - val_acc: 0.9721\n",
      "Epoch 19/40\n",
      "3153/3153 [==============================] - 64s 20ms/step - loss: 0.1085 - acc: 0.9740 - val_loss: 0.1501 - val_acc: 0.9683\n",
      "Epoch 20/40\n",
      "3153/3153 [==============================] - 64s 20ms/step - loss: 0.0915 - acc: 0.9718 - val_loss: 0.0887 - val_acc: 0.9797\n",
      "Epoch 21/40\n",
      "3153/3153 [==============================] - 64s 20ms/step - loss: 0.1187 - acc: 0.9737 - val_loss: 0.0878 - val_acc: 0.9785\n",
      "Epoch 22/40\n",
      "3153/3153 [==============================] - 63s 20ms/step - loss: 0.0832 - acc: 0.9772 - val_loss: 0.0905 - val_acc: 0.9797\n",
      "Epoch 23/40\n",
      "3153/3153 [==============================] - 64s 20ms/step - loss: 0.0887 - acc: 0.9768 - val_loss: 0.0986 - val_acc: 0.9747\n",
      "Epoch 24/40\n",
      "3153/3153 [==============================] - 64s 20ms/step - loss: 0.0980 - acc: 0.9775 - val_loss: 0.0918 - val_acc: 0.9772\n",
      "Epoch 25/40\n",
      "3153/3153 [==============================] - 64s 20ms/step - loss: 0.0854 - acc: 0.9768 - val_loss: 0.0953 - val_acc: 0.9772\n",
      "Epoch 26/40\n",
      "3153/3153 [==============================] - 64s 20ms/step - loss: 0.1169 - acc: 0.9765 - val_loss: 0.0960 - val_acc: 0.9759\n",
      "Epoch 27/40\n",
      "3153/3153 [==============================] - 64s 20ms/step - loss: 0.0873 - acc: 0.9762 - val_loss: 0.0887 - val_acc: 0.9797\n",
      "Epoch 28/40\n",
      "3153/3153 [==============================] - 64s 20ms/step - loss: 0.0817 - acc: 0.9794 - val_loss: 0.0952 - val_acc: 0.9785\n",
      "Epoch 29/40\n",
      "3153/3153 [==============================] - 63s 20ms/step - loss: 0.0977 - acc: 0.9778 - val_loss: 0.0934 - val_acc: 0.9797\n",
      "Epoch 30/40\n",
      "3153/3153 [==============================] - 64s 20ms/step - loss: 0.0963 - acc: 0.9775 - val_loss: 0.0918 - val_acc: 0.9785\n",
      "Epoch 31/40\n",
      "3153/3153 [==============================] - 64s 20ms/step - loss: 0.0845 - acc: 0.9800 - val_loss: 0.0949 - val_acc: 0.9785\n",
      "Epoch 32/40\n",
      "3153/3153 [==============================] - 63s 20ms/step - loss: 0.1160 - acc: 0.9788 - val_loss: 0.1348 - val_acc: 0.9721\n",
      "Epoch 33/40\n",
      "3153/3153 [==============================] - 64s 20ms/step - loss: 0.0900 - acc: 0.9803 - val_loss: 0.0971 - val_acc: 0.9785\n",
      "Epoch 34/40\n",
      "3153/3153 [==============================] - 63s 20ms/step - loss: 0.0875 - acc: 0.9794 - val_loss: 0.0986 - val_acc: 0.9785\n",
      "Epoch 35/40\n",
      "3153/3153 [==============================] - 64s 20ms/step - loss: 0.0723 - acc: 0.9797 - val_loss: 0.0939 - val_acc: 0.9797\n",
      "Epoch 36/40\n",
      "3153/3153 [==============================] - 63s 20ms/step - loss: 0.1054 - acc: 0.9810 - val_loss: 0.1200 - val_acc: 0.9772\n",
      "Epoch 37/40\n",
      "3153/3153 [==============================] - 64s 20ms/step - loss: 0.0742 - acc: 0.9807 - val_loss: 0.1327 - val_acc: 0.9759\n",
      "Epoch 38/40\n",
      "3153/3153 [==============================] - 64s 20ms/step - loss: 0.1900 - acc: 0.9807 - val_loss: 0.0940 - val_acc: 0.9785\n",
      "Epoch 39/40\n",
      "3153/3153 [==============================] - 64s 20ms/step - loss: 0.0721 - acc: 0.9810 - val_loss: 0.4346 - val_acc: 0.9721\n",
      "Epoch 40/40\n",
      "3153/3153 [==============================] - 63s 20ms/step - loss: 0.1639 - acc: 0.9807 - val_loss: 0.1909 - val_acc: 0.9772\n"
     ]
    }
   ],
   "source": [
    "historyn5 =model_n5.fit(X_train, y_train, epochs= 40, validation_split = 0.2)"
   ]
  },
  {
   "cell_type": "code",
   "execution_count": 21,
   "metadata": {},
   "outputs": [],
   "source": [
    "model_n5.save('model_electron_or_noise_n5.h5')"
   ]
  },
  {
   "cell_type": "code",
   "execution_count": 22,
   "metadata": {},
   "outputs": [
    {
     "name": "stdout",
     "output_type": "stream",
     "text": [
      "1314/1314 [==============================] - 8s 6ms/step\n",
      "Accuracy with the model: 96.27%\n"
     ]
    }
   ],
   "source": [
    "loss, acc = model_n5.evaluate(X_test, y_test)\n",
    "print('Accuracy with the model: {:5.2f}%'.format(100*acc))"
   ]
  },
  {
   "cell_type": "code",
   "execution_count": 23,
   "metadata": {},
   "outputs": [],
   "source": [
    "y_predicted5 = model_n5.predict(X_test)\n",
    "y_predicted5[np.where(y_predicted5>=0.5)] = 1\n",
    "y_predicted5[np.where(y_predicted5<0.5)] = 0"
   ]
  },
  {
   "cell_type": "code",
   "execution_count": 28,
   "metadata": {},
   "outputs": [
    {
     "data": {
      "image/png": "[encoded data removed]",
      "text/plain": [
       "<Figure size 576x432 with 2 Axes>"
      ]
     },
     "metadata": {
      "needs_background": "light"
     },
     "output_type": "display_data"
    }
   ],
   "source": [
    "conf5 = confusion_matrix(y_test, y_predicted5, labels = list([0,1]))\n",
    "plot_confusion_matrix(cm           = conf5, \n",
    "                      normalize    = False,\n",
    "                      target_names = ['noise', 'electron'],\n",
    "                      title        = \"Confusion Matrix\")"
   ]
  },
  {
   "cell_type": "code",
   "execution_count": 29,
   "metadata": {},
   "outputs": [
    {
     "data": {
      "image/png": "[encoded data removed]",
      "text/plain": [
       "<Figure size 432x288 with 1 Axes>"
      ]
     },
     "metadata": {
      "needs_background": "light"
     },
     "output_type": "display_data"
    }
   ],
   "source": [
    "history_n5 = historyn5.history\n",
    "loss_values_n5 = history_n5['loss']\n",
    "val_loss_values_n5 = history_n5['val_loss']\n",
    "epochs_n5 = range(1, len(loss_values_n5) + 1)\n",
    "plt.plot(epochs_n5, loss_values_n5, 'bo', label='Training loss')\n",
    "plt.plot(epochs_n5, val_loss_values_n5, 'b', label='Validation loss')\n",
    "plt.title('Training and validation loss')\n",
    "plt.xlabel('Epochs')\n",
    "plt.ylabel('Loss')\n",
    "plt.legend()\n",
    "plt.show()"
   ]
  },
  {
   "cell_type": "markdown",
   "metadata": {},
   "source": [
    "We conclude that the best model for this date is `model_electron_or_noise_n3.h5`"
   ]
  }
 ],
 "metadata": {
  "kernelspec": {
   "display_name": "Python 3",
   "language": "python",
   "name": "python3"
  },
  "language_info": {
   "codemirror_mode": {
    "name": "ipython",
    "version": 3
   },
   "file_extension": ".py",
   "mimetype": "text/x-python",
   "name": "python",
   "nbconvert_exporter": "python",
   "pygments_lexer": "ipython3",
   "version": "3.7.4"
  }
 },
 "nbformat": 4,
 "nbformat_minor": 2
}

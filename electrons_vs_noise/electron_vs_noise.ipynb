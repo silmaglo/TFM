{
 "cells": [
  {
   "cell_type": "markdown",
   "metadata": {},
   "source": [
    "### Building a model to differentiate between noise and electrons from scratch\n",
    "\n",
    "In this notebook, we will build a convolutional neural network to classify a signal as electron or noise. Therefore, we are facing a binary classification problem: electron or noise. This is the reason why we will have just one neuron in the output layer with sigmoidal activation.\n",
    "\n",
    "First we import the data stored in a file called `eVSn.npz` composed of two variables: 'data' for the numpy arrays with energy or noise, and 'labels' where 1 stands for electron signal and 0 for noise.\n",
    "\n",
    "* [First model: non scalated data](#First-model:-non-scalated-data)\n",
    "* [Second model: scalated data and random tracks](#Second-model:-scalated-data-and-random-tracks)\n",
    "* [Third model: scalated data, random tracks and dropout layers](#Third-model:-scalated-data,-random-tracks-and-dropout-layers)\n",
    "* [Forth model: one more filter, no drop out](#Forth-model:-one-more-filter,-no-drop-out)"
   ]
  },
  {
   "cell_type": "code",
   "execution_count": 1,
   "metadata": {},
   "outputs": [],
   "source": [
    "import numpy as np\n",
    "from sklearn.model_selection import train_test_split"
   ]
  },
  {
   "cell_type": "code",
   "execution_count": 2,
   "metadata": {},
   "outputs": [],
   "source": [
    "loaded = np.load('/Users/Silvia/Desktop/TFM/e_VS_n/eVSn.npz')\n",
    "\n",
    "X = loaded['data']\n",
    "y = loaded['labels']"
   ]
  },
  {
   "cell_type": "markdown",
   "metadata": {},
   "source": [
    "Once the data is loaded, we split it into train and test partitions with sklearn:"
   ]
  },
  {
   "cell_type": "code",
   "execution_count": 3,
   "metadata": {},
   "outputs": [
    {
     "name": "stdout",
     "output_type": "stream",
     "text": [
      "(3942, 201, 147)\n"
     ]
    }
   ],
   "source": [
    "X_train, X_test, y_train, y_test = train_test_split(X, y, random_state=0)\n",
    "\n",
    "print(X_train.shape)"
   ]
  },
  {
   "cell_type": "code",
   "execution_count": 4,
   "metadata": {},
   "outputs": [
    {
     "name": "stdout",
     "output_type": "stream",
     "text": [
      "(3942, 201, 147, 1)\n"
     ]
    }
   ],
   "source": [
    "X_train = X_train.reshape((X_train.shape[0], X_train.shape[1], X_train.shape[2], 1))\n",
    "\n",
    "print(X_train.shape)"
   ]
  },
  {
   "cell_type": "markdown",
   "metadata": {},
   "source": [
    "### First model: non scalated data\n",
    "\n",
    "Our network will be composed of a stack of alternate layers of `Conv2D` (with `relu` activation) and `MaxPooling2D` layers. It is important to note that the depth of feature maps progressively increases as we move through the neural network (from 32 to 128) while the size of feature maps decreases (from 200x146 to 70x7).\n",
    "\n",
    "As we are attacking a binary classification problem (electron or noise), we are going to finish the network with a single unit (a dense layer of size 1) and with a sigmoid activation. This unit will encode the probability that our network is looking at one class or another."
   ]
  },
  {
   "cell_type": "code",
   "execution_count": 5,
   "metadata": {},
   "outputs": [
    {
     "name": "stderr",
     "output_type": "stream",
     "text": [
      "Using TensorFlow backend.\n"
     ]
    }
   ],
   "source": [
    "import keras\n",
    "from keras import layers, models, optimizers"
   ]
  },
  {
   "cell_type": "code",
   "execution_count": 6,
   "metadata": {},
   "outputs": [],
   "source": [
    "window_y, window_x = 201,147"
   ]
  },
  {
   "cell_type": "code",
   "execution_count": 7,
   "metadata": {
    "scrolled": true
   },
   "outputs": [
    {
     "name": "stdout",
     "output_type": "stream",
     "text": [
      "Model: \"sequential_1\"\n",
      "_________________________________________________________________\n",
      "Layer (type)                 Output Shape              Param #   \n",
      "=================================================================\n",
      "conv2d_1 (Conv2D)            (None, 200, 146, 32)      160       \n",
      "_________________________________________________________________\n",
      "max_pooling2d_1 (MaxPooling2 (None, 100, 73, 32)       0         \n",
      "_________________________________________________________________\n",
      "conv2d_2 (Conv2D)            (None, 98, 71, 64)        18496     \n",
      "_________________________________________________________________\n",
      "max_pooling2d_2 (MaxPooling2 (None, 49, 35, 64)        0         \n",
      "_________________________________________________________________\n",
      "conv2d_3 (Conv2D)            (None, 47, 33, 128)       73856     \n",
      "_________________________________________________________________\n",
      "max_pooling2d_3 (MaxPooling2 (None, 23, 16, 128)       0         \n",
      "_________________________________________________________________\n",
      "conv2d_4 (Conv2D)            (None, 21, 14, 128)       147584    \n",
      "_________________________________________________________________\n",
      "max_pooling2d_4 (MaxPooling2 (None, 10, 7, 128)        0         \n",
      "_________________________________________________________________\n",
      "flatten_1 (Flatten)          (None, 8960)              0         \n",
      "_________________________________________________________________\n",
      "dense_1 (Dense)              (None, 2050)              18370050  \n",
      "_________________________________________________________________\n",
      "dense_2 (Dense)              (None, 512)               1050112   \n",
      "_________________________________________________________________\n",
      "dense_3 (Dense)              (None, 1)                 513       \n",
      "=================================================================\n",
      "Total params: 19,660,771\n",
      "Trainable params: 19,660,771\n",
      "Non-trainable params: 0\n",
      "_________________________________________________________________\n"
     ]
    }
   ],
   "source": [
    "model = models.Sequential()\n",
    "model.add(layers.Conv2D(32,(2,2), activation='relu', input_shape=(window_y, window_x, 1)))\n",
    "model.add(layers.MaxPooling2D((2,2)))\n",
    "model.add(layers.Conv2D(64,(3,3), activation='relu'))\n",
    "model.add(layers.MaxPooling2D((2,2)))\n",
    "model.add(layers.Conv2D(128,(3,3), activation='relu'))\n",
    "model.add(layers.MaxPooling2D((2,2)))\n",
    "model.add(layers.Conv2D(128,(3,3), activation='relu'))\n",
    "model.add(layers.MaxPooling2D((2,2)))\n",
    "\n",
    "model.add(layers.Flatten())\n",
    "model.add(layers.Dense(units= 2050, activation='softmax'))\n",
    "model.add(layers.Dense(units= 512, activation='softmax'))\n",
    "model.add(layers.Dense(units= 1, activation='sigmoid'))\n",
    "model.summary()"
   ]
  },
  {
   "cell_type": "markdown",
   "metadata": {},
   "source": [
    "To compile, we will use the `RMSprop`(lr=1e-4) omptimizer. As we are facing the binary classification problem, we will use binary crossentropy as our loss function"
   ]
  },
  {
   "cell_type": "code",
   "execution_count": 8,
   "metadata": {},
   "outputs": [],
   "source": [
    "model.compile(optimizer=optimizers.RMSprop(lr= 1e-4),loss='binary_crossentropy', metrics=['acc'])"
   ]
  },
  {
   "cell_type": "markdown",
   "metadata": {},
   "source": [
    "Now let's make the fit, where the input will be composed of X_train with the numpy arrays with energy and noise, and y_train with the labels for noise or energy. We are going to run 30 epochs and use a validation split of 0.2 of the total training data"
   ]
  },
  {
   "cell_type": "code",
   "execution_count": 9,
   "metadata": {
    "scrolled": true
   },
   "outputs": [
    {
     "name": "stdout",
     "output_type": "stream",
     "text": [
      "Train on 3153 samples, validate on 789 samples\n",
      "Epoch 1/30\n",
      "3153/3153 [==============================] - 78s 25ms/step - loss: 0.6931 - acc: 0.4954 - val_loss: 0.6930 - val_acc: 0.9594\n",
      "Epoch 2/30\n",
      "3153/3153 [==============================] - 76s 24ms/step - loss: 0.6929 - acc: 0.5874 - val_loss: 0.6928 - val_acc: 0.9911\n",
      "Epoch 3/30\n",
      "3153/3153 [==============================] - 80s 25ms/step - loss: 0.6927 - acc: 0.8325 - val_loss: 0.6926 - val_acc: 0.4968\n",
      "Epoch 4/30\n",
      "3153/3153 [==============================] - 82s 26ms/step - loss: 0.6925 - acc: 0.5281 - val_loss: 0.6923 - val_acc: 0.4968\n",
      "Epoch 5/30\n",
      "3153/3153 [==============================] - 81s 26ms/step - loss: 0.6921 - acc: 0.5046 - val_loss: 0.6920 - val_acc: 0.4968\n",
      "Epoch 6/30\n",
      "3153/3153 [==============================] - 82s 26ms/step - loss: 0.6918 - acc: 0.5046 - val_loss: 0.6916 - val_acc: 0.4968\n",
      "Epoch 7/30\n",
      "3153/3153 [==============================] - 76s 24ms/step - loss: 0.6914 - acc: 0.5046 - val_loss: 0.6913 - val_acc: 0.4968\n",
      "Epoch 8/30\n",
      "3153/3153 [==============================] - 84s 27ms/step - loss: 0.6910 - acc: 0.5046 - val_loss: 0.6908 - val_acc: 0.4968\n",
      "Epoch 9/30\n",
      "3153/3153 [==============================] - 87s 28ms/step - loss: 0.6905 - acc: 0.5046 - val_loss: 0.6904 - val_acc: 0.4968\n",
      "Epoch 10/30\n",
      "3153/3153 [==============================] - 79s 25ms/step - loss: 0.6901 - acc: 0.5046 - val_loss: 0.6899 - val_acc: 0.4968\n",
      "Epoch 11/30\n",
      "3153/3153 [==============================] - 81s 26ms/step - loss: 0.6895 - acc: 0.6273 - val_loss: 0.6894 - val_acc: 0.4968\n",
      "Epoch 12/30\n",
      "3153/3153 [==============================] - 88s 28ms/step - loss: 0.6889 - acc: 0.8211 - val_loss: 0.6887 - val_acc: 0.9835\n",
      "Epoch 13/30\n",
      "3153/3153 [==============================] - 87s 28ms/step - loss: 0.6882 - acc: 0.9055 - val_loss: 0.6881 - val_acc: 0.9785\n",
      "Epoch 14/30\n",
      "3153/3153 [==============================] - 90s 29ms/step - loss: 0.6875 - acc: 0.9892 - val_loss: 0.6873 - val_acc: 0.9823\n",
      "Epoch 15/30\n",
      "3153/3153 [==============================] - 83s 26ms/step - loss: 0.6867 - acc: 0.9892 - val_loss: 0.6865 - val_acc: 0.9785\n",
      "Epoch 16/30\n",
      "3153/3153 [==============================] - 83s 26ms/step - loss: 0.6858 - acc: 0.9879 - val_loss: 0.6856 - val_acc: 0.9785\n",
      "Epoch 17/30\n",
      "3153/3153 [==============================] - 87s 27ms/step - loss: 0.6849 - acc: 0.9883 - val_loss: 0.6846 - val_acc: 0.9797\n",
      "Epoch 18/30\n",
      "3153/3153 [==============================] - 77s 25ms/step - loss: 0.6839 - acc: 0.9879 - val_loss: 0.6836 - val_acc: 0.9785\n",
      "Epoch 19/30\n",
      "3153/3153 [==============================] - 77s 24ms/step - loss: 0.6828 - acc: 0.9873 - val_loss: 0.6826 - val_acc: 0.9785\n",
      "Epoch 20/30\n",
      "3153/3153 [==============================] - 77s 24ms/step - loss: 0.6817 - acc: 0.9873 - val_loss: 0.6814 - val_acc: 0.9797\n",
      "Epoch 21/30\n",
      "3153/3153 [==============================] - 79s 25ms/step - loss: 0.6805 - acc: 0.9864 - val_loss: 0.6801 - val_acc: 0.9810\n",
      "Epoch 22/30\n",
      "3153/3153 [==============================] - 77s 24ms/step - loss: 0.6792 - acc: 0.9883 - val_loss: 0.6788 - val_acc: 0.9797\n",
      "Epoch 23/30\n",
      "3153/3153 [==============================] - 77s 24ms/step - loss: 0.6779 - acc: 0.9864 - val_loss: 0.6774 - val_acc: 0.9797\n",
      "Epoch 24/30\n",
      "3153/3153 [==============================] - 76s 24ms/step - loss: 0.6764 - acc: 0.9867 - val_loss: 0.6760 - val_acc: 0.9823\n",
      "Epoch 25/30\n",
      "3153/3153 [==============================] - 88s 28ms/step - loss: 0.6748 - acc: 0.9899 - val_loss: 0.6743 - val_acc: 0.9848\n",
      "Epoch 26/30\n",
      "3153/3153 [==============================] - 85s 27ms/step - loss: 0.6732 - acc: 0.9902 - val_loss: 0.6727 - val_acc: 0.9848\n",
      "Epoch 27/30\n",
      "3153/3153 [==============================] - 80s 25ms/step - loss: 0.6715 - acc: 0.9902 - val_loss: 0.6711 - val_acc: 0.9823\n",
      "Epoch 28/30\n",
      "3153/3153 [==============================] - 81s 26ms/step - loss: 0.6696 - acc: 0.9921 - val_loss: 0.6691 - val_acc: 0.9861\n",
      "Epoch 29/30\n",
      "3153/3153 [==============================] - 83s 26ms/step - loss: 0.6678 - acc: 0.9918 - val_loss: 0.6672 - val_acc: 0.9861\n",
      "Epoch 30/30\n",
      "3153/3153 [==============================] - 83s 26ms/step - loss: 0.6658 - acc: 0.9921 - val_loss: 0.6654 - val_acc: 0.9848\n"
     ]
    },
    {
     "data": {
      "text/plain": [
       "<keras.callbacks.callbacks.History at 0x1df2974d0>"
      ]
     },
     "execution_count": 9,
     "metadata": {},
     "output_type": "execute_result"
    }
   ],
   "source": [
    "model.fit(X_train, y_train, epochs= 30, validation_split = 0.2)"
   ]
  },
  {
   "cell_type": "markdown",
   "metadata": {},
   "source": [
    "We save the model just trainned:"
   ]
  },
  {
   "cell_type": "code",
   "execution_count": 10,
   "metadata": {},
   "outputs": [],
   "source": [
    "model.save('model_electron_or_noise_v0.h5')"
   ]
  },
  {
   "cell_type": "markdown",
   "metadata": {},
   "source": [
    "Finally, we evaluate our model using the test dataset:"
   ]
  },
  {
   "cell_type": "code",
   "execution_count": 11,
   "metadata": {},
   "outputs": [
    {
     "name": "stdout",
     "output_type": "stream",
     "text": [
      "(1314, 201, 147, 1)\n"
     ]
    }
   ],
   "source": [
    "X_test = X_test.reshape((X_test.shape[0], X_test.shape[1], X_test.shape[2], 1))\n",
    "\n",
    "print(X_test.shape)"
   ]
  },
  {
   "cell_type": "code",
   "execution_count": 12,
   "metadata": {},
   "outputs": [
    {
     "name": "stdout",
     "output_type": "stream",
     "text": [
      "1314/1314 [==============================] - 10s 8ms/step\n",
      "Accuracy with the model: 98.86%\n"
     ]
    }
   ],
   "source": [
    "loss, acc = model.evaluate(X_test, y_test)\n",
    "print('Accuracy with the model: {:5.2f}%'.format(100*acc))"
   ]
  },
  {
   "cell_type": "markdown",
   "metadata": {},
   "source": [
    "Now we predict:"
   ]
  },
  {
   "cell_type": "code",
   "execution_count": 13,
   "metadata": {},
   "outputs": [],
   "source": [
    "y_predicted = model.predict(X_test)"
   ]
  },
  {
   "cell_type": "markdown",
   "metadata": {},
   "source": [
    "And here we plot some results:"
   ]
  },
  {
   "cell_type": "code",
   "execution_count": 14,
   "metadata": {},
   "outputs": [],
   "source": [
    "import matplotlib.pylab as plt"
   ]
  },
  {
   "cell_type": "code",
   "execution_count": 15,
   "metadata": {},
   "outputs": [
    {
     "data": {
      "image/png": "[encoded data removed]",
      "text/plain": [
       "<Figure size 2880x576 with 5 Axes>"
      ]
     },
     "metadata": {
      "needs_background": "light"
     },
     "output_type": "display_data"
    }
   ],
   "source": [
    "n = 5  # number of images to display\n",
    "y_pred=0\n",
    "plt.figure(figsize=(40, 8))\n",
    "for i in range(n):\n",
    "    # display original\n",
    "    ax = plt.subplot(1, n, i + 1)\n",
    "    plt.imshow(X_test[i].reshape(window_y, window_x), cmap='Reds')\n",
    "    #plt.gray()\n",
    "    ax.get_xaxis().set_visible(False)\n",
    "    ax.get_yaxis().set_visible(False)\n",
    "    if y_predicted[i]>0.5:\n",
    "        y_pred = 1\n",
    "    else:\n",
    "        y_pred = 0\n",
    "    \n",
    "    ax.set_title('Prediction: {}, Reality: {}'.format(y_pred, y_test[i]))\n",
    "plt.show()"
   ]
  },
  {
   "cell_type": "markdown",
   "metadata": {},
   "source": [
    "We can also plot the confusion matrix:"
   ]
  },
  {
   "cell_type": "code",
   "execution_count": 16,
   "metadata": {},
   "outputs": [],
   "source": [
    "#https://scikit-learn.org/0.21/auto_examples/model_selection/plot_confusion_matrix.html#sphx-glr-auto-examples-model-selection-plot-confusion-matrix-py\n",
    "\n",
    "from sklearn.metrics import confusion_matrix\n",
    "def plot_confusion_matrix(cm,\n",
    "                          target_names,\n",
    "                          title='Confusion matrix',\n",
    "                          cmap=None,\n",
    "                          normalize=True):\n",
    "    \"\"\"\n",
    "\n",
    "    Arguments\n",
    "    ---------\n",
    "    cm:           confusion matrix from sklearn.metrics.confusion_matrix\n",
    "\n",
    "    target_names: given classification classes such as [0, 1, 2]\n",
    "                  the class names, for example: ['high', 'medium', 'low']\n",
    "\n",
    "    title:        the text to display at the top of the matrix\n",
    "\n",
    "    cmap:         the gradient of the values displayed from matplotlib.pyplot.cm\n",
    "                  see http://matplotlib.org/examples/color/colormaps_reference.html\n",
    "                  plt.get_cmap('jet') or plt.cm.Blues\n",
    "\n",
    "    normalize:    If False, plot the raw numbers\n",
    "                  If True, plot the proportions\n",
    "\n",
    "    Citiation\n",
    "    ---------\n",
    "    http://scikit-learn.org/stable/auto_examples/model_selection/plot_confusion_matrix.html\n",
    "\n",
    "    \"\"\"\n",
    "    import numpy as np\n",
    "    import itertools\n",
    "\n",
    "    accuracy = np.trace(cm) / float(np.sum(cm))\n",
    "    misclass = 1 - accuracy\n",
    "\n",
    "    if cmap is None:\n",
    "        cmap = plt.get_cmap('Blues')\n",
    "\n",
    "    plt.figure(figsize=(8, 6))\n",
    "    plt.imshow(cm, interpolation='nearest', cmap=cmap)\n",
    "    plt.title(title)\n",
    "    plt.colorbar()\n",
    "\n",
    "    if target_names is not None:\n",
    "        tick_marks = np.arange(len(target_names))\n",
    "        plt.xticks(tick_marks, target_names, rotation=45)\n",
    "        plt.yticks(tick_marks, target_names)\n",
    "\n",
    "    if normalize:\n",
    "        cm = cm.astype('float') / cm.sum(axis=1)[:, np.newaxis]\n",
    "\n",
    "\n",
    "    thresh = cm.max() / 1.5 if normalize else cm.max() / 2\n",
    "    for i, j in itertools.product(range(cm.shape[0]), range(cm.shape[1])):\n",
    "        if normalize:\n",
    "            plt.text(j, i, \"{:0.4f}\".format(cm[i, j]),\n",
    "                     horizontalalignment=\"center\",\n",
    "                     color=\"white\" if cm[i, j] > thresh else \"black\")\n",
    "        else:\n",
    "            plt.text(j, i, \"{:,}\".format(cm[i, j]),\n",
    "                     horizontalalignment=\"center\",\n",
    "                     color=\"white\" if cm[i, j] > thresh else \"black\")\n",
    "    plt.grid(b=False)\n",
    "    plt.xlim(-0.5, 1.5)\n",
    "    plt.ylim(1.5, -0.5)\n",
    "    plt.tight_layout()\n",
    "    plt.ylabel('True label')\n",
    "    plt.xlabel('Predicted label\\naccuracy={:0.4f}; misclass={:0.4f}'.format(accuracy, misclass))\n",
    "    plt.show()\n",
    "\n"
   ]
  },
  {
   "cell_type": "code",
   "execution_count": 17,
   "metadata": {},
   "outputs": [],
   "source": [
    "y_predicted[np.where(y_predicted>=0.5)] = 1\n",
    "y_predicted[np.where(y_predicted<0.5)] = 0"
   ]
  },
  {
   "cell_type": "code",
   "execution_count": 18,
   "metadata": {},
   "outputs": [
    {
     "data": {
      "image/png": "[encoded data removed]",
      "text/plain": [
       "<Figure size 576x432 with 2 Axes>"
      ]
     },
     "metadata": {
      "needs_background": "light"
     },
     "output_type": "display_data"
    }
   ],
   "source": [
    "conf1 = confusion_matrix(y_test, y_predicted, labels = list([0,1]))\n",
    "\n",
    "plot_confusion_matrix(cm           = conf1, \n",
    "                      normalize    = False,\n",
    "                      target_names = ['noise', 'electron'],\n",
    "                      title        = \"Confusion Matrix\")"
   ]
  },
  {
   "cell_type": "markdown",
   "metadata": {},
   "source": [
    "Now we need to figure out if having all the tracks in the top left corner is important in order to decide whether the signal is an electron or noise:"
   ]
  },
  {
   "cell_type": "code",
   "execution_count": 19,
   "metadata": {},
   "outputs": [],
   "source": [
    "window_y, window_x = (201, 147)\n",
    "\n",
    "def padding_energy(array):\n",
    "    #note that this function will be only applied to the energy of the particle, not the noise\n",
    "    y, x = window_y, window_x  #y,x is the size of the maximum window\n",
    "    y_image = array.shape[0]\n",
    "    x_image = array.shape[1]\n",
    "    reshaped = np.pad(array, ((y-y_image,0), (x-x_image, 0)),  constant_values=0)\n",
    "    return reshaped\n",
    "\n",
    "def crop(array):\n",
    "    coords = np.argwhere(array)\n",
    "    x_min, y_min = coords.min(axis=0)\n",
    "    x_max, y_max = coords.max(axis=0)\n",
    "    cropped = array[x_min:x_max+1, y_min:y_max+1]\n",
    "    return cropped"
   ]
  },
  {
   "cell_type": "code",
   "execution_count": 20,
   "metadata": {},
   "outputs": [
    {
     "name": "stdout",
     "output_type": "stream",
     "text": [
      "The prediction is [[0.48880607]] and the true value 1\n"
     ]
    }
   ],
   "source": [
    "X_v1 = padding_energy(crop(X[1]))\n",
    "\n",
    "X_v1 = X_v1.reshape((1, X_v1.shape[0], X_v1.shape[1], 1))\n",
    "\n",
    "print(\"The prediction is\", model.predict(X_v1), \"and the true value\", y[1])"
   ]
  },
  {
   "cell_type": "markdown",
   "metadata": {},
   "source": [
    "With the example we observe that the model predicted noise but the true label was electron signal, so we need to move all tracks randomly.\n",
    "\n",
    "### Second model: scalated data and random tracks\n",
    "\n",
    "As we observed, the position of the track influences the output of the network, so we moved all the tracks to random positions inside the maximum window:"
   ]
  },
  {
   "cell_type": "code",
   "execution_count": 21,
   "metadata": {},
   "outputs": [],
   "source": [
    "loaded1 = np.load('/Users/Silvia/Desktop/TFM/e_VS_n/eVSn_1.npz')\n",
    "\n",
    "X1 = loaded1['data']\n",
    "y1 = loaded1['labels']"
   ]
  },
  {
   "cell_type": "code",
   "execution_count": 22,
   "metadata": {},
   "outputs": [],
   "source": [
    "X_train1, X_test1, y_train1, y_test1 = train_test_split(X1, y1, random_state=0) #train, test partition"
   ]
  },
  {
   "cell_type": "markdown",
   "metadata": {},
   "source": [
    "Normalizing data: normalization across instances should be done after splitting the data between training and test set, using only the data from the training set. This is because the test set plays the role of fresh unseen data, so it's not supposed to be accessible at the training stage. Using any information coming from the test set before or during training is a potential bias in the evaluation of the performance.\n",
    "\n",
    "$mean = np.mean(X_{train}, axis=0)$\n",
    "\n",
    "$std = np.std(X_{train}, axis=0)$\n",
    "\n",
    "$X_{train} = (X_{train} -  mean[None, :]) / std[None, :]$\n",
    "\n",
    "$X_{test} = (X_{test} -  mean[None, :]) / std[None, :]$"
   ]
  },
  {
   "cell_type": "code",
   "execution_count": 23,
   "metadata": {},
   "outputs": [],
   "source": [
    "from sklearn import preprocessing\n",
    "\n",
    "X_train1r = X_train1.reshape((X_train1.shape[0], X_train1.shape[1]* X_train1.shape[2]))\n",
    "X_test1r = X_test1.reshape((X_test1.shape[0], X_test1.shape[1]* X_test1.shape[2]))\n",
    "\n",
    "scaler1 = preprocessing.StandardScaler().fit(X_train1r)\n",
    "\n",
    "X_train1r = scaler1.transform(X_train1r)\n",
    "\n",
    "X_test1r = scaler1.transform(X_test1r)"
   ]
  },
  {
   "cell_type": "code",
   "execution_count": 24,
   "metadata": {},
   "outputs": [
    {
     "name": "stdout",
     "output_type": "stream",
     "text": [
      "(3942, 29547)\n"
     ]
    }
   ],
   "source": [
    "print(X_train1r.shape)"
   ]
  },
  {
   "cell_type": "code",
   "execution_count": 25,
   "metadata": {},
   "outputs": [
    {
     "name": "stdout",
     "output_type": "stream",
     "text": [
      "(1314, 29547)\n"
     ]
    }
   ],
   "source": [
    "print(X_test1r.shape)"
   ]
  },
  {
   "cell_type": "markdown",
   "metadata": {},
   "source": [
    "Reshaping both training and testing images:"
   ]
  },
  {
   "cell_type": "code",
   "execution_count": 26,
   "metadata": {},
   "outputs": [
    {
     "name": "stdout",
     "output_type": "stream",
     "text": [
      "(3942, 201, 147, 1)\n"
     ]
    }
   ],
   "source": [
    "X_train1 = X_train1r.reshape((X_train1.shape[0], X_train1.shape[1], X_train1.shape[2], 1))\n",
    "\n",
    "print(X_train1.shape)"
   ]
  },
  {
   "cell_type": "code",
   "execution_count": 27,
   "metadata": {},
   "outputs": [
    {
     "name": "stdout",
     "output_type": "stream",
     "text": [
      "(1314, 201, 147, 1)\n"
     ]
    }
   ],
   "source": [
    "X_test1 = X_test1r.reshape((X_test1.shape[0], X_test1.shape[1], X_test1.shape[2], 1))\n",
    "\n",
    "print(X_test1.shape)"
   ]
  },
  {
   "cell_type": "markdown",
   "metadata": {},
   "source": [
    "We can observe how the normalized data looks like:"
   ]
  },
  {
   "cell_type": "code",
   "execution_count": 44,
   "metadata": {},
   "outputs": [
    {
     "data": {
      "text/plain": [
       "Text(0.5, 1.0, 'Normalized data')"
      ]
     },
     "execution_count": 44,
     "metadata": {},
     "output_type": "execute_result"
    },
    {
     "data": {
      "image/png": "[encoded data removed]",
      "text/plain": [
       "<Figure size 360x360 with 2 Axes>"
      ]
     },
     "metadata": {
      "needs_background": "light"
     },
     "output_type": "display_data"
    }
   ],
   "source": [
    "plt.figure(figsize=(5,5))\n",
    "plt.imshow(X_train1[0].reshape((X_train1.shape[1], X_train1.shape[2])), cmap='Reds')\n",
    "plt.colorbar()\n",
    "plt.title(\"Normalized data\")"
   ]
  },
  {
   "cell_type": "code",
   "execution_count": 45,
   "metadata": {},
   "outputs": [
    {
     "data": {
      "text/plain": [
       "Text(0.5, 1.0, 'Non normalized data')"
      ]
     },
     "execution_count": 45,
     "metadata": {},
     "output_type": "execute_result"
    },
    {
     "data": {
      "image/png": "[encoded data removed]",
      "text/plain": [
       "<Figure size 360x360 with 2 Axes>"
      ]
     },
     "metadata": {
      "needs_background": "light"
     },
     "output_type": "display_data"
    }
   ],
   "source": [
    "plt.figure(figsize=(5,5))\n",
    "plt.imshow(X_train[0].reshape((X_train.shape[1], X_train.shape[2])), cmap='Reds')\n",
    "plt.colorbar()\n",
    "plt.title(\"Non normalized data\")"
   ]
  },
  {
   "cell_type": "markdown",
   "metadata": {},
   "source": [
    "We define the model:"
   ]
  },
  {
   "cell_type": "code",
   "execution_count": 46,
   "metadata": {
    "scrolled": true
   },
   "outputs": [
    {
     "name": "stdout",
     "output_type": "stream",
     "text": [
      "Model: \"sequential_2\"\n",
      "_________________________________________________________________\n",
      "Layer (type)                 Output Shape              Param #   \n",
      "=================================================================\n",
      "conv2d_5 (Conv2D)            (None, 199, 145, 32)      320       \n",
      "_________________________________________________________________\n",
      "max_pooling2d_5 (MaxPooling2 (None, 99, 72, 32)        0         \n",
      "_________________________________________________________________\n",
      "conv2d_6 (Conv2D)            (None, 97, 70, 64)        18496     \n",
      "_________________________________________________________________\n",
      "max_pooling2d_6 (MaxPooling2 (None, 48, 35, 64)        0         \n",
      "_________________________________________________________________\n",
      "conv2d_7 (Conv2D)            (None, 46, 33, 128)       73856     \n",
      "_________________________________________________________________\n",
      "max_pooling2d_7 (MaxPooling2 (None, 23, 16, 128)       0         \n",
      "_________________________________________________________________\n",
      "conv2d_8 (Conv2D)            (None, 21, 14, 128)       147584    \n",
      "_________________________________________________________________\n",
      "max_pooling2d_8 (MaxPooling2 (None, 10, 7, 128)        0         \n",
      "_________________________________________________________________\n",
      "flatten_2 (Flatten)          (None, 8960)              0         \n",
      "_________________________________________________________________\n",
      "dense_4 (Dense)              (None, 2050)              18370050  \n",
      "_________________________________________________________________\n",
      "dense_5 (Dense)              (None, 512)               1050112   \n",
      "_________________________________________________________________\n",
      "dense_6 (Dense)              (None, 1)                 513       \n",
      "=================================================================\n",
      "Total params: 19,660,931\n",
      "Trainable params: 19,660,931\n",
      "Non-trainable params: 0\n",
      "_________________________________________________________________\n"
     ]
    }
   ],
   "source": [
    "model_v1 = models.Sequential()\n",
    "model_v1.add(layers.Conv2D(32,(3,3), activation='relu', input_shape=(window_y, window_x, 1)))\n",
    "model_v1.add(layers.MaxPooling2D((2,2)))\n",
    "model_v1.add(layers.Conv2D(64,(3,3), activation='relu'))\n",
    "model_v1.add(layers.MaxPooling2D((2,2)))\n",
    "model_v1.add(layers.Conv2D(128,(3,3), activation='relu'))\n",
    "model_v1.add(layers.MaxPooling2D((2,2)))\n",
    "model_v1.add(layers.Conv2D(128,(3,3), activation='relu'))\n",
    "model_v1.add(layers.MaxPooling2D((2,2)))\n",
    "\n",
    "model_v1.add(layers.Flatten())\n",
    "model_v1.add(layers.Dense(units= 2050, activation='relu'))\n",
    "model_v1.add(layers.Dense(units= 512, activation='relu'))\n",
    "model_v1.add(layers.Dense(units= 1, activation='sigmoid'))\n",
    "model_v1.summary()"
   ]
  },
  {
   "cell_type": "code",
   "execution_count": 47,
   "metadata": {},
   "outputs": [],
   "source": [
    "model_v1.compile(optimizer=optimizers.RMSprop(lr= 1e-4),loss='binary_crossentropy', metrics=['acc'])"
   ]
  },
  {
   "cell_type": "code",
   "execution_count": 48,
   "metadata": {
    "scrolled": true
   },
   "outputs": [
    {
     "name": "stdout",
     "output_type": "stream",
     "text": [
      "Train on 3153 samples, validate on 789 samples\n",
      "Epoch 1/30\n",
      "3153/3153 [==============================] - 88s 28ms/step - loss: 0.2328 - acc: 0.9112 - val_loss: 0.1964 - val_acc: 0.9518\n",
      "Epoch 2/30\n",
      "3153/3153 [==============================] - 83s 26ms/step - loss: 0.1377 - acc: 0.9597 - val_loss: 0.1072 - val_acc: 0.9645\n",
      "Epoch 3/30\n",
      "3153/3153 [==============================] - 84s 27ms/step - loss: 0.1341 - acc: 0.9667 - val_loss: 0.1238 - val_acc: 0.9658\n",
      "Epoch 4/30\n",
      "3153/3153 [==============================] - 87s 28ms/step - loss: 0.1067 - acc: 0.9702 - val_loss: 0.1023 - val_acc: 0.9721\n",
      "Epoch 5/30\n",
      "3153/3153 [==============================] - 85s 27ms/step - loss: 0.1004 - acc: 0.9743 - val_loss: 0.1193 - val_acc: 0.9670\n",
      "Epoch 6/30\n",
      "3153/3153 [==============================] - 84s 27ms/step - loss: 0.0920 - acc: 0.9762 - val_loss: 0.1102 - val_acc: 0.9747\n",
      "Epoch 7/30\n",
      "3153/3153 [==============================] - 81s 26ms/step - loss: 0.0824 - acc: 0.9772 - val_loss: 0.1093 - val_acc: 0.9721\n",
      "Epoch 8/30\n",
      "3153/3153 [==============================] - 79s 25ms/step - loss: 0.0884 - acc: 0.9791 - val_loss: 0.1133 - val_acc: 0.9772\n",
      "Epoch 9/30\n",
      "3153/3153 [==============================] - 81s 26ms/step - loss: 0.0809 - acc: 0.9788 - val_loss: 0.1185 - val_acc: 0.9708\n",
      "Epoch 10/30\n",
      "3153/3153 [==============================] - 79s 25ms/step - loss: 0.1876 - acc: 0.9810 - val_loss: 0.1230 - val_acc: 0.9747\n",
      "Epoch 11/30\n",
      "3153/3153 [==============================] - 79s 25ms/step - loss: 0.0978 - acc: 0.9822 - val_loss: 0.1013 - val_acc: 0.9772\n",
      "Epoch 12/30\n",
      "3153/3153 [==============================] - 79s 25ms/step - loss: 0.0812 - acc: 0.9813 - val_loss: 0.1024 - val_acc: 0.9772\n",
      "Epoch 13/30\n",
      "3153/3153 [==============================] - 79s 25ms/step - loss: 0.0681 - acc: 0.9819 - val_loss: 0.1985 - val_acc: 0.9620\n",
      "Epoch 14/30\n",
      "3153/3153 [==============================] - 82s 26ms/step - loss: 0.0706 - acc: 0.9832 - val_loss: 0.1017 - val_acc: 0.9810\n",
      "Epoch 15/30\n",
      "3153/3153 [==============================] - 80s 25ms/step - loss: 0.0787 - acc: 0.9845 - val_loss: 0.1315 - val_acc: 0.9772\n",
      "Epoch 16/30\n",
      "3153/3153 [==============================] - 79s 25ms/step - loss: 0.0720 - acc: 0.9841 - val_loss: 0.1155 - val_acc: 0.9785\n",
      "Epoch 17/30\n",
      "3153/3153 [==============================] - 80s 25ms/step - loss: 0.0795 - acc: 0.9838 - val_loss: 0.1008 - val_acc: 0.9785\n",
      "Epoch 18/30\n",
      "3153/3153 [==============================] - 80s 25ms/step - loss: 0.0626 - acc: 0.9851 - val_loss: 0.0979 - val_acc: 0.9785\n",
      "Epoch 19/30\n",
      "3153/3153 [==============================] - 80s 25ms/step - loss: 0.0849 - acc: 0.9841 - val_loss: 0.1062 - val_acc: 0.9785\n",
      "Epoch 20/30\n",
      "3153/3153 [==============================] - 80s 25ms/step - loss: 0.0806 - acc: 0.9848 - val_loss: 0.1010 - val_acc: 0.9785\n",
      "Epoch 21/30\n",
      "3153/3153 [==============================] - 78s 25ms/step - loss: 0.0575 - acc: 0.9854 - val_loss: 2.5822 - val_acc: 0.9708\n",
      "Epoch 22/30\n",
      "3153/3153 [==============================] - 80s 25ms/step - loss: 0.1436 - acc: 0.9841 - val_loss: 0.2150 - val_acc: 0.9772\n",
      "Epoch 23/30\n",
      "3153/3153 [==============================] - 78s 25ms/step - loss: 0.2679 - acc: 0.9841 - val_loss: 0.1041 - val_acc: 0.9759\n",
      "Epoch 24/30\n",
      "3153/3153 [==============================] - 78s 25ms/step - loss: 0.0584 - acc: 0.9857 - val_loss: 0.5913 - val_acc: 0.9747\n",
      "Epoch 25/30\n",
      "3153/3153 [==============================] - 78s 25ms/step - loss: 0.0908 - acc: 0.9848 - val_loss: 0.1135 - val_acc: 0.9747\n",
      "Epoch 26/30\n",
      "3153/3153 [==============================] - 78s 25ms/step - loss: 0.0713 - acc: 0.9848 - val_loss: 0.0793 - val_acc: 0.9785\n",
      "Epoch 27/30\n",
      "3153/3153 [==============================] - 78s 25ms/step - loss: 0.0625 - acc: 0.9851 - val_loss: 0.1298 - val_acc: 0.9734\n",
      "Epoch 28/30\n",
      "3153/3153 [==============================] - 78s 25ms/step - loss: 0.2201 - acc: 0.9835 - val_loss: 0.1055 - val_acc: 0.9759\n",
      "Epoch 29/30\n",
      "3153/3153 [==============================] - 78s 25ms/step - loss: 0.1670 - acc: 0.9851 - val_loss: 0.1163 - val_acc: 0.9759\n",
      "Epoch 30/30\n",
      "3153/3153 [==============================] - 78s 25ms/step - loss: 0.0483 - acc: 0.9867 - val_loss: 0.2111 - val_acc: 0.9607\n"
     ]
    },
    {
     "data": {
      "text/plain": [
       "<keras.callbacks.callbacks.History at 0x1d3e4e850>"
      ]
     },
     "execution_count": 48,
     "metadata": {},
     "output_type": "execute_result"
    }
   ],
   "source": [
    "model_v1.fit(X_train1, y_train1, epochs= 30, validation_split = 0.2)"
   ]
  },
  {
   "cell_type": "code",
   "execution_count": 49,
   "metadata": {},
   "outputs": [],
   "source": [
    "model_v1.save('model_electron_or_noise_v1.h5')"
   ]
  },
  {
   "cell_type": "code",
   "execution_count": 50,
   "metadata": {},
   "outputs": [
    {
     "name": "stdout",
     "output_type": "stream",
     "text": [
      "1314/1314 [==============================] - 9s 7ms/step\n",
      "Accuracy with the model: 95.13%\n"
     ]
    }
   ],
   "source": [
    "loss, acc = model_v1.evaluate(X_test1, y_test1)\n",
    "print('Accuracy with the model: {:5.2f}%'.format(100*acc))"
   ]
  },
  {
   "cell_type": "code",
   "execution_count": 51,
   "metadata": {},
   "outputs": [
    {
     "data": {
      "image/png": "[encoded data removed]",
      "text/plain": [
       "<Figure size 576x432 with 2 Axes>"
      ]
     },
     "metadata": {
      "needs_background": "light"
     },
     "output_type": "display_data"
    }
   ],
   "source": [
    "y_predicted1 = model_v1.predict(X_test1)\n",
    "\n",
    "y_predicted1[np.where(y_predicted1>=0.5)] = 1\n",
    "y_predicted1[np.where(y_predicted1<0.5)] = 0\n",
    "\n",
    "conf11 = confusion_matrix(y_test, y_predicted1, labels = list([0,1]))\n",
    "\n",
    "plot_confusion_matrix(cm           = conf11, \n",
    "                      normalize    = False,\n",
    "                      target_names = ['noise', 'electron'],\n",
    "                      title        = \"Confusion Matrix\")"
   ]
  },
  {
   "cell_type": "markdown",
   "metadata": {},
   "source": [
    "### Third model: scalated data, random tracks and dropout layers\n",
    "Now we will add some dropout layers to see if we can increase the accuracy of the model:"
   ]
  },
  {
   "cell_type": "code",
   "execution_count": 52,
   "metadata": {
    "scrolled": true
   },
   "outputs": [
    {
     "name": "stdout",
     "output_type": "stream",
     "text": [
      "Model: \"sequential_3\"\n",
      "_________________________________________________________________\n",
      "Layer (type)                 Output Shape              Param #   \n",
      "=================================================================\n",
      "conv2d_9 (Conv2D)            (None, 199, 145, 32)      320       \n",
      "_________________________________________________________________\n",
      "max_pooling2d_9 (MaxPooling2 (None, 99, 72, 32)        0         \n",
      "_________________________________________________________________\n",
      "conv2d_10 (Conv2D)           (None, 97, 70, 64)        18496     \n",
      "_________________________________________________________________\n",
      "max_pooling2d_10 (MaxPooling (None, 48, 35, 64)        0         \n",
      "_________________________________________________________________\n",
      "conv2d_11 (Conv2D)           (None, 46, 33, 128)       73856     \n",
      "_________________________________________________________________\n",
      "max_pooling2d_11 (MaxPooling (None, 23, 16, 128)       0         \n",
      "_________________________________________________________________\n",
      "conv2d_12 (Conv2D)           (None, 21, 14, 128)       147584    \n",
      "_________________________________________________________________\n",
      "max_pooling2d_12 (MaxPooling (None, 10, 7, 128)        0         \n",
      "_________________________________________________________________\n",
      "dropout_1 (Dropout)          (None, 10, 7, 128)        0         \n",
      "_________________________________________________________________\n",
      "flatten_3 (Flatten)          (None, 8960)              0         \n",
      "_________________________________________________________________\n",
      "dropout_2 (Dropout)          (None, 8960)              0         \n",
      "_________________________________________________________________\n",
      "dense_7 (Dense)              (None, 2050)              18370050  \n",
      "_________________________________________________________________\n",
      "dense_8 (Dense)              (None, 512)               1050112   \n",
      "_________________________________________________________________\n",
      "dense_9 (Dense)              (None, 1)                 513       \n",
      "=================================================================\n",
      "Total params: 19,660,931\n",
      "Trainable params: 19,660,931\n",
      "Non-trainable params: 0\n",
      "_________________________________________________________________\n"
     ]
    }
   ],
   "source": [
    "model_v2 = models.Sequential()\n",
    "model_v2.add(layers.Conv2D(32,(3,3), activation='relu', input_shape=(window_y, window_x, 1)))\n",
    "model_v2.add(layers.MaxPooling2D((2,2)))\n",
    "model_v2.add(layers.Conv2D(64,(3,3), activation='relu'))\n",
    "model_v2.add(layers.MaxPooling2D((2,2)))\n",
    "model_v2.add(layers.Conv2D(128,(3,3), activation='relu'))\n",
    "model_v2.add(layers.MaxPooling2D((2,2)))\n",
    "model_v2.add(layers.Conv2D(128,(3,3), activation='relu'))\n",
    "model_v2.add(layers.MaxPooling2D((2,2)))\n",
    "model_v2.add(layers.Dropout(0.25))\n",
    "\n",
    "model_v2.add(layers.Flatten())\n",
    "model_v2.add(layers.Dropout(0.5))\n",
    "model_v2.add(layers.Dense(units= 2050, activation='relu'))\n",
    "model_v2.add(layers.Dense(units= 512, activation='relu'))\n",
    "model_v2.add(layers.Dense(units= 1, activation='sigmoid'))\n",
    "model_v2.summary()"
   ]
  },
  {
   "cell_type": "code",
   "execution_count": 53,
   "metadata": {},
   "outputs": [],
   "source": [
    "model_v2.compile(optimizer=optimizers.RMSprop(lr= 1e-4),loss='binary_crossentropy', metrics=['acc'])"
   ]
  },
  {
   "cell_type": "code",
   "execution_count": 54,
   "metadata": {
    "scrolled": true
   },
   "outputs": [
    {
     "name": "stdout",
     "output_type": "stream",
     "text": [
      "Train on 3153 samples, validate on 789 samples\n",
      "Epoch 1/30\n",
      "3153/3153 [==============================] - 79s 25ms/step - loss: 0.2353 - acc: 0.9115 - val_loss: 0.1694 - val_acc: 0.9417\n",
      "Epoch 2/30\n",
      "3153/3153 [==============================] - 78s 25ms/step - loss: 0.1539 - acc: 0.9531 - val_loss: 0.1849 - val_acc: 0.9506\n",
      "Epoch 3/30\n",
      "3153/3153 [==============================] - 79s 25ms/step - loss: 0.1381 - acc: 0.9597 - val_loss: 0.1716 - val_acc: 0.9670\n",
      "Epoch 4/30\n",
      "3153/3153 [==============================] - 79s 25ms/step - loss: 0.1502 - acc: 0.9642 - val_loss: 0.1438 - val_acc: 0.9556\n",
      "Epoch 5/30\n",
      "3153/3153 [==============================] - 79s 25ms/step - loss: 0.1309 - acc: 0.9642 - val_loss: 0.5868 - val_acc: 0.9214\n",
      "Epoch 6/30\n",
      "3153/3153 [==============================] - 78s 25ms/step - loss: 0.1336 - acc: 0.9651 - val_loss: 0.3077 - val_acc: 0.9379\n",
      "Epoch 7/30\n",
      "3153/3153 [==============================] - 79s 25ms/step - loss: 0.1244 - acc: 0.9638 - val_loss: 0.2774 - val_acc: 0.9468\n",
      "Epoch 8/30\n",
      "3153/3153 [==============================] - 80s 25ms/step - loss: 0.1164 - acc: 0.9689 - val_loss: 0.2141 - val_acc: 0.9582\n",
      "Epoch 9/30\n",
      "3153/3153 [==============================] - 79s 25ms/step - loss: 0.1263 - acc: 0.9711 - val_loss: 0.3492 - val_acc: 0.9404\n",
      "Epoch 10/30\n",
      "3153/3153 [==============================] - 88s 28ms/step - loss: 0.1176 - acc: 0.9708 - val_loss: 0.5025 - val_acc: 0.9455\n",
      "Epoch 11/30\n",
      "3153/3153 [==============================] - 81s 26ms/step - loss: 0.1106 - acc: 0.9718 - val_loss: 0.7210 - val_acc: 0.9316\n",
      "Epoch 12/30\n",
      "3153/3153 [==============================] - 79s 25ms/step - loss: 0.1425 - acc: 0.9730 - val_loss: 0.2803 - val_acc: 0.9480\n",
      "Epoch 13/30\n",
      "3153/3153 [==============================] - 82s 26ms/step - loss: 0.1120 - acc: 0.9730 - val_loss: 1.1464 - val_acc: 0.9265\n",
      "Epoch 14/30\n",
      "3153/3153 [==============================] - 87s 28ms/step - loss: 0.1237 - acc: 0.9718 - val_loss: 0.3498 - val_acc: 0.9455\n",
      "Epoch 15/30\n",
      "3153/3153 [==============================] - 78s 25ms/step - loss: 0.1034 - acc: 0.9724 - val_loss: 0.4135 - val_acc: 0.9468\n",
      "Epoch 16/30\n",
      "3153/3153 [==============================] - 78s 25ms/step - loss: 0.1310 - acc: 0.9734 - val_loss: 0.6514 - val_acc: 0.9417\n",
      "Epoch 17/30\n",
      "3153/3153 [==============================] - 80s 25ms/step - loss: 0.1578 - acc: 0.9724 - val_loss: 0.1348 - val_acc: 0.9683\n",
      "Epoch 18/30\n",
      "3153/3153 [==============================] - 96s 30ms/step - loss: 0.1023 - acc: 0.9740 - val_loss: 1.3340 - val_acc: 0.9278\n",
      "Epoch 19/30\n",
      "3153/3153 [==============================] - 97s 31ms/step - loss: 0.1841 - acc: 0.9734 - val_loss: 0.1416 - val_acc: 0.9607\n",
      "Epoch 20/30\n",
      "3153/3153 [==============================] - 116s 37ms/step - loss: 0.0994 - acc: 0.9737 - val_loss: 0.2191 - val_acc: 0.9556\n",
      "Epoch 21/30\n",
      "3153/3153 [==============================] - 103s 33ms/step - loss: 0.1350 - acc: 0.9762 - val_loss: 0.1413 - val_acc: 0.9696\n",
      "Epoch 22/30\n",
      "3153/3153 [==============================] - 87s 27ms/step - loss: 0.0910 - acc: 0.9768 - val_loss: 1.2239 - val_acc: 0.9506\n",
      "Epoch 23/30\n",
      "3153/3153 [==============================] - 80s 25ms/step - loss: 0.2613 - acc: 0.9762 - val_loss: 0.1270 - val_acc: 0.9721\n",
      "Epoch 24/30\n",
      "3153/3153 [==============================] - 79s 25ms/step - loss: 0.0922 - acc: 0.9759 - val_loss: 1.7757 - val_acc: 0.9455\n",
      "Epoch 25/30\n",
      "3153/3153 [==============================] - 79s 25ms/step - loss: 0.1996 - acc: 0.9759 - val_loss: 1.5359 - val_acc: 0.9430\n",
      "Epoch 26/30\n",
      "3153/3153 [==============================] - 79s 25ms/step - loss: 0.2527 - acc: 0.9781 - val_loss: 1.1684 - val_acc: 0.9493\n",
      "Epoch 27/30\n",
      "3153/3153 [==============================] - 79s 25ms/step - loss: 0.1553 - acc: 0.9781 - val_loss: 0.1555 - val_acc: 0.9734\n",
      "Epoch 28/30\n",
      "3153/3153 [==============================] - 79s 25ms/step - loss: 0.0949 - acc: 0.9759 - val_loss: 0.1131 - val_acc: 0.9734\n",
      "Epoch 29/30\n",
      "3153/3153 [==============================] - 79s 25ms/step - loss: 0.4416 - acc: 0.9781 - val_loss: 0.3457 - val_acc: 0.9632\n",
      "Epoch 30/30\n",
      "3153/3153 [==============================] - 79s 25ms/step - loss: 0.0795 - acc: 0.9788 - val_loss: 0.5816 - val_acc: 0.9670\n"
     ]
    },
    {
     "data": {
      "text/plain": [
       "<keras.callbacks.callbacks.History at 0x1d2a93a50>"
      ]
     },
     "execution_count": 54,
     "metadata": {},
     "output_type": "execute_result"
    }
   ],
   "source": [
    "model_v2.fit(X_train1, y_train1, epochs= 30, validation_split = 0.2)"
   ]
  },
  {
   "cell_type": "code",
   "execution_count": 55,
   "metadata": {},
   "outputs": [],
   "source": [
    "model_v2.save('model_electron_or_noise_v2.h5')"
   ]
  },
  {
   "cell_type": "code",
   "execution_count": 56,
   "metadata": {},
   "outputs": [
    {
     "name": "stdout",
     "output_type": "stream",
     "text": [
      "1314/1314 [==============================] - 9s 7ms/step\n",
      "Accuracy with the model: 93.23%\n"
     ]
    }
   ],
   "source": [
    "loss, acc = model_v2.evaluate(X_test1, y_test1)\n",
    "print('Accuracy with the model: {:5.2f}%'.format(100*acc))"
   ]
  },
  {
   "cell_type": "code",
   "execution_count": 57,
   "metadata": {},
   "outputs": [
    {
     "data": {
      "image/png": "[encoded data removed]",
      "text/plain": [
       "<Figure size 576x432 with 2 Axes>"
      ]
     },
     "metadata": {
      "needs_background": "light"
     },
     "output_type": "display_data"
    }
   ],
   "source": [
    "y_predicted2 = model_v2.predict(X_test1)\n",
    "\n",
    "y_predicted2[np.where(y_predicted2>=0.5)] = 1\n",
    "y_predicted2[np.where(y_predicted2<0.5)] = 0\n",
    "\n",
    "conf2 = confusion_matrix(y_test, y_predicted2, labels = list([0,1]))\n",
    "\n",
    "plot_confusion_matrix(cm           = conf2, \n",
    "                      normalize    = False,\n",
    "                      target_names = ['noise', 'electron'],\n",
    "                      title        = \"Confusion Matrix\")"
   ]
  },
  {
   "cell_type": "markdown",
   "metadata": {},
   "source": [
    "Dropout layers didnt increase the accuracy!\n",
    "\n",
    "### Forth model: one more filter, no drop out\n",
    "\n",
    "We add another layer with one more filter, we do not include drop out layers and we just have two dnese layers."
   ]
  },
  {
   "cell_type": "code",
   "execution_count": 60,
   "metadata": {
    "scrolled": true
   },
   "outputs": [
    {
     "name": "stdout",
     "output_type": "stream",
     "text": [
      "Model: \"sequential_6\"\n",
      "_________________________________________________________________\n",
      "Layer (type)                 Output Shape              Param #   \n",
      "=================================================================\n",
      "conv2d_22 (Conv2D)           (None, 199, 145, 32)      320       \n",
      "_________________________________________________________________\n",
      "max_pooling2d_22 (MaxPooling (None, 99, 72, 32)        0         \n",
      "_________________________________________________________________\n",
      "conv2d_23 (Conv2D)           (None, 97, 70, 64)        18496     \n",
      "_________________________________________________________________\n",
      "max_pooling2d_23 (MaxPooling (None, 48, 35, 64)        0         \n",
      "_________________________________________________________________\n",
      "conv2d_24 (Conv2D)           (None, 46, 33, 64)        36928     \n",
      "_________________________________________________________________\n",
      "max_pooling2d_24 (MaxPooling (None, 23, 16, 64)        0         \n",
      "_________________________________________________________________\n",
      "conv2d_25 (Conv2D)           (None, 21, 14, 128)       73856     \n",
      "_________________________________________________________________\n",
      "max_pooling2d_25 (MaxPooling (None, 10, 7, 128)        0         \n",
      "_________________________________________________________________\n",
      "conv2d_26 (Conv2D)           (None, 8, 5, 128)         147584    \n",
      "_________________________________________________________________\n",
      "max_pooling2d_26 (MaxPooling (None, 4, 2, 128)         0         \n",
      "_________________________________________________________________\n",
      "flatten_6 (Flatten)          (None, 1024)              0         \n",
      "_________________________________________________________________\n",
      "dense_16 (Dense)             (None, 512)               524800    \n",
      "_________________________________________________________________\n",
      "dense_17 (Dense)             (None, 1)                 513       \n",
      "=================================================================\n",
      "Total params: 802,497\n",
      "Trainable params: 802,497\n",
      "Non-trainable params: 0\n",
      "_________________________________________________________________\n"
     ]
    }
   ],
   "source": [
    "model_v3 = models.Sequential()\n",
    "model_v3.add(layers.Conv2D(32,(3,3), activation='relu', input_shape=(window_y, window_x, 1)))\n",
    "model_v3.add(layers.MaxPooling2D((2,2)))\n",
    "model_v3.add(layers.Conv2D(64,(3,3), activation='relu'))\n",
    "model_v3.add(layers.MaxPooling2D((2,2)))\n",
    "model_v3.add(layers.Conv2D(64,(3,3), activation='relu'))\n",
    "model_v3.add(layers.MaxPooling2D((2,2)))\n",
    "model_v3.add(layers.Conv2D(128,(3,3), activation='relu'))\n",
    "model_v3.add(layers.MaxPooling2D((2,2)))\n",
    "model_v3.add(layers.Conv2D(128,(3,3), activation='relu'))\n",
    "model_v3.add(layers.MaxPooling2D((2,2)))\n",
    "\n",
    "model_v3.add(layers.Flatten())\n",
    "model_v3.add(layers.Dense(units= 512, activation='relu'))\n",
    "model_v3.add(layers.Dense(units= 1, activation='sigmoid'))\n",
    "model_v3.summary()"
   ]
  },
  {
   "cell_type": "code",
   "execution_count": 61,
   "metadata": {},
   "outputs": [],
   "source": [
    "model_v3.compile(optimizer=optimizers.RMSprop(lr= 1e-4),loss='binary_crossentropy', metrics=['acc'])"
   ]
  },
  {
   "cell_type": "code",
   "execution_count": 62,
   "metadata": {
    "scrolled": true
   },
   "outputs": [
    {
     "name": "stdout",
     "output_type": "stream",
     "text": [
      "Train on 3153 samples, validate on 789 samples\n",
      "Epoch 1/30\n",
      "3153/3153 [==============================] - 63s 20ms/step - loss: 0.4127 - acc: 0.8268 - val_loss: 0.1991 - val_acc: 0.9354\n",
      "Epoch 2/30\n",
      "3153/3153 [==============================] - 63s 20ms/step - loss: 0.2273 - acc: 0.9226 - val_loss: 0.1826 - val_acc: 0.9430\n",
      "Epoch 3/30\n",
      "3153/3153 [==============================] - 59s 19ms/step - loss: 0.2119 - acc: 0.9293 - val_loss: 0.1735 - val_acc: 0.9480\n",
      "Epoch 4/30\n",
      "3153/3153 [==============================] - 59s 19ms/step - loss: 0.2041 - acc: 0.9324 - val_loss: 0.1698 - val_acc: 0.9518\n",
      "Epoch 5/30\n",
      "3153/3153 [==============================] - 60s 19ms/step - loss: 0.1983 - acc: 0.9331 - val_loss: 0.1636 - val_acc: 0.9518\n",
      "Epoch 6/30\n",
      "3153/3153 [==============================] - 60s 19ms/step - loss: 0.1878 - acc: 0.9366 - val_loss: 0.1703 - val_acc: 0.9518\n",
      "Epoch 7/30\n",
      "3153/3153 [==============================] - 60s 19ms/step - loss: 0.1823 - acc: 0.9372 - val_loss: 0.1590 - val_acc: 0.9531\n",
      "Epoch 8/30\n",
      "3153/3153 [==============================] - 60s 19ms/step - loss: 0.1769 - acc: 0.9388 - val_loss: 0.1740 - val_acc: 0.9518\n",
      "Epoch 9/30\n",
      "3153/3153 [==============================] - 60s 19ms/step - loss: 0.1757 - acc: 0.9397 - val_loss: 0.1638 - val_acc: 0.9531\n",
      "Epoch 10/30\n",
      "3153/3153 [==============================] - 60s 19ms/step - loss: 0.1676 - acc: 0.9413 - val_loss: 0.1707 - val_acc: 0.9544\n",
      "Epoch 11/30\n",
      "3153/3153 [==============================] - 59s 19ms/step - loss: 0.1627 - acc: 0.9416 - val_loss: 0.2002 - val_acc: 0.9506\n",
      "Epoch 12/30\n",
      "3153/3153 [==============================] - 64s 20ms/step - loss: 0.1613 - acc: 0.9423 - val_loss: 0.1709 - val_acc: 0.9518\n",
      "Epoch 13/30\n",
      "3153/3153 [==============================] - 58s 19ms/step - loss: 0.1582 - acc: 0.9426 - val_loss: 0.1964 - val_acc: 0.9544\n",
      "Epoch 14/30\n",
      "3153/3153 [==============================] - 59s 19ms/step - loss: 0.1501 - acc: 0.9439 - val_loss: 0.1735 - val_acc: 0.9518\n",
      "Epoch 15/30\n",
      "3153/3153 [==============================] - 60s 19ms/step - loss: 0.1597 - acc: 0.9426 - val_loss: 0.1651 - val_acc: 0.9531\n",
      "Epoch 16/30\n",
      "3153/3153 [==============================] - 59s 19ms/step - loss: 0.1472 - acc: 0.9429 - val_loss: 0.1790 - val_acc: 0.9531\n",
      "Epoch 17/30\n",
      "3153/3153 [==============================] - 58s 18ms/step - loss: 0.1552 - acc: 0.9420 - val_loss: 0.2116 - val_acc: 0.9531\n",
      "Epoch 18/30\n",
      "3153/3153 [==============================] - 59s 19ms/step - loss: 0.1354 - acc: 0.9448 - val_loss: 0.1865 - val_acc: 0.9518\n",
      "Epoch 19/30\n",
      "3153/3153 [==============================] - 58s 19ms/step - loss: 0.1357 - acc: 0.9426 - val_loss: 0.1924 - val_acc: 0.9518\n",
      "Epoch 20/30\n",
      "3153/3153 [==============================] - 58s 18ms/step - loss: 0.1417 - acc: 0.9442 - val_loss: 0.1593 - val_acc: 0.9544\n",
      "Epoch 21/30\n",
      "3153/3153 [==============================] - 58s 18ms/step - loss: 0.1208 - acc: 0.9448 - val_loss: 0.1608 - val_acc: 0.9556\n",
      "Epoch 22/30\n",
      "3153/3153 [==============================] - 60s 19ms/step - loss: 0.1518 - acc: 0.9429 - val_loss: 0.1876 - val_acc: 0.9544\n",
      "Epoch 23/30\n",
      "3153/3153 [==============================] - 60s 19ms/step - loss: 0.1124 - acc: 0.9454 - val_loss: 0.2109 - val_acc: 0.9544\n",
      "Epoch 24/30\n",
      "3153/3153 [==============================] - 60s 19ms/step - loss: 0.1412 - acc: 0.9435 - val_loss: 0.2324 - val_acc: 0.9544\n",
      "Epoch 25/30\n",
      "3153/3153 [==============================] - 59s 19ms/step - loss: 0.1220 - acc: 0.9432 - val_loss: 0.1752 - val_acc: 0.9544\n",
      "Epoch 26/30\n",
      "3153/3153 [==============================] - 58s 18ms/step - loss: 0.2365 - acc: 0.9435 - val_loss: 0.1823 - val_acc: 0.9544\n",
      "Epoch 27/30\n",
      "3153/3153 [==============================] - 63s 20ms/step - loss: 0.1046 - acc: 0.9508 - val_loss: 0.1631 - val_acc: 0.9569\n",
      "Epoch 28/30\n",
      "3153/3153 [==============================] - 64s 20ms/step - loss: 0.1228 - acc: 0.9569 - val_loss: 0.1674 - val_acc: 0.9835\n",
      "Epoch 29/30\n",
      "3153/3153 [==============================] - 63s 20ms/step - loss: 0.0937 - acc: 0.9651 - val_loss: 0.1509 - val_acc: 0.9594\n",
      "Epoch 30/30\n",
      "3153/3153 [==============================] - 59s 19ms/step - loss: 0.1135 - acc: 0.9721 - val_loss: 0.1888 - val_acc: 0.9556\n"
     ]
    },
    {
     "data": {
      "text/plain": [
       "<keras.callbacks.callbacks.History at 0x1d4dcfd10>"
      ]
     },
     "execution_count": 62,
     "metadata": {},
     "output_type": "execute_result"
    }
   ],
   "source": [
    "model_v3.fit(X_train1, y_train1, epochs= 30, validation_split = 0.2)"
   ]
  },
  {
   "cell_type": "code",
   "execution_count": 63,
   "metadata": {},
   "outputs": [],
   "source": [
    "model_v3.save('model_electron_or_noise_v3.h5')"
   ]
  },
  {
   "cell_type": "code",
   "execution_count": 64,
   "metadata": {},
   "outputs": [
    {
     "name": "stdout",
     "output_type": "stream",
     "text": [
      "1314/1314 [==============================] - 8s 6ms/step\n",
      "Accuracy with the model: 92.16%\n"
     ]
    }
   ],
   "source": [
    "loss, acc = model_v3.evaluate(X_test1, y_test1)\n",
    "print('Accuracy with the model: {:5.2f}%'.format(100*acc))"
   ]
  },
  {
   "cell_type": "code",
   "execution_count": 65,
   "metadata": {},
   "outputs": [
    {
     "data": {
      "image/png": "[encoded data removed]",
      "text/plain": [
       "<Figure size 576x432 with 2 Axes>"
      ]
     },
     "metadata": {
      "needs_background": "light"
     },
     "output_type": "display_data"
    }
   ],
   "source": [
    "y_predicted3 = model_v3.predict(X_test1)\n",
    "\n",
    "y_predicted3[np.where(y_predicted3>=0.5)] = 1\n",
    "y_predicted3[np.where(y_predicted3<0.5)] = 0\n",
    "\n",
    "conf3 = confusion_matrix(y_test, y_predicted3, labels = list([0,1]))\n",
    "\n",
    "plot_confusion_matrix(cm           = conf3, \n",
    "                      normalize    = False,\n",
    "                      target_names = ['noise', 'electron'],\n",
    "                      title        = \"Confusion Matrix\")"
   ]
  },
  {
   "cell_type": "code",
   "execution_count": null,
   "metadata": {},
   "outputs": [],
   "source": []
  }
 ],
 "metadata": {
  "kernelspec": {
   "display_name": "Python 3",
   "language": "python",
   "name": "python3"
  },
  "language_info": {
   "codemirror_mode": {
    "name": "ipython",
    "version": 3
   },
   "file_extension": ".py",
   "mimetype": "text/x-python",
   "name": "python",
   "nbconvert_exporter": "python",
   "pygments_lexer": "ipython3",
   "version": "3.7.4"
  }
 },
 "nbformat": 4,
 "nbformat_minor": 2
}

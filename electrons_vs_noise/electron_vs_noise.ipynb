{
 "cells": [
  {
   "cell_type": "markdown",
   "metadata": {},
   "source": [
    "### Building a model to differentiate between noise and electrons from scratch\n",
    "\n",
    "In this notebook, we will build a convolutional neural network to classify a signal as electron or noise. Therefore, we are facing a binary classification problem: electron or noise. This is the reason why we will have just one neuron in the output layer with sigmoidal activation.\n",
    "\n",
    "First we import the data stored in a file called `eVSn.npz` composed of two variables: 'data' for the numpy arrays with energy or noise, and 'labels' where 1 stands for electron signal and 0 for noise."
   ]
  },
  {
   "cell_type": "code",
   "execution_count": 1,
   "metadata": {},
   "outputs": [],
   "source": [
    "import numpy as np\n",
    "from sklearn.model_selection import train_test_split"
   ]
  },
  {
   "cell_type": "code",
   "execution_count": 2,
   "metadata": {},
   "outputs": [],
   "source": [
    "loaded = np.load('/Users/Silvia/Desktop/TFM/e_VS_n/eVSn.npz')"
   ]
  },
  {
   "cell_type": "code",
   "execution_count": 3,
   "metadata": {},
   "outputs": [],
   "source": [
    "X = loaded['data']\n",
    "y = loaded['labels']"
   ]
  },
  {
   "cell_type": "markdown",
   "metadata": {},
   "source": [
    "Once the data is loaded, we split it into train and test partitions with sklearn:"
   ]
  },
  {
   "cell_type": "code",
   "execution_count": 4,
   "metadata": {},
   "outputs": [
    {
     "name": "stdout",
     "output_type": "stream",
     "text": [
      "(3942, 201, 147)\n"
     ]
    }
   ],
   "source": [
    "X_train, X_test, y_train, y_test = train_test_split(X, y, random_state=0)\n",
    "\n",
    "print(X_train.shape)"
   ]
  },
  {
   "cell_type": "code",
   "execution_count": 5,
   "metadata": {},
   "outputs": [
    {
     "name": "stdout",
     "output_type": "stream",
     "text": [
      "(3942, 201, 147, 1)\n"
     ]
    }
   ],
   "source": [
    "X_train = X_train.reshape((X_train.shape[0], X_train.shape[1], X_train.shape[2], 1))\n",
    "\n",
    "print(X_train.shape)"
   ]
  },
  {
   "cell_type": "markdown",
   "metadata": {},
   "source": [
    "Our network will be composed of a stack of alternate layers of `Conv2D` (with `relu` activation) and `MaxPooling2D` layers. It is important to note that the depth of feature maps progressively increases as we move through the neural network (from 32 to 128) while the size of feature maps decreases (from 200x146 to 70x7).\n",
    "\n",
    "As we are attacking a binary classification problem (electron or noise), we are going to finish the network with a single unit (a dense layer of size 1) and with a sigmoid activation. This unit will encode the probability that our network is looking at one class or another."
   ]
  },
  {
   "cell_type": "code",
   "execution_count": 6,
   "metadata": {},
   "outputs": [
    {
     "name": "stderr",
     "output_type": "stream",
     "text": [
      "Using TensorFlow backend.\n"
     ]
    }
   ],
   "source": [
    "import keras\n",
    "from keras import layers, models, optimizers"
   ]
  },
  {
   "cell_type": "code",
   "execution_count": 7,
   "metadata": {},
   "outputs": [],
   "source": [
    "window_y, window_x = 201,147"
   ]
  },
  {
   "cell_type": "code",
   "execution_count": 8,
   "metadata": {},
   "outputs": [
    {
     "name": "stdout",
     "output_type": "stream",
     "text": [
      "Model: \"sequential_1\"\n",
      "_________________________________________________________________\n",
      "Layer (type)                 Output Shape              Param #   \n",
      "=================================================================\n",
      "conv2d_1 (Conv2D)            (None, 200, 146, 32)      160       \n",
      "_________________________________________________________________\n",
      "max_pooling2d_1 (MaxPooling2 (None, 100, 73, 32)       0         \n",
      "_________________________________________________________________\n",
      "conv2d_2 (Conv2D)            (None, 98, 71, 64)        18496     \n",
      "_________________________________________________________________\n",
      "max_pooling2d_2 (MaxPooling2 (None, 49, 35, 64)        0         \n",
      "_________________________________________________________________\n",
      "conv2d_3 (Conv2D)            (None, 47, 33, 128)       73856     \n",
      "_________________________________________________________________\n",
      "max_pooling2d_3 (MaxPooling2 (None, 23, 16, 128)       0         \n",
      "_________________________________________________________________\n",
      "conv2d_4 (Conv2D)            (None, 21, 14, 128)       147584    \n",
      "_________________________________________________________________\n",
      "max_pooling2d_4 (MaxPooling2 (None, 10, 7, 128)        0         \n",
      "_________________________________________________________________\n",
      "flatten_1 (Flatten)          (None, 8960)              0         \n",
      "_________________________________________________________________\n",
      "dense_1 (Dense)              (None, 2050)              18370050  \n",
      "_________________________________________________________________\n",
      "dense_2 (Dense)              (None, 512)               1050112   \n",
      "_________________________________________________________________\n",
      "dense_3 (Dense)              (None, 1)                 513       \n",
      "=================================================================\n",
      "Total params: 19,660,771\n",
      "Trainable params: 19,660,771\n",
      "Non-trainable params: 0\n",
      "_________________________________________________________________\n"
     ]
    }
   ],
   "source": [
    "model = models.Sequential()\n",
    "model.add(layers.Conv2D(32,(2,2), activation='relu', input_shape=(window_y, window_x, 1)))\n",
    "model.add(layers.MaxPooling2D((2,2)))\n",
    "model.add(layers.Conv2D(64,(3,3), activation='relu'))\n",
    "model.add(layers.MaxPooling2D((2,2)))\n",
    "model.add(layers.Conv2D(128,(3,3), activation='relu'))\n",
    "model.add(layers.MaxPooling2D((2,2)))\n",
    "model.add(layers.Conv2D(128,(3,3), activation='relu'))\n",
    "model.add(layers.MaxPooling2D((2,2)))\n",
    "\n",
    "model.add(layers.Flatten())\n",
    "model.add(layers.Dense(units= 2050, activation='softmax'))\n",
    "model.add(layers.Dense(units= 512, activation='softmax'))\n",
    "model.add(layers.Dense(units= 1, activation='sigmoid'))\n",
    "model.summary()"
   ]
  },
  {
   "cell_type": "markdown",
   "metadata": {},
   "source": [
    "To compile, we will use the `RMSprop`(lr=1e-4) omptimizer. As we are facing the binary classification problem, we will use binary crossentropy as our loss function"
   ]
  },
  {
   "cell_type": "code",
   "execution_count": 9,
   "metadata": {},
   "outputs": [],
   "source": [
    "model.compile(optimizer=optimizers.RMSprop(lr= 1e-4),loss='binary_crossentropy', metrics=['acc'])"
   ]
  },
  {
   "cell_type": "markdown",
   "metadata": {},
   "source": [
    "Now let's make the fit, where the input will be composed of X_train with the numpy arrays with energy of noise and y_train with the labels for noise or energy. We are going to run 30 epochs and use a validation split of 0.2 of the total training data"
   ]
  },
  {
   "cell_type": "code",
   "execution_count": 10,
   "metadata": {
    "scrolled": true
   },
   "outputs": [
    {
     "name": "stdout",
     "output_type": "stream",
     "text": [
      "Train on 3153 samples, validate on 789 samples\n",
      "Epoch 1/30\n",
      "3153/3153 [==============================] - 81s 26ms/step - loss: 0.6931 - acc: 0.6131 - val_loss: 0.6930 - val_acc: 0.9759\n",
      "Epoch 2/30\n",
      "3153/3153 [==============================] - 80s 25ms/step - loss: 0.6929 - acc: 0.8195 - val_loss: 0.6928 - val_acc: 0.4968\n",
      "Epoch 3/30\n",
      "3153/3153 [==============================] - 80s 25ms/step - loss: 0.6927 - acc: 0.5046 - val_loss: 0.6926 - val_acc: 0.4968\n",
      "Epoch 4/30\n",
      "3153/3153 [==============================] - 80s 25ms/step - loss: 0.6925 - acc: 0.5046 - val_loss: 0.6924 - val_acc: 0.4968\n",
      "Epoch 5/30\n",
      "3153/3153 [==============================] - 80s 25ms/step - loss: 0.6922 - acc: 0.5046 - val_loss: 0.6921 - val_acc: 0.4968\n",
      "Epoch 6/30\n",
      "3153/3153 [==============================] - 80s 25ms/step - loss: 0.6919 - acc: 0.5046 - val_loss: 0.6918 - val_acc: 0.4968\n",
      "Epoch 7/30\n",
      "3153/3153 [==============================] - 81s 26ms/step - loss: 0.6915 - acc: 0.5046 - val_loss: 0.6914 - val_acc: 0.4968\n",
      "Epoch 8/30\n",
      "3153/3153 [==============================] - 80s 25ms/step - loss: 0.6912 - acc: 0.5046 - val_loss: 0.6911 - val_acc: 0.4968\n",
      "Epoch 9/30\n",
      "3153/3153 [==============================] - 79s 25ms/step - loss: 0.6907 - acc: 0.5046 - val_loss: 0.6907 - val_acc: 0.4968\n",
      "Epoch 10/30\n",
      "3153/3153 [==============================] - 79s 25ms/step - loss: 0.6903 - acc: 0.5046 - val_loss: 0.6902 - val_acc: 0.4968\n",
      "Epoch 11/30\n",
      "3153/3153 [==============================] - 81s 26ms/step - loss: 0.6897 - acc: 0.6746 - val_loss: 0.6897 - val_acc: 0.4968\n",
      "Epoch 12/30\n",
      "3153/3153 [==============================] - 83s 26ms/step - loss: 0.6892 - acc: 0.7802 - val_loss: 0.6891 - val_acc: 0.4968\n",
      "Epoch 13/30\n",
      "3153/3153 [==============================] - 81s 26ms/step - loss: 0.6886 - acc: 0.8145 - val_loss: 0.6885 - val_acc: 0.9607\n",
      "Epoch 14/30\n",
      "3153/3153 [==============================] - 81s 26ms/step - loss: 0.6879 - acc: 0.9153 - val_loss: 0.6878 - val_acc: 0.9594\n",
      "Epoch 15/30\n",
      "3153/3153 [==============================] - 82s 26ms/step - loss: 0.6871 - acc: 0.9791 - val_loss: 0.6870 - val_acc: 0.9620\n",
      "Epoch 16/30\n",
      "3153/3153 [==============================] - 86s 27ms/step - loss: 0.6863 - acc: 0.9816 - val_loss: 0.6862 - val_acc: 0.9607\n",
      "Epoch 17/30\n",
      "3153/3153 [==============================] - 84s 27ms/step - loss: 0.6854 - acc: 0.9800 - val_loss: 0.6852 - val_acc: 0.9670\n",
      "Epoch 18/30\n",
      "3153/3153 [==============================] - 86s 27ms/step - loss: 0.6844 - acc: 0.9813 - val_loss: 0.6843 - val_acc: 0.9658\n",
      "Epoch 19/30\n",
      "3153/3153 [==============================] - 84s 27ms/step - loss: 0.6834 - acc: 0.9822 - val_loss: 0.6831 - val_acc: 0.9721\n",
      "Epoch 20/30\n",
      "3153/3153 [==============================] - 82s 26ms/step - loss: 0.6822 - acc: 0.9822 - val_loss: 0.6820 - val_acc: 0.9696\n",
      "Epoch 21/30\n",
      "3153/3153 [==============================] - 81s 26ms/step - loss: 0.6810 - acc: 0.9838 - val_loss: 0.6808 - val_acc: 0.9708\n",
      "Epoch 22/30\n",
      "3153/3153 [==============================] - 82s 26ms/step - loss: 0.6797 - acc: 0.9826 - val_loss: 0.6794 - val_acc: 0.9759\n",
      "Epoch 23/30\n",
      "3153/3153 [==============================] - 81s 26ms/step - loss: 0.6783 - acc: 0.9857 - val_loss: 0.6780 - val_acc: 0.9772\n",
      "Epoch 24/30\n",
      "3153/3153 [==============================] - 81s 26ms/step - loss: 0.6770 - acc: 0.9841 - val_loss: 0.6766 - val_acc: 0.9759\n",
      "Epoch 25/30\n",
      "3153/3153 [==============================] - 81s 26ms/step - loss: 0.6755 - acc: 0.9826 - val_loss: 0.6753 - val_acc: 0.9721\n",
      "Epoch 26/30\n",
      "3153/3153 [==============================] - 81s 26ms/step - loss: 0.6741 - acc: 0.9797 - val_loss: 0.6742 - val_acc: 0.9607\n",
      "Epoch 27/30\n",
      "3153/3153 [==============================] - 81s 26ms/step - loss: 0.6726 - acc: 0.9778 - val_loss: 0.6726 - val_acc: 0.9607\n",
      "Epoch 28/30\n",
      "3153/3153 [==============================] - 81s 26ms/step - loss: 0.6709 - acc: 0.9772 - val_loss: 0.6709 - val_acc: 0.9607\n",
      "Epoch 29/30\n",
      "3153/3153 [==============================] - 82s 26ms/step - loss: 0.6691 - acc: 0.9765 - val_loss: 0.6691 - val_acc: 0.9607\n",
      "Epoch 30/30\n",
      "3153/3153 [==============================] - 81s 26ms/step - loss: 0.6673 - acc: 0.9756 - val_loss: 0.6673 - val_acc: 0.9607\n"
     ]
    },
    {
     "data": {
      "text/plain": [
       "<keras.callbacks.callbacks.History at 0x1e1860690>"
      ]
     },
     "execution_count": 10,
     "metadata": {},
     "output_type": "execute_result"
    }
   ],
   "source": [
    "model.fit(X_train, y_train, epochs= 30, validation_split = 0.2)"
   ]
  },
  {
   "cell_type": "markdown",
   "metadata": {},
   "source": [
    "We save the model just trainned:"
   ]
  },
  {
   "cell_type": "code",
   "execution_count": 11,
   "metadata": {},
   "outputs": [],
   "source": [
    "model.save('model_electron_or_noise_v1.h5')"
   ]
  },
  {
   "cell_type": "markdown",
   "metadata": {},
   "source": [
    "Finally, we evaluate our model using the test dataset:"
   ]
  },
  {
   "cell_type": "code",
   "execution_count": 13,
   "metadata": {},
   "outputs": [
    {
     "name": "stdout",
     "output_type": "stream",
     "text": [
      "(1314, 201, 147, 1)\n"
     ]
    }
   ],
   "source": [
    "X_test = X_test.reshape((X_test.shape[0], X_test.shape[1], X_test.shape[2], 1))\n",
    "\n",
    "print(X_test.shape)"
   ]
  },
  {
   "cell_type": "code",
   "execution_count": 14,
   "metadata": {},
   "outputs": [
    {
     "name": "stdout",
     "output_type": "stream",
     "text": [
      "1314/1314 [==============================] - 9s 7ms/step\n",
      "Accuracy with the model: 97.18%\n"
     ]
    }
   ],
   "source": [
    "loss, acc = model.evaluate(X_test, y_test)\n",
    "print('Accuracy with the model: {:5.2f}%'.format(100*acc))"
   ]
  },
  {
   "cell_type": "markdown",
   "metadata": {},
   "source": [
    "Now we predict:"
   ]
  },
  {
   "cell_type": "code",
   "execution_count": 31,
   "metadata": {},
   "outputs": [],
   "source": [
    "y_predicted = model.predict(X_test)"
   ]
  },
  {
   "cell_type": "markdown",
   "metadata": {},
   "source": [
    "And here we plot some results:"
   ]
  },
  {
   "cell_type": "code",
   "execution_count": 16,
   "metadata": {},
   "outputs": [],
   "source": [
    "import matplotlib.pylab as plt"
   ]
  },
  {
   "cell_type": "code",
   "execution_count": 33,
   "metadata": {},
   "outputs": [
    {
     "data": {
      "image/png": "[encoded data removed]",
      "text/plain": [
       "<Figure size 2880x576 with 5 Axes>"
      ]
     },
     "metadata": {
      "needs_background": "light"
     },
     "output_type": "display_data"
    }
   ],
   "source": [
    "n = 5  # number of images to display\n",
    "y_pred=0\n",
    "plt.figure(figsize=(40, 8))\n",
    "for i in range(n):\n",
    "    # display original\n",
    "    ax = plt.subplot(1, n, i + 1)\n",
    "    plt.imshow(X_test[i].reshape(window_y, window_x), cmap='Reds')\n",
    "    #plt.gray()\n",
    "    ax.get_xaxis().set_visible(False)\n",
    "    ax.get_yaxis().set_visible(False)\n",
    "    if y_predicted[i]>0.5:\n",
    "        y_pred = 1\n",
    "    else:\n",
    "        y_pred = 0\n",
    "    \n",
    "    ax.set_title('Prediction: {}, Reality: {}'.format(y_pred, y_test[i]))\n",
    "plt.show()"
   ]
  },
  {
   "cell_type": "code",
   "execution_count": null,
   "metadata": {},
   "outputs": [],
   "source": []
  }
 ],
 "metadata": {
  "kernelspec": {
   "display_name": "Python 3",
   "language": "python",
   "name": "python3"
  },
  "language_info": {
   "codemirror_mode": {
    "name": "ipython",
    "version": 3
   },
   "file_extension": ".py",
   "mimetype": "text/x-python",
   "name": "python",
   "nbconvert_exporter": "python",
   "pygments_lexer": "ipython3",
   "version": "3.7.4"
  }
 },
 "nbformat": 4,
 "nbformat_minor": 2
}

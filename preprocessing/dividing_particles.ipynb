{
 "cells": [
  {
   "cell_type": "code",
   "execution_count": 1,
   "metadata": {},
   "outputs": [],
   "source": [
    "import os, shutil"
   ]
  },
  {
   "cell_type": "code",
   "execution_count": 2,
   "metadata": {},
   "outputs": [],
   "source": [
    "#so now probably it's a good idea to separate all files in categories depending on the particle\n",
    "#from 'cropped pictures' we will copy each of them to a directory for the correpondent particle\n",
    "\n",
    "# The path to the directory where the cropped images are\n",
    "original_dataset_dir = '/gpfs/users/lopezs/data/cropped_images'\n",
    "\n",
    "# The directory where we will store our dataset divided by type of particle\n",
    "base_dir = 'particles'\n",
    "os.mkdir(base_dir)"
   ]
  },
  {
   "cell_type": "code",
   "execution_count": 3,
   "metadata": {},
   "outputs": [],
   "source": [
    "# Directories for our each particle\n",
    "electron_dir = os.path.join(base_dir, 'electron')\n",
    "os.mkdir(electron_dir)\n",
    "muon_dir = os.path.join(base_dir, 'muon')\n",
    "os.mkdir(muon_dir)\n",
    "gamma_dir = os.path.join(base_dir, 'gamma')\n",
    "os.mkdir(gamma_dir)"
   ]
  },
  {
   "cell_type": "code",
   "execution_count": 4,
   "metadata": {},
   "outputs": [],
   "source": [
    "import glob"
   ]
  },
  {
   "cell_type": "code",
   "execution_count": 11,
   "metadata": {},
   "outputs": [
    {
     "data": {
      "text/plain": [
       "0"
      ]
     },
     "execution_count": 11,
     "metadata": {},
     "output_type": "execute_result"
    }
   ],
   "source": [
    "len(os.listdir(original_dataset_dir))"
   ]
  },
  {
   "cell_type": "code",
   "execution_count": 7,
   "metadata": {},
   "outputs": [],
   "source": [
    "#selecting electrons (identifier 11)\n",
    "#as i dont  have a lot of space available in altamira, instead of copying the files, i will move them\n",
    "#so instead of 'shutil.copyfile', i will make use of 'shutil.move'\n",
    "\n",
    "electrons = glob.glob1(original_dataset_dir,\"*11.npz\")\n",
    "\n",
    "for e in electrons:\n",
    "    src = os.path.join(original_dataset_dir, e)\n",
    "    dst = os.path.join(electron_dir, e)\n",
    "    shutil.move(src, dst)"
   ]
  },
  {
   "cell_type": "code",
   "execution_count": 6,
   "metadata": {},
   "outputs": [
    {
     "ename": "FileNotFoundError",
     "evalue": "[Errno 2] No such file or directory: 'particles/particles/electron'",
     "output_type": "error",
     "traceback": [
      "\u001b[0;31m---------------------------------------------------------------------------\u001b[0m",
      "\u001b[0;31mFileNotFoundError\u001b[0m                         Traceback (most recent call last)",
      "\u001b[0;32m<ipython-input-6-844483144785>\u001b[0m in \u001b[0;36m<module>\u001b[0;34m\u001b[0m\n\u001b[1;32m      1\u001b[0m \u001b[0;31m#checking how many electrons we have in the electron directory\u001b[0m\u001b[0;34m\u001b[0m\u001b[0;34m\u001b[0m\u001b[0;34m\u001b[0m\u001b[0m\n\u001b[0;32m----> 2\u001b[0;31m \u001b[0mlen\u001b[0m\u001b[0;34m(\u001b[0m\u001b[0mos\u001b[0m\u001b[0;34m.\u001b[0m\u001b[0mlistdir\u001b[0m\u001b[0;34m(\u001b[0m\u001b[0mos\u001b[0m\u001b[0;34m.\u001b[0m\u001b[0mpath\u001b[0m\u001b[0;34m.\u001b[0m\u001b[0mjoin\u001b[0m\u001b[0;34m(\u001b[0m\u001b[0mbase_dir\u001b[0m\u001b[0;34m,\u001b[0m \u001b[0melectron_dir\u001b[0m\u001b[0;34m)\u001b[0m\u001b[0;34m)\u001b[0m\u001b[0;34m)\u001b[0m\u001b[0;34m\u001b[0m\u001b[0;34m\u001b[0m\u001b[0m\n\u001b[0m",
      "\u001b[0;31mFileNotFoundError\u001b[0m: [Errno 2] No such file or directory: 'particles/particles/electron'"
     ]
    }
   ],
   "source": [
    "#checking how many electrons we have in the electron directory\n",
    "len(os.listdir(os.path.join(base_dir, electron_dir)))"
   ]
  },
  {
   "cell_type": "code",
   "execution_count": null,
   "metadata": {},
   "outputs": [],
   "source": [
    "#selecting muons (identifier 1000020040)\n",
    "\n",
    "muons = glob.glob1(original_dataset_dir, \"*1000020040.npz\")\n",
    "\n",
    "for mu in muons:\n",
    "    src = os.path.join(original_dataset_dir, mu)\n",
    "    dst = os.path.join(muon_dir, mu)\n",
    "    shutil.copyfile(src, dst)"
   ]
  },
  {
   "cell_type": "code",
   "execution_count": null,
   "metadata": {},
   "outputs": [],
   "source": [
    "#checking how many muons we have in the muon directory\n",
    "len(os.listdir(os.path.join(base_dir, muon_dir)))"
   ]
  },
  {
   "cell_type": "code",
   "execution_count": null,
   "metadata": {},
   "outputs": [],
   "source": [
    "#selecting gammas (identifier 22)\n",
    "\n",
    "gammas = glob.glob1(original_dataset_dir, \"*_pdg_22.npz\")\n",
    "\n",
    "for g in gammas:\n",
    "    src = os.path.join(original_dataset_dir, g)\n",
    "    dst = os.path.join(gamma_dir, g)\n",
    "    shutil.copyfile(src, dst)"
   ]
  },
  {
   "cell_type": "code",
   "execution_count": null,
   "metadata": {},
   "outputs": [],
   "source": [
    "#checking how many gammas we have in the muon directory\n",
    "len(os.listdir(os.path.join(base_dir, gamma_dir)))"
   ]
  },
  {
   "cell_type": "code",
   "execution_count": null,
   "metadata": {},
   "outputs": [],
   "source": [
    "len(os.listdir(os.path.join(base_dir, electron_dir)))"
   ]
  }
 ],
 "metadata": {
  "kernelspec": {
   "display_name": "Python 3",
   "language": "python",
   "name": "python3"
  },
  "language_info": {
   "codemirror_mode": {
    "name": "ipython",
    "version": 3
   },
   "file_extension": ".py",
   "mimetype": "text/x-python",
   "name": "python",
   "nbconvert_exporter": "python",
   "pygments_lexer": "ipython3",
   "version": "3.7.1"
  }
 },
 "nbformat": 4,
 "nbformat_minor": 2
}
